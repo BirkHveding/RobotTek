{
 "cells": [
  {
   "cell_type": "code",
   "execution_count": 4,
   "metadata": {},
   "outputs": [],
   "source": [
    "from Utilities.RobotClass import *\n",
    "from Utilities.kukaKinematics import *"
   ]
  },
  {
   "cell_type": "code",
   "execution_count": 18,
   "metadata": {},
   "outputs": [
    {
     "data": {
      "application/vnd.jupyter.widget-view+json": {
       "model_id": "7f6cc65ed10047a0b0871ade84139768",
       "version_major": 2,
       "version_minor": 0
      },
      "text/plain": [
       "WebVisualizer(window_uid='window_15')"
      ]
     },
     "metadata": {},
     "output_type": "display_data"
    }
   ],
   "source": [
    "\n",
    "Kuka = Robot(Mlist, ['z', '-z', 'x', 'x', '-z','x'], Tne) #Initializes kuka-robot object in zero-configuration\n",
    "Kuka.joints[5].set_colour([1,0,0]) \n",
    "Kuka.joints[4].set_colour([0.3,0.3,0.3])\n",
    "Kuka.draw_robot()"
   ]
  },
  {
   "cell_type": "code",
   "execution_count": 17,
   "metadata": {},
   "outputs": [],
   "source": [
    "elbowUp = np.array([2.0, -2.037, 1.166, 2.796, 1.627, -0.573])\n",
    "elbowDown = np.array([2.0, -1.0, -1.000, 2.500, 0.600, 0.000])\n",
    "Numerical_A = np.array([ 2.000, -1.000, -1.000, -0.642, -0.600, 3.142])\n",
    "Numerical_B = np.array([-1.142, -2.199, 1.147, -0.732, 0.530, 0.107])\n",
    "\n",
    "Kuka.transform(Slist, elbowUp)\n",
    "Kuka.draw_robot(2)\n",
    "Kuka.transform(Slist, elbowDown)\n",
    "Kuka.draw_robot(2)\n",
    "Kuka.transform(Slist, Numerical_A)\n",
    "Kuka.draw_robot(2)\n",
    "Kuka.transform(Slist, Numerical_B)\n",
    "Kuka.draw_robot(2)\n"
   ]
  },
  {
   "cell_type": "markdown",
   "metadata": {},
   "source": []
  }
 ],
 "metadata": {
  "interpreter": {
   "hash": "f53ade0e91c5a7960987437a5ba96562eb04763816e0c2241e452b900f4537a3"
  },
  "kernelspec": {
   "display_name": "Python 3.8.12 64-bit ('RT3': conda)",
   "language": "python",
   "name": "python3"
  },
  "language_info": {
   "codemirror_mode": {
    "name": "ipython",
    "version": 3
   },
   "file_extension": ".py",
   "mimetype": "text/x-python",
   "name": "python",
   "nbconvert_exporter": "python",
   "pygments_lexer": "ipython3",
   "version": "3.8.12"
  },
  "orig_nbformat": 4
 },
 "nbformat": 4,
 "nbformat_minor": 2
}
