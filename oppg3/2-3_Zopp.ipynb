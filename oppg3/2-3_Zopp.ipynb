{
 "cells": [
  {
   "cell_type": "code",
   "execution_count": 9,
   "metadata": {},
   "outputs": [],
   "source": [
    "import modern_robotics as mr\n",
    "import numpy as np\n",
    "import sympy as sp\n",
    "\n",
    "from sympy.physics.mechanics import dynamicsymbols, mechanics_printing\n",
    "mechanics_printing()\n",
    "\n",
    "from Utilities.symbolicFunctions import *"
   ]
  },
  {
   "cell_type": "code",
   "execution_count": 10,
   "metadata": {},
   "outputs": [],
   "source": [
    "# #Funksjoner som trengs\n",
    "\n",
    "# def PsFromTsd(T_sd):\n",
    "#     #Finner Ps fra T_sd\n",
    "#     #T_sd gir konfigurasjonen vi vil ha end-effector framen, B, i.\n",
    "#     #B, og derav også M, er lik som i DH\n",
    "#     #s er plassert nederst på roboten med positiv z oppover, altså ikke som i DH. Bør kanskje endres til å være lik DH \n",
    "#     P_d = np.array([0,0,80,1])\n",
    "#     P_s = T_sd@P_d\n",
    "\n",
    "#     return P_s\n",
    "\n",
    "# def exp3(omega, theta):\n",
    "#     omega = skew(omega)\n",
    "#     R = sp.eye(3) + sp.sin(theta) * omega + (1 - sp.cos(theta)) * omega * omega\n",
    "#     return R\n",
    "\n",
    "# def skew(v):\n",
    "#     return Matrix([[0, -v[2], v[1]],\n",
    "#                     [v[2], 0, -v[0]],\n",
    "#                     [-v[1], v[0], 0]])\n",
    "                    \n",
    "# def exp6(twist, theta):\n",
    "#     omega = skew(twist[:3])\n",
    "#     v = Matrix(twist[3:])\n",
    "#     T = eye(4)\n",
    "#     T[:3,:3] = exp3(twist[:3], theta)\n",
    "#     T[:3,3] = (eye(3) * theta + (1 - cos(theta)) * omega +\n",
    "#               (theta-sin(theta)) * omega * omega) * v\n",
    "#     return T\n",
    "\n",
    "\n",
    "# def rotX(alfa_im1):\n",
    "#     Rx = sp.eye(4)\n",
    "#     Rx[1,1] =    sp.cos(alfa_im1)\n",
    "#     Rx[1,2] =   -sp.sin(alfa_im1)\n",
    "#     Rx[2,1] =    sp.sin(alfa_im1)\n",
    "#     Rx[2,2] =    sp.cos(alfa_im1)\n",
    "#     return Rx\n",
    "\n",
    "# def rotZ(alfa_im1):\n",
    "#     Rz = sp.eye(4)\n",
    "#     Rz[0,0] =    sp.cos(alfa_im1)\n",
    "#     Rz[0,1] =   -sp.sin(alfa_im1)\n",
    "#     Rz[1,0] =    sp.sin(alfa_im1)\n",
    "#     Rz[1,1] =    sp.cos(alfa_im1)\n",
    "#     return Rz\n",
    "\n",
    "# def rotY(alfa_im1):\n",
    "#     Ry = sp.eye(4)\n",
    "#     Ry[0,0] =    sp.cos(alfa_im1)\n",
    "#     Ry[0,2] =    sp.sin(alfa_im1)\n",
    "#     Ry[2,0] =   -sp.sin(alfa_im1)\n",
    "#     Ry[2,2] =    sp.cos(alfa_im1)\n",
    "#     return Ry\n",
    "\n",
    "\n"
   ]
  },
  {
   "cell_type": "code",
   "execution_count": 11,
   "metadata": {},
   "outputs": [
    {
     "name": "stdout",
     "output_type": "stream",
     "text": [
      "[[   0.    0.    0.   -1.    0.   -1.]\n",
      " [   0.    1.    1.    0.    1.    0.]\n",
      " [  -1.    0.    0.    0.    0.    0.]\n",
      " [   0. -400. -400.    0. -435.    0.]\n",
      " [   0.    0.    0. -435.    0. -435.]\n",
      " [   0.   25.  480.    0.  900.    0.]]\n"
     ]
    }
   ],
   "source": [
    "#Definerer S og M\n",
    "\"\"\"\n",
    "S1 = np.array([0,0,-1,0,0,0])\n",
    "S2 = np.array([0,1,0,-400,0,25])\n",
    "S3 = np.array([0,1,0,-855,0,455+25])\n",
    "S4 = np.array([-1,0,0,0,-435,0])\n",
    "S5 = np.array([0,1,0,-890,0,445])\n",
    "S6 = np.array([-1,0,0,0,-890,0])\n",
    "Slist = np.array([S1,S2,S3,S4,S5,S6]).T\n",
    "print(Slist)\n",
    "\n",
    "M = np.array([[0,0,-1,455+25+420+80],\n",
    "              [0,1,0,0],\n",
    "              [1,0,0,400],\n",
    "              [0,0,0,1]])\n",
    "\"\"\"\n",
    "def Slist_maker(omega_mat, q_mat): #omega_mat and q_mat of type matrix with q_i & omega_i as columns\n",
    "    #Returns v_mat in same type/format\n",
    "    v_mat = calc_v(omega_mat, q_mat)    \n",
    "    n_joints = omega_mat.shape[1]\n",
    "    Slist = sp.zeros(6, n_joints)\n",
    "    \n",
    "    for i in range(n_joints):\n",
    "        Slist[:3,i] = omega_mat[:,i]\n",
    "        Slist[3:,i] = v_mat[:,i]\n",
    "    return Slist\n",
    "\n",
    "def calc_v(omega_mat, q_mat):\n",
    "    #omega_mat and q_mat of type matrix with q_i & omega_i as columns\n",
    "    #Returns v_mat in same type/format\n",
    "    assert len(omega_mat) == len(q_mat)\n",
    "    \n",
    "    n_joints = omega_mat.shape[1] \n",
    "    v_mat = sp.zeros(3, n_joints)      \n",
    "\n",
    "    for i in range(n_joints):\n",
    "        v_mat[:,i] = (-skew(omega_mat.col(i)) * q_mat.col(i))\n",
    "    return v_mat\n",
    "\n",
    "\n",
    "\n",
    "M1=sp.Matrix([[0, 1, 0, 0],\n",
    "             [1, 0, 0, 0],\n",
    "             [0, 0, -1, 200],\n",
    "             [0, 0, 0, 1]])\n",
    "\n",
    "M2=sp.Matrix([[1, 0, 0, 25],\n",
    "             [0, 0, 1, 0],\n",
    "             [0, -1, 0, 400],\n",
    "             [0, 0, 0, 1]])\n",
    "\n",
    "M3=sp.Matrix([[1, 0, 0, 455+25],\n",
    "             [0, 0, 1, 0],\n",
    "             [0, -1, 0, 400],\n",
    "             [0, 0, 0, 1]])\n",
    "M4=sp.Matrix([[0, 0, -1, 455+25+200], #420\n",
    "             [0, 1, 0, 0],\n",
    "             [1, 0, 0, 400+35],\n",
    "             [0, 0, 0, 1]])\n",
    "M5=sp.Matrix([[1, 0, 0, 455+25+420],\n",
    "             [0, 0, 1, 0],\n",
    "             [0, -1, 0, 400+35],\n",
    "             [0, 0, 0, 1]])\n",
    "M6=sp.Matrix([[0, 0, -1, 455+25+420+80], ##OBS lagt til 50 for å se endeffector\n",
    "             [0, 1, 0, 0],\n",
    "             [1, 0, 0, 400+35],\n",
    "             [0, 0, 0, 1]])\n",
    "Mlist = np.array([M1,M2,M3,M4,M5,M6], dtype=float)\n",
    "\n",
    "om = sp.zeros(3,6)\n",
    "om1 = om[:, 0] = M1[:3, 2]\n",
    "om2 = om[:, 1] = M2[:3, 2]\n",
    "om3 = om[:, 2] = M3[:3, 2]\n",
    "om4 = om[:, 3] = M4[:3, 2]\n",
    "om5 = om[:, 4] = M5[:3, 2]\n",
    "om6 = om[:, 5] = M6[:3, 2]\n",
    "q = sp.zeros(3,6)\n",
    "q1 = q[:,0] = M1[:3, 3]\n",
    "q2 = q[:,1] = M2[:3, 3]\n",
    "q3 = q[:,2] = M3[:3, 3]\n",
    "q4 = q[:,3] = M4[:3, 3]\n",
    "q5 = q[:,4] = M5[:3, 3]\n",
    "q6 = q[:,5] = M6[:3, 3]\n",
    "\n",
    "Slist = np.array(Slist_maker(om,q),dtype=float)\n",
    "\n",
    "M = np.array(M6,dtype=float)\n",
    "\n",
    "thetas_up = [0,0,0,0,0,0]\n",
    "thetas_down = [0,0,0,0,0,0]\n",
    "\n",
    "print(Slist)\n",
    "#Limits til roboten slik den er gitt i oppgaven. Antar at ledd 5 har limit på +-90\n"
   ]
  },
  {
   "cell_type": "code",
   "execution_count": 12,
   "metadata": {},
   "outputs": [],
   "source": [
    "from Utilities.symbolicFunctions import *"
   ]
  },
  {
   "cell_type": "code",
   "execution_count": 13,
   "metadata": {},
   "outputs": [
    {
     "name": "stdout",
     "output_type": "stream",
     "text": [
      "T_sd\n",
      " [[-7.8126e-01  7.4168e-02  6.1979e-01 -1.9790e+02]\n",
      " [-3.0648e-01  8.1941e-01 -4.8439e-01 -2.8533e+02]\n",
      " [-5.4379e-01 -5.6839e-01 -6.1744e-01  4.7920e+02]\n",
      " [ 0.0000e+00  0.0000e+00  0.0000e+00  1.0000e+00]]\n",
      "Ps [-148.3203 -324.0857  429.8071    1.    ]\n",
      "alpha: 1.0896979375776463 beta: 0.7752661145217655 phi 0.0896979375776459 0.08314123188844062 b: 332.75103099820745\n",
      "[-1.14159265358979 + pi, -1.17939587515529, 2.4494677709564683, 0, 0, 0] [-1.14159265358979 + pi, 1.00000000000000, -2.2831853071795867, 0, 0, 0]\n"
     ]
    }
   ],
   "source": [
    "\n",
    "#OPPGAVE 3.2\n",
    "\n",
    "#Her endres thetas_gen for å teste forskjellige konfigurasjoner:\n",
    "thetas_gen = np.array([2,1,4,2,1,2])\n",
    "T_sd = mr.FKinSpace(M,Slist,thetas_gen)\n",
    "print(\"T_sd\\n\", T_sd)\n",
    "\n",
    "P_s = PsFromTsd(T_sd)\n",
    "print(\"Ps\", P_s)\n",
    "\n",
    "#theta1\n",
    "thetas_up[0] = -sp.atan2(P_s[1],P_s[0]) #minus foran fordi vinkelen er definert andre vei\n",
    "thetas_down[0] = thetas_up[0]\n",
    "\n",
    "#theta2 and theta3\n",
    "a = np.sqrt(420**2+35**2)\n",
    "c = 455\n",
    "P_merket = np.array([P_s[0],P_s[1],P_s[2]-400])\n",
    "b = np.sqrt((np.sqrt(P_merket[0]**2+P_merket[1]**2)-25)**2 + P_merket[2]**2)#Merk: -25 pga offset i skulder\n",
    "\n",
    "psi = np.arccos(420/a) #Vinkelen mellom den faktiske armen og den vi tegna for å få en trekant(Pga 35mm offset i elbow). Se notatbok\n",
    "phi = sp.atan2(P_merket[2], sp.sqrt(P_merket[0]**2 + P_merket[1]**2)-25)\n",
    "\n",
    "alpha = np.arccos((b**2+c**2-a**2)/(2*b*c)) #Vil ha negativ alpha når b krysser offesettet, som i null-posisjonen\n",
    "beta = np.arccos((a**2+c**2-b**2)/(2*a*c))\n",
    "\n",
    "print(\"alpha:\", alpha, \"beta:\", beta, \"phi\",phi, psi, \"b:\", b)\n",
    "\n",
    "#thetas_up[2] = np.pi/2 - (beta-psi)\n",
    "#thetas_down[2] =  -(2*np.pi - (beta+psi) - np.pi/2)\n",
    "thetas_down[1] =  -(phi-alpha)\n",
    "thetas_up[2] = np.pi - beta + psi\n",
    "if(thetas_up[2]<0):\n",
    "    alpha = -alpha\n",
    "#thetas_down[2] =  -thetas_up[2]\n",
    "thetas_down[2] =  -(np.pi - beta - psi)\n",
    "\n",
    "#thetas_up[1] = np.pi/2 - (alpha + phi) #Index 1 på thetas[1] og thetas[2] gir elbow down løsning\n",
    "thetas_up[1] = -(alpha + phi)\n",
    "#thetas_down[1] =  np.pi/2 - (phi-alpha)\n",
    "\n",
    "\n",
    "print(thetas_up, thetas_down)\n",
    "\n",
    "#Vi har XYX euler angles. De er egentlig (-X)Y(-X) fordi det er slik S'ene er definert,.\n",
    "\n",
    "#Elbow down:\n",
    "T1 = exp6(Slist[:,0], -thetas_down[0])\n",
    "T2 = exp6(Slist[:,1], -thetas_down[1])\n",
    "T3 = exp6(Slist[:,2], -thetas_down[2])\n",
    "\n",
    "R = (T3@T2@T1@T_sd@np.linalg.inv(M)) #R er den resterende rotasjonen vi ønsker å få fra de tre siste leddene, definert i s\n",
    "\n",
    "thetas_down[3] = -sp.atan2(R[1,0], -R[2,0]) #minus foran theta4 og 6 fordi de er i minus x retning\n",
    "thetas_down[4] = sp.atan2(sp.sqrt(1-R[0,0]**2), R[0,0])\n",
    "thetas_down[5] = -sp.atan2(R[0,1], R[0,2])\n",
    "\n",
    "\n",
    "#Elbow up:\n",
    "T1 = exp6(Slist[:,0], -thetas_up[0])\n",
    "T2 = exp6(Slist[:,1], -thetas_up[1])\n",
    "T3 = exp6(Slist[:,2], -thetas_up[2])\n",
    "\n",
    "R = (T3@T2@T1@T_sd@np.linalg.inv(M))\n",
    "\n",
    "thetas_up[3] = -sp.atan2(R[1,0], -R[2,0])\n",
    "thetas_up[4] = sp.atan2(sp.sqrt(1-R[0,0]**2), R[0,0])\n",
    "thetas_up[5] = -sp.atan2(R[0,1], R[0,2])"
   ]
  },
  {
   "cell_type": "code",
   "execution_count": 14,
   "metadata": {},
   "outputs": [
    {
     "data": {
      "text/plain": [
       "(array([[-7.8126e-01,  7.4168e-02,  6.1979e-01, -1.9790e+02],\n",
       "        [-3.0648e-01,  8.1941e-01, -4.8439e-01, -2.8533e+02],\n",
       "        [-5.4379e-01, -5.6839e-01, -6.1744e-01,  4.7920e+02],\n",
       "        [ 0.0000e+00,  0.0000e+00,  0.0000e+00,  1.0000e+00]]),\n",
       " array([2, 1, 4, 2, 1, 2]),\n",
       " array([[-7.8126e-01,  7.4168e-02,  6.1979e-01, -1.9790e+02],\n",
       "        [-3.0648e-01,  8.1941e-01, -4.8439e-01, -2.8533e+02],\n",
       "        [-5.4379e-01, -5.6839e-01, -6.1744e-01,  4.7920e+02],\n",
       "        [ 0.0000e+00,  0.0000e+00,  0.0000e+00,  1.0000e+00]]),\n",
       " array([ 2.    , -1.1794,  2.4495,  1.582 ,  2.2702, -0.4215]),\n",
       " array([[-7.8126e-01,  7.4168e-02,  6.1979e-01, -1.9790e+02],\n",
       "        [-3.0648e-01,  8.1941e-01, -4.8439e-01, -2.8533e+02],\n",
       "        [-5.4379e-01, -5.6839e-01, -6.1744e-01,  4.7920e+02],\n",
       "        [ 0.0000e+00,  0.0000e+00,  0.0000e+00,  1.0000e+00]]),\n",
       " array([ 2.    ,  1.    , -2.2832,  2.    ,  1.    ,  2.    ]),\n",
       " array([-148.3203, -324.0857,  429.8071,    1.    ]),\n",
       " array([-148.3203, -324.0857,  429.8071,    1.    ]),\n",
       " array([-148.3203, -324.0857,  429.8071,    1.    ]))"
      ]
     },
     "execution_count": 14,
     "metadata": {},
     "output_type": "execute_result"
    }
   ],
   "source": [
    "#testing av analytisk løsning:\n",
    "\n",
    "#UP\n",
    "thetas_up_num = np.zeros(6)\n",
    "thetas_up_deg = np.zeros(6)\n",
    "for i in range(0,6):\n",
    "    thetas_up_num[i] = sp.N(thetas_up[i])\n",
    "    thetas_up_deg[i] = np.rad2deg(thetas_up_num[i])\n",
    "\n",
    "#print(thetas_deg, np.rad2deg(thetas_gen))\n",
    "\n",
    "T_up_thetas = mr.FKinSpace(M,Slist,thetas_up_num)\n",
    "P_up_reached = PsFromTsd(T_up_thetas)\n",
    "#print(P_reached, P_s)\n",
    "np.set_printoptions(precision=4)\n",
    "\n",
    "#DOWN\n",
    "thetas_down_num = np.zeros(6)\n",
    "thetas_down_deg = np.zeros(6)\n",
    "for i in range(0,6):\n",
    "    thetas_down_num[i] = sp.N(thetas_down[i])\n",
    "    thetas_down_deg[i] = np.rad2deg(thetas_down_num[i])\n",
    "\n",
    "#print(thetas_deg, np.rad2deg(thetas_gen))\n",
    "\n",
    "T_down_thetas = mr.FKinSpace(M,Slist,thetas_down_num)\n",
    "P_down_reached = PsFromTsd(T_down_thetas)\n",
    "\n",
    "\n",
    "#fk_test = exp6(S4,thetas_num[3])@exp6(S5,thetas_num[4])@exp6(S6,thetas_num[5])@M\n",
    "#R_test = rotX(thetas_num[3])@rotY(thetas_num[4])@rotX(thetas_num[5]) \n",
    "thetas_calc, asd = mr.IKinSpace(Slist,M,T_sd,[0,0,0,0,0,0],0.01,0.01)\n",
    "\n",
    "T_sd, thetas_gen, T_up_thetas, thetas_up_num, T_down_thetas, thetas_down_num, P_s, P_up_reached, P_down_reached"
   ]
  },
  {
   "cell_type": "code",
   "execution_count": 15,
   "metadata": {},
   "outputs": [],
   "source": [
    "T_sd, thetas_up_num, thetas_down_num\n",
    "\n",
    "jointLimits = np.array([[-180, 180], [-190, 45], [-120, 156], [-180, 180], [-90, 90], [-180, 180]]) #Assuming joint 5 has limits [-90, 90]\n",
    "\n",
    "def applyJointLim(jointLimits, thetas):\n",
    "    ''' Check if Inverse Kinematics solution (thetas) is within jointlimits\\n \n",
    "    PARAMETERS:\n",
    "    Jointlimits, numpy 2D array with lower and upper limits in deg\\n\n",
    "    Jointangles, numpy 1D array in rad\n",
    "    RETURNS: Boolean true or false, if false a print message with the offending link is printed '''\n",
    "    jointLimits = np.deg2rad(jointLimits) \n",
    "    thetas %= 2*np.pi #Post processing: all thetas in [0,2*pi)\n",
    "\n",
    "    for theta, i in enumerate(thetas):\n",
    "        if jointLimits[i][1] < theta < jointLimits[i][0]:\n",
    "            print(\"Joint number: \", i+1, \"is not within the limits\")\n",
    "            return False\n",
    "    return True\n"
   ]
  },
  {
   "cell_type": "code",
   "execution_count": 16,
   "metadata": {},
   "outputs": [
    {
     "name": "stdout",
     "output_type": "stream",
     "text": [
      "Jupyter environment detected. Enabling Open3D WebVisualizer.\n",
      "[Open3D INFO] WebRTC GUI backend enabled.\n",
      "[Open3D INFO] WebRTCWindowSystem: HTTP handshake server disabled.\n",
      "[Open3D INFO] Resetting default logger to print to terminal.\n"
     ]
    }
   ],
   "source": [
    "from Utilities.RobotClass import *"
   ]
  },
  {
   "cell_type": "code",
   "execution_count": 17,
   "metadata": {},
   "outputs": [],
   "source": [
    "Kuka = Robot(Mlist, ['z', '-z', 'x', 'x', '-z','x'])"
   ]
  },
  {
   "cell_type": "code",
   "execution_count": 18,
   "metadata": {},
   "outputs": [
    {
     "data": {
      "application/vnd.jupyter.widget-view+json": {
       "model_id": "bd392967a6a740a3a6223f68c377d813",
       "version_major": 2,
       "version_minor": 0
      },
      "text/plain": [
       "WebVisualizer(window_uid='window_0')"
      ]
     },
     "metadata": {},
     "output_type": "display_data"
    },
    {
     "data": {
      "application/vnd.jupyter.widget-view+json": {
       "model_id": "84707eeaa2e543cfb3ccf5a9e25897c6",
       "version_major": 2,
       "version_minor": 0
      },
      "text/plain": [
       "WebVisualizer(window_uid='window_1')"
      ]
     },
     "metadata": {},
     "output_type": "display_data"
    },
    {
     "data": {
      "application/vnd.jupyter.widget-view+json": {
       "model_id": "2f8a2bb898ae43b085b66020bc7b70cd",
       "version_major": 2,
       "version_minor": 0
      },
      "text/plain": [
       "WebVisualizer(window_uid='window_2')"
      ]
     },
     "metadata": {},
     "output_type": "display_data"
    }
   ],
   "source": [
    "Kuka.draw_robot()\n",
    "Kuka.transform(Slist, thetas_down_num ) # Elbow DOWN\n",
    "pUp = Kuka.joints[5].coord.get_center()\n",
    "Kuka.draw_robot()\n",
    "Kuka.transform(Slist, thetas_up_num ) # Elbow UP\n",
    "pDown = Kuka.joints[5].coord.get_center()\n",
    "Kuka.draw_robot()\n"
   ]
  },
  {
   "cell_type": "code",
   "execution_count": 19,
   "metadata": {},
   "outputs": [
    {
     "name": "stdout",
     "output_type": "stream",
     "text": [
      "[-198.0161 -285.2979  476.9679] [-198.0161 -285.2979  476.9679]\n"
     ]
    }
   ],
   "source": [
    "print(pUp, pDown)"
   ]
  },
  {
   "cell_type": "code",
   "execution_count": null,
   "metadata": {},
   "outputs": [],
   "source": []
  }
 ],
 "metadata": {
  "kernelspec": {
   "display_name": "Python 3.8.11 64-bit ('Py38': conda)",
   "metadata": {
    "interpreter": {
     "hash": "c59555f908daf203107fb62fabdd23083d24d776055fcdd77b1f4aca8a172ece"
    }
   },
   "name": "python3"
  },
  "language_info": {
   "codemirror_mode": {
    "name": "ipython",
    "version": 3
   },
   "file_extension": ".py",
   "mimetype": "text/x-python",
   "name": "python",
   "nbconvert_exporter": "python",
   "pygments_lexer": "ipython3",
   "version": "3.8.12"
  },
  "orig_nbformat": 2
 },
 "nbformat": 4,
 "nbformat_minor": 2
}
