{
 "cells": [
  {
   "cell_type": "code",
   "execution_count": 154,
   "metadata": {},
   "outputs": [],
   "source": [
    "import modern_robotics as mr\n",
    "import numpy as np\n",
    "import sympy as sp\n",
    "from sympy import*\n",
    "from sympy.physics.mechanics import dynamicsymbols, mechanics_printing\n",
    "mechanics_printing()\n",
    "from Utilities.kukaKinematics import *\n",
    "from Utilities.symbolicFunctions import *"
   ]
  },
  {
   "cell_type": "code",
   "execution_count": 275,
   "metadata": {},
   "outputs": [],
   "source": [
    "# #Funksjoner som trengs\n",
    "\n",
    "# def PsFromTsd(T_sd):\n",
    "#     #Finner Ps fra T_sd\n",
    "#     #T_sd gir konfigurasjonen vi vil ha end-effector framen, B, i.\n",
    "#     #B, og derav også M, er lik som i DH\n",
    "#     #s er plassert nederst på roboten med positiv z oppover, altså ikke som i DH. Bør kanskje endres til å være lik DH \n",
    "#     P_d = np.array([0,0,80,1])\n",
    "#     P_s = T_sd@P_d\n",
    "\n",
    "#     return P_s\n",
    "\n",
    "# def exp3(omega, theta):\n",
    "#     omega = skew(omega)\n",
    "#     R = sp.eye(3) + sp.sin(theta) * omega + (1 - sp.cos(theta)) * omega * omega\n",
    "#     return R\n",
    "\n",
    "# def skew(v):\n",
    "#     return Matrix([[0, -v[2], v[1]],\n",
    "#                     [v[2], 0, -v[0]],\n",
    "#                     [-v[1], v[0], 0]])\n",
    "                    \n",
    "# def exp6(twist, theta):\n",
    "#     omega = skew(twist[:3])\n",
    "#     v = Matrix(twist[3:])\n",
    "#     T = eye(4)\n",
    "#     T[:3,:3] = exp3(twist[:3], theta)\n",
    "#     T[:3,3] = (eye(3) * theta + (1 - cos(theta)) * omega +\n",
    "#               (theta-sin(theta)) * omega * omega) * v\n",
    "#     return T\n",
    "\n",
    "\n",
    "# def rotX(alfa_im1):\n",
    "#     Rx = sp.eye(4)\n",
    "#     Rx[1,1] =    sp.cos(alfa_im1)\n",
    "#     Rx[1,2] =   -sp.sin(alfa_im1)\n",
    "#     Rx[2,1] =    sp.sin(alfa_im1)\n",
    "#     Rx[2,2] =    sp.cos(alfa_im1)\n",
    "#     return Rx\n",
    "\n",
    "# def rotZ(alfa_im1):\n",
    "#     Rz = sp.eye(4)\n",
    "#     Rz[0,0] =    sp.cos(alfa_im1)\n",
    "#     Rz[0,1] =   -sp.sin(alfa_im1)\n",
    "#     Rz[1,0] =    sp.sin(alfa_im1)\n",
    "#     Rz[1,1] =    sp.cos(alfa_im1)\n",
    "#     return Rz\n",
    "\n",
    "# def rotY(alfa_im1):\n",
    "#     Ry = sp.eye(4)\n",
    "#     Ry[0,0] =    sp.cos(alfa_im1)\n",
    "#     Ry[0,2] =    sp.sin(alfa_im1)\n",
    "#     Ry[2,0] =   -sp.sin(alfa_im1)\n",
    "#     Ry[2,2] =    sp.cos(alfa_im1)\n",
    "#     return Ry\n",
    "\n",
    "\n"
   ]
  },
  {
   "cell_type": "code",
   "execution_count": 300,
   "metadata": {},
   "outputs": [],
   "source": [
    "\n",
    "def Slist_maker(omega_mat, q_mat): #omega_mat and q_mat of type matrix with q_i & omega_i as columns\n",
    "    #Returns v_mat in same type/format\n",
    "    v_mat = calc_v(omega_mat, q_mat)    \n",
    "    n_joints = omega_mat.shape[1]\n",
    "    Slist = sp.zeros(6, n_joints)\n",
    "    \n",
    "    for i in range(n_joints):\n",
    "        Slist[:3,i] = omega_mat[:,i]\n",
    "        Slist[3:,i] = v_mat[:,i]\n",
    "    return Slist\n",
    "\n",
    "def calc_v(omega_mat, q_mat):\n",
    "    #omega_mat and q_mat of type matrix with q_i & omega_i as columns\n",
    "    #Returns v_mat in same type/format\n",
    "    assert len(omega_mat) == len(q_mat)\n",
    "    \n",
    "    n_joints = omega_mat.shape[1] \n",
    "    v_mat = sp.zeros(3, n_joints)      \n",
    "\n",
    "    for i in range(n_joints):\n",
    "        v_mat[:,i] = (-skew(omega_mat.col(i)) * q_mat.col(i))\n",
    "    return v_mat\n",
    "\n",
    "\n",
    "def agilus_theta_23(T_sd):\n",
    "    \"\"\"\n",
    "    Calculates theta 2 and 3 of the agilus 6R robot\n",
    "    PARAMTERS:\n",
    "    T_sd: The desired end effector pose\n",
    "    RETURNS: floats, Thetas 2 and 3 for both elbow up and elbow down solutions.\n",
    "    \"\"\"\n",
    "\n",
    "    Ps = PsFromTsd(T_sd)\n",
    "    P2 = np.array([Ps[0],Ps[1],Ps[2]-400]) # The same as Ps, but now relative to joint 2. Needed to do the following trigonometrics\n",
    "\n",
    "    # Define the edges of the constructed triangle:\n",
    "    a = np.sqrt(420**2+35**2)\n",
    "    c = 455\n",
    "    b = np.sqrt((np.sqrt(P2[0]**2+P2[1]**2)-25)**2 + P2[2]**2)\n",
    "\n",
    "    # Calculate the four angles needed:\n",
    "    psi = np.arccos(420/a)\n",
    "    phi = atan2(P2[2], sqrt(P2[0]**2 + P2[1]**2)-25)\n",
    "    alpha = np.arccos((b**2+c**2-a**2)/(2*b*c))\n",
    "    beta = np.arccos((a**2+c**2-b**2)/(2*a*c))\n",
    "\n",
    "    # Calculate the elbow up and elbow down solutions of theta2 and theta3\n",
    "    theta2_down =  -(phi - alpha)\n",
    "    theta3_down =  -(np.pi - beta - psi)\n",
    "    theta2_up = -(alpha + phi)\n",
    "    theta3_up = np.pi - (beta - psi)\n",
    "\n",
    "    return float(N(theta2_up)), float(N(theta3_up)), float(N(theta2_down)), float(N(theta3_down))\n",
    "\n",
    "\n",
    "\n",
    "def euler_nx_y_nx(R):\n",
    "    \"\"\"\n",
    "    Calculates the euler angles for rotations about (-x)y(-x)\n",
    "    PARAMETERS:\n",
    "    R: The desired rotation\n",
    "    RETURNS:\n",
    "    float, Three angles\n",
    "    \"\"\"\n",
    "    theta_x1 = -atan2(R[1,0], -R[2,0])\n",
    "    theta_y = atan2(sqrt(1-R[0,0]**2), R[0,0])\n",
    "    theta_x2 = -atan2(R[0,1], R[0,2])\n",
    "\n",
    "    return float(N(theta_x1)), float(N(theta_y)), float(N(theta_x2))\n",
    "\n",
    "\n",
    "def agilus_analytical_IK(T_sd):\n",
    "    \"\"\"\n",
    "    Computes the analytical inverse kinematics of the Agilus 6R robot.\n",
    "    PARAMETERS:\n",
    "    Tsd: The desired end-effector pose\n",
    "    RETURNS: float arrays of joint values, elbow up and elbow down.\n",
    "    \"\"\"\n",
    "    thetas_up = [0,0,0,0,0,0]\n",
    "    thetas_down = [0,0,0,0,0,0]\n",
    "    Ps = PsFromTsd(T_sd)\n",
    "\n",
    "    # Theta 1\n",
    "    thetas_up[0] = float(N(-atan2(Ps[1],Ps[0])))  # Minus sign since the axis of rotation is defined as -z\n",
    "    thetas_down[0] = thetas_up[0]\n",
    "\n",
    "    # Thetas 2,3\n",
    "    thetas_up[1], thetas_up[2], thetas_down[1], thetas_down[2] = agilus_theta_23(T_sd)\n",
    "\n",
    "    # Thetas 4,5,6\n",
    "     # Elbow down:\n",
    "    T1 = exp6(Slist[:,0], -thetas_down[0])\n",
    "    T2 = exp6(Slist[:,1], -thetas_down[1])\n",
    "    T3 = exp6(Slist[:,2], -thetas_down[2])\n",
    "    R_down = (T3@T2@T1@T_sd@np.linalg.inv(M))  # The remaining rotation needed, defined in s\n",
    "    thetas_down[3], thetas_down[4], thetas_down[5] = euler_nx_y_nx(R_down)\n",
    "\n",
    "     # Elbow up:\n",
    "    T1 = exp6(Slist[:,0], -thetas_up[0])\n",
    "    T2 = exp6(Slist[:,1], -thetas_up[1])\n",
    "    T3 = exp6(Slist[:,2], -thetas_up[2])\n",
    "    R_up = (T3@T2@T1@T_sd@np.linalg.inv(M))\n",
    "    thetas_up[3], thetas_up[4], thetas_up[5] = euler_nx_y_nx(R_up)\n",
    "\n",
    "    return thetas_up, thetas_down\n",
    "\n",
    "\n"
   ]
  },
  {
   "cell_type": "code",
   "execution_count": 301,
   "metadata": {},
   "outputs": [
    {
     "output_type": "stream",
     "name": "stdout",
     "text": [
      "[[   0.    0.    0.   -1.    0.   -1.]\n [   0.    1.    1.    0.    1.    0.]\n [  -1.    0.    0.    0.    0.    0.]\n [   0. -400. -400.    0. -435.    0.]\n [   0.    0.    0. -435.    0. -435.]\n [   0.   25.  480.    0.  900.    0.]]\n"
     ]
    }
   ],
   "source": [
    "M1=sp.Matrix([[0, 1, 0, 0],\n",
    "             [1, 0, 0, 0],\n",
    "             [0, 0, -1, 200],\n",
    "             [0, 0, 0, 1]])\n",
    "\n",
    "M2=sp.Matrix([[1, 0, 0, 25],\n",
    "             [0, 0, 1, 0],\n",
    "             [0, -1, 0, 400],\n",
    "             [0, 0, 0, 1]])\n",
    "\n",
    "M3=sp.Matrix([[1, 0, 0, 455+25],\n",
    "             [0, 0, 1, 0],\n",
    "             [0, -1, 0, 400],\n",
    "             [0, 0, 0, 1]])\n",
    "M4=sp.Matrix([[0, 0, -1, 455+25+200], #420\n",
    "             [0, 1, 0, 0],\n",
    "             [1, 0, 0, 400+35],\n",
    "             [0, 0, 0, 1]])\n",
    "M5=sp.Matrix([[1, 0, 0, 455+25+420],\n",
    "             [0, 0, 1, 0],\n",
    "             [0, -1, 0, 400+35],\n",
    "             [0, 0, 0, 1]])\n",
    "M6=sp.Matrix([[0, 0, -1, 455+25+420+80],\n",
    "             [0, 1, 0, 0],\n",
    "             [1, 0, 0, 400+35],\n",
    "             [0, 0, 0, 1]])\n",
    "Mlist = np.array([M1,M2,M3,M4,M5,M6], dtype=float)\n",
    "\n",
    "om = sp.zeros(3,6)\n",
    "om1 = om[:, 0] = M1[:3, 2]\n",
    "om2 = om[:, 1] = M2[:3, 2]\n",
    "om3 = om[:, 2] = M3[:3, 2]\n",
    "om4 = om[:, 3] = M4[:3, 2]\n",
    "om5 = om[:, 4] = M5[:3, 2]\n",
    "om6 = om[:, 5] = M6[:3, 2]\n",
    "q = sp.zeros(3,6)\n",
    "q1 = q[:,0] = M1[:3, 3]\n",
    "q2 = q[:,1] = M2[:3, 3]\n",
    "q3 = q[:,2] = M3[:3, 3]\n",
    "q4 = q[:,3] = M4[:3, 3]\n",
    "q5 = q[:,4] = M5[:3, 3]\n",
    "q6 = q[:,5] = M6[:3, 3]\n",
    "\n",
    "Slist = np.array(Slist_maker(om,q),dtype=float)\n",
    "\n",
    "M = np.array(M6,dtype=float)\n",
    "\n",
    "print(Slist)"
   ]
  },
  {
   "source": [
    "OPPGAVE 3.2"
   ],
   "cell_type": "markdown",
   "metadata": {}
  },
  {
   "cell_type": "code",
   "execution_count": 302,
   "metadata": {},
   "outputs": [
    {
     "output_type": "stream",
     "name": "stdout",
     "text": [
      "T_sd\n [[  -0.07301111    0.83722241    0.5419668     6.36756492]\n [   0.76181836   -0.30389665    0.57208356 -123.20864172]\n [   0.64366308    0.45464871   -0.61562358 -298.98767588]\n [   0.            0.            0.            1.        ]]\n"
     ]
    }
   ],
   "source": [
    "\n",
    "#Thetas_gen can be modified to get a valid desired position T_sd\n",
    "thetas_gen = np.array([1,2,-1,-1,-2,0])\n",
    "T_sd = mr.FKinSpace(M,Slist,thetas_gen)\n",
    "print(\"T_sd\\n\", T_sd)"
   ]
  },
  {
   "cell_type": "code",
   "execution_count": 303,
   "metadata": {},
   "outputs": [
    {
     "output_type": "stream",
     "name": "stdout",
     "text": [
      "[[  -0.07301111    0.83722241    0.5419668     6.36756492]\n [   0.76181836   -0.30389665    0.57208356 -123.20864172]\n [   0.64366308    0.45464871   -0.61562358 -298.98767588]\n [   0.            0.            0.            1.        ]] \n\n [[  -0.07301111    0.83722241    0.5419668     6.36756492]\n [   0.76181836   -0.30389665    0.57208356 -123.20864172]\n [   0.64366308    0.45464871   -0.61562358 -298.98767588]\n [   0.            0.            0.            1.        ]] \n\n [[  -0.07301111    0.83722241    0.5419668     6.36756492]\n [   0.76181836   -0.30389665    0.57208356 -123.20864172]\n [   0.64366308    0.45464871   -0.61562358 -298.98767588]\n [   0.            0.            0.            1.        ]]\n"
     ]
    },
    {
     "output_type": "execute_result",
     "data": {
      "text/plain": [
       "(array([677.475484  ,   0.        , 772.32839432,   1.        ]),\n",
       " array([  49.72490855,  -77.44195668, -348.23756212,    1.        ]),\n",
       " array([  49.72490855,  -77.44195668, -348.23756212,    1.        ]))"
      ]
     },
     "metadata": {},
     "execution_count": 303
    }
   ],
   "source": [
    "#testing av analytisk løsning:\n",
    "np.set_printoptions(precision=8)\n",
    "\n",
    "thetas_up, thetas_down = agilus_analytical_IK(T_sd)\n",
    "\n",
    "#UP\n",
    "thetas_up_deg = np.zeros(6)\n",
    "for i in range(0,6):\n",
    "    thetas_up_deg[i] = np.rad2deg(i)\n",
    "\n",
    "T_up_thetas = mr.FKinSpace(M,Slist,thetas_up)\n",
    "P_up_reached = PsFromTsd(T_up_thetas)\n",
    "\n",
    "\n",
    "#DOWN\n",
    "thetas_down_deg = np.zeros(6)\n",
    "for i in range(0,6):\n",
    "    thetas_down_deg[i] = np.rad2deg(thetas_down[i])\n",
    "\n",
    "T_down_thetas = mr.FKinSpace(M,Slist,thetas_down)\n",
    "P_down_reached = PsFromTsd(T_down_thetas)\n",
    "\n",
    "np.set_printoptions(suppress=True)\n",
    "print(T_sd,'\\n\\n', T_up_thetas, '\\n\\n',T_down_thetas)\n",
    "P_s, P_up_reached, P_down_reached"
   ]
  },
  {
   "cell_type": "code",
   "execution_count": 322,
   "metadata": {},
   "outputs": [],
   "source": [
    "#Numerical solution\n",
    "thetas_num, asd = mr.IKinSpace(Slist,M,T_sd,[1,0,0,0,0,0],0.01,0.01)\n",
    "\n",
    "#Post process angles to be [-pi, pi]\n",
    "for i in range(0,6):\n",
    "    thetas_num[i] = thetas_num[i]%(2*np.pi) - np.pi"
   ]
  },
  {
   "cell_type": "code",
   "execution_count": 323,
   "metadata": {},
   "outputs": [],
   "source": [
    "\n",
    "\n",
    "jointLimits = np.array([[-180, 180], [-190, 45], [-120, 156], [-180, 180], [-90, 90], [-180, 180]]) #Assuming joint 5 has limits [-90, 90]\n",
    "\n",
    "def apply_joint_lim(jointLimits, thetas):\n",
    "    ''' Check if Inverse Kinematics solution (thetas) is within jointlimits\\n \n",
    "    PARAMETERS:\n",
    "    Jointlimits, numpy 2D array with lower and upper limits in deg\\n\n",
    "    Jointangles, numpy 1D array in rad\n",
    "    RETURNS: Boolean true or false, if false a print message with the offending link is printed '''\n",
    "    jointLimits = np.deg2rad(jointLimits) \n",
    "    thetas %= 2*np.pi #Post processing: all thetas in [0,2*pi)\n",
    "\n",
    "    for theta, i in enumerate(thetas):\n",
    "        if jointLimits[i][1] < theta < jointLimits[i][0]:\n",
    "            print(\"Joint number: \", i+1, \"is not within the limits\")\n",
    "            return False\n",
    "    return True\n",
    "\n"
   ]
  },
  {
   "cell_type": "code",
   "execution_count": 324,
   "metadata": {},
   "outputs": [
    {
     "output_type": "stream",
     "name": "stdout",
     "text": [
      "Generating thetas: [ 1  2 -1 -1 -2  0] \nGenerated T_sd: \n [[  -0.07301111    0.83722241    0.5419668     6.36756492]\n [   0.76181836   -0.30389665    0.57208356 -123.20864172]\n [   0.64366308    0.45464871   -0.61562358 -298.98767588]\n [   0.            0.            0.            1.        ]] \n\n Elbow up:  [1.    0.963 1.166 1.357 2.242 1.81 ] \n Elbow down:  [ 1.     2.    -1.     2.142  2.    -3.142] \n Numerical:  [ 1.    -1.921 -2.003 -0.931  1.266 -2.95 ] True\n"
     ]
    }
   ],
   "source": [
    "\n",
    "print('Generating thetas:', thetas_gen, '\\nGenerated T_sd: \\n', T_sd, '\\n\\n Elbow up: ', np.round(thetas_up,3), '\\n Elbow down: ', np.round(thetas_down,3), '\\n Numerical: ', np.round(thetas_num,3), asd)"
   ]
  },
  {
   "cell_type": "code",
   "execution_count": null,
   "metadata": {},
   "outputs": [],
   "source": []
  }
 ],
 "metadata": {
  "kernelspec": {
   "name": "python3",
   "display_name": "Python 3.8.11 64-bit ('Py38': conda)",
   "metadata": {
    "interpreter": {
     "hash": "c59555f908daf203107fb62fabdd23083d24d776055fcdd77b1f4aca8a172ece"
    }
   }
  },
  "language_info": {
   "codemirror_mode": {
    "name": "ipython",
    "version": 3
   },
   "file_extension": ".py",
   "mimetype": "text/x-python",
   "name": "python",
   "nbconvert_exporter": "python",
   "pygments_lexer": "ipython3",
   "version": "3.8.11-final"
  },
  "orig_nbformat": 2
 },
 "nbformat": 4,
 "nbformat_minor": 2
}