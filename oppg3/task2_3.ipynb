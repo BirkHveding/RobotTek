{
 "cells": [
  {
   "cell_type": "code",
   "execution_count": 1,
   "metadata": {},
   "outputs": [],
   "source": [
    "import modern_robotics as mr\n",
    "import numpy as np\n",
    "import sympy as sp\n",
    "from sympy import*\n",
    "from sympy.physics.mechanics import dynamicsymbols, mechanics_printing\n",
    "mechanics_printing()"
   ]
  },
  {
   "cell_type": "markdown",
   "metadata": {},
   "source": [
    "### Utilities"
   ]
  },
  {
   "cell_type": "code",
   "execution_count": 38,
   "metadata": {},
   "outputs": [],
   "source": [
    "def exp3(omega, theta):\n",
    "    omega = skew(omega)\n",
    "    R = sp.eye(3) + sp.sin(theta) * omega + (1 - sp.cos(theta)) * omega * omega\n",
    "    return R\n",
    "\n",
    "def skew(v):\n",
    "    return Matrix([[0, -v[2], v[1]],\n",
    "                    [v[2], 0, -v[0]],\n",
    "                    [-v[1], v[0], 0]])\n",
    "                    \n",
    "def exp6(twist, theta):\n",
    "    omega = skew(twist[:3])\n",
    "    v = Matrix(twist[3:])\n",
    "    T = eye(4)\n",
    "    T[:3,:3] = exp3(twist[:3], theta)\n",
    "    T[:3,3] = (eye(3) * theta + (1 - cos(theta)) * omega +\n",
    "              (theta-sin(theta)) * omega * omega) * v\n",
    "    return T\n",
    "\n",
    "def Ad(T):\n",
    "    AdT = sp.zeros(6)\n",
    "    R = sp.Matrix(T[:3, :3])\n",
    "    AdT[:3, :3] = R\n",
    "    AdT[3:, 3:] = R\n",
    "    AdT[3:, :3] = skew(T[:3, 3]) * R\n",
    "    return AdT\n",
    "\n",
    "def rotX(alfa_im1):\n",
    "    Rx = sp.eye(4)\n",
    "    Rx[1,1] =    sp.cos(alfa_im1)\n",
    "    Rx[1,2] =   -sp.sin(alfa_im1)\n",
    "    Rx[2,1] =    sp.sin(alfa_im1)\n",
    "    Rx[2,2] =    sp.cos(alfa_im1)\n",
    "    return Rx\n",
    "\n",
    "def rotZ(alfa_im1):\n",
    "    Rz = sp.eye(4)\n",
    "    Rz[0,0] =    sp.cos(alfa_im1)\n",
    "    Rz[0,1] =   -sp.sin(alfa_im1)\n",
    "    Rz[1,0] =    sp.sin(alfa_im1)\n",
    "    Rz[1,1] =    sp.cos(alfa_im1)\n",
    "    return Rz\n",
    "\n",
    "def transX(a_im1):\n",
    "    trA = sp.eye(4)\n",
    "    trA[0,3] =  a_im1\n",
    "    return trA\n",
    "\n",
    "def transZ(d_i):\n",
    "    trA = sp.eye(4)\n",
    "    trA[2,3] =  d_i\n",
    "    return trA\n",
    "\n",
    "def PsFromTsd(T_sd):\n",
    "    #Finner Ps fra T_sd\n",
    "    #T_sd gir konfigurasjonen vi vil ha end-effector framen, B, i.\n",
    "    #B, og derav også M, er lik som i DH\n",
    "    #s er plassert nederst på roboten med positiv z oppover, altså ikke som i DH. Bør kanskje endres til å være lik DH \n",
    "    P_d = np.array([0,0,80,1])\n",
    "    P_s = T_sd@P_d\n",
    "\n",
    "    return P_s\n"
   ]
  },
  {
   "cell_type": "markdown",
   "metadata": {},
   "source": [
    "### Task 3-3"
   ]
  },
  {
   "cell_type": "code",
   "execution_count": 39,
   "metadata": {},
   "outputs": [
    {
     "output_type": "stream",
     "name": "stdout",
     "text": [
      "[[   0    0    0   -1    0   -1]\n [   0    1    1    0    1    0]\n [  -1    0    0    0    0    0]\n [   0 -400 -855    0 -890    0]\n [   0    0    0 -890    0 -890]\n [   0   25   25    0  445    0]]\n"
     ]
    }
   ],
   "source": [
    "#Definerer S og M\n",
    "\n",
    "S1 = np.array([0,0,-1,0,0,0])\n",
    "S2 = np.array([0,1,0,-400,0,25])\n",
    "S3 = np.array([0,1,0,-855,0,25])\n",
    "S4 = np.array([-1,0,0,0,-890,0])\n",
    "S5 = np.array([0,1,0,-890,0,445])\n",
    "S6 = np.array([-1,0,0,0,-890,0])\n",
    "Slist = np.array([S1,S2,S3,S4,S5,S6]).T\n",
    "print(Slist)\n",
    "\n",
    "M = np.array([[0,0,-1,525],\n",
    "              [0,1,0,0],\n",
    "              [1,0,0,890],\n",
    "              [0,0,0,1]])\n",
    "\n",
    "thetasUp = [0,0,0,0,0,0]\n",
    "thetasDown = [0,0,0,0,0,0]\n",
    "\n",
    "\n",
    "#Limits til roboten slik den er gitt i oppgaven. Antar at ledd 5 har limit på +-90\n",
    "theta_limits = [[-180,180],[-190+90,45+90],[-120-90, 156-90],[-180,180],[-90,90],[-180,180]]"
   ]
  },
  {
   "cell_type": "code",
   "execution_count": 40,
   "metadata": {},
   "outputs": [
    {
     "output_type": "stream",
     "name": "stdout",
     "text": [
      "T_sd\n [[-4.1198e-01 -5.8727e-02  9.0930e-01 -7.1500e+01]\n [-9.0020e-01 -1.2832e-01 -4.1615e-01  3.6009e+01]\n [ 1.4112e-01 -9.8999e-01 -9.4244e-17  5.5192e+02]\n [ 0.0000e+00  0.0000e+00  0.0000e+00  1.0000e+00]]\n"
     ]
    }
   ],
   "source": [
    "#Her endres thetasGen for å teste forskjellige konfigurasjoner:\n",
    "thetasGen = np.array([2,1,2,np.pi/2,np.pi/2,np.pi])\n",
    "Tsd = mr.FKinSpace(M,Slist,thetasGen)\n",
    "print(\"T_sd\\n\", Tsd)\n"
   ]
  },
  {
   "cell_type": "code",
   "execution_count": 41,
   "metadata": {},
   "outputs": [
    {
     "output_type": "stream",
     "name": "stdout",
     "text": [
      "Ps [  1.2436   2.7173 551.9174   1.    ]\n[-1.14159265358983, 1.81578717467677 - pi, 1.3101796208137904, 0, 0, 0] [-1.14159265358983, 4.17961642332856 - pi, -4.285489810626702, 0, 0, 0]\n"
     ]
    }
   ],
   "source": [
    "\n",
    "Ps = PsFromTsd(Tsd)\n",
    "print(\"Ps\", Ps)\n",
    "\n",
    "#theta1\n",
    "thetasUp[0] = -atan2(Ps[1],Ps[0]) #minus foran fordi vinkelen er definert andre vei\n",
    "thetasDown[0] = thetasUp[0]\n",
    "\n",
    "#theta2 and theta3\n",
    "a = np.sqrt(420**2+35**2)\n",
    "c = 455\n",
    "Pmarked = np.array([Ps[0],Ps[1],Ps[2]-400])\n",
    "b = np.sqrt((np.sqrt(Pmarked[0]**2+Pmarked[1]**2)-25)**2 + Pmarked[2]**2)#Merk: -25 pga offset i skulder\n",
    "\n",
    "psi = np.arccos(420/a) #Vinkelen mellom den faktiske armen og den vi tegna for å få en trekant(Pga 35mm offset i elbow). Se notatbok\n",
    "phi = atan2(Pmarked[2], sqrt(Pmarked[0]**2 + Pmarked[1]**2)-25)\n",
    "\n",
    "alpha = np.arccos((b**2+c**2-a**2)/(2*b*c))\n",
    "beta = np.arccos((a**2+c**2-b**2)/(2*a*c))\n",
    "\n",
    "thetasUp[1] = np.pi/2 - (alpha + phi) #Index 1 på thetas[1] og thetas[2] gir elbow down løsning\n",
    "thetasDown[1] =  np.pi/2 - (phi-alpha)\n",
    "\n",
    "thetasUp[2] = np.pi/2 - (beta-psi)\n",
    "thetasDown[2] =  -(2*np.pi - (beta+psi) - np.pi/2)\n",
    "\n",
    "print(thetasUp, thetasDown)\n",
    "\n",
    "#Vi har XYX euler angles. De er egentlig (-X)Y(-X) fordi det er slik S'ene er definert,.\n",
    "\n",
    "#Elbow down:\n",
    "T1 = exp6(S1, -thetasDown[0])\n",
    "T2 = exp6(S2, -thetasDown[1])\n",
    "T3 = exp6(S3, -thetasDown[2])\n",
    "\n",
    "R = (T3@T2@T1@Tsd@np.linalg.inv(M)) #R er den resterende rotasjonen vi ønsker å få fra de tre siste leddene, definert i s\n",
    "\n",
    "thetasDown[3] = -atan2(R[1,0], -R[2,0]) #minus foran theta4 og 6 fordi de er i minus x retning\n",
    "thetasDown[4] = atan2(sqrt(1-R[0,0]**2), R[0,0])\n",
    "thetasDown[5] = -atan2(R[0,1], R[0,2])\n",
    "\n",
    "\n",
    "#Elbow up:\n",
    "T1 = exp6(S1, -thetasUp[0])\n",
    "T2 = exp6(S2, -thetasUp[1])\n",
    "T3 = exp6(S3, -thetasUp[2])\n",
    "\n",
    "R = (T3@T2@T1@Tsd@np.linalg.inv(M))\n",
    "\n",
    "thetasUp[3] = -atan2(R[1,0], -R[2,0])\n",
    "thetasUp[4] = atan2(sqrt(1-R[0,0]**2), R[0,0])\n",
    "thetasUp[5] = -atan2(R[0,1], R[0,2])"
   ]
  },
  {
   "cell_type": "code",
   "execution_count": 46,
   "metadata": {},
   "outputs": [
    {
     "output_type": "execute_result",
     "data": {
      "text/plain": [
       "(array([[-4.1198e-01, -5.8727e-02,  9.0930e-01, -7.1500e+01],\n",
       "        [-9.0020e-01, -1.2832e-01, -4.1615e-01,  3.6009e+01],\n",
       "        [ 1.4112e-01, -9.8999e-01, -9.4244e-17,  5.5192e+02],\n",
       "        [ 0.0000e+00,  0.0000e+00,  0.0000e+00,  1.0000e+00]]),\n",
       " array([2.    , 1.    , 2.    , 1.5708, 1.5708, 3.1416]),\n",
       " array([[-4.1198e-01, -5.8727e-02,  9.0930e-01, -7.1500e+01],\n",
       "        [-9.0020e-01, -1.2832e-01, -4.1615e-01,  3.6009e+01],\n",
       "        [ 1.4112e-01, -9.8999e-01,  1.2068e-17,  5.5192e+02],\n",
       "        [ 0.0000e+00,  0.0000e+00,  0.0000e+00,  1.0000e+00]]),\n",
       " array([-1.1416, -1.3258,  1.3102, -1.5708,  1.5708,  2.9844]),\n",
       " array([[-4.1198e-01, -5.8727e-02,  9.0930e-01, -7.1500e+01],\n",
       "        [-9.0020e-01, -1.2832e-01, -4.1615e-01,  3.6009e+01],\n",
       "        [ 1.4112e-01, -9.8999e-01,  6.9661e-17,  5.5192e+02],\n",
       "        [ 0.0000e+00,  0.0000e+00,  0.0000e+00,  1.0000e+00]]),\n",
       " array([-1.1416,  1.038 , -4.2855, -1.5708,  1.5708, -0.2475]),\n",
       " array([  1.2436,   2.7173, 551.9174,   1.    ]),\n",
       " array([  1.2436,   2.7173, 551.9174,   1.    ]),\n",
       " array([  1.2436,   2.7173, 551.9174,   1.    ]))"
      ]
     },
     "metadata": {},
     "execution_count": 46
    }
   ],
   "source": [
    "#testing av analytisk løsning:\n",
    "\n",
    "#UP\n",
    "thetasUpN = np.zeros(6)\n",
    "thetasUpDeg = np.zeros(6)\n",
    "for i in range(0,6):\n",
    "    thetasUpN[i] = N(thetasUp[i])\n",
    "    thetasUpDeg[i] = np.rad2deg(thetasUpN[i])\n",
    "\n",
    "#print(thetas_deg, np.rad2deg(thetas_gen))\n",
    "\n",
    "TupThetas = mr.FKinSpace(M,Slist,thetasUpN)\n",
    "PUpReached = PsFromTsd(TupThetas)\n",
    "#print(P_reached, P_s)\n",
    "np.set_printoptions(precision=4)\n",
    "\n",
    "#DOWN\n",
    "thetasDownN = np.zeros(6)\n",
    "thetasDownDeg = np.zeros(6)\n",
    "for i in range(0,6):\n",
    "    thetasDownN[i] = N(thetasDown[i])\n",
    "    thetasDownDeg[i] = np.rad2deg(thetasDownN[i])\n",
    "\n",
    "#print(thetas_deg, np.rad2deg(thetas_gen))\n",
    "\n",
    "TDownThetas = mr.FKinSpace(M,Slist,thetasDownN)\n",
    "PDownReached = PsFromTsd(TDownThetas)\n",
    "\n",
    "\n",
    "#fk_test = exp6(S4,thetas_num[3])@exp6(S5,thetas_num[4])@exp6(S6,thetas_num[5])@M\n",
    "#R_test = rotX(thetas_num[3])@rotY(thetas_num[4])@rotX(thetas_num[5]) \n",
    "thetasCalc, asd = mr.IKinSpace(Slist,M,Tsd,[0,0,0,0,0,0],0.01,0.01)\n",
    "\n",
    "Tsd, thetasGen, TupThetas, thetasUpN, TDownThetas, thetasDownN, Ps, PUpReached, PDownReached"
   ]
  },
  {
   "cell_type": "code",
   "execution_count": 48,
   "metadata": {},
   "outputs": [
    {
     "output_type": "execute_result",
     "data": {
      "text/plain": [
       "(array([[-4.1198e-01, -5.8727e-02,  9.0930e-01, -7.1500e+01],\n",
       "        [-9.0020e-01, -1.2832e-01, -4.1615e-01,  3.6009e+01],\n",
       "        [ 1.4112e-01, -9.8999e-01, -9.4244e-17,  5.5192e+02],\n",
       "        [ 0.0000e+00,  0.0000e+00,  0.0000e+00,  1.0000e+00]]),\n",
       " array([-1.1416, -1.3258,  1.3102, -1.5708,  1.5708,  2.9844]),\n",
       " array([-1.1416,  1.038 , -4.2855, -1.5708,  1.5708, -0.2475]))"
      ]
     },
     "metadata": {},
     "execution_count": 48
    }
   ],
   "source": [
    "Tsd, thetasUpN, thetasDownN\n"
   ]
  },
  {
   "cell_type": "code",
   "execution_count": null,
   "metadata": {},
   "outputs": [],
   "source": []
  }
 ],
 "metadata": {
  "kernelspec": {
   "name": "python3",
   "display_name": "Python 3.8.11 64-bit ('Py38': conda)",
   "metadata": {
    "interpreter": {
     "hash": "c59555f908daf203107fb62fabdd23083d24d776055fcdd77b1f4aca8a172ece"
    }
   }
  },
  "language_info": {
   "codemirror_mode": {
    "name": "ipython",
    "version": 3
   },
   "file_extension": ".py",
   "mimetype": "text/x-python",
   "name": "python",
   "nbconvert_exporter": "python",
   "pygments_lexer": "ipython3",
   "version": "3.8.11-final"
  },
  "orig_nbformat": 2
 },
 "nbformat": 4,
 "nbformat_minor": 2
}