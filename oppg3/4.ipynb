{
 "cells": [
  {
   "cell_type": "code",
   "execution_count": 64,
   "metadata": {},
   "outputs": [],
   "source": [
    "import open3d as o3d\n",
    "import numpy as np\n",
    "from sympy import*\n",
    "from open3d.web_visualizer import draw\n",
    "import modern_robotics as mr"
   ]
  },
  {
   "cell_type": "code",
   "execution_count": 25,
   "metadata": {},
   "outputs": [],
   "source": [
    "def Ry_sym(theta):\n",
    "    ct = cos(theta)\n",
    "    st = sin(theta)\n",
    "    R = Matrix([[ct, 0.0, st], [0.0, 1.0, 0.0], [-st, 0, ct]])\n",
    "    return R\n",
    "\n",
    "def Rx_sym(theta):\n",
    "    ct = cos(theta)\n",
    "    st = sin(theta)\n",
    "    R = Matrix([[1.0, 0.0, 0.0], [0.0, ct, -st], [0.0, st, ct]])\n",
    "    return R\n",
    "\n",
    "def skew(v):\n",
    "    return Matrix([[0, -v[2], v[1]],\n",
    "                    [v[2], 0, -v[0]],\n",
    "                    [-v[1], v[0], 0]])\n",
    "                    \n",
    "def exp3(omega, theta):\n",
    "    omega = skew(omega)\n",
    "    R = eye(3) + sin(theta) * omega + (1 - cos(theta)) * omega * omega\n",
    "    return R\n",
    "\n",
    "def exp6(twist, theta):\n",
    "    omega = skew(twist[:3])\n",
    "    v = Matrix(twist[3:])\n",
    "    T = eye(4)\n",
    "    T[:3,:3] = exp3(twist[:3], theta)\n",
    "    T[:3,3] = (eye(3) * theta + (1 - cos(theta)) * omega +\n",
    "              (theta-sin(theta)) * omega * omega) * v\n",
    "    return T"
   ]
  },
  {
   "cell_type": "code",
   "execution_count": 26,
   "metadata": {},
   "outputs": [
    {
     "data": {
      "text/plain": [
       "array([[   0,    0,    0,   -1],\n",
       "       [   0,    1,    1,    0],\n",
       "       [  -1,    0,    0,    0],\n",
       "       [   0, -400, -855,    0],\n",
       "       [   0,    0,    0, -890],\n",
       "       [   0,   25,   25,    0]])"
      ]
     },
     "execution_count": 26,
     "metadata": {},
     "output_type": "execute_result"
    }
   ],
   "source": [
    "M1 = Matrix([[0, 1, 0, 0],\n",
    "             [1, 0, 0, 0],\n",
    "             [0, 0, -1, 200],\n",
    "             [0, 0, 0, 1]])\n",
    "\n",
    "M2 = Matrix([[1, 0, 0, 25],\n",
    "             [0, 0, 1, 0],\n",
    "             [0, -1, 0, 400],\n",
    "             [0, 0, 0, 1]])\n",
    "\n",
    "M3 = Matrix([[-1, 0, 0, 455+25],\n",
    "             [0, 0, 1, 0],\n",
    "             [0, 1, 0, 400],\n",
    "             [0, 0, 0, 1]])\n",
    "\n",
    "M4 = Matrix([[0, 0, -1, 455+25+420],\n",
    "             [0, 1, 0, 0],\n",
    "             [1, 0, 0, 400],\n",
    "             [0, 0, 0, 1]])\n",
    "Mlist = np.array([M1,M2,M3,M4], dtype=float)\n",
    "\n",
    "S1 = np.array([0,0,-1,0,0,0])\n",
    "S2 = np.array([0,1,0,-400,0,25])\n",
    "S3 = np.array([0,1,0,-855,0,25])\n",
    "S4 = np.array([-1,0,0,0,-890,0])\n",
    "\n",
    "S5 = np.array([0,1,0,-890,0,445])\n",
    "S6 = np.array([-1,0,0,0,-890,0])\n",
    "Slist = np.array([S1,S2,S3,S4,S5,S6]).T\n",
    "Slist[:, :4]\n"
   ]
  },
  {
   "cell_type": "code",
   "execution_count": 73,
   "metadata": {},
   "outputs": [],
   "source": [
    "class RobotObject:\n",
    "    robotObjects = [o3d.geometry.TriangleMesh.create_coordinate_frame(size=75)] #List of all o3d objects, initialized with {s}-frame\n",
    "\n",
    "    def __init__(self, Mlist, link_orient = 'z'):\n",
    "        self.current_config = Mlist \n",
    "        self.Mlist = Mlist\n",
    "        self.num_joints = len(Mlist)\n",
    "        self.num_links = len(Mlist)\n",
    "        self.length_links = self.findLinkLengths(Mlist)\n",
    "        self.link_orient = ['z']*(self.num_links+1) if link_orient == 'z' else link_orient\n",
    "\n",
    "        self.joints = []\n",
    "        self.links = []\n",
    "        self.make_robot_objects() # create all objects of robot (links, frames, joints)\n",
    "        self.__transform(Mlist) #Transforms all objects from {s} to zero-config\n",
    "\n",
    "#Calculates link lengths based on M\n",
    "    def findLinkLengths(self, Mlist):\n",
    "        linkLengths = np.zeros(self.num_links)\n",
    "        \n",
    "        for i in range(self.num_links):\n",
    "            p = Mlist[i][:3,3]\n",
    "            p_pre = np.array([0,0,0]) if i==0 else Mlist[i-1][:3,3] \n",
    "            linkLengths[i] = np.linalg.norm(p_pre-p)\n",
    "        return linkLengths\n",
    "\n",
    "#creates all o3d-objects of the robot in {s}\n",
    "    def make_robot_objects(self): \n",
    "        for i in range(self.num_joints):\n",
    "            self.joints.append(Joint())\n",
    "        for i in range(self.num_links):\n",
    "            self.links.append(Link(self.length_links[i], self.link_orient[i]))\n",
    "\n",
    "    def allToOrigin(self): #Sends all objects to Origin\n",
    "        T_origin = []\n",
    "        for T in self.current_config:\n",
    "            T_origin.append(mr.TransInv(T))\n",
    "        self.__transform(T_origin)\n",
    "        return\n",
    "\n",
    "    def transform(self, Slist, thetas):\n",
    "        self.allToOrigin()\n",
    "        T_list = []  # List with T01,T02,T03...\n",
    "        T = np.eye(4)\n",
    "        for i in range(len(thetas)):\n",
    "            T = T @ exp6(Slist[:, i], thetas[i])\n",
    "            T_list.append(T*Mlist[i])\n",
    "        \n",
    "        self.__transform(T_list)\n",
    "        return\n",
    "\n",
    "\n",
    "#Moves all objects from {s} to config given by T_list\n",
    "    def __transform(self, T_list): #Private member function\n",
    "        for i, J in enumerate(self.joints):\n",
    "            J.transform(T_list[i])\n",
    "        for i, L in enumerate(self.links):\n",
    "            L.transform(T_list[i])\n",
    "\n",
    "    def draw_robot(self):\n",
    "        draw(self.robotObjects)\n",
    "\n",
    "#_____________Joint Class______________#\n",
    "class Joint(RobotObject):\n",
    "\n",
    "    def __init__(self):\n",
    "        self.joint = o3d.geometry.TriangleMesh.create_cylinder(\n",
    "            radius=10, height=30)\n",
    "        self.coord = o3d.geometry.TriangleMesh.create_coordinate_frame(size=25)\n",
    "        self.update_mesh_list()\n",
    "        self.set_colour()\n",
    "\n",
    "    def update_mesh_list(self):\n",
    "        self.robotObjects.append(self.joint)\n",
    "        self.robotObjects.append(self.coord)\n",
    "\n",
    "    def set_colour(self, colour=[0, 1, 0]):\n",
    "        self.joint.paint_uniform_color(colour)\n",
    "\n",
    "    def transform(self, T):\n",
    "        self.joint = self.joint.transform(T)\n",
    "        self.coord = self.coord.transform(T)\n",
    "\n",
    "#____________Link Class_________________#\n",
    "class Link(RobotObject):\n",
    "\n",
    "    def __init__(self, lenght, orient):\n",
    "        self.lenght = lenght\n",
    "        \n",
    "        if (orient == 'x'): ##Defines link direction\n",
    "            self.link = o3d.geometry.TriangleMesh.create_cylinder(radius=1, height=self.lenght).rotate(Ry_sym(np.pi/2)).translate(np.array([self.lenght/2, 0, 0]))\n",
    "        elif (orient == 'y'):\n",
    "            self.link = o3d.geometry.TriangleMesh.create_cylinder(radius=1, height=self.lenght).rotate(Rx_sym(-np.pi/2)).translate(np.array([0, self.lenght/2, 0]))\n",
    "        elif (orient == 'z'):\n",
    "            self.link = o3d.geometry.TriangleMesh.create_cylinder(radius=1, height=self.lenght).translate(np.array([0, 0, self.lenght/2]))\n",
    "        \n",
    "        self.update_mesh_list()\n",
    "        self.set_colour()\n",
    "\n",
    "    def update_mesh_list(self):\n",
    "        self.robotObjects.append(self.link)\n",
    "\n",
    "    def set_colour(self, colour=[0, 0, 1]):\n",
    "        self.link.paint_uniform_color(colour)\n",
    "\n",
    "    def transform(self, T):\n",
    "        self.link = self.link.transform(T)"
   ]
  },
  {
   "cell_type": "code",
   "execution_count": 74,
   "metadata": {},
   "outputs": [
    {
     "data": {
      "application/vnd.jupyter.widget-view+json": {
       "model_id": "a8f2d05be44a42d29e2a0022277494a7",
       "version_major": 2,
       "version_minor": 0
      },
      "text/plain": [
       "WebVisualizer(window_uid='window_28')"
      ]
     },
     "metadata": {},
     "output_type": "display_data"
    }
   ],
   "source": [
    "\n",
    "KUK = RobotObject( Mlist, ['z', 'y', 'x', 'z'])\n",
    "# KUK2 = RobotObject( Mlist[:2], ['z', 'y', 'x'])\n",
    "thetas = [-1.1416, -1.3258,  1.3102, -1.5708]\n",
    "\n",
    "# KUK.theta_transform(Slist, [-1.1416, -1.3258,  1.3102, -1.5708])\n",
    "# KUK2.theta_transform(Slist[:,:2], [pi, pi/2])\n",
    "\n",
    "\n",
    "\n",
    "KUK.transform(Slist, [0,,0,0])\n",
    "KUK.draw_robot()\n"
   ]
  },
  {
   "cell_type": "code",
   "execution_count": 62,
   "metadata": {},
   "outputs": [
    {
     "data": {
      "text/plain": [
       "array([[[  0.,   1.,   0.,   0.],\n",
       "        [  1.,   0.,   0.,   0.],\n",
       "        [  0.,   0.,  -1., 200.],\n",
       "        [  0.,   0.,   0.,   1.]],\n",
       "\n",
       "       [[  1.,   0.,   0.,  25.],\n",
       "        [  0.,   0.,   1.,   0.],\n",
       "        [  0.,  -1.,   0., 400.],\n",
       "        [  0.,   0.,   0.,   1.]],\n",
       "\n",
       "       [[ -1.,   0.,   0., 480.],\n",
       "        [  0.,   0.,   1.,   0.],\n",
       "        [  0.,   1.,   0., 400.],\n",
       "        [  0.,   0.,   0.,   1.]],\n",
       "\n",
       "       [[  0.,   0.,  -1., 900.],\n",
       "        [  0.,   1.,   0.,   0.],\n",
       "        [  1.,   0.,   0., 400.],\n",
       "        [  0.,   0.,   0.,   1.]]])"
      ]
     },
     "execution_count": 62,
     "metadata": {},
     "output_type": "execute_result"
    }
   ],
   "source": [
    "Mlist"
   ]
  },
  {
   "cell_type": "code",
   "execution_count": 68,
   "metadata": {},
   "outputs": [
    {
     "ename": "IndexError",
     "evalue": "too many indices for array: array is 1-dimensional, but 2 were indexed",
     "output_type": "error",
     "traceback": [
      "\u001b[1;31m---------------------------------------------------------------------------\u001b[0m",
      "\u001b[1;31mIndexError\u001b[0m                                Traceback (most recent call last)",
      "\u001b[1;32m~\\AppData\\Local\\Temp/ipykernel_13096/2656625527.py\u001b[0m in \u001b[0;36m<module>\u001b[1;34m\u001b[0m\n\u001b[1;32m----> 1\u001b[1;33m \u001b[0mMinv\u001b[0m \u001b[1;33m=\u001b[0m \u001b[0mnp\u001b[0m\u001b[1;33m.\u001b[0m\u001b[0mapply_along_axis\u001b[0m\u001b[1;33m(\u001b[0m\u001b[0mmr\u001b[0m\u001b[1;33m.\u001b[0m\u001b[0mTransInv\u001b[0m\u001b[1;33m,\u001b[0m\u001b[1;36m1\u001b[0m\u001b[1;33m,\u001b[0m\u001b[0mMlist\u001b[0m\u001b[1;33m)\u001b[0m\u001b[1;33m\u001b[0m\u001b[1;33m\u001b[0m\u001b[0m\n\u001b[0m",
      "\u001b[1;32m<__array_function__ internals>\u001b[0m in \u001b[0;36mapply_along_axis\u001b[1;34m(*args, **kwargs)\u001b[0m\n",
      "\u001b[1;32m~\\anaconda3\\envs\\RT3\\lib\\site-packages\\numpy\\lib\\shape_base.py\u001b[0m in \u001b[0;36mapply_along_axis\u001b[1;34m(func1d, axis, arr, *args, **kwargs)\u001b[0m\n\u001b[0;32m    377\u001b[0m             \u001b[1;34m'Cannot apply_along_axis when any iteration dimensions are 0'\u001b[0m\u001b[1;33m\u001b[0m\u001b[1;33m\u001b[0m\u001b[0m\n\u001b[0;32m    378\u001b[0m         ) from None\n\u001b[1;32m--> 379\u001b[1;33m     \u001b[0mres\u001b[0m \u001b[1;33m=\u001b[0m \u001b[0masanyarray\u001b[0m\u001b[1;33m(\u001b[0m\u001b[0mfunc1d\u001b[0m\u001b[1;33m(\u001b[0m\u001b[0minarr_view\u001b[0m\u001b[1;33m[\u001b[0m\u001b[0mind0\u001b[0m\u001b[1;33m]\u001b[0m\u001b[1;33m,\u001b[0m \u001b[1;33m*\u001b[0m\u001b[0margs\u001b[0m\u001b[1;33m,\u001b[0m \u001b[1;33m**\u001b[0m\u001b[0mkwargs\u001b[0m\u001b[1;33m)\u001b[0m\u001b[1;33m)\u001b[0m\u001b[1;33m\u001b[0m\u001b[1;33m\u001b[0m\u001b[0m\n\u001b[0m\u001b[0;32m    380\u001b[0m \u001b[1;33m\u001b[0m\u001b[0m\n\u001b[0;32m    381\u001b[0m     \u001b[1;31m# build a buffer for storing evaluations of func1d.\u001b[0m\u001b[1;33m\u001b[0m\u001b[1;33m\u001b[0m\u001b[1;33m\u001b[0m\u001b[0m\n",
      "\u001b[1;32m~\\anaconda3\\envs\\RT3\\lib\\site-packages\\modern_robotics\\core.py\u001b[0m in \u001b[0;36mTransInv\u001b[1;34m(T)\u001b[0m\n\u001b[0;32m    239\u001b[0m                   [0,  0, 0,  1]])\n\u001b[0;32m    240\u001b[0m     \"\"\"\n\u001b[1;32m--> 241\u001b[1;33m     \u001b[0mR\u001b[0m\u001b[1;33m,\u001b[0m \u001b[0mp\u001b[0m \u001b[1;33m=\u001b[0m \u001b[0mTransToRp\u001b[0m\u001b[1;33m(\u001b[0m\u001b[0mT\u001b[0m\u001b[1;33m)\u001b[0m\u001b[1;33m\u001b[0m\u001b[1;33m\u001b[0m\u001b[0m\n\u001b[0m\u001b[0;32m    242\u001b[0m     \u001b[0mRt\u001b[0m \u001b[1;33m=\u001b[0m \u001b[0mnp\u001b[0m\u001b[1;33m.\u001b[0m\u001b[0marray\u001b[0m\u001b[1;33m(\u001b[0m\u001b[0mR\u001b[0m\u001b[1;33m)\u001b[0m\u001b[1;33m.\u001b[0m\u001b[0mT\u001b[0m\u001b[1;33m\u001b[0m\u001b[1;33m\u001b[0m\u001b[0m\n\u001b[0;32m    243\u001b[0m     \u001b[1;32mreturn\u001b[0m \u001b[0mnp\u001b[0m\u001b[1;33m.\u001b[0m\u001b[0mr_\u001b[0m\u001b[1;33m[\u001b[0m\u001b[0mnp\u001b[0m\u001b[1;33m.\u001b[0m\u001b[0mc_\u001b[0m\u001b[1;33m[\u001b[0m\u001b[0mRt\u001b[0m\u001b[1;33m,\u001b[0m \u001b[1;33m-\u001b[0m\u001b[0mnp\u001b[0m\u001b[1;33m.\u001b[0m\u001b[0mdot\u001b[0m\u001b[1;33m(\u001b[0m\u001b[0mRt\u001b[0m\u001b[1;33m,\u001b[0m \u001b[0mp\u001b[0m\u001b[1;33m)\u001b[0m\u001b[1;33m]\u001b[0m\u001b[1;33m,\u001b[0m \u001b[1;33m[\u001b[0m\u001b[1;33m[\u001b[0m\u001b[1;36m0\u001b[0m\u001b[1;33m,\u001b[0m \u001b[1;36m0\u001b[0m\u001b[1;33m,\u001b[0m \u001b[1;36m0\u001b[0m\u001b[1;33m,\u001b[0m \u001b[1;36m1\u001b[0m\u001b[1;33m]\u001b[0m\u001b[1;33m]\u001b[0m\u001b[1;33m]\u001b[0m\u001b[1;33m\u001b[0m\u001b[1;33m\u001b[0m\u001b[0m\n",
      "\u001b[1;32m~\\anaconda3\\envs\\RT3\\lib\\site-packages\\modern_robotics\\core.py\u001b[0m in \u001b[0;36mTransToRp\u001b[1;34m(T)\u001b[0m\n\u001b[0;32m    218\u001b[0m     \"\"\"\n\u001b[0;32m    219\u001b[0m     \u001b[0mT\u001b[0m \u001b[1;33m=\u001b[0m \u001b[0mnp\u001b[0m\u001b[1;33m.\u001b[0m\u001b[0marray\u001b[0m\u001b[1;33m(\u001b[0m\u001b[0mT\u001b[0m\u001b[1;33m)\u001b[0m\u001b[1;33m\u001b[0m\u001b[1;33m\u001b[0m\u001b[0m\n\u001b[1;32m--> 220\u001b[1;33m     \u001b[1;32mreturn\u001b[0m \u001b[0mT\u001b[0m\u001b[1;33m[\u001b[0m\u001b[1;36m0\u001b[0m\u001b[1;33m:\u001b[0m \u001b[1;36m3\u001b[0m\u001b[1;33m,\u001b[0m \u001b[1;36m0\u001b[0m\u001b[1;33m:\u001b[0m \u001b[1;36m3\u001b[0m\u001b[1;33m]\u001b[0m\u001b[1;33m,\u001b[0m \u001b[0mT\u001b[0m\u001b[1;33m[\u001b[0m\u001b[1;36m0\u001b[0m\u001b[1;33m:\u001b[0m \u001b[1;36m3\u001b[0m\u001b[1;33m,\u001b[0m \u001b[1;36m3\u001b[0m\u001b[1;33m]\u001b[0m\u001b[1;33m\u001b[0m\u001b[1;33m\u001b[0m\u001b[0m\n\u001b[0m\u001b[0;32m    221\u001b[0m \u001b[1;33m\u001b[0m\u001b[0m\n\u001b[0;32m    222\u001b[0m \u001b[1;32mdef\u001b[0m \u001b[0mTransInv\u001b[0m\u001b[1;33m(\u001b[0m\u001b[0mT\u001b[0m\u001b[1;33m)\u001b[0m\u001b[1;33m:\u001b[0m\u001b[1;33m\u001b[0m\u001b[1;33m\u001b[0m\u001b[0m\n",
      "\u001b[1;31mIndexError\u001b[0m: too many indices for array: array is 1-dimensional, but 2 were indexed"
     ]
    }
   ],
   "source": [
    "Minv = np.apply_along_axis(mr.TransInv,1,Mlist)"
   ]
  },
  {
   "cell_type": "code",
   "execution_count": null,
   "metadata": {},
   "outputs": [],
   "source": []
  }
 ],
 "metadata": {
  "interpreter": {
   "hash": "f53ade0e91c5a7960987437a5ba96562eb04763816e0c2241e452b900f4537a3"
  },
  "kernelspec": {
   "display_name": "Python 3.8.12 64-bit ('RT3': conda)",
   "language": "python",
   "name": "python3"
  },
  "language_info": {
   "codemirror_mode": {
    "name": "ipython",
    "version": 3
   },
   "file_extension": ".py",
   "mimetype": "text/x-python",
   "name": "python",
   "nbconvert_exporter": "python",
   "pygments_lexer": "ipython3",
   "version": "3.8.12"
  },
  "orig_nbformat": 4
 },
 "nbformat": 4,
 "nbformat_minor": 2
}
