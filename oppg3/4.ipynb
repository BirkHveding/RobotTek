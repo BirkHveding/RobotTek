{
 "cells": [
  {
   "cell_type": "code",
   "execution_count": 2,
   "metadata": {},
   "outputs": [],
   "source": [
    "import open3d as o3d\n",
    "import numpy as np\n",
    "import sympy as sp\n",
    "from open3d.web_visualizer import draw\n",
    "import modern_robotics as mr"
   ]
  },
  {
   "cell_type": "code",
   "execution_count": 3,
   "metadata": {},
   "outputs": [],
   "source": [
    "def Ry_sym(theta):\n",
    "    ct = sp.cos(theta)\n",
    "    st = sp.sin(theta)\n",
    "    R = sp.Matrix([[ct, 0.0, st], [0.0, 1.0, 0.0], [-st, 0, ct]])\n",
    "    return R\n",
    "\n",
    "def Rx_sym(theta):\n",
    "    ct = sp.cos(theta)\n",
    "    st = sp.sin(theta)\n",
    "    R = sp.Matrix([[1.0, 0.0, 0.0], [0.0, ct, -st], [0.0, st, ct]])\n",
    "    return R\n",
    "\n",
    "def skew(v):\n",
    "    return sp.Matrix([[0, -v[2], v[1]],\n",
    "                    [v[2], 0, -v[0]],\n",
    "                    [-v[1], v[0], 0]])\n",
    "                    \n",
    "def exp3(omega, theta):\n",
    "    omega = skew(omega)\n",
    "    R = sp.eye(3) + sp.sin(theta) * omega + (1 - sp.cos(theta)) * omega * omega\n",
    "    return R\n",
    "\n",
    "def exp6(twist, theta):\n",
    "    omega = skew(twist[:3])\n",
    "    v = sp.Matrix(twist[3:])\n",
    "    T = sp.eye(4)\n",
    "    T[:3,:3] = exp3(twist[:3], theta)\n",
    "    T[:3,3] = (sp.eye(3) * theta + (1 - sp.cos(theta)) * omega +\n",
    "              (theta-sp.sin(theta)) * omega * omega) * v\n",
    "    return T"
   ]
  },
  {
   "cell_type": "code",
   "execution_count": 4,
   "metadata": {},
   "outputs": [],
   "source": [
    "def calc_v(omega_mat, q_mat):\n",
    "    #omega_mat and q_mat of type matrix with q_i & omega_i as columns\n",
    "    #Returns v_mat in same type/format\n",
    "    assert len(omega_mat) == len(q_mat)\n",
    "    \n",
    "    n_joints = omega_mat.shape[1] \n",
    "    v_mat = sp.zeros(3, n_joints)      \n",
    "\n",
    "    for i in range(n_joints):\n",
    "        v_mat[:,i] = (-skew(omega_mat.col(i)) * q_mat.col(i))\n",
    "    return v_mat\n",
    "\n",
    "def Slist_maker(omega_mat, q_mat): #omega_mat and q_mat of type matrix with q_i & omega_i as columns\n",
    "    #Returns v_mat in same type/format\n",
    "    v_mat = calc_v(omega_mat, q_mat)    \n",
    "    n_joints = omega_mat.shape[1]\n",
    "    Slist = sp.zeros(6, n_joints)\n",
    "    \n",
    "    for i in range(n_joints):\n",
    "        Slist[:3,i] = omega_mat[:,i]\n",
    "        Slist[3:,i] = v_mat[:,i]\n",
    "    return Slist\n"
   ]
  },
  {
   "cell_type": "code",
   "execution_count": 5,
   "metadata": {},
   "outputs": [
    {
     "data": {
      "text/latex": [
       "$\\displaystyle \\left[\\begin{matrix}0 & 0 & 0 & -1\\\\0 & 1 & 1 & 0\\\\-1 & 0 & 0 & 0\\\\0 & -400 & -400 & 0\\\\0 & 0 & 0 & -400\\\\0 & 25 & 480 & 0\\end{matrix}\\right]$"
      ],
      "text/plain": [
       "Matrix([\n",
       "[ 0,    0,    0,   -1],\n",
       "[ 0,    1,    1,    0],\n",
       "[-1,    0,    0,    0],\n",
       "[ 0, -400, -400,    0],\n",
       "[ 0,    0,    0, -400],\n",
       "[ 0,   25,  480,    0]])"
      ]
     },
     "execution_count": 5,
     "metadata": {},
     "output_type": "execute_result"
    }
   ],
   "source": [
    "M1=sp.Matrix([[0, 1, 0, 0],\n",
    "             [1, 0, 0, 0],\n",
    "             [0, 0, -1, 200],\n",
    "             [0, 0, 0, 1]])\n",
    "\n",
    "M2=sp.Matrix([[1, 0, 0, 25],\n",
    "             [0, 0, 1, 0],\n",
    "             [0, -1, 0, 400],\n",
    "             [0, 0, 0, 1]])\n",
    "\n",
    "M3=sp.Matrix([[-1, 0, 0, 455+25],\n",
    "             [0, 0, 1, 0],\n",
    "             [0, 1, 0, 400],\n",
    "             [0, 0, 0, 1]])\n",
    "\n",
    "M4=sp.Matrix([[0, 0, -1, 455+25+420],\n",
    "             [0, 1, 0, 0],\n",
    "             [1, 0, 0, 400],\n",
    "             [0, 0, 0, 1]])\n",
    "Mlist = np.array([M1,M2,M3,M4], dtype=float)\n",
    "\n",
    "S1 = np.array([0,0,-1,0,0,0])\n",
    "S2 = np.array([0,1,0,-400,0,25])\n",
    "S3 = np.array([0,1,0,-855,0,25])\n",
    "S4 = np.array([-1,0,0,0,-890,0])\n",
    "\n",
    "S5 = np.array([0,1,0,-890,0,445])\n",
    "S6 = np.array([-1,0,0,0,-890,0])\n",
    "Slist = np.array([S1,S2,S3,S4,S5,S6]).T\n",
    "Slist[:, :4]\n",
    "\n",
    "om = sp.zeros(3,4)\n",
    "om1 = om[:, 0] = sp.Matrix([0,0,-1])\n",
    "om2 = om[:, 1] = sp.Matrix([0,1,0])\n",
    "om3 = om[:, 2] = sp.Matrix([0,1,0])\n",
    "om4 = om[:, 3] = sp.Matrix([-1,0,0])\n",
    "q = sp.zeros(3,4)\n",
    "q1 = q[:,0] = M1[:3, 3]\n",
    "q2 = q[:,1] = M2[:3, 3]\n",
    "q3 = q[:,2] = M3[:3, 3]\n",
    "q4 = q[:,3] = M4[:3, 3]\n",
    "\n",
    "S_list = Slist_maker(om,q)\n",
    "S_list"
   ]
  },
  {
   "cell_type": "code",
   "execution_count": 6,
   "metadata": {},
   "outputs": [],
   "source": [
    "class RobotObject:\n",
    "    robotObjects = [o3d.geometry.TriangleMesh.create_coordinate_frame(size=75)] #List of all o3d objects, initialized with {s}-frame\n",
    "\n",
    "    def __init__(self, Mlist, link_orient = 'z'):\n",
    "        self.current_config = Mlist \n",
    "        self.Mlist = Mlist\n",
    "        self.num_joints = len(Mlist)\n",
    "        self.num_links = len(Mlist)\n",
    "        self.length_links = self.findLinkLengths(Mlist)\n",
    "        self.link_orient = ['z']*(self.num_links+1) if link_orient == 'z' else link_orient\n",
    "\n",
    "        self.joints = []\n",
    "        self.links = []\n",
    "        self.make_robot_objects() # create all objects of robot (links, frames, joints)\n",
    "        self.__transform(Mlist) #Transforms all objects from {s} to zero-config\n",
    "\n",
    "#Calculates link lengths based on M\n",
    "    def findLinkLengths(self, Mlist):\n",
    "        linkLengths = np.zeros(self.num_links)\n",
    "        \n",
    "        for i in range(self.num_links):\n",
    "            p = Mlist[i][:3,3]\n",
    "            p_pre = np.array([0,0,0]) if i==0 else Mlist[i-1][:3,3] \n",
    "            linkLengths[i] = np.linalg.norm(p_pre-p)\n",
    "        return linkLengths\n",
    "\n",
    "#creates all o3d-objects of the robot in {s}\n",
    "    def make_robot_objects(self): \n",
    "        for i in range(self.num_joints):\n",
    "            self.joints.append(Joint())\n",
    "        for i in range(self.num_links):\n",
    "            self.links.append(Link(self.length_links[i], self.link_orient[i]))\n",
    "\n",
    "    def allToOrigin(self): #Sends all objects to Origin\n",
    "        T_origin = []\n",
    "        for T in self.current_config:\n",
    "            T_origin.append(mr.TransInv(T))\n",
    "        self.__transform(T_origin)\n",
    "        return\n",
    "\n",
    "    def transform(self, Slist, thetas):\n",
    "        self.allToOrigin() \n",
    "        T_list = []  # List with T01,T02,T03...\n",
    "        T = np.eye(4)\n",
    "        # for i in range(len(thetas)):\n",
    "        #     Smat = mr.VecTose3(Slist[:, i])\n",
    "        #     T = T @ mr.MatrixExp6(Smat * thetas[i])\n",
    "        #     T_list.append(T@Mlist[i])\n",
    "        for i in range(len(thetas)):\n",
    "            T = T @ exp6(Slist[:, i], thetas[i])\n",
    "            T_list.append(T@Mlist[i])   \n",
    "        self.__transform(T_list)\n",
    "        return\n",
    "\n",
    "\n",
    "#Moves all objects from {s} to config given by T_list\n",
    "    def __transform(self, T_list): #Private member function\n",
    "        for i, J in enumerate(self.joints):\n",
    "            J.transform(T_list[i])\n",
    "        for i, L in enumerate(self.links):\n",
    "            L.transform(T_list[i])\n",
    "\n",
    "    def draw_robot(self):\n",
    "        draw(self.robotObjects)\n",
    "\n",
    "#_____________Joint Class______________#\n",
    "class Joint(RobotObject):\n",
    "\n",
    "    def __init__(self):\n",
    "        self.joint = o3d.geometry.TriangleMesh.create_cylinder(\n",
    "            radius=10, height=30)\n",
    "        self.coord = o3d.geometry.TriangleMesh.create_coordinate_frame(size=25)\n",
    "        self.update_mesh_list()\n",
    "        self.set_colour()\n",
    "\n",
    "    def update_mesh_list(self):\n",
    "        self.robotObjects.append(self.joint)\n",
    "        self.robotObjects.append(self.coord)\n",
    "\n",
    "    def set_colour(self, colour=[0, 1, 0]):\n",
    "        self.joint.paint_uniform_color(colour)\n",
    "\n",
    "    def transform(self, T):\n",
    "        self.joint = self.joint.transform(T)\n",
    "        self.coord = self.coord.transform(T)\n",
    "\n",
    "#____________Link Class_________________#\n",
    "class Link(RobotObject):\n",
    "\n",
    "    def __init__(self, lenght, orient):\n",
    "        self.lenght = lenght\n",
    "        \n",
    "        if (orient == 'x'): ##Defines link direction\n",
    "            self.link = o3d.geometry.TriangleMesh.create_cylinder(radius=1, height=self.lenght).rotate(Ry_sym(np.pi/2)).translate(np.array([self.lenght/2, 0, 0]))\n",
    "        elif (orient == 'y'):\n",
    "            self.link = o3d.geometry.TriangleMesh.create_cylinder(radius=1, height=self.lenght).rotate(Rx_sym(-np.pi/2)).translate(np.array([0, self.lenght/2, 0]))\n",
    "        elif (orient == 'z'):\n",
    "            self.link = o3d.geometry.TriangleMesh.create_cylinder(radius=1, height=self.lenght).translate(np.array([0, 0, self.lenght/2]))\n",
    "        \n",
    "        self.update_mesh_list()\n",
    "        self.set_colour()\n",
    "\n",
    "    def update_mesh_list(self):\n",
    "        self.robotObjects.append(self.link)\n",
    "\n",
    "    def set_colour(self, colour=[0, 0, 1]):\n",
    "        self.link.paint_uniform_color(colour)\n",
    "\n",
    "    def transform(self, T):\n",
    "        self.link = self.link.transform(T)"
   ]
  },
  {
   "cell_type": "code",
   "execution_count": 13,
   "metadata": {},
   "outputs": [
    {
     "data": {
      "application/vnd.jupyter.widget-view+json": {
       "model_id": "a821e4c50e82451f98df2d7f73e75594",
       "version_major": 2,
       "version_minor": 0
      },
      "text/plain": [
       "WebVisualizer(window_uid='window_6')"
      ]
     },
     "metadata": {},
     "output_type": "display_data"
    }
   ],
   "source": [
    "\n",
    "KUK = RobotObject( Mlist, ['z', 'y', 'x', 'z'])\n",
    "# KUK2 = RobotObject( Mlist[:2], ['z', 'y', 'x'])\n",
    "thetas = [-1.1416, -1.3258,  1.3102, -1.5708]\n",
    "\n",
    "# KUK.theta_transform(Slist, [-1.1416, -1.3258,  1.3102, -1.5708])\n",
    "# KUK2.theta_transform(Slist[:,:2], [pi, pi/2])\n",
    "\n",
    "\n",
    "\n",
    "# KUK.transform(S_list, [0,np.pi/4,np.pi/4,0])\n",
    "KUK.draw_robot()\n"
   ]
  },
  {
   "cell_type": "code",
   "execution_count": 8,
   "metadata": {},
   "outputs": [
    {
     "data": {
      "text/latex": [
       "$\\displaystyle \\left[\\begin{matrix}0 & 0 & -1 & 900\\\\0 & 1 & 0 & 0\\\\1 & 0 & 0 & 400\\\\0 & 0 & 0 & 1\\end{matrix}\\right]$"
      ],
      "text/plain": [
       "Matrix([\n",
       "[0, 0, -1, 900],\n",
       "[0, 1,  0,   0],\n",
       "[1, 0,  0, 400],\n",
       "[0, 0,  0,   1]])"
      ]
     },
     "execution_count": 8,
     "metadata": {},
     "output_type": "execute_result"
    }
   ],
   "source": [
    "M4"
   ]
  },
  {
   "cell_type": "code",
   "execution_count": 9,
   "metadata": {},
   "outputs": [
    {
     "data": {
      "text/plain": [
       "[Matrix([\n",
       " [  0, 1.0,    0,     0],\n",
       " [1.0,   0,    0,     0],\n",
       " [  0,   0, -1.0, 200.0],\n",
       " [  0,   0,    0,   1.0]]),\n",
       " Matrix([\n",
       " [1.0,    0,   0,  25.0],\n",
       " [  0,    0, 1.0,     0],\n",
       " [  0, -1.0,   0, 400.0],\n",
       " [  0,    0,   0,   1.0]]),\n",
       " Matrix([\n",
       " [-1.0,   0,   0, 480.0],\n",
       " [   0,   0, 1.0,     0],\n",
       " [   0, 1.0,   0, 400.0],\n",
       " [   0,   0,   0,   1.0]]),\n",
       " Matrix([\n",
       " [  0,   0, -1.0, 900.0],\n",
       " [  0, 1.0,    0,     0],\n",
       " [1.0,   0,    0, 400.0],\n",
       " [  0,   0,    0,   1.0]])]"
      ]
     },
     "execution_count": 9,
     "metadata": {},
     "output_type": "execute_result"
    }
   ],
   "source": [
    "thetas = [0,0,0,0]\n",
    "T_list = []  # List with T01,T02,T03...\n",
    "T = np.eye(4)\n",
    "for i in range(len(thetas)):\n",
    "    T = T @ exp6(Slist[:, i], thetas[i])\n",
    "    T_list.append(T@Mlist[i])\n",
    "T_list\n"
   ]
  },
  {
   "cell_type": "code",
   "execution_count": 10,
   "metadata": {},
   "outputs": [],
   "source": [
    "thetas = [np.pi,0,0,np.pi/10]\n",
    "\n",
    "T_list = []  # List with T01,T02,T03...\n",
    "\n",
    "T = np.eye(4)\n",
    "T1 = T @ mr.MatrixExp6(mr.VecTose3(S1) * thetas[0])\n",
    "T2 = T1 @ mr.MatrixExp6(mr.VecTose3(S2) * thetas[1])\n",
    "T3 = T2 @ mr.MatrixExp6(mr.VecTose3(S3) * thetas[2])\n",
    "T4 = T3 @ mr.MatrixExp6(mr.VecTose3(S4) * thetas[3])\n"
   ]
  },
  {
   "cell_type": "code",
   "execution_count": 11,
   "metadata": {},
   "outputs": [
    {
     "data": {
      "application/vnd.jupyter.widget-view+json": {
       "model_id": "e35092a675b84dafb5d1879499a95b98",
       "version_major": 2,
       "version_minor": 0
      },
      "text/plain": [
       "WebVisualizer(window_uid='window_1')"
      ]
     },
     "metadata": {},
     "output_type": "display_data"
    },
    {
     "data": {
      "application/vnd.jupyter.widget-view+json": {
       "model_id": "31e4dbb3e1a24144ac2cb82c14daa500",
       "version_major": 2,
       "version_minor": 0
      },
      "text/plain": [
       "WebVisualizer(window_uid='window_2')"
      ]
     },
     "metadata": {},
     "output_type": "display_data"
    },
    {
     "data": {
      "application/vnd.jupyter.widget-view+json": {
       "model_id": "b671c669aaf64f29a2faa27bdfbdcfb1",
       "version_major": 2,
       "version_minor": 0
      },
      "text/plain": [
       "WebVisualizer(window_uid='window_3')"
      ]
     },
     "metadata": {},
     "output_type": "display_data"
    },
    {
     "data": {
      "application/vnd.jupyter.widget-view+json": {
       "model_id": "ff25336f01e94ccea86de6d1c5440c3f",
       "version_major": 2,
       "version_minor": 0
      },
      "text/plain": [
       "WebVisualizer(window_uid='window_4')"
      ]
     },
     "metadata": {},
     "output_type": "display_data"
    }
   ],
   "source": [
    "f0 = o3d.geometry.TriangleMesh.create_coordinate_frame(size=25)\n",
    "f1 = o3d.geometry.TriangleMesh.create_coordinate_frame(size=25)\n",
    "f2 = o3d.geometry.TriangleMesh.create_coordinate_frame(size=25)\n",
    "f3 = o3d.geometry.TriangleMesh.create_coordinate_frame(size=25)\n",
    "f4 = o3d.geometry.TriangleMesh.create_coordinate_frame(size=25)\n",
    "\n",
    "draw([f1,f2,f3,f4])\n",
    "f2.transform(M1)\n",
    "draw([f1,f2,f3,f4])\n",
    "f3.transform(M2)\n",
    "draw([f1,f2,f3,f4])\n",
    "f4.transform(M4)\n",
    "draw([f0,f1,f2,f3,f4])"
   ]
  },
  {
   "cell_type": "code",
   "execution_count": null,
   "metadata": {},
   "outputs": [],
   "source": []
  }
 ],
 "metadata": {
  "interpreter": {
   "hash": "f53ade0e91c5a7960987437a5ba96562eb04763816e0c2241e452b900f4537a3"
  },
  "kernelspec": {
   "display_name": "Python 3.8.12 64-bit ('RT3': conda)",
   "language": "python",
   "name": "python3"
  },
  "language_info": {
   "codemirror_mode": {
    "name": "ipython",
    "version": 3
   },
   "file_extension": ".py",
   "mimetype": "text/x-python",
   "name": "python",
   "nbconvert_exporter": "python",
   "pygments_lexer": "ipython3",
   "version": "3.8.12"
  },
  "orig_nbformat": 4
 },
 "nbformat": 4,
 "nbformat_minor": 2
}
