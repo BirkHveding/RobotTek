{
 "metadata": {
  "language_info": {
   "codemirror_mode": {
    "name": "ipython",
    "version": 3
   },
   "file_extension": ".py",
   "mimetype": "text/x-python",
   "name": "python",
   "nbconvert_exporter": "python",
   "pygments_lexer": "ipython3",
   "version": 3
  },
  "orig_nbformat": 2
 },
 "nbformat": 4,
 "nbformat_minor": 2,
 "cells": [
  {
   "cell_type": "code",
   "execution_count": null,
   "metadata": {},
   "outputs": [],
   "source": [
    "import modern_robotics as mr\n",
    "import sympy as sp\n",
    "from sympy import*\n",
    "from sympy.physics.mechanics import dynamicsymbols, mechanics_printing\n",
    "mechanics_printing()"
   ]
  },
  {
   "cell_type": "code",
   "execution_count": null,
   "metadata": {},
   "outputs": [],
   "source": [
    "def PsFromTsd(T_sd):\n",
    "    #T_sd basert i s, d=desired. Gir konfigurasjonen vi vil ha end-effector framen, B, i.\n",
    "    #B, og derav og M, er lik som i DH\n",
    "    #s er plassert nederst på roboten med positiv z oppover, altså ikke som i DH. Bør kanskje endres til å være lik DH \n",
    "    #T_sb = np.array([[0,0,-1,0],\n",
    "    #                [0,1,0,0],\n",
    "    #                 [1,0,0,0],\n",
    "    #                 [0,0,0,1]])\n",
    "    #T_sb = T_sd@T_db\n",
    "    P_d = np.array([0,0,-80,1])\n",
    "    P_s = T_sd*P_d\n",
    "    return P_s\n",
    "\n",
    "def exp3(omega, theta):\n",
    "    omega = skew(omega)\n",
    "    R = sp.eye(3) + sp.sin(theta) * omega + (1 - sp.cos(theta)) * omega * omega\n",
    "    return R\n",
    "\n",
    "def skew(v):\n",
    "    return Matrix([[0, -v[2], v[1]],\n",
    "                    [v[2], 0, -v[0]],\n",
    "                    [-v[1], v[0], 0]])\n",
    "                    \n",
    "def exp6(twist, theta):\n",
    "    omega = skew(twist[:3])\n",
    "    v = Matrix(twist[3:])\n",
    "    T = eye(4)\n",
    "    T[:3,:3] = exp3(twist[:3], theta)\n",
    "    T[:3,3] = (eye(3) * theta + (1 - cos(theta)) * omega +\n",
    "              (theta-sin(theta)) * omega * omega) * v\n",
    "    return T\n",
    "\n",
    "\n",
    "\n",
    "    "
   ]
  },
  {
   "cell_type": "code",
   "execution_count": null,
   "metadata": {},
   "outputs": [],
   "source": [
    "\n",
    "#OPPGAVE 3.2\n",
    "thetas = [0,0,0,0,0,0]\n",
    "\n",
    "T_sd = np.eye(4)\n",
    "P_s = PsFromTsd(T_sd)\n",
    "\n",
    "#theta1\n",
    "thetas[0] = atan2(P_s[1],P_s[0])\n",
    "\n",
    "#theta2 and theta3\n",
    "a = sqrt(420**2+35**2)\n",
    "c = 455\n",
    "b = sqrt(a**2+c**2)\n",
    "P_merket = np.array([P_s[0],P_s[1],P[2]-400])\n",
    "\n",
    "psi = np.arccos(420/a) #Se notatbok\n",
    "phi = atan2(P_merket[2], sqrt(P_s[0]**2,P_s[1]**2))\n",
    "#Vi kommer til å bruke at theta3=beta-psi og theta2 = alpha+phi\n",
    "\n",
    "alpha = np.arccos((b**2+c**2-a**2)/(2*b*c))\n",
    "beta = np.arccos((a**2+c**2-b**2)/(2*a*c))\n",
    "\n",
    "thetas[1] = alpha + phi\n",
    "thetas[2] = beta - psi\n",
    "\n",
    "#theta4,5,6\n",
    "R_d = T_sd[:3][:3]\n",
    "S1, S2, S3 \n",
    "\n",
    "thetas[3] = atan2(R_d[1][0], R_d[0][0])\n",
    "thetas[4] = atan2(-R_d[2][0], -sqrt(R_d[0][0]**2 + R_d[1][0]**2))\n",
    "thetas[5] = atan2(R_d[2][1], R_d[2][2])\n"
   ]
  },
  {
   "cell_type": "code",
   "execution_count": null,
   "metadata": {},
   "outputs": [],
   "source": [
    "#OPPGAVE 3.3\n"
   ]
  }
 ]
}