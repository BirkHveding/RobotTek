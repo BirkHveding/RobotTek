{
 "metadata": {
  "language_info": {
   "codemirror_mode": {
    "name": "ipython",
    "version": 3
   },
   "file_extension": ".py",
   "mimetype": "text/x-python",
   "name": "python",
   "nbconvert_exporter": "python",
   "pygments_lexer": "ipython3",
   "version": "3.8.11-final"
  },
  "orig_nbformat": 2,
  "kernelspec": {
   "name": "python3",
   "display_name": "Python 3.8.11 64-bit ('Py38': conda)",
   "metadata": {
    "interpreter": {
     "hash": "c59555f908daf203107fb62fabdd23083d24d776055fcdd77b1f4aca8a172ece"
    }
   }
  }
 },
 "nbformat": 4,
 "nbformat_minor": 2,
 "cells": [
  {
   "cell_type": "code",
   "execution_count": 766,
   "metadata": {},
   "outputs": [],
   "source": [
    "import modern_robotics as mr\n",
    "import numpy as np\n",
    "import sympy as sp\n",
    "from sympy import*\n",
    "from sympy.physics.mechanics import dynamicsymbols, mechanics_printing\n",
    "mechanics_printing()"
   ]
  },
  {
   "cell_type": "code",
   "execution_count": 767,
   "metadata": {},
   "outputs": [],
   "source": [
    "def PsFromTsd(T_sd):\n",
    "    #T_sd gir konfigurasjonen vi vil ha end-effector framen, B, i.\n",
    "    #B, og derav også M, er lik som i DH\n",
    "    #s er plassert nederst på roboten med positiv z oppover, altså ikke som i DH. Bør kanskje endres til å være lik DH \n",
    "    #T_sb = np.array([[0,0,-1,0],\n",
    "    #                [0,1,0,0],\n",
    "    #                 [1,0,0,0],\n",
    "    #                 [0,0,0,1]])\n",
    "    #T_sb = T_sd@T_db\n",
    "    P_d = np.array([0,0,80,1])\n",
    "    P_s = T_sd@P_d\n",
    "\n",
    "    return P_s\n",
    "\n",
    "def exp3(omega, theta):\n",
    "    omega = skew(omega)\n",
    "    R = sp.eye(3) + sp.sin(theta) * omega + (1 - sp.cos(theta)) * omega * omega\n",
    "    return R\n",
    "\n",
    "def skew(v):\n",
    "    return Matrix([[0, -v[2], v[1]],\n",
    "                    [v[2], 0, -v[0]],\n",
    "                    [-v[1], v[0], 0]])\n",
    "                    \n",
    "def exp6(twist, theta):\n",
    "    omega = skew(twist[:3])\n",
    "    v = Matrix(twist[3:])\n",
    "    T = eye(4)\n",
    "    T[:3,:3] = exp3(twist[:3], theta)\n",
    "    T[:3,3] = (eye(3) * theta + (1 - cos(theta)) * omega +\n",
    "              (theta-sin(theta)) * omega * omega) * v\n",
    "    return T\n",
    "\n",
    "\n",
    "def rotX(alfa_im1):\n",
    "    Rx = sp.eye(4)\n",
    "    Rx[1,1] =    sp.cos(alfa_im1)\n",
    "    Rx[1,2] =   -sp.sin(alfa_im1)\n",
    "    Rx[2,1] =    sp.sin(alfa_im1)\n",
    "    Rx[2,2] =    sp.cos(alfa_im1)\n",
    "    return Rx\n",
    "\n",
    "def rotZ(alfa_im1):\n",
    "    Rz = sp.eye(4)\n",
    "    Rz[0,0] =    sp.cos(alfa_im1)\n",
    "    Rz[0,1] =   -sp.sin(alfa_im1)\n",
    "    Rz[1,0] =    sp.sin(alfa_im1)\n",
    "    Rz[1,1] =    sp.cos(alfa_im1)\n",
    "    return Rz\n",
    "\n",
    "def rotY(alfa_im1):\n",
    "    Ry = sp.eye(4)\n",
    "    Ry[0,0] =    sp.cos(alfa_im1)\n",
    "    Ry[0,2] =   sp.sin(alfa_im1)\n",
    "    Ry[2,0] =    -sp.sin(alfa_im1)\n",
    "    Ry[2,2] =    sp.cos(alfa_im1)\n",
    "    return Ry\n",
    "\n",
    "\n"
   ]
  },
  {
   "cell_type": "code",
   "execution_count": 1053,
   "metadata": {},
   "outputs": [
    {
     "output_type": "stream",
     "name": "stdout",
     "text": [
      "[[   0    0    0   -1    0   -1]\n [   0    1    1    0    1    0]\n [  -1    0    0    0    0    0]\n [   0 -400 -855    0 -890    0]\n [   0    0    0 -890    0 -890]\n [   0   25   25    0  445    0]]\n"
     ]
    }
   ],
   "source": [
    "S1 = np.array([0,0,-1,0,0,0])\n",
    "S2 = np.array([0,1,0,-400,0,25])\n",
    "S3 = np.array([0,1,0,-855,0,25])\n",
    "S4 = np.array([-1,0,0,0,-890,0])\n",
    "S5 = np.array([0,1,0,-890,0,445])\n",
    "S6 = np.array([-1,0,0,0,-890,0])\n",
    "Slist = np.array([S1,S2,S3,S4,S5,S6]).T\n",
    "print(Slist)\n",
    "\n",
    "M = np.array([[0,0,-1,525],\n",
    "              [0,1,0,0],\n",
    "              [1,0,0,890],\n",
    "              [0,0,0,1]])\n",
    "\n",
    "thetas = [0,0,0,0,0,0]"
   ]
  },
  {
   "cell_type": "code",
   "execution_count": 1232,
   "metadata": {},
   "outputs": [
    {
     "output_type": "stream",
     "name": "stdout",
     "text": [
      "T_sd\n [[   1.    0.   -0.  -10.]\n [   0.   -1.    0.    0.]\n [  -0.   -0.   -1. 1355.]\n [   0.    0.    0.    1.]]\nPs [ -10.    0. 1275.    1.]\natan2 arg: 1.0899356512411443e-13 -9.999999999999895\n-3.14159265358978 0.0\nP_merket: [-10.   0. 875.]\n3.07148097654389 - pi -1.3774936771703779\n"
     ]
    }
   ],
   "source": [
    "\n",
    "#OPPGAVE 3.2\n",
    "\n",
    "#Her endres T_sd for å teste andre gyldige konfigurasjoner:\n",
    "#T_sd = M\n",
    "thetas_gen = np.array([0,0,-np.pi/2,0,0,np.pi])\n",
    "T_sd = mr.FKinSpace(M,Slist,thetas_gen)\n",
    "print(\"T_sd\\n\", T_sd)\n",
    "\n",
    "P_s = PsFromTsd(T_sd)\n",
    "print(\"Ps\", P_s)\n",
    "\n",
    "#theta1\n",
    "print(\"atan2 arg:\",P_s[1], P_s[0])\n",
    "thetas[0] = -atan2(P_s[1],P_s[0]) #minus foran fordi vinkelen er definert andre vei\n",
    "print(N(thetas[0]), thetas_gen[0])\n",
    "\n",
    "#theta2 and theta3\n",
    "a = np.sqrt(420**2+35**2)\n",
    "c = 455\n",
    "P_merket = np.array([P_s[0],P_s[1],P_s[2]-400])\n",
    "b = np.sqrt((np.sqrt(P_merket[0]**2+P_merket[1]**2)-25)**2 + P_merket[2]**2)\n",
    "print(\"P_merket:\", P_merket)\n",
    "\n",
    "psi = np.arccos(420/a) #Se notatbok\n",
    "phi = atan2(P_merket[2], sqrt(P_merket[0]**2 + P_merket[1]**2)-25)\n",
    "\n",
    "alpha = np.arccos((b**2+c**2-a**2)/(2*b*c))\n",
    "beta = np.arccos((a**2+c**2-b**2)/(2*a*c))\n",
    "\n",
    "thetas[1] = np.pi/2 - (alpha + phi)\n",
    "\n",
    "thetas[2] = np.pi/2 - (beta-psi)\n",
    "\n",
    "print(thetas[1], thetas[2])\n",
    "\n",
    "#Vi har XYX euler angles i stedet for ZYX som gitt i forelesning. De er (-X)Y(-X) fordi det er slik S'ene er definert, og det er viktig at de er definert konsekvent\n",
    "\n",
    "T1 = exp6(S1, -thetas[0])\n",
    "T2 = exp6(S2, -thetas[1])\n",
    "T3 = exp6(S3, -thetas[2])\n",
    "\n",
    "\n",
    "R = (T3@T2@T1@T_sd@np.linalg.inv(M)) #R er den resterende rotasjonen som trengs fra de tre siste leddene, definert i s\n",
    "\n",
    "thetas[3] = -atan2(R[1,0], -R[2,0]) #minus foran theta4 og 6 fordi de er i minus x retning\n",
    "thetas[4] = atan2(sqrt(1-R[0,0]**2), R[0,0])\n",
    "thetas[5] = -atan2(R[0,1], R[0,2])"
   ]
  },
  {
   "cell_type": "code",
   "execution_count": 1233,
   "metadata": {},
   "outputs": [
    {
     "output_type": "stream",
     "name": "stdout",
     "text": [
      "[-3.1416 -0.0701 -1.3775  3.1416  0.1232  3.1416] [ 0.      0.     -1.5708  0.      0.      3.1416]\n(array([-0.0005,  0.    , -1.5708,  1.067 ,  0.    ,  2.0751]), True)\n"
     ]
    },
    {
     "output_type": "execute_result",
     "data": {
      "text/plain": [
       "(array([[   1.,    0.,   -0.,  -10.],\n",
       "        [   0.,   -1.,    0.,    0.],\n",
       "        [  -0.,   -0.,   -1., 1355.],\n",
       "        [   0.,    0.,    0.,    1.]]),\n",
       " array([[   1.,    0.,   -0.,  -10.],\n",
       "        [   0.,   -1.,   -0.,    0.],\n",
       "        [  -0.,    0.,   -1., 1355.],\n",
       "        [   0.,    0.,    0.,    1.]]))"
      ]
     },
     "metadata": {},
     "execution_count": 1233
    }
   ],
   "source": [
    "#testing av analytisk løsning:\n",
    "thetas_num = np.zeros(6)\n",
    "thetas_deg = np.zeros(6)\n",
    "for i in range(0,6):\n",
    "    thetas_num[i] = N(thetas[i])\n",
    "    thetas_deg[i] = np.rad2deg(thetas_num[i])\n",
    "\n",
    "#print(thetas_deg, np.rad2deg(thetas_gen))\n",
    "print(thetas_num, thetas_gen)\n",
    "\n",
    "T_thetas = mr.FKinSpace(M,Slist,thetas_num)\n",
    "P_reached = PsFromTsd(T_thetas)\n",
    "#print(P_reached, P_s)\n",
    "np.set_printoptions(precision=4)\n",
    "\n",
    "fk_test = exp6(S4,thetas_num[3])@exp6(S5,thetas_num[4])@exp6(S6,thetas_num[5])@M\n",
    "R_test = rotX(thetas_num[3])@rotY(thetas_num[4])@rotX(thetas_num[5]) \n",
    "\n",
    "thetas_calc = mr.IKinSpace(Slist,M,T_sd,[0,0,1,3,0,0],0.01,0.01)\n",
    "#for i in i range(0,6)\n",
    "  #  thetas_calc\n",
    "print(thetas_calc)\n",
    "\n",
    "T_sd, T_thetas"
   ]
  },
  {
   "cell_type": "code",
   "execution_count": 1234,
   "metadata": {},
   "outputs": [
    {
     "output_type": "stream",
     "name": "stdout",
     "text": [
      "[[   1.    0.   -0.  -10.]\n [   0.   -1.    0.    0.]\n [  -0.   -0.   -1. 1355.]\n [   0.    0.    0.    1.]]\n[[  0   0  -1 525]\n [  0   1   0   0]\n [  1   0   0 890]\n [  0   0   0   1]]\n[[   1.    0.   -0.  -10.]\n [   0.   -1.    0.    0.]\n [  -0.   -0.   -1. 1355.]\n [   0.    0.    0.    1.]]\n"
     ]
    },
    {
     "output_type": "execute_result",
     "data": {
      "text/plain": [
       "⎛⎡3.74939945665464e-33          -1.0          6.12323399573677e-17  0⎤  ⎡1.110\n",
       "⎜⎢                                                                   ⎥  ⎢     \n",
       "⎜⎢6.12323399573677e-17  6.12323399573677e-17          1.0           0⎥  ⎢     \n",
       "⎜⎢                                                                   ⎥, ⎢     \n",
       "⎜⎢        -1.0                   0            6.12323399573677e-17  0⎥  ⎢-1.11\n",
       "⎜⎢                                                                   ⎥  ⎢     \n",
       "⎝⎣         0                     0                     0            1⎦  ⎣     \n",
       "\n",
       "22302462516e-16            0                     1            -445.0⎤⎞\n",
       "                                                                    ⎥⎟\n",
       "    -1            1.11022302462516e-16  1.11022302462516e-16  445.0 ⎥⎟\n",
       "                                                                    ⎥⎟\n",
       "022302462516e-16           -1           1.23259516440783e-32  890.0 ⎥⎟\n",
       "                                                                    ⎥⎟\n",
       "     0                     0                     0              1   ⎦⎠"
      ],
      "text/latex": "$\\displaystyle \\left( \\left[\\begin{matrix}3.74939945665464 \\cdot 10^{-33} & -1.0 & 6.12323399573677 \\cdot 10^{-17} & 0\\\\6.12323399573677 \\cdot 10^{-17} & 6.12323399573677 \\cdot 10^{-17} & 1.0 & 0\\\\-1.0 & 0 & 6.12323399573677 \\cdot 10^{-17} & 0\\\\0 & 0 & 0 & 1\\end{matrix}\\right], \\  \\left[\\begin{matrix}1.11022302462516 \\cdot 10^{-16} & 0 & 1 & -445.0\\\\-1 & 1.11022302462516 \\cdot 10^{-16} & 1.11022302462516 \\cdot 10^{-16} & 445.0\\\\-1.11022302462516 \\cdot 10^{-16} & -1 & 1.23259516440783 \\cdot 10^{-32} & 890.0\\\\0 & 0 & 0 & 1\\end{matrix}\\right]\\right)$"
     },
     "metadata": {},
     "execution_count": 1234
    }
   ],
   "source": [
    "sy = np.array([0,1,0,0,0,0])\n",
    "sz = np.array([0,0,1,0,0,0])\n",
    "T1 = exp6(S1, thetas[0])\n",
    "T2 = exp6(S2, thetas[1])\n",
    "T3 = exp6(S3, thetas[2])\n",
    "\n",
    "print(T_sd)\n",
    "\n",
    "\n",
    "fk_test = exp6(S4,np.pi/2)@exp6(S5, np.pi/2)\n",
    "R_test = rotZ(np.pi/2)@rotY(np.pi/2)\n",
    "print(M)\n",
    "print(T_sd)\n",
    "\n",
    "R_test, fk_test\n"
   ]
  },
  {
   "cell_type": "code",
   "execution_count": null,
   "metadata": {},
   "outputs": [],
   "source": []
  }
 ]
}