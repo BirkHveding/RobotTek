{
 "metadata": {
  "language_info": {
   "codemirror_mode": {
    "name": "ipython",
    "version": 3
   },
   "file_extension": ".py",
   "mimetype": "text/x-python",
   "name": "python",
   "nbconvert_exporter": "python",
   "pygments_lexer": "ipython3",
   "version": 3
  },
  "orig_nbformat": 2
 },
 "nbformat": 4,
 "nbformat_minor": 2,
 "cells": [
  {
   "cell_type": "code",
   "execution_count": null,
   "metadata": {},
   "outputs": [],
   "source": [
    "import modern_robotics as mr\n",
    "import sympy as sp\n",
    "from sympy import*\n",
    "from sympy.physics.mechanics import dynamicsymbols, mechanics_printing\n",
    "mechanics_printing()"
   ]
  },
  {
   "cell_type": "code",
   "execution_count": null,
   "metadata": {},
   "outputs": [],
   "source": [
    "def T_sdToWristPos(T_sd):\n",
    "    #T_sd definert i s, d=desired. Gir posisjonen vi vil ha end-effector i, gitt i s, og rotasjonen vi vil gi end-effectoren, også gitt i s.\n",
    "    #s er plassert nederst på roboten, altså ikke som i DH\n",
    "    #M er definert ut i fra DH\n",
    "    T_db = np.array([[0,0,-1,0],\n",
    "                  [0,1,0,0],\n",
    "                  [1,0,0,0],\n",
    "                  [0,0,0,1]])\n",
    "    #B_rot brukes til å gi T_sd i body frame\n",
    "    T_sb = T_sd@T_db\n",
    "    P_b = np.array([0,0,-80,1])\n",
    "    P_s = T_sb*P_b\n",
    "    \n",
    "    B_d = B_rot@T_sd\n",
    "    \n",
    "\n",
    "\n",
    "\n",
    "    "
   ]
  }
 ]
}