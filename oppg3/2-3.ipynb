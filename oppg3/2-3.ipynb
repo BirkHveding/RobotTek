{
 "metadata": {
  "language_info": {
   "codemirror_mode": {
    "name": "ipython",
    "version": 3
   },
   "file_extension": ".py",
   "mimetype": "text/x-python",
   "name": "python",
   "nbconvert_exporter": "python",
   "pygments_lexer": "ipython3",
   "version": "3.8.11-final"
  },
  "orig_nbformat": 2,
  "kernelspec": {
   "name": "python3",
   "display_name": "Python 3.8.11 64-bit ('Py38': conda)",
   "metadata": {
    "interpreter": {
     "hash": "c59555f908daf203107fb62fabdd23083d24d776055fcdd77b1f4aca8a172ece"
    }
   }
  }
 },
 "nbformat": 4,
 "nbformat_minor": 2,
 "cells": [
  {
   "cell_type": "code",
   "execution_count": 630,
   "metadata": {},
   "outputs": [],
   "source": [
    "import modern_robotics as mr\n",
    "import numpy as np\n",
    "import sympy as sp\n",
    "from sympy import*\n",
    "from sympy.physics.mechanics import dynamicsymbols, mechanics_printing\n",
    "mechanics_printing()"
   ]
  },
  {
   "cell_type": "code",
   "execution_count": 631,
   "metadata": {},
   "outputs": [],
   "source": [
    "def PsFromTsd(T_sd):\n",
    "    #T_sd basert i s, d=desired. Gir konfigurasjonen vi vil ha end-effector framen, B, i.\n",
    "    #B, og derav og M, er lik som i DH\n",
    "    #s er plassert nederst på roboten med positiv z oppover, altså ikke som i DH. Bør kanskje endres til å være lik DH \n",
    "    #T_sb = np.array([[0,0,-1,0],\n",
    "    #                [0,1,0,0],\n",
    "    #                 [1,0,0,0],\n",
    "    #                 [0,0,0,1]])\n",
    "    #T_sb = T_sd@T_db\n",
    "    P_d = np.array([0,0,80,1])\n",
    "    P_s = T_sd@P_d\n",
    "\n",
    "    return P_s\n",
    "\n",
    "def exp3(omega, theta):\n",
    "    omega = skew(omega)\n",
    "    R = sp.eye(3) + sp.sin(theta) * omega + (1 - sp.cos(theta)) * omega * omega\n",
    "    return R\n",
    "\n",
    "def skew(v):\n",
    "    return Matrix([[0, -v[2], v[1]],\n",
    "                    [v[2], 0, -v[0]],\n",
    "                    [-v[1], v[0], 0]])\n",
    "                    \n",
    "def exp6(twist, theta):\n",
    "    omega = skew(twist[:3])\n",
    "    v = Matrix(twist[3:])\n",
    "    T = eye(4)\n",
    "    T[:3,:3] = exp3(twist[:3], theta)\n",
    "    T[:3,3] = (eye(3) * theta + (1 - cos(theta)) * omega +\n",
    "              (theta-sin(theta)) * omega * omega) * v\n",
    "    return T\n",
    "\n",
    "\n",
    "def rotX(alfa_im1):\n",
    "    Rx = sp.eye(4)\n",
    "    Rx[1,1] =    sp.cos(alfa_im1)\n",
    "    Rx[1,2] =   -sp.sin(alfa_im1)\n",
    "    Rx[2,1] =    sp.sin(alfa_im1)\n",
    "    Rx[2,2] =    sp.cos(alfa_im1)\n",
    "    return Rx\n",
    "\n",
    "def rotZ(alfa_im1):\n",
    "    Rz = sp.eye(4)\n",
    "    Rz[0,0] =    sp.cos(alfa_im1)\n",
    "    Rz[0,1] =   -sp.sin(alfa_im1)\n",
    "    Rz[1,0] =    sp.sin(alfa_im1)\n",
    "    Rz[1,1] =    sp.cos(alfa_im1)\n",
    "    return Rz\n",
    "\n",
    "def rotY(alfa_im1):\n",
    "    Ry = sp.eye(4)\n",
    "    Ry[0,0] =    sp.cos(alfa_im1)\n",
    "    Ry[0,2] =   sp.sin(alfa_im1)\n",
    "    Ry[2,0] =    -sp.sin(alfa_im1)\n",
    "    Ry[2,2] =    sp.cos(alfa_im1)\n",
    "    return Ry\n",
    "\n",
    "def eulerZYZ(R):\n",
    "    thetas = []\n",
    "    thetas[0] = atan2(-round(R[2,1],6), round(R[2,0],6)+0.000001)\n",
    "    thetas[1] = atan2(round(sqrt(R[2,0]**2 + R[2,1]**2),6), round(R[2,2],6)+0.000001)\n",
    "    thetas[2] = atan2(round(R[1,2],6), round(R[0,2],6)+0.000001)\n",
    "\n",
    "    \n"
   ]
  },
  {
   "cell_type": "code",
   "execution_count": 681,
   "metadata": {},
   "outputs": [
    {
     "output_type": "stream",
     "name": "stdout",
     "text": [
      "[[   0    0    0   -1    0   -1]\n [   0    1    1    0    1    0]\n [  -1    0    0    0    0    0]\n [   0 -400 -855    0 -890    0]\n [   0    0    0 -890    0 -890]\n [   0   25   25    0  445    0]]\n"
     ]
    }
   ],
   "source": [
    "S1 = np.array([0,0,-1,0,0,0])\n",
    "S2 = np.array([0,1,0,-400,0,25])\n",
    "S3 = np.array([0,1,0,-855,0,25])\n",
    "S4 = np.array([-1,0,0,0,-890,0])\n",
    "S5 = np.array([0,1,0,-890,0,445])\n",
    "S6 = np.array([-1,0,0,0,-890,0])\n",
    "Slist = np.array([S1,S2,S3,S4,S5,S6]).T\n",
    "print(Slist)\n",
    "\n",
    "M = np.array([[0,0,-1,525],\n",
    "              [0,1,0,0],\n",
    "              [1,0,0,890],\n",
    "              [0,0,0,1]])\n",
    "\n",
    "thetas = [0,0,0,0,0,0]"
   ]
  },
  {
   "cell_type": "code",
   "execution_count": 703,
   "metadata": {},
   "outputs": [
    {
     "output_type": "stream",
     "name": "stdout",
     "text": [
      "T_sd\n [[  0.0998  -0.995   -0.01   445.8   ]\n [  0.5384   0.0456   0.8414 -67.3143]\n [ -0.8367  -0.0894   0.5403 846.778 ]\n [  0.       0.       0.       1.    ]]\nPs [445.  -0. 890.   1.]\natan2 arg: -1.9895196601282805e-13 444.99999999999994\n4.47083069691748e-16 0.0\nP_merket: [445.  -0. 490.]\nbeta: 1.6539375586833374\npsi: 0.08314123188844062\nphi: 0.862170054667226\nalpha 0.7086262721276707\nthat2 -4.44089209850063e-16\nR[2,1], R[2,0] -0.0893828642709648 -0.540275290977972\n4.47083069691748e-16\n-4.44089209850063e-16\n-2.22044604925031e-16\n1.38747660549498\n2.56207678538317\n6.11923088438148\n"
     ]
    }
   ],
   "source": [
    "\n",
    "#OPPGAVE 3.2\n",
    "\n",
    "#Her endres T_sd for å teste andre gyldige konfigurasjoner:\n",
    "#T_sd = M\n",
    "thetas_gen = np.array([0,0,0,1,np.pi/2-0.01,np.pi/2-0.1])\n",
    "T_sd = mr.FKinSpace(M,Slist,thetas_gen)\n",
    "print(\"T_sd\\n\", T_sd)\n",
    "\n",
    "P_s = PsFromTsd(T_sd)\n",
    "print(\"Ps\", P_s)\n",
    "\n",
    "#theta1\n",
    "print(\"atan2 arg:\",P_s[1], P_s[0])\n",
    "thetas[0] = -atan2(P_s[1],P_s[0]) #minus foran fordi vinkelen er definert andre vei\n",
    "print(N(thetas[0]), thetas_gen[0])\n",
    "\n",
    "#theta2 and theta3\n",
    "a = np.sqrt(420**2+35**2)\n",
    "c = 455\n",
    "P_merket = np.array([P_s[0],P_s[1],P_s[2]-400])\n",
    "b = np.sqrt((np.sqrt(P_merket[0]**2+P_merket[1]**2)-25)**2 + P_merket[2]**2)\n",
    "print(\"P_merket:\", P_merket)\n",
    "\n",
    "psi = np.arccos(420/a) #Se notatbok\n",
    "phi = atan2(P_merket[2], sqrt(P_merket[0]**2 + P_merket[1]**2)-25)\n",
    "\n",
    "alpha = np.arccos((b**2+c**2-a**2)/(2*b*c))\n",
    "beta = np.arccos((a**2+c**2-b**2)/(2*a*c))\n",
    "print(\"beta:\", beta)\n",
    "print(\"psi:\", psi)\n",
    "print(\"phi:\", N(phi))\n",
    "print(\"alpha\", alpha)\n",
    "\n",
    "thetas[1] = np.pi/2 - (alpha + phi)\n",
    "print(\"that2\", thetas[1])\n",
    "thetas[2] = np.pi/2 - (beta-psi)\n",
    "\n",
    "#theta4,5,6\n",
    "#R_d = T_sd[:3][:3]\n",
    "#Vi har ZYZ euler angles i stedet for ZYX som gitt i forelesning\n",
    "\n",
    "T1 = exp6(S1, -thetas[0])\n",
    "T2 = exp6(S2, -thetas[1])\n",
    "T3 = exp6(S3, -thetas[2])\n",
    "\n",
    "\n",
    "R = T3@T2@T1@T_sd@np.linalg.inv(M) #R er definert i space frame? \n",
    "#R = N(rotZ(2)@rotY(2)@rotZ(0))\n",
    "\n",
    "#print(N(R))\n",
    "\n",
    "#thetas[3] = atan2(round(R[1,0],6), round(R[0,0],6)+0.000001)\n",
    "thetas[3] = atan2(round(R[1,2],6), round(R[0,2],6)+0.000000001)\n",
    "\n",
    "\n",
    "#thetas[4] = atan2(round(-R[2,0],6), round(sqrt(R[0,0]**2 + R[1,0]**2),6))\n",
    "thetas[4] = atan2(round(sqrt(R[2,0]**2 + R[2,1]**2),6), round(R[2,2],6)+0.000000001)\n",
    "\n",
    "\n",
    "#thetas[5] = atan2(round(R[2,1],6), round(R[2,2],6)+0.000001)\n",
    "thetas[5] = np.pi + atan2(-R[2,1], R[2,0]) #+np.pi funker av en eller annen grunn\n",
    "\n",
    "print(\"R[2,1], R[2,0]\",R[2,1],R[2,0])\n",
    "\n",
    "\n",
    "for i in thetas:\n",
    "    print(N(i))"
   ]
  },
  {
   "cell_type": "code",
   "execution_count": 756,
   "metadata": {},
   "outputs": [
    {
     "output_type": "stream",
     "name": "stdout",
     "text": [
      "[  0.      -0.      -0.      79.4966 146.7962 350.6061] [ 0.      0.      0.     57.2958 89.427  84.2704]\n[ 0.     -0.     -0.      1.3875  2.5621  6.1192] [0.     0.     0.     1.     1.5608 1.4708]\n[445.   0. 890.   1.] [445.  -0. 890.   1.]\n"
     ]
    },
    {
     "output_type": "execute_result",
     "data": {
      "text/plain": [
       "(array([[  0.0998,  -0.995 ,  -0.01  , 445.8   ],\n",
       "        [  0.5384,   0.0456,   0.8414, -67.3143],\n",
       "        [ -0.8367,  -0.0894,   0.5403, 846.778 ],\n",
       "        [  0.    ,   0.    ,   0.    ,   1.    ]]),\n",
       " array([[  0.5403,   0.0894,   0.8367, 378.0618],\n",
       "        [ -0.8414,   0.0456,   0.5384, -43.0754],\n",
       "        [  0.01  ,  -0.995 ,   0.0998, 882.0138],\n",
       "        [  0.    ,   0.    ,   0.    ,   1.    ]]),\n",
       " Matrix([\n",
       " [0.0100004073161593,   -0.99495445154866, 0.0998280080789753, 0],\n",
       " [-0.841429026849547,  0.0455669676456226,  0.538442981414567, 0],\n",
       " [-0.540275100877817, -0.0893828328208938, -0.836727867689595, 0],\n",
       " [                 0,                   0,                  0, 1]]),\n",
       " Matrix([\n",
       " [ 0.540275100877817, 0.0893828328208938,  0.836727867689595,  378.061770584832],\n",
       " [-0.841429026849547, 0.0455669676456226,  0.538442981414567, -43.0754385131652],\n",
       " [0.0100004073161593,  -0.99495445154866, 0.0998280080789753,  882.013759353682],\n",
       " [                 0,                  0,                  0,                 1]]),\n",
       " Matrix([\n",
       " [0.00999983333416678,  -0.994954415484346, 0.0998284250175923,  351.702775900639],\n",
       " [ -0.841428911609268,  0.0455676934123557,  0.538443100081263, -104.778493406199],\n",
       " [ -0.540275290977972, -0.0893828642709648, -0.836727741582282,  1875.11019449343],\n",
       " [                  0,                   0,                  0,               1.0]]))"
      ]
     },
     "metadata": {},
     "execution_count": 756
    }
   ],
   "source": [
    "#testing av analytisk løsning:\n",
    "thetas_num = np.zeros(6)\n",
    "thetas_deg = np.zeros(6)\n",
    "for i in range(0,6):\n",
    "    thetas_num[i] = N(thetas[i])\n",
    "    thetas_deg[i] = np.rad2deg(thetas_num[i])\n",
    "\n",
    "print(thetas_deg, np.rad2deg(thetas_gen))\n",
    "print(thetas_num, thetas_gen)\n",
    "\n",
    "T_thetas = mr.FKinSpace(M,Slist,thetas_num)\n",
    "P_reached = PsFromTsd(T_thetas)\n",
    "print(P_reached, P_s)\n",
    "np.set_printoptions(precision=4)\n",
    "\n",
    "fk_test = exp6(S4,thetas_num[3])@exp6(S5,thetas_num[4])@exp6(S6,thetas_num[5])@M #Roterer M om S gitt i space frame\n",
    "R_test = rotZ(thetas_num[3])@rotY(thetas_num[4])@rotZ(thetas_num[5]) #Denne bør bli samme som R i cellen over. Det blir den, men POE med samme vinklene gir ikke riktig rotasjon. \n",
    "\n",
    "#R, R_test\n",
    "T_sd, T_thetas, R_test, fk_test, R\n"
   ]
  },
  {
   "cell_type": "code",
   "execution_count": 762,
   "metadata": {},
   "outputs": [
    {
     "output_type": "stream",
     "name": "stdout",
     "text": [
      "[[  0   0  -1 525]\n [  0   1   0   0]\n [  1   0   0 890]\n [  0   0   0   1]]\n[[  0.0998  -0.995   -0.01   445.8   ]\n [  0.5384   0.0456   0.8414 -67.3143]\n [ -0.8367  -0.0894   0.5403 846.778 ]\n [  0.       0.       0.       1.    ]]\n"
     ]
    },
    {
     "output_type": "execute_result",
     "data": {
      "text/plain": [
       "⎛⎡3.85850729734381e-16            1.0           6.66133814775094e-16    -365.0\n",
       "⎜⎢                                                                            \n",
       "⎜⎢         1.0           -3.85850729734381e-16  -2.97817150735124e-31  1.63185\n",
       "⎜⎢                                                                            \n",
       "⎜⎢-4.07889322034067e-32  6.66133814775094e-16           -1.0                  \n",
       "⎜⎢                                                                            \n",
       "⎝⎣          0                      0                      0                   \n",
       "\n",
       "00000000001  ⎤  ⎡         0                     0            -1.0  525.0⎤⎞\n",
       "             ⎥  ⎢                                                       ⎥⎟\n",
       "320437488e-13⎥  ⎢        1.0           1.11022302462516e-16   0      0  ⎥⎟\n",
       "             ⎥, ⎢                                                       ⎥⎟\n",
       "1415.0       ⎥  ⎢1.11022302462516e-16          -1.0           0    890.0⎥⎟\n",
       "             ⎥  ⎢                                                       ⎥⎟\n",
       " 1.0         ⎦  ⎣         0                     0             0     1.0 ⎦⎠"
      ],
      "text/latex": "$\\displaystyle \\left( \\left[\\begin{matrix}3.85850729734381 \\cdot 10^{-16} & 1.0 & 6.66133814775094 \\cdot 10^{-16} & -365.000000000001\\\\1.0 & -3.85850729734381 \\cdot 10^{-16} & -2.97817150735124 \\cdot 10^{-31} & 1.63185320437488 \\cdot 10^{-13}\\\\-4.07889322034067 \\cdot 10^{-32} & 6.66133814775094 \\cdot 10^{-16} & -1.0 & 1415.0\\\\0 & 0 & 0 & 1.0\\end{matrix}\\right], \\  \\left[\\begin{matrix}0 & 0 & -1.0 & 525.0\\\\1.0 & 1.11022302462516 \\cdot 10^{-16} & 0 & 0\\\\1.11022302462516 \\cdot 10^{-16} & -1.0 & 0 & 890.0\\\\0 & 0 & 0 & 1.0\\end{matrix}\\right]\\right)$"
     },
     "metadata": {},
     "execution_count": 762
    }
   ],
   "source": [
    "sy = np.array([0,1,0,0,0,0])\n",
    "sz = np.array([0,0,1,0,0,0])\n",
    "T1 = exp6(S1, thetas[0])\n",
    "T2 = exp6(S2, thetas[1])\n",
    "T3 = exp6(S3, thetas[2])\n",
    "\n",
    "R_test2 = T1@T2@T3@M@R_test\n",
    "\n",
    "\n",
    "\n",
    "\n",
    "fk_test = exp6(S4,np.pi/2)@M\n",
    "R_test = M@rotZ(np.pi/2)\n",
    "print(M)\n",
    "print(T_sd)\n",
    "\n",
    "N(R_test2), N(fk_test)"
   ]
  },
  {
   "cell_type": "code",
   "execution_count": null,
   "metadata": {},
   "outputs": [],
   "source": []
  }
 ]
}