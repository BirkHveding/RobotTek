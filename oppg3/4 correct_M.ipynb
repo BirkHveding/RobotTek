{
 "cells": [
  {
   "cell_type": "code",
   "execution_count": 13,
   "metadata": {},
   "outputs": [],
   "source": [
    "import numpy as np\n",
    "import sympy as sp\n",
    "import modern_robotics as mr\n",
    "from Oppg2.Utilities.RobotClass import *\n",
    "from Oppg2.Utilities.kukaKinematics import Mlist, Slist"
   ]
  },
  {
   "cell_type": "code",
   "execution_count": 61,
   "metadata": {},
   "outputs": [],
   "source": [
    "\n",
    "KUKup = Robot( Mlist, ['z', '-z', 'x', 'x', 'z','z'])\n",
    "KUKdown = Robot( Mlist, ['z', '-z', 'x', 'x', 'z','x'])"
   ]
  },
  {
   "cell_type": "code",
   "execution_count": 62,
   "metadata": {},
   "outputs": [
    {
     "data": {
      "application/vnd.jupyter.widget-view+json": {
       "model_id": "be1c284e07404be291ad6f6135c25f08",
       "version_major": 2,
       "version_minor": 0
      },
      "text/plain": [
       "WebVisualizer(window_uid='window_31')"
      ]
     },
     "metadata": {},
     "output_type": "display_data"
    },
    {
     "data": {
      "application/vnd.jupyter.widget-view+json": {
       "model_id": "2dcfc55743404333903c848c89005061",
       "version_major": 2,
       "version_minor": 0
      },
      "text/plain": [
       "WebVisualizer(window_uid='window_32')"
      ]
     },
     "metadata": {},
     "output_type": "display_data"
    }
   ],
   "source": [
    "#Kan finne S_list fra M!\n",
    "# KUK.draw_robot()\n",
    "# KUK.allToOrigin()\n",
    "# KUK.draw_robot()\n",
    "KUKdown.links[0].set_colour([1,0,0])\n",
    "KUKdown.links[1].set_colour([0,1,0])\n",
    "\n",
    "# KUKdown.transform(S_list, [-1.1416,  1.038 , -4.2855, -1.5708,  1.5708, -0.2475])\n",
    "# KUKup.draw_robot()\n",
    "# KUKdown.draw_robot()\n",
    "# array([-1.1416, -1.3258,  1.3102, -1.5708,  1.5708,  2.9844]),\n",
    "#  array([-1.1416,  1.038 , -4.2855, -1.5708,  1.5708, -0.2475])\n",
    "\n",
    "# KUKup.transform(S_list, [-1.1416, -1.3258,  1.3102, -1.5708,  1.5708,  2.9844])\n",
    "KUKup.draw_robot()\n"
   ]
  },
  {
   "cell_type": "code",
   "execution_count": null,
   "metadata": {},
   "outputs": [],
   "source": [
    "array([ -65.4084,   59.4744, -245.5405,  -90.    ,   90.    ,  -14.1788])\n",
    "array([-65.4084, -75.9631,  75.0678, -90.    ,  90.    , 170.992 ])"
   ]
  }
 ],
 "metadata": {
  "interpreter": {
   "hash": "f53ade0e91c5a7960987437a5ba96562eb04763816e0c2241e452b900f4537a3"
  },
  "kernelspec": {
   "display_name": "Python 3.8.12 64-bit ('RT3': conda)",
   "language": "python",
   "name": "python3"
  },
  "language_info": {
   "codemirror_mode": {
    "name": "ipython",
    "version": 3
   },
   "file_extension": ".py",
   "mimetype": "text/x-python",
   "name": "python",
   "nbconvert_exporter": "python",
   "pygments_lexer": "ipython3",
   "version": "3.8.12"
  },
  "orig_nbformat": 4
 },
 "nbformat": 4,
 "nbformat_minor": 2
}
