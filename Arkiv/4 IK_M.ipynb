{
 "cells": [
  {
   "cell_type": "code",
   "execution_count": 2,
   "metadata": {},
   "outputs": [
    {
     "name": "stdout",
     "output_type": "stream",
     "text": [
      "Jupyter environment detected. Enabling Open3D WebVisualizer.\n",
      "[Open3D INFO] WebRTC GUI backend enabled.\n",
      "[Open3D INFO] WebRTCWindowSystem: HTTP handshake server disabled.\n",
      "[Open3D INFO] Resetting default logger to print to terminal.\n"
     ]
    }
   ],
   "source": [
    "import open3d as o3d\n",
    "import numpy as np\n",
    "import sympy as sp\n",
    "import modern_robotics as mr"
   ]
  },
  {
   "cell_type": "code",
   "execution_count": 3,
   "metadata": {},
   "outputs": [],
   "source": [
    "def Ry_sym(theta):\n",
    "    ct = sp.cos(theta)\n",
    "    st = sp.sin(theta)\n",
    "    R = sp.Matrix([[ct, 0.0, st], [0.0, 1.0, 0.0], [-st, 0, ct]])\n",
    "    return R\n",
    "\n",
    "def Rx_sym(theta):\n",
    "    ct = sp.cos(theta)\n",
    "    st = sp.sin(theta)\n",
    "    R = sp.Matrix([[1.0, 0.0, 0.0], [0.0, ct, -st], [0.0, st, ct]])\n",
    "    return R\n",
    "\n",
    "def skew(v):\n",
    "    return sp.Matrix([[0, -v[2], v[1]],\n",
    "                    [v[2], 0, -v[0]],\n",
    "                    [-v[1], v[0], 0]])\n",
    "                    \n",
    "def exp3(omega, theta):\n",
    "    omega = skew(omega)\n",
    "    R = sp.eye(3) + sp.sin(theta) * omega + (1 - sp.cos(theta)) * omega * omega\n",
    "    return R\n",
    "\n",
    "def exp6(twist, theta):\n",
    "    omega = skew(twist[:3])\n",
    "    v = sp.Matrix(twist[3:])\n",
    "    T = sp.eye(4)\n",
    "    T[:3,:3] = exp3(twist[:3], theta)\n",
    "    T[:3,3] = (sp.eye(3) * theta + (1 - sp.cos(theta)) * omega +\n",
    "              (theta-sp.sin(theta)) * omega * omega) * v\n",
    "    return T"
   ]
  },
  {
   "cell_type": "code",
   "execution_count": 4,
   "metadata": {},
   "outputs": [],
   "source": [
    "def calc_v(omega_mat, q_mat):\n",
    "    #omega_mat and q_mat of type matrix with q_i & omega_i as columns\n",
    "    #Returns v_mat in same type/format\n",
    "    assert len(omega_mat) == len(q_mat)\n",
    "    \n",
    "    n_joints = omega_mat.shape[1] \n",
    "    v_mat = sp.zeros(3, n_joints)      \n",
    "\n",
    "    for i in range(n_joints):\n",
    "        v_mat[:,i] = (-skew(omega_mat.col(i)) * q_mat.col(i))\n",
    "    return v_mat\n",
    "\n",
    "def Slist_maker(omega_mat, q_mat): #omega_mat and q_mat of type matrix with q_i & omega_i as columns\n",
    "    #Returns v_mat in same type/format\n",
    "    v_mat = calc_v(omega_mat, q_mat)    \n",
    "    n_joints = omega_mat.shape[1]\n",
    "    Slist = sp.zeros(6, n_joints)\n",
    "    \n",
    "    for i in range(n_joints):\n",
    "        Slist[:3,i] = omega_mat[:,i]\n",
    "        Slist[3:,i] = v_mat[:,i]\n",
    "    return Slist"
   ]
  },
  {
   "cell_type": "code",
   "execution_count": 5,
   "metadata": {},
   "outputs": [
    {
     "data": {
      "text/latex": [
       "$\\displaystyle \\left[\\begin{matrix}0 & 0 & 0 & -1 & 0 & -1\\\\0 & 1 & 1 & 0 & 1 & 0\\\\-1 & 0 & 0 & 0 & 0 & 0\\\\0 & -400 & -855 & 0 & -890 & 0\\\\0 & 0 & 0 & -890 & 0 & -890\\\\0 & 25 & 25 & 0 & 445 & 0\\end{matrix}\\right]$"
      ],
      "text/plain": [
       "Matrix([\n",
       "[ 0,    0,    0,   -1,    0,   -1],\n",
       "[ 0,    1,    1,    0,    1,    0],\n",
       "[-1,    0,    0,    0,    0,    0],\n",
       "[ 0, -400, -855,    0, -890,    0],\n",
       "[ 0,    0,    0, -890,    0, -890],\n",
       "[ 0,   25,   25,    0,  445,    0]])"
      ]
     },
     "execution_count": 5,
     "metadata": {},
     "output_type": "execute_result"
    }
   ],
   "source": [
    "M1=sp.Matrix([[0, 1, 0, 0],\n",
    "             [1, 0, 0, 0],\n",
    "             [0, 0, -1, 200], \n",
    "             [0, 0, 0, 1]])\n",
    "\n",
    "M2=sp.Matrix([[0, 1, 0, 25],\n",
    "             [0, 0, 1, 0],\n",
    "             [1, 0, 0, 400],\n",
    "             [0, 0, 0, 1]])\n",
    "\n",
    "M3=sp.Matrix([[1, 0, 0, 25],\n",
    "             [0, 0, 1, 0],\n",
    "             [0, -1, 0, 855],\n",
    "             [0, 0, 0, 1]])\n",
    "             \n",
    "M4=sp.Matrix([[0, 0, -1, 25+420],\n",
    "             [0, 1, 0, 0],\n",
    "             [1, 0, 0, 400+455+35],\n",
    "             [0, 0, 0, 1]])\n",
    "M5=sp.Matrix([[1, 0, 0, 25+420],\n",
    "             [0, 0, 1, 0],\n",
    "             [0, -1, 0, 400+455+35],\n",
    "             [0, 0, 0, 1]])\n",
    "M6=sp.Matrix([[0, 0, -1, 525], \n",
    "             [0, 1, 0, 0],\n",
    "             [1, 0, 0, 400+455+35],\n",
    "             [0, 0, 0, 1]])\n",
    "Mlist = np.array([M1,M2,M3,M4,M5,M6], dtype=float)\n",
    "\n",
    "om = sp.zeros(3,6)\n",
    "om1 = om[:, 0] = M1[:3, 2]\n",
    "om2 = om[:, 1] = M2[:3, 2]\n",
    "om3 = om[:, 2] = M3[:3, 2]\n",
    "om4 = om[:, 3] = M4[:3, 2]\n",
    "om5 = om[:, 4] = M5[:3, 2]\n",
    "om6 = om[:, 5] = M6[:3, 2]\n",
    "q = sp.zeros(3,6)\n",
    "q1 = q[:,0] = M1[:3, 3]\n",
    "q2 = q[:,1] = M2[:3, 3]\n",
    "q3 = q[:,2] = M3[:3, 3]\n",
    "q4 = q[:,3] = M4[:3, 3]\n",
    "q5 = q[:,4] = M5[:3, 3]\n",
    "q6 = q[:,5] = M6[:3, 3]\n",
    "\n",
    "S_list = Slist_maker(om,q)\n",
    "S_list"
   ]
  },
  {
   "cell_type": "code",
   "execution_count": 6,
   "metadata": {},
   "outputs": [],
   "source": [
    "# class Robot:\n",
    "#     #Parameters: \n",
    "#     # Mlist: Pose of all joints in zero-config as homogenous transformation\n",
    "#     # link_orient: orientation of link in next joints frame (including ground to Link1) ex: ['z', '-z', 'x', 'x', 'z','x']\n",
    "#     def __init__(self, Mlist, link_orient='x'):\n",
    "#         self.robotObjects = [o3d.geometry.TriangleMesh.create_coordinate_frame(size=75)]\n",
    "#         self.current_config = Mlist\n",
    "#         self.Mlist = Mlist\n",
    "#         self.num_joints = len(Mlist)\n",
    "#         self.num_links = len(Mlist)\n",
    "#         self.length_links = self.findLinkLengths(Mlist)\n",
    "#         self.link_orient = ['x']*(self.num_links+1) if link_orient == 'x' else link_orient #link attached to preceeding joints x-axis by default\n",
    "\n",
    "#         self.joints = []  # Of class Joint\n",
    "#         self.links = []  # Of class Link\n",
    "#         self.make_robot_objects()  # create all objects of robot (links, frames, joints)\n",
    "#         self.update_mesh_list()\n",
    "#         self.__transform(Mlist) # Transforms all objects from {s} to zero-config\n",
    "\n",
    "# # Calculates link lengths based on M\n",
    "#     def findLinkLengths(self, Mlist):\n",
    "#         linkLengths = np.zeros(self.num_links)\n",
    "\n",
    "#         for i in range(self.num_links):\n",
    "#             p = Mlist[i][:3, 3]\n",
    "#             p_pre = np.array([0, 0, 0]) if i == 0 else Mlist[i-1][:3, 3] #1. link from ground ([0,0,0]) to 1. joint\n",
    "#             linkLengths[i] = np.linalg.norm(p_pre-p)\n",
    "#             linkLengths[linkLengths <= 0] = 0.1 # cant have zero-length links because of transformation logic\n",
    "#         return linkLengths\n",
    "\n",
    "# # creates all o3d-objects of the robot in {s}\n",
    "#     def make_robot_objects(self):\n",
    "#         for i in range(self.num_joints):\n",
    "#             self.joints.append(Joint())\n",
    "#         for i in range(self.num_links):\n",
    "#             self.links.append(Link(self.length_links[i], self.link_orient[i]))\n",
    "\n",
    "#     def update_mesh_list(self):\n",
    "#         for Joint in self.joints:\n",
    "#             self.robotObjects.append(Joint.joint)\n",
    "#             self.robotObjects.append(Joint.coord)\n",
    "#         for Link in self.links:\n",
    "#             self.robotObjects.append(Link.link)\n",
    "\n",
    "#     def allToOrigin(self):  # Sends all objects to Origin\n",
    "#         T_origin = []\n",
    "#         for T in self.current_config:\n",
    "#             T_origin.append(mr.TransInv(T))\n",
    "#         self.__transform(T_origin)\n",
    "#         return\n",
    "\n",
    "#     def transform(self, Slist, thetas):\n",
    "#         self.allToOrigin()\n",
    "#         T_list = []  # List to fill with T01,T02,T03...\n",
    "#         T = np.eye(4)\n",
    "#         for i in range(len(thetas)):\n",
    "#             T = T @ exp6(Slist[:, i], thetas[i])\n",
    "#             T_list.append(T*self.Mlist[i])\n",
    "#         self.__transform(T_list)\n",
    "#         self.current_config = T_list\n",
    "#         return\n",
    "\n",
    "#     # Moves all objects from {s} to config given by T_list\n",
    "#     def __transform(self, T_list):  # Private member function\n",
    "#         for i, J in enumerate(self.joints):\n",
    "#             J.transform(T_list[i])\n",
    "#         for i, L in enumerate(self.links):\n",
    "#             T_links = np.concatenate(([np.eye(4)], T_list[:-1])) #Transform links after joint\n",
    "#             L.transform(T_links[i])\n",
    "\n",
    "#     def draw_robot(self):  # Draws all o3d objects in robotObjects list\n",
    "#         draw(self.robotObjects)\n",
    "\n",
    "# #______________Joint Class_______________#\n",
    "# class Joint(Robot):\n",
    "#     def __init__(self):\n",
    "#         self.joint = o3d.geometry.TriangleMesh.create_cylinder(\n",
    "#             radius=10, height=30)\n",
    "#         self.coord = o3d.geometry.TriangleMesh.create_coordinate_frame(size=25)\n",
    "#         self.set_colour()\n",
    "\n",
    "#     def set_colour(self, colour=[0, 1, 0]):\n",
    "#         self.joint.paint_uniform_color(colour)\n",
    "\n",
    "#     def transform(self, T):\n",
    "#         self.joint = self.joint.transform(T)\n",
    "#         self.coord = self.coord.transform(T)\n",
    "\n",
    "# #_______________Link Class_________________#\n",
    "# class Link(Robot):\n",
    "#     def __init__(self, lenght, orient):\n",
    "#         self.lenght = lenght\n",
    "\n",
    "#         if (orient == 'x'):  # Defines link direction from preceeding joint\n",
    "#             self.link = o3d.geometry.TriangleMesh.create_cylinder(radius=1, height=self.lenght).rotate(\n",
    "#                 Ry_sym(np.pi/2)).translate(np.array([self.lenght/2, 0, 0]))\n",
    "#         elif (orient == 'y'):\n",
    "#             self.link = o3d.geometry.TriangleMesh.create_cylinder(radius=1, height=self.lenght).rotate(\n",
    "#                 Rx_sym(-np.pi/2)).translate(np.array([0, self.lenght/2, 0]))\n",
    "#         elif (orient == 'z'):\n",
    "#             self.link = o3d.geometry.TriangleMesh.create_cylinder(\n",
    "#                 radius=1, height=self.lenght).translate(np.array([0, 0, self.lenght/2]))\n",
    "#         elif (orient == '-z'):\n",
    "#             self.link = o3d.geometry.TriangleMesh.create_cylinder(\n",
    "#                 radius=1, height=self.lenght).translate(np.array([0, 0, -self.lenght/2]))\n",
    "#         self.set_colour()\n",
    "\n",
    "#     def set_colour(self, colour=[0, 0, 1]):\n",
    "#         self.link.paint_uniform_color(colour)\n",
    "\n",
    "#     def transform(self, T):\n",
    "#         self.link = self.link.transform(T)\n"
   ]
  },
  {
   "cell_type": "code",
   "execution_count": 1,
   "metadata": {},
   "outputs": [
    {
     "ename": "ModuleNotFoundError",
     "evalue": "No module named 'Oppg2'",
     "output_type": "error",
     "traceback": [
      "\u001b[1;31m---------------------------------------------------------------------------\u001b[0m",
      "\u001b[1;31mModuleNotFoundError\u001b[0m                       Traceback (most recent call last)",
      "\u001b[1;32m~\\AppData\\Local\\Temp/ipykernel_13944/1649627612.py\u001b[0m in \u001b[0;36m<module>\u001b[1;34m\u001b[0m\n\u001b[1;32m----> 1\u001b[1;33m \u001b[1;32mfrom\u001b[0m \u001b[0mOppg2\u001b[0m\u001b[1;33m.\u001b[0m\u001b[0mUtilities\u001b[0m\u001b[1;33m.\u001b[0m\u001b[0mkukaKinematics\u001b[0m \u001b[1;32mimport\u001b[0m \u001b[0mMlist\u001b[0m\u001b[1;33m\u001b[0m\u001b[1;33m\u001b[0m\u001b[0m\n\u001b[0m",
      "\u001b[1;31mModuleNotFoundError\u001b[0m: No module named 'Oppg2'"
     ]
    }
   ],
   "source": [
    "\n"
   ]
  },
  {
   "cell_type": "code",
   "execution_count": 7,
   "metadata": {},
   "outputs": [],
   "source": [
    "KUKzero = Robot(Mlist, ['z', '-z', 'x', 'x', 'z','x'] )\n",
    "KUKup = Robot( Mlist, ['z', '-z', 'x', 'x', 'z','x'])\n",
    "KUKdown = Robot( Mlist, ['z', '-z', 'x', 'x', 'z','x'])"
   ]
  },
  {
   "cell_type": "code",
   "execution_count": 8,
   "metadata": {},
   "outputs": [
    {
     "data": {
      "application/vnd.jupyter.widget-view+json": {
       "model_id": "e4564a25103d41d49feb2c4a88573641",
       "version_major": 2,
       "version_minor": 0
      },
      "text/plain": [
       "WebVisualizer(window_uid='window_0')"
      ]
     },
     "metadata": {},
     "output_type": "display_data"
    },
    {
     "data": {
      "application/vnd.jupyter.widget-view+json": {
       "model_id": "9773755db3754495b03e4051c72373d4",
       "version_major": 2,
       "version_minor": 0
      },
      "text/plain": [
       "WebVisualizer(window_uid='window_1')"
      ]
     },
     "metadata": {},
     "output_type": "display_data"
    },
    {
     "data": {
      "application/vnd.jupyter.widget-view+json": {
       "model_id": "0704ae67c8a24f18b3f75c0bf8ed8201",
       "version_major": 2,
       "version_minor": 0
      },
      "text/plain": [
       "WebVisualizer(window_uid='window_2')"
      ]
     },
     "metadata": {},
     "output_type": "display_data"
    }
   ],
   "source": [
    "KUKdown.transform(S_list, [-1.1416,  1.038 , -4.2855, -1.5708,  1.5708, -0.2475])\n",
    "KUKup.transform(S_list, [-1.1416, -1.3258,  1.3102, -1.5708,  1.5708,  2.9844])\n",
    "\n",
    "KUKup.draw_robot()\n",
    "KUKdown.draw_robot()\n",
    "KUKzero.draw_robot()\n"
   ]
  },
  {
   "cell_type": "code",
   "execution_count": null,
   "metadata": {},
   "outputs": [],
   "source": []
  }
 ],
 "metadata": {
  "interpreter": {
   "hash": "f53ade0e91c5a7960987437a5ba96562eb04763816e0c2241e452b900f4537a3"
  },
  "kernelspec": {
   "display_name": "Python 3.8.12 64-bit ('RT3': conda)",
   "language": "python",
   "name": "python3"
  },
  "language_info": {
   "codemirror_mode": {
    "name": "ipython",
    "version": 3
   },
   "file_extension": ".py",
   "mimetype": "text/x-python",
   "name": "python",
   "nbconvert_exporter": "python",
   "pygments_lexer": "ipython3",
   "version": "3.8.12"
  },
  "orig_nbformat": 4
 },
 "nbformat": 4,
 "nbformat_minor": 2
}
