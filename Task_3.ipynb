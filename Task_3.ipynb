{
 "cells": [
  {
   "cell_type": "code",
   "execution_count": 2,
   "metadata": {},
   "outputs": [],
   "source": [
    "import modern_robotics as mr\n",
    "import numpy as np\n",
    "import sympy as sp\n",
    "from sympy.physics.mechanics import dynamicsymbols, mechanics_printing\n",
    "mechanics_printing()\n",
    "from Utilities.symbolicFunctions import *\n",
    "from Utilities.kukaKinematics import Slist, Mlist"
   ]
  },
  {
   "cell_type": "markdown",
   "metadata": {},
   "source": [
    "# Task 3\n",
    "## 3.2 \n",
    "### Develop and implement a solution for the analytic inverse kinematics for the Agilus robot."
   ]
  },
  {
   "cell_type": "code",
   "execution_count": 8,
   "metadata": {},
   "outputs": [
    {
     "name": "stdout",
     "output_type": "stream",
     "text": [
      "[[   0.27682   -0.81052   -0.51617  -18.96356]\n",
      " [  -0.16994   -0.56999    0.80389   29.534  ]\n",
      " [  -0.94578   -0.13482   -0.29552 1072.74583]\n",
      " [   0.         0.         0.         1.     ]] \n",
      "\n",
      " [[   0.27682   -0.81052   -0.51617  -60.2572 ]\n",
      " [  -0.16994   -0.56999    0.80389   93.84504]\n",
      " [  -0.94578   -0.13482   -0.29552 1049.10421]\n",
      " [   0.         0.         0.         1.     ]] \n",
      "\n",
      " [[   0.27682   -0.81052   -0.51617  -60.2572 ]\n",
      " [  -0.16994   -0.56999    0.80389   93.84504]\n",
      " [  -0.94578   -0.13482   -0.29552 1049.10421]\n",
      " [   0.         0.         0.         1.     ]]\n"
     ]
    }
   ],
   "source": [
    "np.set_printoptions(precision=5)\n",
    "np.set_printoptions(suppress=True)\n",
    "\n",
    "M = Mlist[5]\n",
    "\n",
    "#Thetas_gen can be modified to get a valid desired position T_sd\n",
    "thetas_gen = np.array([1,-1,-1.3,0,2,3])\n",
    "T_sd = mr.FKinSpace(M,Slist,thetas_gen)\n",
    "\n",
    "\n",
    "# Finding the thetas\n",
    "thetas_up, thetas_down = agilus_analytical_IK(Slist, M, T_sd)\n",
    "\n",
    "# Resulting end effector pose and Ps for elbow up:\n",
    "T_up = mr.FKinSpace(M,Slist,thetas_up)\n",
    "P_up = ps_from_Tsd(T_up)\n",
    "\n",
    "# And for elbow down:\n",
    "T_down = mr.FKinSpace(M,Slist,thetas_down)\n",
    "P_down = ps_from_Tsd(T_down)\n",
    "\n",
    "print(T_sd,'\\n\\n', T_up, '\\n\\n',T_down)"
   ]
  },
  {
   "cell_type": "markdown",
   "metadata": {},
   "source": [
    "## Task 3.3\n",
    "### Confirm that the solution of the analytical inverse kinematics from the previous point agrees with the solution from a numerical inverse kinematics solver.\n"
   ]
  },
  {
   "cell_type": "code",
   "execution_count": 4,
   "metadata": {},
   "outputs": [
    {
     "name": "stdout",
     "output_type": "stream",
     "text": [
      "\n",
      "Generated T_sd: \n",
      " [[   0.27682   -0.81052   -0.51617  -18.96356]\n",
      " [  -0.16994   -0.56999    0.80389   29.534  ]\n",
      " [  -0.94578   -0.13482   -0.29552 1072.74583]\n",
      " [   0.         0.         0.         1.     ]] \n",
      "Generating thetas: [ 1.  -1.  -1.3  0.   2.   3. ] \n",
      "\n",
      " Elbow up:  [-2.142 -2.132  1.539 -3.142  2.248  3.   ] \n",
      " Elbow down:  [-2.142 -0.745 -1.372 -3.142  0.725  3.   ] \n",
      " Numerical:  [-2.142 -2.22   1.476  0.    -2.097 -0.142] True\n",
      "\n",
      "Elbow down: \n",
      "Elbow down solution viable:  True \n",
      "\n",
      "\n",
      "Elbow up: \n",
      "Joint number:  5 is not within the limits\n",
      "Elbow down solution viable:  False \n",
      "\n"
     ]
    }
   ],
   "source": [
    "#Numerical solution\n",
    "thetas_num, found = mr.IKinSpace(Slist,M,T_sd,[-2,0,0,0,0,0],0.0001,0.0001)\n",
    "\n",
    "thetas_num_p = [0,0,0,0,0,0] #the post processed solution\n",
    "#Post process angles to be [-pi, pi]\n",
    "for i in range(0,6):\n",
    "    thetas_num_p[i] = thetas_num[i]%(2*np.pi)\n",
    "    if thetas_num_p[i]>np.pi:\n",
    "        thetas_num_p[i] = thetas_num_p[i]-2*np.pi\n",
    "\n",
    "print('\\nGenerated T_sd: \\n', T_sd, '\\nGenerating thetas:', thetas_gen, '\\n\\n Elbow up: ', np.round(thetas_up,3), '\\n Elbow down: ', np.round(thetas_down,3), '\\n Numerical: ', np.round(thetas_num_p,3), found)\n",
    "\n",
    "print(\"\\nElbow down: \")\n",
    "print(\"Elbow down solution viable: \", apply_joint_lim(jointLimits, thetas_down), \"\\n\")\n",
    "\n",
    "print(\"\\nElbow up: \")\n",
    "print(\"Elbow down solution viable: \", apply_joint_lim(jointLimits, thetas_up), \"\\n\")\n"
   ]
  },
  {
   "cell_type": "markdown",
   "metadata": {},
   "source": [
    "## Task 3.4\n",
    "### Using the developed analytic inverse kinematics formulation, visualize the Agilus robot in both elbow-up and elbow-down configurations for the same end-effector pose."
   ]
  },
  {
   "cell_type": "code",
   "execution_count": 5,
   "metadata": {},
   "outputs": [
    {
     "name": "stdout",
     "output_type": "stream",
     "text": [
      "Jupyter environment detected. Enabling Open3D WebVisualizer.\n",
      "[Open3D INFO] WebRTC GUI backend enabled.\n",
      "[Open3D INFO] WebRTCWindowSystem: HTTP handshake server disabled.\n",
      "[Open3D INFO] Resetting default logger to print to terminal.\n"
     ]
    }
   ],
   "source": [
    "from Utilities.RobotClass import * "
   ]
  },
  {
   "cell_type": "code",
   "execution_count": 6,
   "metadata": {},
   "outputs": [
    {
     "data": {
      "application/vnd.jupyter.widget-view+json": {
       "model_id": "3fcb1911ae87448fbe409317f97e2b09",
       "version_major": 2,
       "version_minor": 0
      },
      "text/plain": [
       "WebVisualizer(window_uid='window_0')"
      ]
     },
     "metadata": {},
     "output_type": "display_data"
    }
   ],
   "source": [
    "Kuka = Robot(Mlist, ['z', '-z', 'x', 'x', '-z','x']) #Initializes kuka-robot object in zero-configuration\n",
    "Kuka.draw_robot()"
   ]
  },
  {
   "cell_type": "code",
   "execution_count": 7,
   "metadata": {},
   "outputs": [
    {
     "data": {
      "application/vnd.jupyter.widget-view+json": {
       "model_id": "968e96556dfe4ffebba22b5943b47404",
       "version_major": 2,
       "version_minor": 0
      },
      "text/plain": [
       "WebVisualizer(window_uid='window_1')"
      ]
     },
     "metadata": {},
     "output_type": "display_data"
    },
    {
     "data": {
      "application/vnd.jupyter.widget-view+json": {
       "model_id": "ad7eb66503b34ae0856661c0b9db8f8e",
       "version_major": 2,
       "version_minor": 0
      },
      "text/plain": [
       "WebVisualizer(window_uid='window_2')"
      ]
     },
     "metadata": {},
     "output_type": "display_data"
    },
    {
     "name": "stdout",
     "output_type": "stream",
     "text": [
      "Both elbow up and elbow down config yields the same end-effector pose:  [ True  True  True]\n"
     ]
    }
   ],
   "source": [
    "Kuka.transform(Slist, thetas_down ) # Elbow DOWN\n",
    "pUp = np.array(Kuka.joints[5].coord.get_center()) #Get coordinates of {6} in elbow down \n",
    "Kuka.draw_robot()\n",
    "\n",
    "Kuka.transform(Slist, thetas_up ) # Elbow UP\n",
    "pDown = np.array(Kuka.joints[5].coord.get_center(),dtype=float)  #Get coordinates of {6} in elbow up\n",
    "Kuka.draw_robot()\n",
    "\n",
    "print(\"Both elbow up and elbow down config yields the same end-effector pose: \",pUp.round(4) == pDown.round(4))"
   ]
  },
  {
   "cell_type": "code",
   "execution_count": null,
   "metadata": {},
   "outputs": [],
   "source": []
  }
 ],
 "metadata": {
  "kernelspec": {
   "display_name": "Python 3.8.11 64-bit ('Py38': conda)",
   "metadata": {
    "interpreter": {
     "hash": "c59555f908daf203107fb62fabdd23083d24d776055fcdd77b1f4aca8a172ece"
    }
   },
   "name": "python3"
  },
  "language_info": {
   "codemirror_mode": {
    "name": "ipython",
    "version": 3
   },
   "file_extension": ".py",
   "mimetype": "text/x-python",
   "name": "python",
   "nbconvert_exporter": "python",
   "pygments_lexer": "ipython3",
   "version": "3.8.12"
  },
  "orig_nbformat": 2
 },
 "nbformat": 4,
 "nbformat_minor": 2
}
