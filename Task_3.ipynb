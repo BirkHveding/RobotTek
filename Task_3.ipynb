{
 "cells": [
  {
   "source": [
    "import modern_robotics as mr\n",
    "import numpy as np\n",
    "import sympy as sp\n",
    "from sympy.physics.mechanics import dynamicsymbols, mechanics_printing\n",
    "mechanics_printing()\n",
    "from Utilities.symbolicFunctions import *\n",
    "from Utilities.kukaKinematics import Slist, Mlist"
   ],
   "cell_type": "code",
   "metadata": {},
   "execution_count": 205,
   "outputs": []
  },
  {
   "cell_type": "markdown",
   "metadata": {},
   "source": [
    "# Task 3\n",
    "## 3.2 \n",
    "### Develop and implement a solution for the analytic inverse kinematics for the Agilus robot."
   ]
  },
  {
   "cell_type": "code",
   "execution_count": 212,
   "metadata": {},
   "outputs": [
    {
     "output_type": "stream",
     "name": "stdout",
     "text": [
      "M: \n [[  0.   0.  -1. 980.]\n [  0.   1.   0.   0.]\n [  1.   0.   0. 435.]\n [  0.   0.   0.   1.]]\nT_sd: \n [[  0.   0.  -1. 980.]\n [  0.   1.   0.   0.]\n [  1.   0.   0. 435.]\n [  0.   0.   0.   1.]] \n\n T_up: \n [[  0.  -0.  -1. 980.]\n [  0.   1.  -0.   0.]\n [  1.  -0.   0. 435.]\n [  0.   0.   0.   1.]] \n\n T_down: \n [[  0.   0.  -1. 980.]\n [  0.   1.   0.   0.]\n [  1.   0.   0. 435.]\n [  0.   0.   0.   1.]]\nThe points P reached by both solutions:  [900.   0. 435.   1.] [900.   0. 435.   1.]\n"
     ]
    }
   ],
   "source": [
    "np.set_printoptions(precision=5)\n",
    "np.set_printoptions(suppress=True)\n",
    "\n",
    "#The zero config body frame used in the analytical solution. This is defined as the frame M6 found in kukaKinematics.py.\n",
    "M = Mlist[5]\n",
    "print(\"M: \\n\",M)\n",
    "\n",
    "#Thetas_gen can be modified to get a valid desired position T_sd\n",
    "thetas_gen = np.array([0,0,0,0,0,0])\n",
    "T_sd = mr.FKinSpace(M,Slist,thetas_gen)\n",
    "\n",
    "\n",
    "# Finding the thetas. agilus_analytical_IK is defined in symbolicFunctions.py\n",
    "thetas_up, thetas_down = agilus_analytical_IK(Slist, M, T_sd)\n",
    "\n",
    "# Resulting end effector pose and Ps for elbow up:\n",
    "T_up = mr.FKinSpace(M,Slist,thetas_up)\n",
    "P_up = ps_from_Tsd(T_up)\n",
    "\n",
    "# And for elbow down:\n",
    "T_down = mr.FKinSpace(M,Slist,thetas_down)\n",
    "P_down = ps_from_Tsd(T_down)\n",
    "\n",
    "print(\"The points P reached by both solutions: \", P_down, P_up)\n",
    "\n",
    "\n"
   ]
  },
  {
   "cell_type": "markdown",
   "metadata": {},
   "source": [
    "## Task 3.3\n",
    "### Confirm that the solution of the analytical inverse kinematics from the previous point agrees with the solution from a numerical inverse kinematics solver.\n"
   ]
  },
  {
   "cell_type": "code",
   "execution_count": 221,
   "metadata": {},
   "outputs": [
    {
     "output_type": "stream",
     "name": "stdout",
     "text": [
      "T_sd: \n [[  0.   0.  -1. 980.]\n [  0.   1.   0.   0.]\n [  1.   0.   0. 435.]\n [  0.   0.   0.   1.]] \n\n T_up: \n [[  0.  -0.  -1. 980.]\n [  0.   1.  -0.   0.]\n [  1.  -0.   0. 435.]\n [  0.   0.   0.   1.]] \n\n T_down: \n [[  0.   0.  -1. 980.]\n [  0.   1.   0.   0.]\n [  1.   0.   0. 435.]\n [  0.   0.   0.   1.]] \n\nT_num: \n [[  0.   0.  -1. 980.]\n [  0.   1.   0.   0.]\n [  1.   0.   0. 435.]\n [  0.   0.   0.   1.]]\n\nGenerating thetas: [0 0 0 0 0 0] \nElbow up:  [ 0.    -0.08   0.166 -3.142  0.086 -3.142] \nElbow down:  [ 0. -0.  0.  0.  0.  0.] \nNumerical:  [0. 0. 0. 0. 0. 0.] True \n\n\nElbow down: \n\nElbow down solution viable:  True \n\n\nElbow up: \n\nElbow up solution viable:  True \n\n"
     ]
    }
   ],
   "source": [
    "#Numerical solution\n",
    "thetas_num, found = mr.IKinSpace(Slist,M,T_sd,[-1,0,0,0,0,0],0.001,0.01)\n",
    "thetas_num_p = [0,0,0,0,0,0] #the post processed solution\n",
    "\n",
    "#Post process angles to be [-pi, pi]\n",
    "for i in range(0,6):\n",
    "    thetas_num_p[i] = thetas_num[i]%(2*np.pi)\n",
    "    if thetas_num_p[i]>np.pi:\n",
    "        thetas_num_p[i] = thetas_num_p[i]-2*np.pi\n",
    "\n",
    "T_num = mr.FKinSpace(M,Slist,thetas_num_p)\n",
    "\n",
    "print(\"T_sd: \\n\",T_sd,'\\n\\n', \"T_up: \\n\",T_up, '\\n\\n',\"T_down: \\n\",T_down, \"\\n\\nT_num: \\n\", T_num)\n",
    "\n",
    "print('\\nGenerating thetas:', thetas_gen, '\\nElbow up: ', np.round(thetas_up,3), '\\nElbow down: ', np.round(thetas_down,3), '\\nNumerical: ', np.round(thetas_num_p,3), found, '\\n')\n",
    "print(\"\\nElbow down: \\n\")\n",
    "\n",
    "#apply_joint_lim is a function that finds out if a joint angle is outside the joints limits. Defined in symbolicFunctions.py:\n",
    "print(\"Elbow down solution viable: \", apply_joint_lim(jointLimits, thetas_down), \"\\n\")\n",
    "print(\"\\nElbow up: \\n\")\n",
    "print(\"Elbow up solution viable: \", apply_joint_lim(jointLimits, thetas_up), \"\\n\")\n"
   ]
  },
  {
   "cell_type": "markdown",
   "metadata": {},
   "source": [
    "## Task 3.4\n",
    "### Using the developed analytic inverse kinematics formulation, visualize the Agilus robot in both elbow-up and elbow-down configurations for the same end-effector pose."
   ]
  },
  {
   "cell_type": "code",
   "execution_count": 4,
   "metadata": {},
   "outputs": [
    {
     "name": "stdout",
     "output_type": "stream",
     "text": [
      "Jupyter environment detected. Enabling Open3D WebVisualizer.\n",
      "[Open3D INFO] WebRTC GUI backend enabled.\n",
      "[Open3D INFO] WebRTCWindowSystem: HTTP handshake server disabled.\n",
      "[Open3D INFO] Resetting default logger to print to terminal.\n"
     ]
    }
   ],
   "source": [
    "from Utilities.RobotClass import * "
   ]
  },
  {
   "cell_type": "code",
   "execution_count": 5,
   "metadata": {},
   "outputs": [
    {
     "data": {
      "application/vnd.jupyter.widget-view+json": {
       "model_id": "7c3144d0ad7b4f8eb054110c07b6f630",
       "version_major": 2,
       "version_minor": 0
      },
      "text/plain": [
       "WebVisualizer(window_uid='window_0')"
      ]
     },
     "metadata": {},
     "output_type": "display_data"
    }
   ],
   "source": [
    "Kuka = Robot(Mlist, ['z', '-z', 'x', 'x', '-z','x']) #Initializes kuka-robot object in zero-configuration\n",
    "Kuka.draw_robot()"
   ]
  },
  {
   "cell_type": "code",
   "execution_count": 22,
   "metadata": {},
   "outputs": [
    {
     "data": {
      "application/vnd.jupyter.widget-view+json": {
       "model_id": "b922536e6f4e4863862daabb34859685",
       "version_major": 2,
       "version_minor": 0
      },
      "text/plain": [
       "WebVisualizer(window_uid='window_1')"
      ]
     },
     "metadata": {},
     "output_type": "display_data"
    },
    {
     "data": {
      "application/vnd.jupyter.widget-view+json": {
       "model_id": "d17740faa16e4d15912de480aa7514da",
       "version_major": 2,
       "version_minor": 0
      },
      "text/plain": [
       "WebVisualizer(window_uid='window_2')"
      ]
     },
     "metadata": {},
     "output_type": "display_data"
    },
    {
     "name": "stdout",
     "output_type": "stream",
     "text": [
      "Both elbow up and elbow down config yields the same end-effector pose:  [ True  True  True]\n"
     ]
    }
   ],
   "source": [
    "Kuka.transform(Slist, thetas_down_num ) # Elbow DOWN\n",
    "pUp = np.array(Kuka.joints[5].coord.get_center()) #Get coordinates of {6} in elbow down \n",
    "Kuka.draw_robot()\n",
    "\n",
    "Kuka.transform(Slist, thetas_up_num ) # Elbow UP\n",
    "pDown = np.array(Kuka.joints[5].coord.get_center(),dtype=float)  #Get coordinates of {6} in elbow up\n",
    "Kuka.draw_robot()\n",
    "\n",
    "print(\"Both elbow up and elbow down config yields the same end-effector pose: \",pUp.round(4) == pDown.round(4))"
   ]
  },
  {
   "cell_type": "code",
   "execution_count": null,
   "metadata": {},
   "outputs": [],
   "source": []
  }
 ],
 "metadata": {
  "kernelspec": {
   "name": "python3",
   "display_name": "Python 3.8.11 64-bit ('Py38': conda)",
   "metadata": {
    "interpreter": {
     "hash": "c59555f908daf203107fb62fabdd23083d24d776055fcdd77b1f4aca8a172ece"
    }
   }
  },
  "language_info": {
   "codemirror_mode": {
    "name": "ipython",
    "version": 3
   },
   "file_extension": ".py",
   "mimetype": "text/x-python",
   "name": "python",
   "nbconvert_exporter": "python",
   "pygments_lexer": "ipython3",
   "version": "3.8.11"
  },
  "orig_nbformat": 2
 },
 "nbformat": 4,
 "nbformat_minor": 2
}