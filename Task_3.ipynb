{
 "cells": [
  {
<<<<<<< HEAD
=======
   "cell_type": "code",
   "execution_count": 1,
   "metadata": {},
   "outputs": [],
>>>>>>> 31199ace0b90428f8b3a945b5155c5be03143f1a
   "source": [
    "import modern_robotics as mr\n",
    "import numpy as np\n",
    "import sympy as sp\n",
    "from sympy.physics.mechanics import dynamicsymbols, mechanics_printing\n",
    "mechanics_printing()\n",
    "from Utilities.symbolicFunctions import *\n",
    "from Utilities.kukaKinematics import Slist, Mlist"
   ],
   "cell_type": "code",
   "metadata": {},
   "execution_count": 120,
   "outputs": []
  },
  {
   "cell_type": "markdown",
   "metadata": {},
   "source": [
    "# Task 3\n",
    "## 3.2 \n",
    "### Develop and implement a solution for the analytic inverse kinematics for the Agilus robot."
   ]
  },
  {
   "cell_type": "code",
<<<<<<< HEAD
   "execution_count": 155,
=======
   "execution_count": 2,
>>>>>>> 31199ace0b90428f8b3a945b5155c5be03143f1a
   "metadata": {},
   "outputs": [
    {
     "name": "stdout",
     "output_type": "stream",
     "text": [
<<<<<<< HEAD
      "[[  0.   0.  -1. 980.]\n [  0.   1.   0.   0.]\n [  1.   0.   0. 435.]\n [  0.   0.   0.   1.]]\n[[   1    0    0    1]\n [   0    1    0    0]\n [   0    0    1 1100]\n [   0    0    0    1]] \n\n [[   1.    0.   -0.    1.]\n [   0.    1.    0.    0.]\n [  -0.    0.    1. 1100.]\n [   0.    0.    0.    1.]] \n\n [[   1.   -0.   -0.    1.]\n [   0.    1.   -0.    0.]\n [   0.    0.    1. 1100.]\n [   0.    0.    0.    1.]]\n[   1.   -0. 1180.    1.] [   1.    0. 1180.    1.]\n"
=======
      "[[   0.27682   -0.81052   -0.51617  -18.96356]\n",
      " [  -0.16994   -0.56999    0.80389   29.534  ]\n",
      " [  -0.94578   -0.13482   -0.29552 1072.74583]\n",
      " [   0.         0.         0.         1.     ]] \n",
      "\n",
      " [[   0.27682   -0.81052   -0.51617  -60.2572 ]\n",
      " [  -0.16994   -0.56999    0.80389   93.84504]\n",
      " [  -0.94578   -0.13482   -0.29552 1049.10421]\n",
      " [   0.         0.         0.         1.     ]] \n",
      "\n",
      " [[   0.27682   -0.81052   -0.51617  -60.2572 ]\n",
      " [  -0.16994   -0.56999    0.80389   93.84504]\n",
      " [  -0.94578   -0.13482   -0.29552 1049.10421]\n",
      " [   0.         0.         0.         1.     ]]\n"
>>>>>>> 31199ace0b90428f8b3a945b5155c5be03143f1a
     ]
    }
   ],
   "source": [
    "np.set_printoptions(precision=5)\n",
    "np.set_printoptions(suppress=True)\n",
    "\n",
    "M = Mlist[5]\n",
    "print(M)\n",
    "\n",
    "\n",
    "#Thetas_gen can be modified to get a valid desired position T_sd\n",
    "thetas_gen = np.array([0,-1,-1,2.5,0.6,0])\n",
    "T_sd = mr.FKinSpace(M,Slist,thetas_gen)\n",
    "\n",
    "T_sd = np.array([[1, 0, 0, 1], \n",
    "             [0, 1, 0, 0],\n",
    "             [0, 0, 1, 1100],\n",
    "             [0, 0, 0, 1]])\n",
    "\n",
    "\n",
    "# Finding the thetas\n",
    "thetas_up, thetas_down = agilus_analytical_IK(Slist, M, T_sd)\n",
    "\n",
    "# Resulting end effector pose and Ps for elbow up:\n",
    "T_up = mr.FKinSpace(M,Slist,thetas_up)\n",
    "P_up = ps_from_Tsd(T_up)\n",
    "\n",
    "# And for elbow down:\n",
    "T_down = mr.FKinSpace(M,Slist,thetas_down)\n",
    "P_down = ps_from_Tsd(T_down)\n",
    "\n",
<<<<<<< HEAD
    "print(T_sd,'\\n\\n', T_up, '\\n\\n',T_down)\n",
    "\n",
    "print(P_down, P_up)\n",
    "\n"
=======
    "print(T_sd,'\\n\\n', T_up, '\\n\\n',T_down)"
>>>>>>> 31199ace0b90428f8b3a945b5155c5be03143f1a
   ]
  },
  {
   "cell_type": "markdown",
   "metadata": {},
   "source": [
    "## Task 3.3\n",
    "### Confirm that the solution of the analytical inverse kinematics from the previous point agrees with the solution from a numerical inverse kinematics solver.\n"
   ]
  },
  {
   "cell_type": "code",
<<<<<<< HEAD
   "execution_count": 156,
=======
   "execution_count": 3,
>>>>>>> 31199ace0b90428f8b3a945b5155c5be03143f1a
   "metadata": {},
   "outputs": [
    {
     "name": "stdout",
     "output_type": "stream",
     "text": [
<<<<<<< HEAD
      "[[   1.         0.        -0.         1.00021]\n [  -0.         1.         0.        -0.00003]\n [   0.        -0.         1.      1100.     ]\n [   0.         0.         0.         1.     ]]\n[[   1.         0.        -0.         1.00021]\n [  -0.         1.         0.        -0.00003]\n [   0.        -0.         1.      1100.     ]\n [   0.         0.         0.         1.     ]]\n\nGenerated T_sd: \n [[   1    0    0    1]\n [   0    1    0    0]\n [   0    0    1 1100]\n [   0    0    0    1]] \nGenerating thetas: [ 0.  -1.  -1.   2.5  0.6  0. ] \n\n Elbow up:  [ 0.    -2.055  1.029  0.     2.597  0.   ] \n Elbow down:  [ 0.    -1.148 -0.863 -3.142  2.701 -3.142] \n Numerical:  [ 0.    -2.055  1.029 -3.142 -2.597 -3.142] True \n\n\nElbow down: \n\nJoint number:  5 is not within the limits\nElbow down solution viable:  False \n\n\nElbow up: \n\nJoint number:  5 is not within the limits\nElbow up solution viable:  False \n\n"
=======
      "\n",
      "Generated T_sd: \n",
      " [[   0.27682   -0.81052   -0.51617  -18.96356]\n",
      " [  -0.16994   -0.56999    0.80389   29.534  ]\n",
      " [  -0.94578   -0.13482   -0.29552 1072.74583]\n",
      " [   0.         0.         0.         1.     ]] \n",
      "Generating thetas: [ 1.  -1.  -1.3  0.   2.   3. ] \n",
      "\n",
      " Elbow up:  [-2.142 -2.132  1.539 -3.142  2.248  3.   ] \n",
      " Elbow down:  [-2.142 -0.745 -1.372 -3.142  0.725  3.   ] \n",
      " Numerical:  [-2.142 -2.22   1.476  0.    -2.097 -0.142] True\n",
      "\n",
      "Elbow down: \n",
      "Elbow down solution viable:  True \n",
      "\n",
      "\n",
      "Elbow up: \n",
      "Joint number:  5 is not within the limits\n",
      "Elbow down solution viable:  False \n",
      "\n"
>>>>>>> 31199ace0b90428f8b3a945b5155c5be03143f1a
     ]
    }
   ],
   "source": [
    "#Numerical solution\n",
    "thetas_num, found = mr.IKinSpace(Slist,M,T_sd,[-1,0,0,0,0,0],0.001,0.01)\n",
    "print(mr.FKinSpace(M,Slist,thetas_num))\n",
    "thetas_num_p = [0,0,0,0,0,0] #the post processed solution\n",
    "\n",
    "#Post process angles to be [-pi, pi]\n",
    "for i in range(0,6):\n",
    "    thetas_num_p[i] = thetas_num[i]%(2*np.pi)\n",
    "    if thetas_num_p[i]>np.pi:\n",
    "        thetas_num_p[i] = thetas_num_p[i]-2*np.pi\n",
    "\n",
    "print(mr.FKinSpace(M,Slist,thetas_num_p))\n",
    "\n",
    "print('\\nGenerated T_sd: \\n', T_sd, '\\nGenerating thetas:', thetas_gen, '\\n\\n Elbow up: ', np.round(thetas_up,3), '\\n Elbow down: ', np.round(thetas_down,3), '\\n Numerical: ', np.round(thetas_num_p,3), found, '\\n')\n",
    "print(\"\\nElbow down: \\n\")\n",
    "print(\"Elbow down solution viable: \", apply_joint_lim(jointLimits, thetas_down), \"\\n\")\n",
<<<<<<< HEAD
    "print(\"\\nElbow up: \\n\")\n",
    "print(\"Elbow up solution viable: \", apply_joint_lim(jointLimits, thetas_up), \"\\n\")\n"
=======
    "\n",
    "print(\"\\nElbow up: \")\n",
    "print(\"Elbow down solution viable: \", apply_joint_lim(jointLimits, thetas_up), \"\\n\")\n"
>>>>>>> 31199ace0b90428f8b3a945b5155c5be03143f1a
   ]
  },
  {
   "cell_type": "markdown",
   "metadata": {},
   "source": [
    "## Task 3.4\n",
    "### Using the developed analytic inverse kinematics formulation, visualize the Agilus robot in both elbow-up and elbow-down configurations for the same end-effector pose."
   ]
  },
  {
   "cell_type": "code",
<<<<<<< HEAD
   "execution_count": 157,
   "metadata": {},
   "outputs": [
    {
     "output_type": "error",
     "ename": "ModuleNotFoundError",
     "evalue": "No module named 'open3d'",
     "traceback": [
      "\u001b[1;31m---------------------------------------------------------------------------\u001b[0m",
      "\u001b[1;31mModuleNotFoundError\u001b[0m                       Traceback (most recent call last)",
      "\u001b[1;32m~\\AppData\\Local\\Temp/ipykernel_3684/3717383890.py\u001b[0m in \u001b[0;36m<module>\u001b[1;34m\u001b[0m\n\u001b[1;32m----> 1\u001b[1;33m \u001b[1;32mfrom\u001b[0m \u001b[0mUtilities\u001b[0m\u001b[1;33m.\u001b[0m\u001b[0mRobotClass\u001b[0m \u001b[1;32mimport\u001b[0m \u001b[1;33m*\u001b[0m\u001b[1;33m\u001b[0m\u001b[1;33m\u001b[0m\u001b[0m\n\u001b[0m",
      "\u001b[1;32mc:\\Users\\Skrivebord\\Studie\\Semester_7\\Robotikk\\Prosjekt\\RobotTek\\Utilities\\RobotClass.py\u001b[0m in \u001b[0;36m<module>\u001b[1;34m\u001b[0m\n\u001b[1;32m----> 1\u001b[1;33m \u001b[1;32mimport\u001b[0m \u001b[0mopen3d\u001b[0m \u001b[1;32mas\u001b[0m \u001b[0mo3d\u001b[0m\u001b[1;33m\u001b[0m\u001b[1;33m\u001b[0m\u001b[0m\n\u001b[0m\u001b[0;32m      2\u001b[0m \u001b[1;32mimport\u001b[0m \u001b[0mnumpy\u001b[0m \u001b[1;32mas\u001b[0m \u001b[0mnp\u001b[0m\u001b[1;33m\u001b[0m\u001b[1;33m\u001b[0m\u001b[0m\n\u001b[0;32m      3\u001b[0m \u001b[1;32mimport\u001b[0m \u001b[0mmodern_robotics\u001b[0m \u001b[1;32mas\u001b[0m \u001b[0mmr\u001b[0m\u001b[1;33m\u001b[0m\u001b[1;33m\u001b[0m\u001b[0m\n\u001b[0;32m      4\u001b[0m \u001b[1;32mfrom\u001b[0m \u001b[0mopen3d\u001b[0m\u001b[1;33m.\u001b[0m\u001b[0mweb_visualizer\u001b[0m \u001b[1;32mimport\u001b[0m \u001b[0mdraw\u001b[0m\u001b[1;33m\u001b[0m\u001b[1;33m\u001b[0m\u001b[0m\n\u001b[0;32m      5\u001b[0m \u001b[1;32mimport\u001b[0m \u001b[0msympy\u001b[0m \u001b[1;32mas\u001b[0m \u001b[0msp\u001b[0m\u001b[1;33m\u001b[0m\u001b[1;33m\u001b[0m\u001b[0m\n",
      "\u001b[1;31mModuleNotFoundError\u001b[0m: No module named 'open3d'"
     ]
    }
   ],
=======
   "execution_count": 9,
   "metadata": {},
   "outputs": [],
>>>>>>> 31199ace0b90428f8b3a945b5155c5be03143f1a
   "source": [
    "from Utilities.RobotClass import * "
   ]
  },
  {
   "cell_type": "code",
   "execution_count": 8,
   "metadata": {},
   "outputs": [
    {
     "data": {
      "application/vnd.jupyter.widget-view+json": {
       "model_id": "49f6e68e52ae4677957a68413f8107f2",
       "version_major": 2,
       "version_minor": 0
      },
      "text/plain": [
       "WebVisualizer(window_uid='window_6')"
      ]
     },
     "metadata": {},
     "output_type": "display_data"
    },
    {
     "data": {
      "application/vnd.jupyter.widget-view+json": {
       "model_id": "8ba686f93e054632bb91e068bb2c2bfd",
       "version_major": 2,
       "version_minor": 0
      },
      "text/plain": [
       "WebVisualizer(window_uid='window_7')"
      ]
     },
     "metadata": {},
     "output_type": "display_data"
    },
    {
     "data": {
      "application/vnd.jupyter.widget-view+json": {
       "model_id": "3c5a660b0ac54320b2148453180c1dad",
       "version_major": 2,
       "version_minor": 0
      },
      "text/plain": [
       "WebVisualizer(window_uid='window_8')"
      ]
     },
     "metadata": {},
     "output_type": "display_data"
    },
    {
     "name": "stdout",
     "output_type": "stream",
     "text": [
      "Both elbow up and elbow down config yields the same end-effector pose:  [ True  True  True]\n"
     ]
    }
   ],
   "source": [
    "\n",
    "Kuka = Robot(Mlist, ['z', '-z', 'x', 'x', '-z','x']) #Initializes kuka-robot object in zero-configuration\n",
    "Kuka.draw_robot()\n",
    "\n",
    "Kuka.transform(Slist, thetas_down ) # Elbow DOWN\n",
    "pUp = np.array(Kuka.joints[5].coord.get_center()) #Get coordinates of {6} in elbow down \n",
    "Kuka.draw_robot()\n",
    "\n",
    "Kuka.transform(Slist, thetas_up ) # Elbow UP\n",
    "pDown = np.array(Kuka.joints[5].coord.get_center(),dtype=float)  #Get coordinates of {6} in elbow up\n",
    "Kuka.draw_robot()\n",
    "\n",
    "print(\"Both elbow up and elbow down config yields the same end-effector pose: \",pUp.round(4) == pDown.round(4))"
   ]
  },
  {
   "cell_type": "code",
   "execution_count": null,
   "metadata": {},
   "outputs": [],
   "source": []
  }
 ],
 "metadata": {
  "kernelspec": {
   "display_name": "Python 3.8.11 64-bit ('Py38': conda)",
   "metadata": {
    "interpreter": {
     "hash": "c59555f908daf203107fb62fabdd23083d24d776055fcdd77b1f4aca8a172ece"
    }
   },
   "name": "python3"
  },
  "language_info": {
   "codemirror_mode": {
    "name": "ipython",
    "version": 3
   },
   "file_extension": ".py",
   "mimetype": "text/x-python",
   "name": "python",
   "nbconvert_exporter": "python",
   "pygments_lexer": "ipython3",
   "version": "3.8.12"
  },
  "orig_nbformat": 2
 },
 "nbformat": 4,
 "nbformat_minor": 2
}
