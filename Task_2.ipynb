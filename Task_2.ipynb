{
 "cells": [
  {
   "cell_type": "code",
   "execution_count": 3,
   "metadata": {},
   "outputs": [],
   "source": [
    "import modern_robotics as mr\n",
    "import sympy as sp\n",
    "from sympy import*\n",
    "from sympy.physics.mechanics import dynamicsymbols, mechanics_printing\n",
    "mechanics_printing()\n",
    "from Utilities.symbolicFunctions import *\n",
    "from Utilities.kukaKinematics import*\n"
   ]
  },
  {
   "cell_type": "markdown",
   "metadata": {},
   "source": [
    "# TASK 2"
   ]
  },
  {
   "cell_type": "markdown",
   "metadata": {},
   "source": [
    "#### 1. Using the original Denavit-Hartenberg convention, determine the Denavit-Hartenberg parameters for the Agilus robot."
   ]
  },
  {
   "cell_type": "code",
   "execution_count": 19,
   "metadata": {},
   "outputs": [
    {
     "data": {
      "text/latex": [
       "$\\displaystyle \\left( \\left[\\begin{matrix}\\pi & 0 & -400 & \\theta_{1}\\\\\\frac{\\pi}{2} & 25 & 0 & \\theta_{2} + \\frac{\\pi}{2}\\\\0 & 455 & 0 & \\theta_{3}\\\\\\frac{\\pi}{2} & 35 & -420 & \\theta_{4}\\\\- \\frac{\\pi}{2} & 0 & 0 & \\theta_{5}\\\\\\frac{\\pi}{2} & 0 & 0 & \\theta_{6}\\end{matrix}\\right], \\  \\left[\\begin{matrix}0 & \\pi & -400 & \\theta_{1}\\\\25 & \\frac{\\pi}{2} & 0 & \\theta_{2} + \\frac{\\pi}{2}\\\\455 & 0 & 0 & \\theta_{3}\\\\35 & \\frac{\\pi}{2} & -420 & \\theta_{4}\\\\0 & - \\frac{\\pi}{2} & 0 & \\theta_{5}\\\\0 & \\frac{\\pi}{2} & 0 & \\theta_{6}\\end{matrix}\\right]\\right)$"
      ],
      "text/plain": [
       "⎛⎡ π    0   -400    θ₁  ⎤  ⎡ 0    π   -400    θ₁  ⎤⎞\n",
       "⎜⎢                      ⎥  ⎢                      ⎥⎟\n",
       "⎜⎢ π                   π⎥  ⎢      π              π⎥⎟\n",
       "⎜⎢ ─   25    0    θ₂ + ─⎥  ⎢25    ─    0    θ₂ + ─⎥⎟\n",
       "⎜⎢ 2                   2⎥  ⎢      2              2⎥⎟\n",
       "⎜⎢                      ⎥  ⎢                      ⎥⎟\n",
       "⎜⎢ 0   455   0      θ₃  ⎥  ⎢455   0    0      θ₃  ⎥⎟\n",
       "⎜⎢                      ⎥  ⎢                      ⎥⎟\n",
       "⎜⎢ π                    ⎥  ⎢      π               ⎥⎟\n",
       "⎜⎢ ─   35   -420    θ₄  ⎥, ⎢35    ─   -420    θ₄  ⎥⎟\n",
       "⎜⎢ 2                    ⎥  ⎢      2               ⎥⎟\n",
       "⎜⎢                      ⎥  ⎢                      ⎥⎟\n",
       "⎜⎢-π                    ⎥  ⎢     -π               ⎥⎟\n",
       "⎜⎢───   0    0      θ₅  ⎥  ⎢ 0   ───   0      θ₅  ⎥⎟\n",
       "⎜⎢ 2                    ⎥  ⎢      2               ⎥⎟\n",
       "⎜⎢                      ⎥  ⎢                      ⎥⎟\n",
       "⎜⎢ π                    ⎥  ⎢      π               ⎥⎟\n",
       "⎜⎢ ─    0    0      θ₆  ⎥  ⎢ 0    ─    0      θ₆  ⎥⎟\n",
       "⎝⎣ 2                    ⎦  ⎣      2               ⎦⎠"
      ]
     },
     "execution_count": 19,
     "metadata": {},
     "output_type": "execute_result"
    }
   ],
   "source": [
    "th1, th2, th3, th4, th5, th6 = dynamicsymbols('theta_1, theta_2, theta_3, theta_4, theta_5, theta_6')\n",
    "\n",
    "config = sp.Matrix([[sp.pi,0,-400,th1],[sp.pi/2,25,0,th2],[0,455,0,th3 + sp.pi/2],[sp.pi/2, 35, -420, th4],[-sp.pi/2,0,0,th5],[sp.pi/2, 0, 0,th6]])\n",
    "\n",
    "Sic_config = Matrix(sp.zeros(6,4))\n",
    "Sic_config[:,0] = config[:,1]\n",
    "Sic_config[:,1] = config[:,0]\n",
    "Sic_config[:,2] = config[:,2]\n",
    "Sic_config[:,3] = config[:,3]\n",
    "\n",
    "config, Sic_config"
   ]
  },
  {
   "cell_type": "markdown",
   "metadata": {},
   "source": [
    "#### Here, the first matrix represent the DH parameters in the same formate as in Modern Robotics. The second matrix represent the same table is illustrated as illustrated in Sicilliano. Theta are the free variables of each joint, where we add an additional pi/2 to the third joint to get a get the desired pose illustrated in the report. "
   ]
  },
  {
   "cell_type": "markdown",
   "metadata": {},
   "source": [
    "#### 2. Determine the end-effector zero position configuration M ∈ SE(3) for the Agilus robot"
   ]
  },
  {
   "cell_type": "code",
   "execution_count": 20,
   "metadata": {},
   "outputs": [
    {
     "data": {
      "text/latex": [
       "$\\displaystyle \\left[\\begin{matrix}1 & 0 & 0 & 980\\\\0 & 1 & 0 & 0\\\\0 & 0 & 1 & 435\\\\0 & 0 & 0 & 1\\end{matrix}\\right]$"
      ],
      "text/plain": [
       "⎡1  0  0  980⎤\n",
       "⎢            ⎥\n",
       "⎢0  1  0   0 ⎥\n",
       "⎢            ⎥\n",
       "⎢0  0  1  435⎥\n",
       "⎢            ⎥\n",
       "⎣0  0  0   1 ⎦"
      ]
     },
     "execution_count": 20,
     "metadata": {},
     "output_type": "execute_result"
    }
   ],
   "source": [
    "Mi = sp.Matrix([[sp.eye(4)]*6])\n",
    "\n",
    "for i in range(6):\n",
    "    if i == 2:\n",
    "        Mi[:,4*i:4*(i+1)] = rotX(config[i,0]) * transX(config[i,1]) * transZ(config[i,2]) * rotZ(-sp.pi/2) # We compansate for the rotation of pi/2 done when finding the D-H parameters \n",
    "\n",
    "    else:\n",
    "        Mi[:,4*i:4*(i+1)] = rotX(config[i,0]) * transX(config[i,1]) * transZ(config[i,2]) \n",
    "\n",
    "M = sp.eye(4)\n",
    "for n in range(5,-1,-1):\n",
    "    M = Mi[:,4*n:4*(n+1)] * M\n",
    "\n",
    "\n",
    "M = M * Tnb\n",
    "M"
   ]
  },
  {
   "cell_type": "markdown",
   "metadata": {},
   "source": [
    "#### To compansate for the additional rotation of pi/2 in the table, we rotate the third joint with -pi/2 to get the zero-state configuration. As M represent the transformation matrix from the {s} frame to the end effector, and since the table from task one only trepresent the parameters of each joint, we add an additional T from the n'th link to the end-effector. "
   ]
  },
  {
   "cell_type": "markdown",
   "metadata": {},
   "source": [
    "#### 3. Determine the space frame screw axes Si for the Agilus robot."
   ]
  },
  {
   "cell_type": "code",
   "execution_count": 57,
   "metadata": {},
   "outputs": [
    {
     "data": {
      "text/latex": [
       "$\\displaystyle \\left[\\begin{matrix}0 & 0 & 0 & -1 & 0 & -1\\\\0 & 1 & 1 & 0 & 1 & 0\\\\-1 & 0 & 0 & 0 & 0 & 0\\\\0 & -400 & -400 & 0 & -435 & 0\\\\0 & 0 & 0 & -435 & 0 & -435\\\\0 & 25 & 480 & 0 & 900 & 0\\end{matrix}\\right]$"
      ],
      "text/plain": [
       "⎡0    0     0     -1    0     -1 ⎤\n",
       "⎢                                ⎥\n",
       "⎢0    1     1     0     1     0  ⎥\n",
       "⎢                                ⎥\n",
       "⎢-1   0     0     0     0     0  ⎥\n",
       "⎢                                ⎥\n",
       "⎢0   -400  -400   0    -435   0  ⎥\n",
       "⎢                                ⎥\n",
       "⎢0    0     0    -435   0    -435⎥\n",
       "⎢                                ⎥\n",
       "⎣0    25   480    0    900    0  ⎦"
      ]
     },
     "execution_count": 57,
     "metadata": {},
     "output_type": "execute_result"
    }
   ],
   "source": [
    "Ai = sp.Matrix([[0,-1,0,0],[1,0,0,0],[0,0,0,0],[0,0,0,0]]) # This is a given matrix due to revolute joints\n",
    "\n",
    "S_sp = sp.zeros(6)\n",
    "for i in range(6):\n",
    "    dot_sum = sp.eye(4)\n",
    "    for n in range(i,-1,-1):\n",
    "        dot_sum = Mi[:,4*n:4*(n+1)] * dot_sum\n",
    "    S_skew = dot_sum * Ai * sp.Inverse(dot_sum)\n",
    "    S_sp[0,i] = S_skew[2,1] \n",
    "    S_sp[1,i] = S_skew[0,2] \n",
    "    S_sp[2,i] = S_skew[1,0] \n",
    "    S_sp[3,i] = S_skew[0,3] \n",
    "    S_sp[4,i] = S_skew[1,3]\n",
    "    S_sp[5,i] = S_skew[2,3] \n",
    "\n",
    "S_sp"
   ]
  },
  {
   "cell_type": "markdown",
   "metadata": {},
   "source": [
    "#### 4. Determine the body-frame screw axes Bi for the Agilus robot"
   ]
  },
  {
   "cell_type": "code",
   "execution_count": 58,
   "metadata": {},
   "outputs": [
    {
     "data": {
      "text/latex": [
       "$\\displaystyle \\left[\\begin{matrix}0 & 0 & 0 & -1 & 0 & -1\\\\0 & 1 & 1 & 0 & 1 & 0\\\\-1 & 0 & 0 & 0 & 0 & 0\\\\0 & 35 & 35 & 0 & 0 & 0\\\\-980 & 0 & 0 & 0 & 0 & 0\\\\0 & -955 & -500 & 0 & -80 & 0\\end{matrix}\\right]$"
      ],
      "text/plain": [
       "⎡ 0     0     0    -1   0   -1⎤\n",
       "⎢                             ⎥\n",
       "⎢ 0     1     1    0    1   0 ⎥\n",
       "⎢                             ⎥\n",
       "⎢ -1    0     0    0    0   0 ⎥\n",
       "⎢                             ⎥\n",
       "⎢ 0     35    35   0    0   0 ⎥\n",
       "⎢                             ⎥\n",
       "⎢-980   0     0    0    0   0 ⎥\n",
       "⎢                             ⎥\n",
       "⎣ 0    -955  -500  0   -80  0 ⎦"
      ]
     },
     "execution_count": 58,
     "metadata": {},
     "output_type": "execute_result"
    }
   ],
   "source": [
    "M_inv = mr.TransInv(M)          #Finding inverse of M\n",
    "Ad_M_inv = mr.Adjoint(M_inv)    #Computing [Ad_M^-1]\n",
    "\n",
    "#Using B_i = [Ad_M^-1]S_i\n",
    "S_bp = sp.zeros(6,6)\n",
    "for i in range(6):\n",
    "     S_bp[:, i] = Ad_M_inv * S_sp[:, i]\n",
    "\n",
    "S_bp"
   ]
  },
  {
   "cell_type": "markdown",
   "metadata": {},
   "source": [
    "### 5. Visualization \n",
    "#### Visualization using custom class in Utilities module. The big coordinate system being the {s}-frame and joint-frames oriented with z-axis along joint screw-axis.\n",
    "#### Axis colours:\n",
    "####    -Blue   -Z axis and joint screw-axis\n",
    "####    -Red    -X axis\n",
    "####    -Green  -Y axis"
   ]
  },
  {
   "cell_type": "code",
   "execution_count": 8,
   "metadata": {},
   "outputs": [
    {
     "name": "stdout",
     "output_type": "stream",
     "text": [
      "Jupyter environment detected. Enabling Open3D WebVisualizer.\n",
      "[Open3D INFO] WebRTC GUI backend enabled.\n",
      "[Open3D INFO] WebRTCWindowSystem: HTTP handshake server disabled.\n",
      "[Open3D INFO] Resetting default logger to print to terminal.\n"
     ]
    }
   ],
   "source": [
    "from Utilities.RobotClass import*\n",
    "import numpy as np\n",
    "from Utilities.kukaKinematics import *"
   ]
  },
  {
   "cell_type": "code",
   "execution_count": 51,
   "metadata": {},
   "outputs": [
    {
     "data": {
      "application/vnd.jupyter.widget-view+json": {
       "model_id": "362a31f1005b422fa8a620313e1e6698",
       "version_major": 2,
       "version_minor": 0
      },
      "text/plain": [
       "WebVisualizer(window_uid='window_7')"
      ]
     },
     "metadata": {},
     "output_type": "display_data"
    }
   ],
   "source": [
    "#DH frames:\n",
    "\n",
    "#Finding T01, T02..., from DH formulation Mi\n",
    "Tlist_DH = np.zeros((6,4,4))      \n",
    "\n",
    "T = sp.eye(4)\n",
    "for i in range(6):          \n",
    "    T = T * Mi[:,4*i:4*(i+1)]\n",
    "    Tlist_DH[i] = T\n",
    "\n",
    "#Visualize frames\n",
    "Kuka_DH = Robot(Tlist_DH,['z','x','x','y','z','z'], Tnb)\n",
    "Kuka_DH.joints[5].set_colour([1,0,0])\n",
    "Kuka_DH.draw_robot()\n"
   ]
  },
  {
   "cell_type": "code",
   "execution_count": 10,
   "metadata": {},
   "outputs": [
    {
     "data": {
      "application/vnd.jupyter.widget-view+json": {
       "model_id": "5c32b7aca744474396d0f501e7e75b1c",
       "version_major": 2,
       "version_minor": 0
      },
      "text/plain": [
       "WebVisualizer(window_uid='window_1')"
      ]
     },
     "metadata": {},
     "output_type": "display_data"
    }
   ],
   "source": [
    "Kuka_DH.transform(Slist,[0,0,np.pi/2,0,0,0])\n",
    "Kuka_DH.joints[2].set_colour([0,0,1])\n",
    "T = Kuka_DH.current_config\n",
    "Kuka_DH.draw_robot()"
   ]
  },
  {
   "cell_type": "code",
   "execution_count": 11,
   "metadata": {},
   "outputs": [],
   "source": [
    "#Kuka robot visualized in zero-config, showing M (red) and all Screw axes as the joint frames' z-axis.\n",
    "from Utilities.kukaKinematics import Mlist, Slist, Tnb\n",
    "\n",
    "Kuka = Robot(Mlist, ['z', '-z', 'x', 'x', '-z','x'], Tnb) # With endeffector offset by Tnb"
   ]
  },
  {
   "cell_type": "code",
   "execution_count": 12,
   "metadata": {},
   "outputs": [
    {
     "data": {
      "application/vnd.jupyter.widget-view+json": {
       "model_id": "844769b2e994415aaf97980bbd33367f",
       "version_major": 2,
       "version_minor": 0
      },
      "text/plain": [
       "WebVisualizer(window_uid='window_2')"
      ]
     },
     "metadata": {},
     "output_type": "display_data"
    }
   ],
   "source": [
    "Kuka.joints[5].set_colour([1,0,0])\n",
    "Kuka.draw_robot()"
   ]
  },
  {
   "cell_type": "code",
   "execution_count": 13,
   "metadata": {},
   "outputs": [],
   "source": [
    "Kuka.transform(Slist,[0,0,np.pi/2,0,0,0])\n",
    "T = Kuka.current_config"
   ]
  },
  {
   "cell_type": "code",
   "execution_count": 14,
   "metadata": {},
   "outputs": [
    {
     "data": {
      "text/latex": [
       "$\\displaystyle \\left[\\begin{matrix}1.0 & 0 & -1.11022302462516 \\cdot 10^{-16} & 515.0\\\\0 & 1.0 & 0 & 0\\\\1.11022302462516 \\cdot 10^{-16} & 0 & 1.0 & -20.0\\\\0 & 0 & 0 & 1.0\\end{matrix}\\right]$"
      ],
      "text/plain": [
       "⎡        1.0            0   -1.11022302462516e-16  515.0⎤\n",
       "⎢                                                       ⎥\n",
       "⎢         0            1.0            0              0  ⎥\n",
       "⎢                                                       ⎥\n",
       "⎢1.11022302462516e-16   0            1.0           -20.0⎥\n",
       "⎢                                                       ⎥\n",
       "⎣         0             0             0             1.0 ⎦"
      ]
     },
     "execution_count": 14,
     "metadata": {},
     "output_type": "execute_result"
    }
   ],
   "source": [
    "Tsb = T[5]\n",
    "Tsb"
   ]
  },
  {
   "cell_type": "code",
   "execution_count": 15,
   "metadata": {},
   "outputs": [
    {
     "data": {
      "application/vnd.jupyter.widget-view+json": {
       "model_id": "41af243649414d13b143990280420fdc",
       "version_major": 2,
       "version_minor": 0
      },
      "text/plain": [
       "WebVisualizer(window_uid='window_3')"
      ]
     },
     "metadata": {},
     "output_type": "display_data"
    }
   ],
   "source": [
    "Kuka.draw_robot()\n"
   ]
  },
  {
   "cell_type": "code",
   "execution_count": 16,
   "metadata": {},
   "outputs": [
    {
     "data": {
      "application/vnd.jupyter.widget-view+json": {
       "model_id": "4f9d7b45f78349f1a338ae7dd9de9bc4",
       "version_major": 2,
       "version_minor": 0
      },
      "text/plain": [
       "WebVisualizer(window_uid='window_4')"
      ]
     },
     "metadata": {},
     "output_type": "display_data"
    }
   ],
   "source": [
    "Kuka.transform(Slist,[0,-np.pi/2,np.pi/2,0,0,0])\n",
    "Kuka.draw_robot()"
   ]
  },
  {
   "cell_type": "code",
   "execution_count": null,
   "metadata": {},
   "outputs": [],
   "source": []
  }
 ],
 "metadata": {
  "interpreter": {
   "hash": "815224060b00a050660c7b9310329981a1e8f5f6161b36a2fd002dddd54a25e1"
  },
  "kernelspec": {
   "display_name": "Python 3.8.11 64-bit ('py38': conda)",
   "name": "python3"
  },
  "language_info": {
   "codemirror_mode": {
    "name": "ipython",
    "version": 3
   },
   "file_extension": ".py",
   "mimetype": "text/x-python",
   "name": "python",
   "nbconvert_exporter": "python",
   "pygments_lexer": "ipython3",
   "version": "3.8.11"
  },
  "orig_nbformat": 4
 },
 "nbformat": 4,
 "nbformat_minor": 2
}
