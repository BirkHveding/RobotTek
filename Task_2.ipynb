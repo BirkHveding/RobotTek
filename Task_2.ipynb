{
 "cells": [
  {
   "cell_type": "code",
   "execution_count": 77,
   "metadata": {},
   "outputs": [],
   "source": [
    "import modern_robotics as mr\n",
    "import sympy as sp\n",
    "import numpy as np\n",
    "from sympy.physics.mechanics import dynamicsymbols, mechanics_printing\n",
    "mechanics_printing()\n",
    "from Utilities.symbolicFunctions import*\n",
    "from Utilities.kukaKinematics import*\n",
    "from Utilities.RobotClass import*"
   ]
  },
  {
   "cell_type": "markdown",
   "metadata": {},
   "source": [
    "# TASK 2"
   ]
  },
  {
   "cell_type": "markdown",
   "metadata": {},
   "source": [
    "### 1. Using the original Denavit-Hartenberg convention, determine the Denavit-Hartenberg parameters for the Agilus robot."
   ]
  },
  {
   "cell_type": "code",
   "execution_count": 78,
   "metadata": {},
   "outputs": [
    {
     "data": {
      "text/latex": [
       "$\\displaystyle \\left[\\begin{matrix}25 & \\frac{\\pi}{2} & -400 & \\theta_{1}\\\\455 & 0 & 0 & \\theta_{2}\\\\35 & \\frac{\\pi}{2} & 0 & \\theta_{3} - \\frac{\\pi}{2}\\\\0 & - \\frac{\\pi}{2} & -420 & \\theta_{4}\\\\0 & \\frac{\\pi}{2} & 0 & \\theta_{5}\\\\0 & 0 & 0 & \\theta_{6}\\end{matrix}\\right]$"
      ],
      "text/plain": [
       "⎡      π               ⎤\n",
       "⎢25    ─   -400    θ₁  ⎥\n",
       "⎢      2               ⎥\n",
       "⎢                      ⎥\n",
       "⎢455   0    0      θ₂  ⎥\n",
       "⎢                      ⎥\n",
       "⎢      π              π⎥\n",
       "⎢35    ─    0    θ₃ - ─⎥\n",
       "⎢      2              2⎥\n",
       "⎢                      ⎥\n",
       "⎢     -π               ⎥\n",
       "⎢ 0   ───  -420    θ₄  ⎥\n",
       "⎢      2               ⎥\n",
       "⎢                      ⎥\n",
       "⎢      π               ⎥\n",
       "⎢ 0    ─    0      θ₅  ⎥\n",
       "⎢      2               ⎥\n",
       "⎢                      ⎥\n",
       "⎣ 0    0    0      θ₆  ⎦"
      ]
     },
     "execution_count": 78,
     "metadata": {},
     "output_type": "execute_result"
    }
   ],
   "source": [
    "th1, th2, th3, th4, th5, th6 = dynamicsymbols('theta_1, theta_2, theta_3, theta_4, theta_5, theta_6')\n",
    "al1,al2,al3,al4,al5,al6,al7 = sp.symbols('alpha_1,alpha_2,alpha_3,alpha_4,alpha_5,alpha_6,alpha_7,')\n",
    "\n",
    "sicConfig = sp.Matrix([[ 25, sp.pi/2 , -400,   th1],\n",
    "                    [455, 0       ,    0 ,th2],\n",
    "                    [ 35, sp.pi/2 ,    0,th3 - sp.pi/2],\n",
    "                    [  0, -sp.pi/2, -420, th4],\n",
    "                    [  0, sp.pi/2 ,    0,th5],\n",
    "                    [  0, 0       ,    0,th6]])\n",
    "sicConfig"
   ]
  },
  {
   "cell_type": "markdown",
   "metadata": {},
   "source": [
    "#### Here, the first matrix represent the DH parameters in the same formate as in Modern Robotics. The second matrix represent the same table is illustrated as illustrated in Sicilliano. Theta are the free variables of each joint, where we add an additional pi/2 to the third joint to get a get the desired pose illustrated in the report. "
   ]
  },
  {
   "cell_type": "markdown",
   "metadata": {},
   "source": [
    "### 2. Determine the end-effector zero position configuration M ∈ SE(3) for the Agilus robot"
   ]
  },
  {
   "cell_type": "code",
   "execution_count": 79,
   "metadata": {},
   "outputs": [],
   "source": [
    "config1 = sicConfig.subs({th1:0,th2:0,th3:0,th4:0,th5:0,th6:0})\n",
    "T0i = T_from_sic(config1)               #List of T0i's, T01, T02, T03,...,T06\n",
    "Tsi = [rotX(sp.pi)*T for T in T0i ]   #List of Tsi's, T1, T2,...,T6"
   ]
  },
  {
   "cell_type": "code",
   "execution_count": 80,
   "metadata": {},
   "outputs": [
    {
     "data": {
      "text/latex": [
       "$\\displaystyle \\left( \\left[\\begin{matrix}1 & 0 & 0 & 980\\\\0 & 1 & 0 & 0\\\\0 & 0 & 1 & 435\\\\0 & 0 & 0 & 1\\end{matrix}\\right], \\  \\left[\\begin{matrix}1 & 0 & 0 & 980\\\\0 & 1 & 0 & 0\\\\0 & 0 & 1 & 435\\\\0 & 0 & 0 & 1\\end{matrix}\\right]\\right)$"
      ],
      "text/plain": [
       "⎛⎡1  0  0  980⎤  ⎡1  0  0  980⎤⎞\n",
       "⎜⎢            ⎥  ⎢            ⎥⎟\n",
       "⎜⎢0  1  0   0 ⎥  ⎢0  1  0   0 ⎥⎟\n",
       "⎜⎢            ⎥, ⎢            ⎥⎟\n",
       "⎜⎢0  0  1  435⎥  ⎢0  0  1  435⎥⎟\n",
       "⎜⎢            ⎥  ⎢            ⎥⎟\n",
       "⎝⎣0  0  0   1 ⎦  ⎣0  0  0   1 ⎦⎠"
      ]
     },
     "execution_count": 80,
     "metadata": {},
     "output_type": "execute_result"
    }
   ],
   "source": [
    "M_DH = Tsi[5] * Tne\n",
    "\n",
    "M_DH, Me"
   ]
  },
  {
   "cell_type": "markdown",
   "metadata": {},
   "source": [
    "####  Control: The M derived by visual inspection in Utilities/KukaKinematics and the Slist derived from the DH-formulation are in agreement. \n",
    "#### To compansate for the additional rotation of pi/2 in the table, we rotate the third joint with -pi/2 to get the zero-state configuration. As M represent the transformation matrix from the {s} frame to the end effector, and since the table from task one only represent the parameters of each joint, we add an additional T from the n'th link to the end-effector. "
   ]
  },
  {
   "cell_type": "markdown",
   "metadata": {},
   "source": [
    "### 3. Determine the space frame screw axes Si for the Agilus robot."
   ]
  },
  {
   "cell_type": "code",
   "execution_count": 81,
   "metadata": {},
   "outputs": [],
   "source": [
    "Ai = sp.Matrix([[0,-1,0,0],[1,0,0,0],[0,0,0,0],[0,0,0,0]]) # This is a given matrix due to revolute joints\n",
    "\n",
    "# S_sp = sp.zeros(6)\n",
    "# for i in range(6):\n",
    "#     dot_sum = sp.eye(4)\n",
    "#     for n in range(i,-1,-1):\n",
    "#         dot_sum = Tlist_DH[i] * dot_sum\n",
    "#     S_skew = dot_sum * Ai * sp.Inverse(dot_sum)\n",
    "#     S_sp[0,i] = S_skew[2,1] \n",
    "#     S_sp[1,i] = S_skew[0,2] \n",
    "#     S_sp[2,i] = S_skew[1,0] \n",
    "#     S_sp[3,i] = S_skew[0,3] \n",
    "#     S_sp[4,i] = S_skew[1,3]\n",
    "#     S_sp[5,i] = S_skew[2,3] \n",
    "\n",
    "# S_sp, sp.Matrix(Slist)"
   ]
  },
  {
   "cell_type": "markdown",
   "metadata": {},
   "source": [
    "####  Control: The Slist derived by visual inspection in Utilities/KukaKinematics and the Slist derived from the DH-formulation are in agreement. "
   ]
  },
  {
   "cell_type": "markdown",
   "metadata": {},
   "source": [
    "### 4. Determine the body-frame screw axes Bi for the Agilus robot"
   ]
  },
  {
   "cell_type": "code",
   "execution_count": 82,
   "metadata": {},
   "outputs": [
    {
     "data": {
      "text/latex": [
       "$\\displaystyle \\left( \\left[\\begin{matrix}0 & 0 & 0 & -1 & 0 & -1\\\\0 & 1 & 1 & 0 & 1 & 0\\\\-1 & 0 & 0 & 0 & 0 & 0\\\\0 & 35 & 35 & 0 & 0 & 0\\\\-900 & 0 & 0 & 0 & 0 & 0\\\\0 & -875 & -420 & 0 & 0 & 0\\end{matrix}\\right], \\  \\left[\\begin{matrix}0 & 0 & 0 & -1.0 & 0 & -1.0\\\\0 & 1.0 & 1.0 & 0 & 1.0 & 0\\\\-1.0 & 0 & 0 & 0 & 0 & 0\\\\0 & 35.0 & 35.0 & 0 & 0 & 0\\\\-900.0 & 0 & 0 & 0 & 0 & 0\\\\0 & -875.0 & -420.0 & 0 & 0 & 0\\end{matrix}\\right]\\right)$"
      ],
      "text/plain": [
       "⎛⎡ 0     0     0    -1  0  -1⎤  ⎡  0       0       0     -1.0   0   -1.0⎤⎞\n",
       "⎜⎢                           ⎥  ⎢                                       ⎥⎟\n",
       "⎜⎢ 0     1     1    0   1  0 ⎥  ⎢  0      1.0     1.0     0    1.0   0  ⎥⎟\n",
       "⎜⎢                           ⎥  ⎢                                       ⎥⎟\n",
       "⎜⎢ -1    0     0    0   0  0 ⎥  ⎢ -1.0     0       0      0     0    0  ⎥⎟\n",
       "⎜⎢                           ⎥, ⎢                                       ⎥⎟\n",
       "⎜⎢ 0     35    35   0   0  0 ⎥  ⎢  0      35.0    35.0    0     0    0  ⎥⎟\n",
       "⎜⎢                           ⎥  ⎢                                       ⎥⎟\n",
       "⎜⎢-900   0     0    0   0  0 ⎥  ⎢-900.0    0       0      0     0    0  ⎥⎟\n",
       "⎜⎢                           ⎥  ⎢                                       ⎥⎟\n",
       "⎝⎣ 0    -875  -420  0   0  0 ⎦  ⎣  0     -875.0  -420.0   0     0    0  ⎦⎠"
      ]
     },
     "execution_count": 82,
     "metadata": {},
     "output_type": "execute_result"
    }
   ],
   "source": [
    "Mb = M6*Tnb                     #Mb = Tsb for robot in zero-config\n",
    "M_inv = mr.TransInv(Mb)         #Finding inverse of M\n",
    "Ad_M_inv = mr.Adjoint(M_inv)    #Computing [Ad_M^-1]\n",
    "\n",
    "#Using B_i = [Ad_M^-1]S_i\n",
    "Blist2 = sp.zeros(6,6)\n",
    "for i in range(6):\n",
    "     Blist2[:, i] = Ad_M_inv @ Slist[:, i]\n",
    "\n",
    "Blist, Blist2\n"
   ]
  },
  {
   "cell_type": "markdown",
   "metadata": {},
   "source": [
    "####  Control: The Blist derived by visual inspection in Utilities/KukaKinematics and calculated Blist are in agreement. "
   ]
  },
  {
   "cell_type": "markdown",
   "metadata": {},
   "source": [
    "### 5. Visualization \n",
    "#### Visualization using custom class in Utilities module. The big coordinate system being the {s}-frame and joint-frames oriented with z-axis along joint screw-axis. Joint 6 is coloured red\n",
    "#### Axis colours:\n",
    "####    -Blue   -Z axis and joint screw-axis\n",
    "####    -Red    -X axis\n",
    "####    -Green  -Y axis"
   ]
  },
  {
   "cell_type": "markdown",
   "metadata": {},
   "source": [
    "#### Visualization of DH frames:"
   ]
  },
  {
   "cell_type": "code",
   "execution_count": 83,
   "metadata": {},
   "outputs": [
    {
     "data": {
      "application/vnd.jupyter.widget-view+json": {
       "model_id": "3ad339c4a2724fc5879c7f706178fbba",
       "version_major": 2,
       "version_minor": 0
      },
      "text/plain": [
       "WebVisualizer(window_uid='window_6')"
      ]
     },
     "metadata": {},
     "output_type": "display_data"
    }
   ],
   "source": [
    "#Finding M01, M02..., from List of Tsi developed in task 2.2\n",
    "Mlist_DH = np.array(Tsi,dtype=float)\n",
    "\n",
    "#Visualize frames\n",
    "KukaDH = Robot(Mlist_DH, ['z','-z','x','y','-z','z'], Tne)\n",
    "KukaDH.draw_robot()"
   ]
  },
  {
   "cell_type": "markdown",
   "metadata": {},
   "source": [
    "#### "
   ]
  },
  {
   "cell_type": "markdown",
   "metadata": {},
   "source": [
    "#### DH-frames shown as joint-frames. Note that: __Birk insert__ and that all three wrist joints are co-located with {b}. {e} is translated 80mm along x-axis of {b} to show orientation clearly."
   ]
  },
  {
   "cell_type": "code",
   "execution_count": 84,
   "metadata": {},
   "outputs": [
    {
     "data": {
      "application/vnd.jupyter.widget-view+json": {
       "model_id": "8aa7aecf37da4252820e88cf7e3ef167",
       "version_major": 2,
       "version_minor": 0
      },
      "text/plain": [
       "WebVisualizer(window_uid='window_7')"
      ]
     },
     "metadata": {},
     "output_type": "display_data"
    }
   ],
   "source": [
    "KukaDH.transform(Slist,[0,0,np.pi/2,0,0,0])\n",
    "T = KukaDH.current_config\n",
    "KukaDH.draw_robot()"
   ]
  },
  {
   "cell_type": "markdown",
   "metadata": {},
   "source": [
    "#### Robot shown in the config that was used for the DH-analysis"
   ]
  },
  {
   "cell_type": "markdown",
   "metadata": {},
   "source": [
    "#### Visualization of Kuka robot in zero-config. Showing Me, Si and Bi:\n",
    "#### Me is the chains last frame, screw axes as the joint frames' z-axis (both Bi and Si).\n",
    "#### {4} is drawn outside of the wrist to show functionality better.\n",
    "#### {b} is located inside the wrist(red/grey) and oriented as {e}"
   ]
  },
  {
   "cell_type": "code",
   "execution_count": 85,
   "metadata": {},
   "outputs": [],
   "source": [
    "Kuka = Robot(Mlist, ['z', '-z', 'x', 'x', '-z','x'], Tne)"
   ]
  },
  {
   "cell_type": "code",
   "execution_count": 86,
   "metadata": {},
   "outputs": [
    {
     "data": {
      "application/vnd.jupyter.widget-view+json": {
       "model_id": "dcab0eca0a644114a6eedf4725336c57",
       "version_major": 2,
       "version_minor": 0
      },
      "text/plain": [
       "WebVisualizer(window_uid='window_8')"
      ]
     },
     "metadata": {},
     "output_type": "display_data"
    }
   ],
   "source": [
    "Kuka.joints[5].set_colour([1,0,0])\n",
    "Kuka.joints[4].set_colour([0.2,0.2,0.2])\n",
    "Kuka.draw_robot()"
   ]
  },
  {
   "cell_type": "code",
   "execution_count": 87,
   "metadata": {},
   "outputs": [
    {
     "name": "stdout",
     "output_type": "stream",
     "text": [
      "Matrix([[1.11022302462516e-16, 1.00000000000000, -1.11022302462516e-16, 445.000000000000], [0, 1.11022302462516e-16, 1.00000000000000, 0], [1.00000000000000, -1.11022302462516e-16, 1.23259516440783e-32, 900.000000000000], [0, 0, 0, 1.00000000000000]])\n"
     ]
    }
   ],
   "source": [
    "#Oppgave 2.6\n",
    "\n",
    "joint_config1 = [0,0,0,0,0,0]\n",
    "joint_config2 = [0,0,-np.pi/2,np.pi/2,0,0]\n",
    "\n",
    "M_poe = np.array([[0,0,-1,900],\n",
    "                [0,1,0,0],\n",
    "                [1,0,0,435],\n",
    "                [0,0,0,1]])\n",
    "\n",
    "M_poe2 = np.array([[1,0,0,900],\n",
    "                [0,1,0,0],\n",
    "                [0,0,1,435],\n",
    "                [0,0,0,1]])\n",
    "\n",
    "T_poe = mr.FKinSpace(M_poe, Slist, joint_config2)\n",
    "T_poe = T_poe * Tne\n",
    "\n",
    "print(T_poe)"
   ]
  },
  {
   "cell_type": "code",
   "execution_count": 99,
   "metadata": {},
   "outputs": [
    {
     "name": "stdout",
     "output_type": "stream",
     "text": [
      "Matrix([[6.12323399573677e-17, 1.00000000000000, -6.12323399573677e-17, 445.000000000000], [0, 6.12323399573677e-17, 1.00000000000000, 0], [1.00000000000000, -6.12323399573677e-17, 3.74939945665464e-33, 900.000000000000], [0, 0, 0, 1]])\n"
     ]
    }
   ],
   "source": [
    "config2 = sicConfig.subs({th1:0,th2:0,th3:-np.pi/2,th4:np.pi/2,th5:0,th6:0}) #DH-parameters with given thetas\n",
    "T0i = T_from_sic(config2)               #List of T0i's, T01, T02, T03,...,T06\n",
    "Tsi = [rotX(sp.pi)*T for T in T0i ]     #List of Tsi's, T1, T2,...,T6\n",
    "Tse = Tsi[5] * Tne\n",
    "print(Tse)\n"
   ]
  },
  {
   "cell_type": "code",
   "execution_count": 107,
   "metadata": {},
   "outputs": [
    {
     "name": "stdout",
     "output_type": "stream",
     "text": [
      "T_DH: \n",
      " [[  1.   0.   0. 980.]\n",
      " [  0.   1.   0.   0.]\n",
      " [  0.   0.   1. 435.]\n",
      " [  0.   0.   0.   1.]]\n",
      "T_poe: \n",
      " [[  1.   0.   0. 980.]\n",
      " [  0.   1.   0.   0.]\n",
      " [  0.   0.   1. 435.]\n",
      " [  0.   0.   0.   1.]]\n",
      "True\n"
     ]
    }
   ],
   "source": [
    "def PoeDHCompare(thetaList):\n",
    "    config2 = sicConfig.subs({th1:thetaList[0],th2:thetaList[1],th3:thetaList[2],th4:thetaList[3],th5:thetaList[4],th6:thetaList[5]}) #DH-parameters with given thetas\n",
    "    T0i = T_from_sic(config2)               #List of T0i's, T01, T02, T03,...,T06\n",
    "    Tsi = [rotX(sp.pi)*T for T in T0i ]     #List of Tsi's, T1, T2,...,T6\n",
    "    Tse = Tsi[5] * Tne\n",
    "\n",
    "    T_poe = mr.FKinSpace(M_poe, Slist, thetaList) #PoE \n",
    "    T_poe = T_poe * Tne #From joint 5 to end-effector\n",
    "\n",
    "    Tse = np.array(Tse).astype(np.float64) #Convert from Matrix to Numpy Array\n",
    "    T_poe = np.array(T_poe).astype(np.float64)\n",
    "    res = np.allclose(Tse, T_poe, 0.0001) #Compares the arrays with a given resoulution\n",
    "    \n",
    "    np.set_printoptions(precision=3)\n",
    "    np.set_printoptions(suppress=True)\n",
    "    \n",
    "    #print(\"Theta List: \",thetaList)\n",
    "    print(\"T_DH: \\n\", Tse)\n",
    "    print(\"T_poe: \\n\", T_poe)\n",
    "    return res\n",
    "\n",
    "print(PoeDHCompare([0,0,0,0,0,0]))\n"
   ]
  },
  {
   "cell_type": "code",
   "execution_count": 108,
   "metadata": {},
   "outputs": [
    {
     "name": "stdout",
     "output_type": "stream",
     "text": [
      "T_DH: \n",
      " [[  0.   1.  -0. 445.]\n",
      " [  0.   0.   1.   0.]\n",
      " [  1.  -0.   0. 900.]\n",
      " [  0.   0.   0.   1.]]\n",
      "T_poe: \n",
      " [[  0.   1.  -0. 445.]\n",
      " [  0.   0.   1.   0.]\n",
      " [  1.  -0.   0. 900.]\n",
      " [  0.   0.   0.   1.]]\n"
     ]
    },
    {
     "data": {
      "text/plain": [
       "True"
      ]
     },
     "execution_count": 108,
     "metadata": {},
     "output_type": "execute_result"
    }
   ],
   "source": [
    "PoeDHCompare([0,0,-np.pi/2,np.pi/2,0,0])"
   ]
  },
  {
   "cell_type": "code",
   "execution_count": 109,
   "metadata": {},
   "outputs": [
    {
     "name": "stdout",
     "output_type": "stream",
     "text": [
      "T_DH: \n",
      " [[  -0.941   -0.261    0.217   -6.159]\n",
      " [   0.155    0.239    0.959  -95.248]\n",
      " [  -0.302    0.935   -0.184 -403.507]\n",
      " [   0.       0.       0.       1.   ]]\n",
      "T_poe: \n",
      " [[  -0.941   -0.261    0.217   -6.159]\n",
      " [   0.155    0.239    0.959  -95.248]\n",
      " [  -0.302    0.935   -0.184 -403.507]\n",
      " [   0.       0.       0.       1.   ]]\n"
     ]
    },
    {
     "data": {
      "text/plain": [
       "True"
      ]
     },
     "execution_count": 109,
     "metadata": {},
     "output_type": "execute_result"
    }
   ],
   "source": [
    "PoeDHCompare([1,1,1,1,1,1])"
   ]
  },
  {
   "cell_type": "code",
   "execution_count": 110,
   "metadata": {},
   "outputs": [
    {
     "name": "stdout",
     "output_type": "stream",
     "text": [
      "T_DH: \n",
      " [[   0.707    0.707    0.     692.965]\n",
      " [  -0.707    0.707    0.    -692.965]\n",
      " [   0.       0.       1.     435.   ]\n",
      " [   0.       0.       0.       1.   ]]\n",
      "T_poe: \n",
      " [[   0.707    0.707    0.     692.965]\n",
      " [  -0.707    0.707    0.    -692.965]\n",
      " [   0.       0.       1.     435.   ]\n",
      " [   0.       0.       0.       1.   ]]\n"
     ]
    },
    {
     "data": {
      "text/plain": [
       "True"
      ]
     },
     "execution_count": 110,
     "metadata": {},
     "output_type": "execute_result"
    }
   ],
   "source": [
    "PoeDHCompare([np.pi/4,0,0,0,0,0])"
   ]
  },
  {
   "cell_type": "code",
   "execution_count": 111,
   "metadata": {},
   "outputs": [
    {
     "name": "stdout",
     "output_type": "stream",
     "text": [
      "T_DH: \n",
      " [[  1.   0.   0. 980.]\n",
      " [  0.   0.   1.   0.]\n",
      " [  0.  -1.   0. 435.]\n",
      " [  0.   0.   0.   1.]]\n",
      "T_poe: \n",
      " [[  1.   0.   0. 980.]\n",
      " [  0.   0.   1.   0.]\n",
      " [  0.  -1.   0. 435.]\n",
      " [  0.   0.   0.   1.]]\n"
     ]
    },
    {
     "data": {
      "text/plain": [
       "True"
      ]
     },
     "execution_count": 111,
     "metadata": {},
     "output_type": "execute_result"
    }
   ],
   "source": [
    "PoeDHCompare([0,0,0,0,0,np.pi/2])"
   ]
  },
  {
   "cell_type": "code",
   "execution_count": 112,
   "metadata": {},
   "outputs": [
    {
     "data": {
      "text/plain": [
       "array([[   0.,    0.,    0.,   -1.,    0.,   -1.],\n",
       "       [   0.,    1.,    1.,    0.,    1.,    0.],\n",
       "       [  -1.,    0.,    0.,    0.,    0.,    0.],\n",
       "       [   0., -400., -400.,    0., -435.,    0.],\n",
       "       [   0.,    0.,    0., -435.,    0., -435.],\n",
       "       [   0.,   25.,  480.,    0.,  900.,    0.]])"
      ]
     },
     "execution_count": 112,
     "metadata": {},
     "output_type": "execute_result"
    }
   ],
   "source": [
    "Slist"
   ]
  },
  {
   "cell_type": "code",
   "execution_count": 113,
   "metadata": {},
   "outputs": [
    {
     "data": {
      "text/latex": [
       "$\\displaystyle \\left[\\begin{matrix}0 & 0 & 0 & -1 & 0 & -1\\\\0 & 1 & 1 & 0 & 1 & 0\\\\-1 & 0 & 0 & 0 & 0 & 0\\\\0 & 35 & 35 & 0 & 0 & 0\\\\-900 & 0 & 0 & 0 & 0 & 0\\\\0 & -875 & -420 & 0 & 0 & 0\\end{matrix}\\right]$"
      ],
      "text/plain": [
       "⎡ 0     0     0    -1  0  -1⎤\n",
       "⎢                           ⎥\n",
       "⎢ 0     1     1    0   1  0 ⎥\n",
       "⎢                           ⎥\n",
       "⎢ -1    0     0    0   0  0 ⎥\n",
       "⎢                           ⎥\n",
       "⎢ 0     35    35   0   0  0 ⎥\n",
       "⎢                           ⎥\n",
       "⎢-900   0     0    0   0  0 ⎥\n",
       "⎢                           ⎥\n",
       "⎣ 0    -875  -420  0   0  0 ⎦"
      ]
     },
     "execution_count": 113,
     "metadata": {},
     "output_type": "execute_result"
    }
   ],
   "source": [
    "Blist"
   ]
  },
  {
   "cell_type": "code",
   "execution_count": 114,
   "metadata": {},
   "outputs": [],
   "source": [
    "Ts_poe = (exp6(Slist[:,0], th1) * exp6(Slist[:,1], th2) * exp6(Slist[:,2], th3) * exp6(Slist[:,3], th4) * exp6(Slist[:,4], th5) * exp6(Slist[:,5], th6)) * M_poe\n",
    "\n",
    "Tb_poe = M_poe * (exp6(Blist[:,0], th1) * exp6(Blist[:,1], th2) * exp6(Blist[:,2], th3) * exp6(Blist[:,3], th4) * exp6(Blist[:,4], th5) * exp6(Blist[:,5], th6))\n",
    "\n",
    "\n",
    "\n",
    "\n",
    "Ts_poe.simplify()\n",
    "Tb_poe.simplify()"
   ]
  },
  {
   "cell_type": "code",
   "execution_count": 115,
   "metadata": {},
   "outputs": [
    {
     "data": {
      "text/latex": [
       "$\\displaystyle \\left[\\begin{matrix}1.0 \\left(\\left(\\sin{\\left(\\theta_{2} + \\theta_{3} \\right)} \\cos{\\left(\\theta_{1} \\right)} \\cos{\\left(\\theta_{4} \\right)} + \\sin{\\left(\\theta_{1} \\right)} \\sin{\\left(\\theta_{4} \\right)}\\right) \\cos{\\left(\\theta_{5} \\right)} + \\sin{\\left(\\theta_{5} \\right)} \\cos{\\left(\\theta_{2} + \\theta_{3} \\right)} \\cos{\\left(\\theta_{1} \\right)}\\right) \\cos{\\left(\\theta_{6} \\right)} - 1.0 \\left(\\sin{\\left(\\theta_{2} + \\theta_{3} \\right)} \\sin{\\left(\\theta_{4} \\right)} \\cos{\\left(\\theta_{1} \\right)} - \\sin{\\left(\\theta_{1} \\right)} \\cos{\\left(\\theta_{4} \\right)}\\right) \\sin{\\left(\\theta_{6} \\right)} & - 1.0 \\left(\\left(\\sin{\\left(\\theta_{2} + \\theta_{3} \\right)} \\cos{\\left(\\theta_{1} \\right)} \\cos{\\left(\\theta_{4} \\right)} + \\sin{\\left(\\theta_{1} \\right)} \\sin{\\left(\\theta_{4} \\right)}\\right) \\cos{\\left(\\theta_{5} \\right)} + \\sin{\\left(\\theta_{5} \\right)} \\cos{\\left(\\theta_{2} + \\theta_{3} \\right)} \\cos{\\left(\\theta_{1} \\right)}\\right) \\sin{\\left(\\theta_{6} \\right)} - 1.0 \\left(\\sin{\\left(\\theta_{2} + \\theta_{3} \\right)} \\sin{\\left(\\theta_{4} \\right)} \\cos{\\left(\\theta_{1} \\right)} - \\sin{\\left(\\theta_{1} \\right)} \\cos{\\left(\\theta_{4} \\right)}\\right) \\cos{\\left(\\theta_{6} \\right)} & 1.0 \\left(\\sin{\\left(\\theta_{2} + \\theta_{3} \\right)} \\cos{\\left(\\theta_{1} \\right)} \\cos{\\left(\\theta_{4} \\right)} + \\sin{\\left(\\theta_{1} \\right)} \\sin{\\left(\\theta_{4} \\right)}\\right) \\sin{\\left(\\theta_{5} \\right)} - 1.0 \\cos{\\left(\\theta_{2} + \\theta_{3} \\right)} \\cos{\\left(\\theta_{1} \\right)} \\cos{\\left(\\theta_{5} \\right)} & \\left(35.0 \\sin{\\left(\\theta_{2} + \\theta_{3} \\right)} + 420.0 \\cos{\\left(\\theta_{2} + \\theta_{3} \\right)} + 455.0 \\cos{\\left(\\theta_{2} \\right)} + 25.0\\right) \\cos{\\left(\\theta_{1} \\right)}\\\\- 1.0 \\left(\\left(\\sin{\\left(\\theta_{2} + \\theta_{3} \\right)} \\sin{\\left(\\theta_{1} \\right)} \\cos{\\left(\\theta_{4} \\right)} - \\sin{\\left(\\theta_{4} \\right)} \\cos{\\left(\\theta_{1} \\right)}\\right) \\cos{\\left(\\theta_{5} \\right)} + \\sin{\\left(\\theta_{1} \\right)} \\sin{\\left(\\theta_{5} \\right)} \\cos{\\left(\\theta_{2} + \\theta_{3} \\right)}\\right) \\cos{\\left(\\theta_{6} \\right)} + 1.0 \\left(\\sin{\\left(\\theta_{2} + \\theta_{3} \\right)} \\sin{\\left(\\theta_{1} \\right)} \\sin{\\left(\\theta_{4} \\right)} + \\cos{\\left(\\theta_{1} \\right)} \\cos{\\left(\\theta_{4} \\right)}\\right) \\sin{\\left(\\theta_{6} \\right)} & 1.0 \\left(\\left(\\sin{\\left(\\theta_{2} + \\theta_{3} \\right)} \\sin{\\left(\\theta_{1} \\right)} \\cos{\\left(\\theta_{4} \\right)} - \\sin{\\left(\\theta_{4} \\right)} \\cos{\\left(\\theta_{1} \\right)}\\right) \\cos{\\left(\\theta_{5} \\right)} + \\sin{\\left(\\theta_{1} \\right)} \\sin{\\left(\\theta_{5} \\right)} \\cos{\\left(\\theta_{2} + \\theta_{3} \\right)}\\right) \\sin{\\left(\\theta_{6} \\right)} + 1.0 \\left(\\sin{\\left(\\theta_{2} + \\theta_{3} \\right)} \\sin{\\left(\\theta_{1} \\right)} \\sin{\\left(\\theta_{4} \\right)} + \\cos{\\left(\\theta_{1} \\right)} \\cos{\\left(\\theta_{4} \\right)}\\right) \\cos{\\left(\\theta_{6} \\right)} & - 1.0 \\left(\\sin{\\left(\\theta_{2} + \\theta_{3} \\right)} \\sin{\\left(\\theta_{1} \\right)} \\cos{\\left(\\theta_{4} \\right)} - \\sin{\\left(\\theta_{4} \\right)} \\cos{\\left(\\theta_{1} \\right)}\\right) \\sin{\\left(\\theta_{5} \\right)} + 1.0 \\sin{\\left(\\theta_{1} \\right)} \\cos{\\left(\\theta_{2} + \\theta_{3} \\right)} \\cos{\\left(\\theta_{5} \\right)} & - \\left(35.0 \\sin{\\left(\\theta_{2} + \\theta_{3} \\right)} + 420.0 \\cos{\\left(\\theta_{2} + \\theta_{3} \\right)} + 455.0 \\cos{\\left(\\theta_{2} \\right)} + 25.0\\right) \\sin{\\left(\\theta_{1} \\right)}\\\\- 1.0 \\left(\\sin{\\left(\\theta_{2} + \\theta_{3} \\right)} \\sin{\\left(\\theta_{5} \\right)} - \\cos{\\left(\\theta_{2} + \\theta_{3} \\right)} \\cos{\\left(\\theta_{4} \\right)} \\cos{\\left(\\theta_{5} \\right)}\\right) \\cos{\\left(\\theta_{6} \\right)} - 1.0 \\sin{\\left(\\theta_{4} \\right)} \\sin{\\left(\\theta_{6} \\right)} \\cos{\\left(\\theta_{2} + \\theta_{3} \\right)} & 1.0 \\left(\\sin{\\left(\\theta_{2} + \\theta_{3} \\right)} \\sin{\\left(\\theta_{5} \\right)} - \\cos{\\left(\\theta_{2} + \\theta_{3} \\right)} \\cos{\\left(\\theta_{4} \\right)} \\cos{\\left(\\theta_{5} \\right)}\\right) \\sin{\\left(\\theta_{6} \\right)} - 1.0 \\sin{\\left(\\theta_{4} \\right)} \\cos{\\left(\\theta_{2} + \\theta_{3} \\right)} \\cos{\\left(\\theta_{6} \\right)} & 1.0 \\sin{\\left(\\theta_{2} + \\theta_{3} \\right)} \\cos{\\left(\\theta_{5} \\right)} + 1.0 \\sin{\\left(\\theta_{5} \\right)} \\cos{\\left(\\theta_{2} + \\theta_{3} \\right)} \\cos{\\left(\\theta_{4} \\right)} & - 420.0 \\sin{\\left(\\theta_{2} + \\theta_{3} \\right)} - 455.0 \\sin{\\left(\\theta_{2} \\right)} + 35.0 \\cos{\\left(\\theta_{2} + \\theta_{3} \\right)} + 400.0\\\\0 & 0 & 0 & 1\\end{matrix}\\right]$"
      ],
      "text/plain": [
       "⎡1.0⋅((sin(θ₂ + θ₃)⋅cos(θ₁)⋅cos(θ₄) + sin(θ₁)⋅sin(θ₄))⋅cos(θ₅) + sin(θ₅)⋅cos(θ\n",
       "⎢                                                                             \n",
       "⎢-((sin(θ₂ + θ₃)⋅sin(θ₁)⋅cos(θ₄) - sin(θ₄)⋅cos(θ₁))⋅cos(θ₅) + sin(θ₁)⋅sin(θ₅)⋅\n",
       "⎢                                                                             \n",
       "⎢                                  -(sin(θ₂ + θ₃)⋅sin(θ₅) - cos(θ₂ + θ₃)⋅cos(θ\n",
       "⎢                                                                             \n",
       "⎣                                                                             \n",
       "\n",
       "₂ + θ₃)⋅cos(θ₁))⋅cos(θ₆) - (sin(θ₂ + θ₃)⋅sin(θ₄)⋅cos(θ₁) - sin(θ₁)⋅cos(θ₄))⋅si\n",
       "                                                                              \n",
       "cos(θ₂ + θ₃))⋅cos(θ₆) + 1.0⋅(sin(θ₂ + θ₃)⋅sin(θ₁)⋅sin(θ₄) + cos(θ₁)⋅cos(θ₄))⋅s\n",
       "                                                                              \n",
       "₄)⋅cos(θ₅))⋅cos(θ₆) - sin(θ₄)⋅sin(θ₆)⋅cos(θ₂ + θ₃)                            \n",
       "                                                                              \n",
       "   0                                                                          \n",
       "\n",
       "n(θ₆)      -((sin(θ₂ + θ₃)⋅cos(θ₁)⋅cos(θ₄) + sin(θ₁)⋅sin(θ₄))⋅cos(θ₅) + sin(θ₅\n",
       "                                                                              \n",
       "in(θ₆)  1.0⋅((sin(θ₂ + θ₃)⋅sin(θ₁)⋅cos(θ₄) - sin(θ₄)⋅cos(θ₁))⋅cos(θ₅) + sin(θ₁\n",
       "                                                                              \n",
       "                                          1.0⋅(sin(θ₂ + θ₃)⋅sin(θ₅) - cos(θ₂ +\n",
       "                                                                              \n",
       "                                                                              \n",
       "\n",
       ")⋅cos(θ₂ + θ₃)⋅cos(θ₁))⋅sin(θ₆) - (sin(θ₂ + θ₃)⋅sin(θ₄)⋅cos(θ₁) - sin(θ₁)⋅cos(\n",
       "                                                                              \n",
       ")⋅sin(θ₅)⋅cos(θ₂ + θ₃))⋅sin(θ₆) + 1.0⋅(sin(θ₂ + θ₃)⋅sin(θ₁)⋅sin(θ₄) + cos(θ₁)⋅\n",
       "                                                                              \n",
       " θ₃)⋅cos(θ₄)⋅cos(θ₅))⋅sin(θ₆) - sin(θ₄)⋅cos(θ₂ + θ₃)⋅cos(θ₆)                  \n",
       "                                                                              \n",
       "           0                                                                  \n",
       "\n",
       "θ₄))⋅cos(θ₆)      1.0⋅(sin(θ₂ + θ₃)⋅cos(θ₁)⋅cos(θ₄) + sin(θ₁)⋅sin(θ₄))⋅sin(θ₅)\n",
       "                                                                              \n",
       "cos(θ₄))⋅cos(θ₆)  -(sin(θ₂ + θ₃)⋅sin(θ₁)⋅cos(θ₄) - sin(θ₄)⋅cos(θ₁))⋅sin(θ₅) + \n",
       "                                                                              \n",
       "                                  1.0⋅sin(θ₂ + θ₃)⋅cos(θ₅) + 1.0⋅sin(θ₅)⋅cos(θ\n",
       "                                                                              \n",
       "                                                               0              \n",
       "\n",
       " - cos(θ₂ + θ₃)⋅cos(θ₁)⋅cos(θ₅)   (35.0⋅sin(θ₂ + θ₃) + 420.0⋅cos(θ₂ + θ₃) + 45\n",
       "                                                                              \n",
       "1.0⋅sin(θ₁)⋅cos(θ₂ + θ₃)⋅cos(θ₅)  -(35.0⋅sin(θ₂ + θ₃) + 420.0⋅cos(θ₂ + θ₃) + 4\n",
       "                                                                              \n",
       "₂ + θ₃)⋅cos(θ₄)                       -420.0⋅sin(θ₂ + θ₃) - 455.0⋅sin(θ₂) + 35\n",
       "                                                                              \n",
       "                                                                     1        \n",
       "\n",
       "5.0⋅cos(θ₂) + 25.0)⋅cos(θ₁) ⎤\n",
       "                            ⎥\n",
       "55.0⋅cos(θ₂) + 25.0)⋅sin(θ₁)⎥\n",
       "                            ⎥\n",
       ".0⋅cos(θ₂ + θ₃) + 400.0     ⎥\n",
       "                            ⎥\n",
       "                            ⎦"
      ]
     },
     "execution_count": 115,
     "metadata": {},
     "output_type": "execute_result"
    }
   ],
   "source": [
    "Ts_poe\n"
   ]
  },
  {
   "cell_type": "code",
   "execution_count": 116,
   "metadata": {},
   "outputs": [
    {
     "data": {
      "text/latex": [
       "$\\displaystyle \\left[\\begin{matrix}\\sin{\\left(\\theta_{2} + \\theta_{3} \\right)} \\cos{\\left(\\theta_{5} \\right)} + \\sin{\\left(\\theta_{5} \\right)} \\cos{\\left(\\theta_{2} + \\theta_{3} \\right)} \\cos{\\left(\\theta_{4} \\right)} & - \\left(\\sin{\\left(\\theta_{2} + \\theta_{3} \\right)} \\sin{\\left(\\theta_{5} \\right)} - \\cos{\\left(\\theta_{2} + \\theta_{3} \\right)} \\cos{\\left(\\theta_{4} \\right)} \\cos{\\left(\\theta_{5} \\right)}\\right) \\sin{\\left(\\theta_{6} \\right)} + \\sin{\\left(\\theta_{4} \\right)} \\cos{\\left(\\theta_{2} + \\theta_{3} \\right)} \\cos{\\left(\\theta_{6} \\right)} & \\left(\\sin{\\left(\\theta_{2} + \\theta_{3} \\right)} \\sin{\\left(\\theta_{5} \\right)} - \\cos{\\left(\\theta_{2} + \\theta_{3} \\right)} \\cos{\\left(\\theta_{4} \\right)} \\cos{\\left(\\theta_{5} \\right)}\\right) \\cos{\\left(\\theta_{6} \\right)} + \\sin{\\left(\\theta_{4} \\right)} \\sin{\\left(\\theta_{6} \\right)} \\cos{\\left(\\theta_{2} + \\theta_{3} \\right)} & 420 \\sin{\\left(\\theta_{2} + \\theta_{3} \\right)} + 455 \\sin{\\left(\\theta_{2} \\right)} - 35 \\cos{\\left(\\theta_{2} + \\theta_{3} \\right)} + 935\\\\\\left(\\sin{\\left(\\theta_{2} + \\theta_{3} \\right)} \\sin{\\left(\\theta_{1} \\right)} \\cos{\\left(\\theta_{4} \\right)} - \\sin{\\left(\\theta_{4} \\right)} \\cos{\\left(\\theta_{1} \\right)}\\right) \\sin{\\left(\\theta_{5} \\right)} - \\sin{\\left(\\theta_{1} \\right)} \\cos{\\left(\\theta_{2} + \\theta_{3} \\right)} \\cos{\\left(\\theta_{5} \\right)} & \\left(\\left(\\sin{\\left(\\theta_{2} + \\theta_{3} \\right)} \\sin{\\left(\\theta_{1} \\right)} \\cos{\\left(\\theta_{4} \\right)} - \\sin{\\left(\\theta_{4} \\right)} \\cos{\\left(\\theta_{1} \\right)}\\right) \\cos{\\left(\\theta_{5} \\right)} + \\sin{\\left(\\theta_{1} \\right)} \\sin{\\left(\\theta_{5} \\right)} \\cos{\\left(\\theta_{2} + \\theta_{3} \\right)}\\right) \\sin{\\left(\\theta_{6} \\right)} + \\left(\\sin{\\left(\\theta_{2} + \\theta_{3} \\right)} \\sin{\\left(\\theta_{1} \\right)} \\sin{\\left(\\theta_{4} \\right)} + \\cos{\\left(\\theta_{1} \\right)} \\cos{\\left(\\theta_{4} \\right)}\\right) \\cos{\\left(\\theta_{6} \\right)} & - \\left(\\left(\\sin{\\left(\\theta_{2} + \\theta_{3} \\right)} \\sin{\\left(\\theta_{1} \\right)} \\cos{\\left(\\theta_{4} \\right)} - \\sin{\\left(\\theta_{4} \\right)} \\cos{\\left(\\theta_{1} \\right)}\\right) \\cos{\\left(\\theta_{5} \\right)} + \\sin{\\left(\\theta_{1} \\right)} \\sin{\\left(\\theta_{5} \\right)} \\cos{\\left(\\theta_{2} + \\theta_{3} \\right)}\\right) \\cos{\\left(\\theta_{6} \\right)} + \\left(\\sin{\\left(\\theta_{2} + \\theta_{3} \\right)} \\sin{\\left(\\theta_{1} \\right)} \\sin{\\left(\\theta_{4} \\right)} + \\cos{\\left(\\theta_{1} \\right)} \\cos{\\left(\\theta_{4} \\right)}\\right) \\sin{\\left(\\theta_{6} \\right)} & - 5 \\left(7 \\sin{\\left(\\theta_{2} + \\theta_{3} \\right)} + 84 \\cos{\\left(\\theta_{2} + \\theta_{3} \\right)} + 91 \\cos{\\left(\\theta_{2} \\right)} + 5\\right) \\sin{\\left(\\theta_{1} \\right)}\\\\- \\left(\\sin{\\left(\\theta_{2} + \\theta_{3} \\right)} \\cos{\\left(\\theta_{1} \\right)} \\cos{\\left(\\theta_{4} \\right)} + \\sin{\\left(\\theta_{1} \\right)} \\sin{\\left(\\theta_{4} \\right)}\\right) \\sin{\\left(\\theta_{5} \\right)} + \\cos{\\left(\\theta_{2} + \\theta_{3} \\right)} \\cos{\\left(\\theta_{1} \\right)} \\cos{\\left(\\theta_{5} \\right)} & - \\left(\\left(\\sin{\\left(\\theta_{2} + \\theta_{3} \\right)} \\cos{\\left(\\theta_{1} \\right)} \\cos{\\left(\\theta_{4} \\right)} + \\sin{\\left(\\theta_{1} \\right)} \\sin{\\left(\\theta_{4} \\right)}\\right) \\cos{\\left(\\theta_{5} \\right)} + \\sin{\\left(\\theta_{5} \\right)} \\cos{\\left(\\theta_{2} + \\theta_{3} \\right)} \\cos{\\left(\\theta_{1} \\right)}\\right) \\sin{\\left(\\theta_{6} \\right)} - \\left(\\sin{\\left(\\theta_{2} + \\theta_{3} \\right)} \\sin{\\left(\\theta_{4} \\right)} \\cos{\\left(\\theta_{1} \\right)} - \\sin{\\left(\\theta_{1} \\right)} \\cos{\\left(\\theta_{4} \\right)}\\right) \\cos{\\left(\\theta_{6} \\right)} & \\left(\\left(\\sin{\\left(\\theta_{2} + \\theta_{3} \\right)} \\cos{\\left(\\theta_{1} \\right)} \\cos{\\left(\\theta_{4} \\right)} + \\sin{\\left(\\theta_{1} \\right)} \\sin{\\left(\\theta_{4} \\right)}\\right) \\cos{\\left(\\theta_{5} \\right)} + \\sin{\\left(\\theta_{5} \\right)} \\cos{\\left(\\theta_{2} + \\theta_{3} \\right)} \\cos{\\left(\\theta_{1} \\right)}\\right) \\cos{\\left(\\theta_{6} \\right)} - \\left(\\sin{\\left(\\theta_{2} + \\theta_{3} \\right)} \\sin{\\left(\\theta_{4} \\right)} \\cos{\\left(\\theta_{1} \\right)} - \\sin{\\left(\\theta_{1} \\right)} \\cos{\\left(\\theta_{4} \\right)}\\right) \\sin{\\left(\\theta_{6} \\right)} & 35 \\sin{\\left(\\theta_{2} + \\theta_{3} \\right)} \\cos{\\left(\\theta_{1} \\right)} + 420 \\cos{\\left(\\theta_{2} + \\theta_{3} \\right)} \\cos{\\left(\\theta_{1} \\right)} + 455 \\cos{\\left(\\theta_{1} \\right)} \\cos{\\left(\\theta_{2} \\right)} + 25 \\cos{\\left(\\theta_{1} \\right)} - 465\\\\0 & 0 & 0 & 1\\end{matrix}\\right]$"
      ],
      "text/plain": [
       "⎡                  sin(θ₂ + θ₃)⋅cos(θ₅) + sin(θ₅)⋅cos(θ₂ + θ₃)⋅cos(θ₄)        \n",
       "⎢                                                                             \n",
       "⎢(sin(θ₂ + θ₃)⋅sin(θ₁)⋅cos(θ₄) - sin(θ₄)⋅cos(θ₁))⋅sin(θ₅) - sin(θ₁)⋅cos(θ₂ + θ\n",
       "⎢                                                                             \n",
       "⎢-(sin(θ₂ + θ₃)⋅cos(θ₁)⋅cos(θ₄) + sin(θ₁)⋅sin(θ₄))⋅sin(θ₅) + cos(θ₂ + θ₃)⋅cos(\n",
       "⎢                                                                             \n",
       "⎣                                           0                                 \n",
       "\n",
       "                                             -(sin(θ₂ + θ₃)⋅sin(θ₅) - cos(θ₂ +\n",
       "                                                                              \n",
       "₃)⋅cos(θ₅)   ((sin(θ₂ + θ₃)⋅sin(θ₁)⋅cos(θ₄) - sin(θ₄)⋅cos(θ₁))⋅cos(θ₅) + sin(θ\n",
       "                                                                              \n",
       "θ₁)⋅cos(θ₅)  -((sin(θ₂ + θ₃)⋅cos(θ₁)⋅cos(θ₄) + sin(θ₁)⋅sin(θ₄))⋅cos(θ₅) + sin(\n",
       "                                                                              \n",
       "                                                                              \n",
       "\n",
       " θ₃)⋅cos(θ₄)⋅cos(θ₅))⋅sin(θ₆) + sin(θ₄)⋅cos(θ₂ + θ₃)⋅cos(θ₆)                  \n",
       "                                                                              \n",
       "₁)⋅sin(θ₅)⋅cos(θ₂ + θ₃))⋅sin(θ₆) + (sin(θ₂ + θ₃)⋅sin(θ₁)⋅sin(θ₄) + cos(θ₁)⋅cos\n",
       "                                                                              \n",
       "θ₅)⋅cos(θ₂ + θ₃)⋅cos(θ₁))⋅sin(θ₆) - (sin(θ₂ + θ₃)⋅sin(θ₄)⋅cos(θ₁) - sin(θ₁)⋅co\n",
       "                                                                              \n",
       "             0                                                                \n",
       "\n",
       "                                                (sin(θ₂ + θ₃)⋅sin(θ₅) - cos(θ₂\n",
       "                                                                              \n",
       "(θ₄))⋅cos(θ₆)   -((sin(θ₂ + θ₃)⋅sin(θ₁)⋅cos(θ₄) - sin(θ₄)⋅cos(θ₁))⋅cos(θ₅) + s\n",
       "                                                                              \n",
       "s(θ₄))⋅cos(θ₆)  ((sin(θ₂ + θ₃)⋅cos(θ₁)⋅cos(θ₄) + sin(θ₁)⋅sin(θ₄))⋅cos(θ₅) + si\n",
       "                                                                              \n",
       "                                                                              \n",
       "\n",
       " + θ₃)⋅cos(θ₄)⋅cos(θ₅))⋅cos(θ₆) + sin(θ₄)⋅sin(θ₆)⋅cos(θ₂ + θ₃)                \n",
       "                                                                              \n",
       "in(θ₁)⋅sin(θ₅)⋅cos(θ₂ + θ₃))⋅cos(θ₆) + (sin(θ₂ + θ₃)⋅sin(θ₁)⋅sin(θ₄) + cos(θ₁)\n",
       "                                                                              \n",
       "n(θ₅)⋅cos(θ₂ + θ₃)⋅cos(θ₁))⋅cos(θ₆) - (sin(θ₂ + θ₃)⋅sin(θ₄)⋅cos(θ₁) - sin(θ₁)⋅\n",
       "                                                                              \n",
       "                0                                                             \n",
       "\n",
       "                                     420⋅sin(θ₂ + θ₃) + 455⋅sin(θ₂) - 35⋅cos(θ\n",
       "                                                                              \n",
       "⋅cos(θ₄))⋅sin(θ₆)                -5⋅(7⋅sin(θ₂ + θ₃) + 84⋅cos(θ₂ + θ₃) + 91⋅cos\n",
       "                                                                              \n",
       "cos(θ₄))⋅sin(θ₆)   35⋅sin(θ₂ + θ₃)⋅cos(θ₁) + 420⋅cos(θ₂ + θ₃)⋅cos(θ₁) + 455⋅co\n",
       "                                                                              \n",
       "                                                                1             \n",
       "\n",
       "₂ + θ₃) + 935                   ⎤\n",
       "                                ⎥\n",
       "(θ₂) + 5)⋅sin(θ₁)               ⎥\n",
       "                                ⎥\n",
       "s(θ₁)⋅cos(θ₂) + 25⋅cos(θ₁) - 465⎥\n",
       "                                ⎥\n",
       "                                ⎦"
      ]
     },
     "execution_count": 116,
     "metadata": {},
     "output_type": "execute_result"
    }
   ],
   "source": [
    "Tb_poe"
   ]
  }
 ],
 "metadata": {
  "interpreter": {
   "hash": "815224060b00a050660c7b9310329981a1e8f5f6161b36a2fd002dddd54a25e1"
  },
  "kernelspec": {
   "display_name": "Python 3.8.11 64-bit ('py38': conda)",
   "name": "python3"
  },
  "language_info": {
   "codemirror_mode": {
    "name": "ipython",
    "version": 3
   },
   "file_extension": ".py",
   "mimetype": "text/x-python",
   "name": "python",
   "nbconvert_exporter": "python",
   "pygments_lexer": "ipython3",
   "version": "3.8.5"
  },
  "orig_nbformat": 4
 },
 "nbformat": 4,
 "nbformat_minor": 2
}
