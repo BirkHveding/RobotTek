{
 "cells": [
  {
   "cell_type": "code",
   "execution_count": 1,
   "metadata": {},
   "outputs": [],
   "source": [
    "import modern_robotics as mr\n",
    "import sympy as sp\n",
    "from sympy.physics.mechanics import dynamicsymbols, mechanics_printing\n",
    "mechanics_printing()"
   ]
  },
  {
   "cell_type": "code",
   "execution_count": 2,
   "metadata": {},
   "outputs": [],
   "source": [
    "def exp3(omega, theta):\n",
    "    omega = sp.skew(omega)\n",
    "    R = sp.eye(3) + sp.sin(theta) * omega + (1 - sp.cos(theta)) * omega * omega\n",
    "    return R\n",
    "\n",
    "def Ad(T):\n",
    "    AdT = sp.zeros(6)\n",
    "    R = sp.Matrix(T[:3, :3])\n",
    "    AdT[:3, :3] = R\n",
    "    AdT[3:, 3:] = R\n",
    "    AdT[3:, :3] = sp.skew(T[:3, 3]) * R\n",
    "    return AdT\n",
    "\n",
    "def rotX(alfa_im1):\n",
    "    Rx = sp.eye(4)\n",
    "    Rx[1,1] =    sp.cos(alfa_im1)\n",
    "    Rx[1,2] =   -sp.sin(alfa_im1)\n",
    "    Rx[2,1] =    sp.sin(alfa_im1)\n",
    "    Rx[2,2] =    sp.cos(alfa_im1)\n",
    "    return Rx\n",
    "\n",
    "def rotZ(alfa_im1):\n",
    "    Rz = sp.eye(4)\n",
    "    Rz[0,0] =    sp.cos(alfa_im1)\n",
    "    Rz[0,1] =   -sp.sin(alfa_im1)\n",
    "    Rz[1,0] =    sp.sin(alfa_im1)\n",
    "    Rz[1,1] =    sp.cos(alfa_im1)\n",
    "    return Rz\n",
    "\n",
    "def transX(a_im1):\n",
    "    trA = sp.eye(4)\n",
    "    trA[0,3] =  a_im1\n",
    "    return trA\n",
    "\n",
    "def transZ(d_i):\n",
    "    trA = sp.eye(4)\n",
    "    trA[2,3] =  d_i\n",
    "    return trA\n"
   ]
  },
  {
   "cell_type": "code",
   "execution_count": 10,
   "metadata": {},
   "outputs": [
    {
     "name": "stdout",
     "output_type": "stream",
     "text": [
      "Task 1:\n"
     ]
    },
    {
     "data": {
      "text/latex": [
       "$\\displaystyle \\left[\\begin{matrix}0 & 0 & 0 & \\theta_{1}\\\\\\frac{\\pi}{2} & 0 & 0 & \\theta_{2}\\\\0 & 455 & 0 & \\theta_{3}\\\\\\frac{\\pi}{2} & 35 & 420 & \\theta_{4}\\\\\\frac{\\pi}{2} & 0 & 0 & \\theta_{5}\\\\\\frac{\\pi}{2} & 0 & 0 & \\theta_{6}\\end{matrix}\\right]$"
      ],
      "text/plain": [
       "⎡0   0    0   θ₁⎤\n",
       "⎢               ⎥\n",
       "⎢π              ⎥\n",
       "⎢─   0    0   θ₂⎥\n",
       "⎢2              ⎥\n",
       "⎢               ⎥\n",
       "⎢0  455   0   θ₃⎥\n",
       "⎢               ⎥\n",
       "⎢π              ⎥\n",
       "⎢─  35   420  θ₄⎥\n",
       "⎢2              ⎥\n",
       "⎢               ⎥\n",
       "⎢π              ⎥\n",
       "⎢─   0    0   θ₅⎥\n",
       "⎢2              ⎥\n",
       "⎢               ⎥\n",
       "⎢π              ⎥\n",
       "⎢─   0    0   θ₆⎥\n",
       "⎣2              ⎦"
      ]
     },
     "execution_count": 10,
     "metadata": {},
     "output_type": "execute_result"
    }
   ],
   "source": [
    "# Oppg 1\n",
    "print(\"Task 1:\")\n",
    "\n",
    "th1, th2, th3, th4, th5, th6 = dynamicsymbols('theta_1, theta_2, theta_3, theta_4, theta_5, theta_6')\n",
    "\n",
    "config = sp.Matrix([[0,0,0,th1],[sp.pi/2,0,0,th2],[0,455,0,th3],[sp.pi/2, 35, 420, th4],[sp.pi/2,0,0,th5],[sp.pi/2, 0,0,th6]])\n",
    "config"
   ]
  },
  {
   "cell_type": "code",
   "execution_count": 4,
   "metadata": {},
   "outputs": [
    {
     "data": {
      "text/latex": [
       "$\\displaystyle \\left[\\begin{matrix}1 & 0 & 0 & 490\\\\0 & 1 & 0 & 0\\\\0 & 0 & 1 & -420\\\\0 & 0 & 0 & 1\\end{matrix}\\right]$"
      ],
      "text/plain": [
       "⎡1  0  0  490 ⎤\n",
       "⎢             ⎥\n",
       "⎢0  1  0   0  ⎥\n",
       "⎢             ⎥\n",
       "⎢0  0  1  -420⎥\n",
       "⎢             ⎥\n",
       "⎣0  0  0   1  ⎦"
      ]
     },
     "execution_count": 4,
     "metadata": {},
     "output_type": "execute_result"
    }
   ],
   "source": [
    "# oppg 2\n",
    "Mi = sp.Matrix([[sp.eye(4)]*6])\n",
    "\n",
    "for i in range(6):\n",
    "    Mi[:,4*i:4*(i+1)] = rotX(config[i,0]) * transX(config[i,1]) * transZ(config[i,2])\n",
    "\n",
    "M = sp.eye(4)\n",
    "for n in range(5,-1,-1):\n",
    "    M = Mi[:,4*n:4*(n+1)] * M\n",
    "\n",
    "M"
   ]
  },
  {
   "cell_type": "code",
   "execution_count": 5,
   "metadata": {},
   "outputs": [
    {
     "data": {
      "text/latex": [
       "$\\displaystyle \\left[\\begin{matrix}0 & 0 & 0 & 0 & 0 & 0\\\\0 & -1 & -1 & 0 & 1 & 0\\\\1 & 0 & 0 & -1 & 0 & 1\\\\0 & 0 & 0 & 0 & 420 & 0\\\\0 & 0 & 0 & 490 & 0 & -490\\\\0 & 0 & -455 & 0 & 490 & 0\\end{matrix}\\right]$"
      ],
      "text/plain": [
       "⎡0  0    0     0    0    0  ⎤\n",
       "⎢                           ⎥\n",
       "⎢0  -1   -1    0    1    0  ⎥\n",
       "⎢                           ⎥\n",
       "⎢1  0    0    -1    0    1  ⎥\n",
       "⎢                           ⎥\n",
       "⎢0  0    0     0   420   0  ⎥\n",
       "⎢                           ⎥\n",
       "⎢0  0    0    490   0   -490⎥\n",
       "⎢                           ⎥\n",
       "⎣0  0   -455   0   490   0  ⎦"
      ]
     },
     "execution_count": 5,
     "metadata": {},
     "output_type": "execute_result"
    }
   ],
   "source": [
    "# oppg 3\n",
    "Ai = sp.Matrix([[0,-1,0,0],[1,0,0,0],[0,0,0,0],[0,0,0,0]]) # This is a given matrix due to revolute joints\n",
    "\n",
    "S_sp = sp.zeros(6)\n",
    "for i in range(6):\n",
    "    dot_sum = sp.eye(4)\n",
    "    for n in range(i,-1,-1):\n",
    "        dot_sum = Mi[:,4*n:4*(n+1)] * dot_sum\n",
    "    S_skew = dot_sum * Ai * sp.Inverse(dot_sum)\n",
    "    S_sp[0,i] = S_skew[2,1] \n",
    "    S_sp[1,i] = S_skew[0,2] \n",
    "    S_sp[2,i] = S_skew[1,0] \n",
    "    S_sp[3,i] = S_skew[0,3] \n",
    "    S_sp[4,i] = S_skew[1,3] \n",
    "    S_sp[5,i] = S_skew[2,3] \n",
    "\n",
    "S_sp"
   ]
  },
  {
   "cell_type": "code",
   "execution_count": 6,
   "metadata": {},
   "outputs": [
    {
     "data": {
      "text/latex": [
       "$\\displaystyle \\left[\\begin{matrix}0 & 0 & 0 & 0 & 0 & 0\\\\0 & -1 & -1 & 0 & 1 & 0\\\\1 & 0 & 0 & -1 & 0 & 1\\\\0 & 0 & 0 & 0 & 420 & 0\\\\0 & 0 & 0 & 490 & 0 & -490\\\\0 & 0 & -455 & 0 & 490 & 0\\end{matrix}\\right]$"
      ],
      "text/plain": [
       "⎡0  0    0     0    0    0  ⎤\n",
       "⎢                           ⎥\n",
       "⎢0  -1   -1    0    1    0  ⎥\n",
       "⎢                           ⎥\n",
       "⎢1  0    0    -1    0    1  ⎥\n",
       "⎢                           ⎥\n",
       "⎢0  0    0     0   420   0  ⎥\n",
       "⎢                           ⎥\n",
       "⎢0  0    0    490   0   -490⎥\n",
       "⎢                           ⎥\n",
       "⎣0  0   -455   0   490   0  ⎦"
      ]
     },
     "execution_count": 6,
     "metadata": {},
     "output_type": "execute_result"
    }
   ],
   "source": [
    "# oppg 3\n",
    "Ai = sp.Matrix([[0,-1,0,0],[1,0,0,0],[0,0,0,0],[0,0,0,0]]) # This is a given matrix due to revolute joints\n",
    "\n",
    "S_sp = sp.zeros(6)\n",
    "for i in range(6):\n",
    "    dot_sum = sp.eye(4)\n",
    "    for n in range(i,-1,-1):\n",
    "        dot_sum = Mi[:,4*n:4*(n+1)] * dot_sum\n",
    "    S_skew = dot_sum * Ai * sp.Inverse(dot_sum)\n",
    "    S_sp[0,i] = S_skew[2,1] \n",
    "    S_sp[1,i] = S_skew[0,2] \n",
    "    S_sp[2,i] = S_skew[1,0] \n",
    "    S_sp[3,i] = S_skew[0,3] \n",
    "    S_sp[4,i] = S_skew[1,3] \n",
    "    S_sp[5,i] = S_skew[2,3] \n",
    "\n",
    "S_sp"
   ]
  },
  {
   "cell_type": "code",
   "execution_count": 7,
   "metadata": {},
   "outputs": [
    {
     "data": {
      "text/latex": [
       "$\\displaystyle \\left[\\begin{matrix}0 & 0 & 0 & 0 & 0 & 0\\\\0 & -1 & -1 & 0 & 1 & 0\\\\1 & 0 & 0 & -1 & 0 & 1\\\\0 & 420 & 420 & 0 & 0 & 0\\\\490 & 0 & 0 & 0 & 0 & 0\\\\0 & 490 & 35 & 0 & 0 & 0\\end{matrix}\\right]$"
      ],
      "text/plain": [
       "⎡ 0    0    0   0   0  0⎤\n",
       "⎢                       ⎥\n",
       "⎢ 0   -1   -1   0   1  0⎥\n",
       "⎢                       ⎥\n",
       "⎢ 1    0    0   -1  0  1⎥\n",
       "⎢                       ⎥\n",
       "⎢ 0   420  420  0   0  0⎥\n",
       "⎢                       ⎥\n",
       "⎢490   0    0   0   0  0⎥\n",
       "⎢                       ⎥\n",
       "⎣ 0   490  35   0   0  0⎦"
      ]
     },
     "execution_count": 7,
     "metadata": {},
     "output_type": "execute_result"
    }
   ],
   "source": [
    "# oppg 4, find body frame screw axis, S_bp\n",
    "\n",
    "M_inv = mr.TransInv(M)          #Finding inverse of M\n",
    "Ad_M_inv = mr.Adjoint(M_inv)    #Computing [Ad_M^-1]\n",
    "\n",
    "#Using B_i = [Ad_M^-1]S_i\n",
    "S_bp = sp.zeros(6,6)\n",
    "for i in range(6):\n",
    "     S_bp[:, i] = Ad_M_inv * S_sp[:, i]\n",
    "\n",
    "S_bp"
   ]
  },
  {
   "cell_type": "markdown",
   "metadata": {},
   "source": [
    "## Oppgave 5"
   ]
  },
  {
   "cell_type": "code",
   "execution_count": 8,
   "metadata": {},
   "outputs": [
    {
     "name": "stdout",
     "output_type": "stream",
     "text": [
      "Jupyter environment detected. Enabling Open3D WebVisualizer.\n",
      "[Open3D INFO] WebRTC GUI backend enabled.\n",
      "[Open3D INFO] WebRTCWindowSystem: HTTP handshake server disabled.\n"
     ]
    }
   ],
   "source": [
    "import open3d as o3d\n",
    "import numpy as np\n",
    "\n",
    "def Ry_sym(theta):\n",
    "    ct = sp.cos(theta)\n",
    "    st = sp.sin(theta)\n",
    "    R = sp.Matrix([[ct, 0.0, st], [0.0, 1.0, 0.0], [-st, 0, ct]])\n",
    "    return R\n",
    "\n",
    "class Robot_object:\n",
    "    Robot_objects = []\n",
    "    def __init__(self, num_joints, length_links):\n",
    "        self.num_joints = num_joints\n",
    "        self.length_links = length_links\n",
    "        # self.M = M\n",
    "        # self.S_list = S\n",
    "        # self.thetas = thetas\n",
    "        self.Joints = []\n",
    "        self.Links = []\n",
    "        self.make_robot_objects()\n",
    "        # self.T_list = make_transform_list()\n",
    "\n",
    "    def set_colour(self, colour):\n",
    "        self.colour = colour\n",
    "\n",
    "    def make_robot_objects(self):\n",
    "        for i in range(self.num_joints):\n",
    "            self.Joints.append(Joint())\n",
    "        for i in range(len(self.length_links)):\n",
    "            self.Links.append(Link(self.length_links[i]))\n",
    "    \n",
    "    def transform(self, T_list):\n",
    "        for i, J in enumerate(self.Joints):\n",
    "            J.transform(T_list[i])\n",
    "        for i, L in enumerate(self.Links):\n",
    "            L.transform(T_list[i])\n",
    "\n",
    "\n",
    "    # def make_transform_list(self):\n",
    "    #     T_list = np.array(len(thetas)) # riktig lengde?\n",
    "    #     for i in range(6, -1, -1):\n",
    "    #         dot_sum = 0\n",
    "    #         for S in self.S_list:\n",
    "\n",
    "\n",
    "\n",
    "    def draw_robot(self):\n",
    "        o3d.visualization.draw_geometries(self.Robot_objects)\n",
    "\n",
    "class Joint(Robot_object):\n",
    "    colour = [0,1,0]\n",
    "    def __init__(self):\n",
    "        self.joint = o3d.geometry.TriangleMesh.create_cylinder(radius=0.1, height=0.3)\n",
    "        self.coord = o3d.geometry.TriangleMesh.create_coordinate_frame(size=0.5)\n",
    "        self.update_mesh_list()\n",
    "        self.set_colour(self.colour)\n",
    "\n",
    "    def update_mesh_list(self):\n",
    "        self.Robot_objects.append(self.joint)\n",
    "        self.Robot_objects.append(self.coord)\n",
    "    \n",
    "    def set_colour(self, colour):\n",
    "        self.joint.paint_uniform_color(colour)\n",
    "\n",
    "    def transform(self,T):\n",
    "        self.joint = self.joint.transform(T)\n",
    "        self.coord = self.coord.transform(T)\n",
    "\n",
    "class Link(Robot_object):\n",
    "    colour = [1,0,1]\n",
    "    def __init__(self, lenght):\n",
    "        self.lenght = lenght\n",
    "        self.link = o3d.geometry.TriangleMesh.create_cylinder(radius=0.01, height=self.lenght).rotate(Ry_sym(np.pi/2)).translate(np.array([self.lenght/2,0,0]))\n",
    "        self.update_mesh_list()\n",
    "        self.set_colour(self.colour)\n",
    "\n",
    "    def update_mesh_list(self):\n",
    "        self.Robot_objects.append(self.link)\n",
    "    \n",
    "    def set_colour(self, colour):\n",
    "        self.link.paint_uniform_color(colour)\n",
    " \n",
    "f1 = o3d.geometry.TriangleMesh.create_coordinate_frame(size=0.5)\n",
    "\n"
   ]
  },
  {
   "cell_type": "code",
   "execution_count": 9,
   "metadata": {},
   "outputs": [
    {
     "ename": "SyntaxError",
     "evalue": "invalid syntax (Temp/ipykernel_16708/1732289237.py, line 5)",
     "output_type": "error",
     "traceback": [
      "\u001b[1;36m  File \u001b[1;32m\"C:\\Users\\marku\\AppData\\Local\\Temp/ipykernel_16708/1732289237.py\"\u001b[1;36m, line \u001b[1;32m5\u001b[0m\n\u001b[1;33m    for\u001b[0m\n\u001b[1;37m        ^\u001b[0m\n\u001b[1;31mSyntaxError\u001b[0m\u001b[1;31m:\u001b[0m invalid syntax\n"
     ]
    }
   ],
   "source": [
    "link_lengths = np.array([1,1,1,1,1])\n",
    "Kuka = Robot_object(6, link_lengths)\n",
    "\n",
    "T_list = np.zeros(6,6)\n",
    "\n",
    "\n",
    "Kuka.draw_robot()\n",
    "\n"
   ]
  },
  {
   "cell_type": "code",
   "execution_count": null,
   "metadata": {},
   "outputs": [
    {
     "name": "stdout",
     "output_type": "stream",
     "text": [
      "[TriangleMesh with 102 points and 200 triangles., TriangleMesh with 1134 points and 2240 triangles., TriangleMesh with 102 points and 200 triangles., TriangleMesh with 102 points and 200 triangles.]\n"
     ]
    }
   ],
   "source": [
    "J1 = Joint()\n",
    "L1 = Link(3.450)\n",
    "L2 = Link(0.420)\n",
    "J1.transform(mr.RpToTrans(Ry_sym(np.pi/2),[0,1,0]))\n",
    "o3d.visualization.draw_geometries(Mesh_object.mesh_objects)\n",
    "print(Mesh_object.mesh_objects)"
   ]
  },
  {
   "cell_type": "code",
   "execution_count": null,
   "metadata": {},
   "outputs": [
    {
     "ename": "IndentationError",
     "evalue": "expected an indented block (Temp/ipykernel_11308/1693744880.py, line 37)",
     "output_type": "error",
     "traceback": [
      "\u001b[1;36m  File \u001b[1;32m\"C:\\Users\\marku\\AppData\\Local\\Temp/ipykernel_11308/1693744880.py\"\u001b[1;36m, line \u001b[1;32m37\u001b[0m\n\u001b[1;33m    for e in meshes:\u001b[0m\n\u001b[1;37m    ^\u001b[0m\n\u001b[1;31mIndentationError\u001b[0m\u001b[1;31m:\u001b[0m expected an indented block\n"
     ]
    }
   ],
   "source": [
    "def make_mesh_objects(colour):\n",
    "    f0 = o3d.geometry.TriangleMesh.create_coordinate_frame()\n",
    "    f1 = o3d.geometry.TriangleMesh.create_coordinate_frame(size=0.5)   \n",
    "    f2 = o3d.geometry.TriangleMesh.create_coordinate_frame(size=0.5)  \n",
    "    f3 = o3d.geometry.TriangleMesh.create_coordinate_frame(size=0.5)   \n",
    "    f4 = o3d.geometry.TriangleMesh.create_coordinate_frame(size=0.5)\n",
    "    \n",
    "    j1 = o3d.geometry.TriangleMesh.create_cylinder(radius=0.1, height=0.3)\n",
    "    j2 = o3d.geometry.TriangleMesh.create_cylinder(radius=0.1, height=0.3)\n",
    "    j3 = o3d.geometry.TriangleMesh.create_cylinder(radius=0.1, height=0.3)\n",
    "\n",
    "    l1 = o3d.geometry.TriangleMesh.create_cylinder(radius=0.01, height=L1).rotate(Ry_sym(np.pi/2)).translate(np.array([L1/2,0,0]))\n",
    "    l2 = o3d.geometry.TriangleMesh.create_cylinder(radius=0.01, height=L2).rotate(Ry_sym(np.pi/2)).translate(np.array([L2/2,0,0]))\n",
    "    l3 = o3d.geometry.TriangleMesh.create_cylinder(radius=0.01, height=L3).rotate(Ry_sym(np.pi/2)).translate(np.array([L3/2,0,0]))\n",
    "    \n",
    "    meshes = np.array([[f1,f2,f3,f4],\n",
    "              [j1,j2,j3],\n",
    "              [l1,l2,l3]])\n",
    "    \n",
    "    for e in meshes:\n",
    "         for i in range(len(e)):\n",
    "             e[i].paint_uniform_color(colour)\n",
    "\n",
    "    return meshes\n",
    "\n",
    "def transform(Si,theta):\n",
    "    T = mr.MatrixExp6(mr.VecTose3(Si) * theta)\n",
    "\n",
    "def mesh_transform(meshes, S_list, thetas):\n",
    "    T_list = np.array(len(thetas)) # riktig lengde?\n",
    "    for i in range(6, -1, -1):\n",
    "        dot_sum = 0\n",
    "        for S in S_list:\n",
    "            \n",
    "\n",
    "\n",
    "    for e in meshes:\n",
    "        for i in range(len(e)):\n",
    "            e[i].transform(S_list[i])\n",
    "    return meshes"
   ]
  },
  {
   "cell_type": "code",
   "execution_count": null,
   "metadata": {},
   "outputs": [],
   "source": []
  },
  {
   "cell_type": "code",
   "execution_count": null,
   "metadata": {},
   "outputs": [],
   "source": []
  }
 ],
 "metadata": {
  "interpreter": {
   "hash": "dc061abb13cde367a29c0361be6be92d273c8b832346c43ea6b243bbba735fc2"
  },
  "kernelspec": {
   "display_name": "Python 3.8.11 64-bit ('RT': conda)",
   "name": "python3"
  },
  "language_info": {
   "codemirror_mode": {
    "name": "ipython",
    "version": 3
   },
   "file_extension": ".py",
   "mimetype": "text/x-python",
   "name": "python",
   "nbconvert_exporter": "python",
   "pygments_lexer": "ipython3",
   "version": "3.8.11"
  },
  "orig_nbformat": 4
 },
 "nbformat": 4,
 "nbformat_minor": 2
}
