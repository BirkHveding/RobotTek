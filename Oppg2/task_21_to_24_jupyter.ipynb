{
 "cells": [
  {
   "cell_type": "code",
   "execution_count": 2,
   "metadata": {},
   "outputs": [],
   "source": [
    "import modern_robotics as mr\n",
    "import sympy as sp\n",
    "from sympy import*\n",
    "from sympy.physics.mechanics import dynamicsymbols, mechanics_printing\n",
    "mechanics_printing()\n",
    "from Utilities.symbolicFunctions import *\n"
   ]
  },
  {
   "cell_type": "markdown",
   "metadata": {},
   "source": [
    "### Utilities\n"
   ]
  },
  {
   "cell_type": "code",
   "execution_count": 5,
   "metadata": {},
   "outputs": [],
   "source": [
    "\n",
    "\n",
    "# def exp3(omega, theta):\n",
    "#     omega = skew(omega)\n",
    "#     R = sp.eye(3) + sp.sin(theta) * omega + (1 - sp.cos(theta)) * omega * omega\n",
    "#     return R\n",
    "\n",
    "# def skew(v):\n",
    "#     return Matrix([[0, -v[2], v[1]],\n",
    "#                     [v[2], 0, -v[0]],\n",
    "#                     [-v[1], v[0], 0]])\n",
    "                    \n",
    "# def exp6(twist, theta):\n",
    "#     omega = skew(twist[:3])\n",
    "#     v = Matrix(twist[3:])\n",
    "#     T = eye(4)\n",
    "#     T[:3,:3] = exp3(twist[:3], theta)\n",
    "#     T[:3,3] = (eye(3) * theta + (1 - cos(theta)) * omega +\n",
    "#               (theta-sin(theta)) * omega * omega) * v\n",
    "#     return T\n",
    "\n",
    "# def Ad(T):\n",
    "#     AdT = sp.zeros(6)\n",
    "#     R = sp.Matrix(T[:3, :3])\n",
    "#     AdT[:3, :3] = R\n",
    "#     AdT[3:, 3:] = R\n",
    "#     AdT[3:, :3] = skew(T[:3, 3]) * R\n",
    "#     return AdT\n",
    "\n",
    "# def rotX(alfa_im1):\n",
    "#     Rx = sp.eye(4)\n",
    "#     Rx[1,1] =    sp.cos(alfa_im1)\n",
    "#     Rx[1,2] =   -sp.sin(alfa_im1)\n",
    "#     Rx[2,1] =    sp.sin(alfa_im1)\n",
    "#     Rx[2,2] =    sp.cos(alfa_im1)\n",
    "#     return Rx\n",
    "\n",
    "# def rotZ(alfa_im1):\n",
    "#     Rz = sp.eye(4)\n",
    "#     Rz[0,0] =    sp.cos(alfa_im1)\n",
    "#     Rz[0,1] =   -sp.sin(alfa_im1)\n",
    "#     Rz[1,0] =    sp.sin(alfa_im1)\n",
    "#     Rz[1,1] =    sp.cos(alfa_im1)\n",
    "#     return Rz\n",
    "\n",
    "# def transX(a_im1):\n",
    "#     trA = sp.eye(4)\n",
    "#     trA[0,3] =  a_im1\n",
    "#     return trA\n",
    "\n",
    "# def transZ(d_i):\n",
    "#     trA = sp.eye(4)\n",
    "#     trA[2,3] =  d_i\n",
    "#     return trA\n"
   ]
  },
  {
   "cell_type": "markdown",
   "metadata": {},
   "source": [
    "# TASK 2"
   ]
  },
  {
   "cell_type": "code",
   "execution_count": 8,
   "metadata": {},
   "outputs": [
    {
     "name": "stdout",
     "output_type": "stream",
     "text": [
      "Task 1:\n"
     ]
    },
    {
     "data": {
      "text/latex": [
       "$\\displaystyle \\left[\\begin{matrix}\\pi & 0 & 0 & \\theta_{1}\\\\\\frac{\\pi}{2} & 25 & 0 & \\theta_{2}\\\\0 & 455 & 0 & \\theta_{3} + \\frac{\\pi}{2}\\\\\\frac{\\pi}{2} & 35 & -420 & \\theta_{4}\\\\- \\frac{\\pi}{2} & 0 & 0 & \\theta_{5}\\\\\\frac{\\pi}{2} & 0 & 0 & \\theta_{6}\\end{matrix}\\right]$"
      ],
      "text/plain": [
       "⎡ π    0    0      θ₁  ⎤\n",
       "⎢                      ⎥\n",
       "⎢ π                    ⎥\n",
       "⎢ ─   25    0      θ₂  ⎥\n",
       "⎢ 2                    ⎥\n",
       "⎢                      ⎥\n",
       "⎢                     π⎥\n",
       "⎢ 0   455   0    θ₃ + ─⎥\n",
       "⎢                     2⎥\n",
       "⎢                      ⎥\n",
       "⎢ π                    ⎥\n",
       "⎢ ─   35   -420    θ₄  ⎥\n",
       "⎢ 2                    ⎥\n",
       "⎢                      ⎥\n",
       "⎢-π                    ⎥\n",
       "⎢───   0    0      θ₅  ⎥\n",
       "⎢ 2                    ⎥\n",
       "⎢                      ⎥\n",
       "⎢ π                    ⎥\n",
       "⎢ ─    0    0      θ₆  ⎥\n",
       "⎣ 2                    ⎦"
      ]
     },
     "execution_count": 8,
     "metadata": {},
     "output_type": "execute_result"
    }
   ],
   "source": [
    "# Oppg 1\n",
    "print(\"Task 1:\")\n",
    "\n",
    "th1, th2, th3, th4, th5, th6 = dynamicsymbols('theta_1, theta_2, theta_3, theta_4, theta_5, theta_6')\n",
    "# alfa a d v\n",
    "config = sp.Matrix([[sp.pi,0,0,th1],[sp.pi/2,25,0,th2],[0,455,0,th3 + sp.pi/2],[sp.pi/2, 35, -420, th4],[-sp.pi/2,0,0,th5],[sp.pi/2, 0, 0,th6]])\n",
    "config"
   ]
  },
  {
   "cell_type": "code",
   "execution_count": 10,
   "metadata": {},
   "outputs": [
    {
     "data": {
      "text/latex": [
       "$\\displaystyle \\left[\\begin{matrix}0 & \\pi & 0 & \\theta_{1}\\\\25 & \\frac{\\pi}{2} & 0 & \\theta_{2} + \\frac{\\pi}{2}\\\\455 & 0 & 0 & \\theta_{3} + \\frac{\\pi}{2}\\\\35 & \\frac{\\pi}{2} & -420 & \\theta_{4}\\\\0 & - \\frac{\\pi}{2} & 0 & \\theta_{5}\\\\0 & \\frac{\\pi}{2} & 0 & \\theta_{6}\\end{matrix}\\right]$"
      ],
      "text/plain": [
       "⎡ 0    π    0      θ₁  ⎤\n",
       "⎢                      ⎥\n",
       "⎢      π              π⎥\n",
       "⎢25    ─    0    θ₂ + ─⎥\n",
       "⎢      2              2⎥\n",
       "⎢                      ⎥\n",
       "⎢                     π⎥\n",
       "⎢455   0    0    θ₃ + ─⎥\n",
       "⎢                     2⎥\n",
       "⎢                      ⎥\n",
       "⎢      π               ⎥\n",
       "⎢35    ─   -420    θ₄  ⎥\n",
       "⎢      2               ⎥\n",
       "⎢                      ⎥\n",
       "⎢     -π               ⎥\n",
       "⎢ 0   ───   0      θ₅  ⎥\n",
       "⎢      2               ⎥\n",
       "⎢                      ⎥\n",
       "⎢      π               ⎥\n",
       "⎢ 0    ─    0      θ₆  ⎥\n",
       "⎣      2               ⎦"
      ]
     },
     "execution_count": 10,
     "metadata": {},
     "output_type": "execute_result"
    }
   ],
   "source": [
    "# oppg 1 Sicilliano\n",
    "# a alfa    d   v\n",
    "sic_conf = sp.Matrix([[0,sp.pi,0,th1], [25,sp.pi/2,0,th2+sp.pi/2], [455,0,0,th3+sp.pi/2], [35,sp.pi/2,-420,th4], [0,-sp.pi/2,0,th5], [0,sp.pi/2,0,th6]])\n",
    "sic_conf"
   ]
  },
  {
   "cell_type": "code",
   "execution_count": 24,
   "metadata": {},
   "outputs": [
    {
     "data": {
      "text/latex": [
       "$\\displaystyle \\left[\\begin{matrix}1 & 0 & 0 & 980\\\\0 & 1 & 0 & 0\\\\0 & 0 & 1 & 365\\\\0 & 0 & 0 & 1\\end{matrix}\\right]$"
      ],
      "text/plain": [
       "⎡1  0  0  980⎤\n",
       "⎢            ⎥\n",
       "⎢0  1  0   0 ⎥\n",
       "⎢            ⎥\n",
       "⎢0  0  1  365⎥\n",
       "⎢            ⎥\n",
       "⎣0  0  0   1 ⎦"
      ]
     },
     "execution_count": 24,
     "metadata": {},
     "output_type": "execute_result"
    }
   ],
   "source": [
    "# oppg 2\n",
    "Mi = sp.Matrix([[sp.eye(4)]*6])\n",
    "\n",
    "for i in range(6):\n",
    "    if i == 2:\n",
    "        Mi[:,4*i:4*(i+1)] = rotX(config[i,0]) * transX(config[i,1]) * transZ(config[i,2]) * rotZ(-sp.pi/2) # We compansate for the rotation of -pi/2 done when finding the D-H parameters \n",
    "    else:\n",
    "        Mi[:,4*i:4*(i+1)] = rotX(config[i,0]) * transX(config[i,1]) * transZ(config[i,2])\n",
    "\n",
    "M = sp.eye(4)\n",
    "for n in range(5,-1,-1):\n",
    "    M = Mi[:,4*n:4*(n+1)] * M\n",
    "\n",
    "\n",
    "M\n",
    "\n",
    "T_0 = sp.Matrix([[1,0,0,0],[0,-1,0,0],[0,0,-1,400],[0,0,0,1]])\n",
    "T_e = sp.Matrix([[0,0,-1,0],[0,-1,0,0],[-1,0,0,-80],[0,0,0,1]])\n",
    "\n",
    "new_M = T_0 * M * T_e\n",
    "\n",
    "new_M\n"
   ]
  },
  {
   "cell_type": "code",
   "execution_count": 67,
   "metadata": {},
   "outputs": [],
   "source": [
    "# oppg 2 # Snart siciliano\n",
    "# Mi = sp.Matrix([[sp.eye(4)]*6])\n",
    "\n",
    "# for i in range(6):\n",
    "#     if i == 1:\n",
    "#         Mi[:,4*i:4*(i+1)] = rotX(config[i,0]) * transX(config[i,1]) * transZ(config[i,2]) #* rotZ(-sp.pi/2) # We compansate for the rotation of -pi/2 done when finding the D-H parameters \n",
    "#     else:\n",
    "#         Mi[:,4*i:4*(i+1)] = rotX(config[i,0]) * transX(config[i,1]) * transZ(config[i,2])\n",
    "\n",
    "# M = sp.eye(4)\n",
    "# for n in range(5,-1,-1):\n",
    "#     M = Mi[:,4*n:4*(n+1)] * M\n",
    "\n",
    "\n",
    "# M\n"
   ]
  },
  {
   "cell_type": "code",
   "execution_count": 16,
   "metadata": {},
   "outputs": [
    {
     "data": {
      "text/latex": [
       "$\\displaystyle \\left[\\begin{matrix}0 & 0 & 0 & -1 & 0 & -1\\\\0 & 1 & 1 & 0 & 1 & 0\\\\-1 & 0 & 0 & 0 & 0 & 0\\\\0 & 0 & 0 & 0 & -35 & 0\\\\0 & 0 & 0 & -35 & 0 & -35\\\\0 & 25 & 480 & 0 & 900 & 0\\end{matrix}\\right]$"
      ],
      "text/plain": [
       "⎡0   0    0   -1    0   -1 ⎤\n",
       "⎢                          ⎥\n",
       "⎢0   1    1    0    1    0 ⎥\n",
       "⎢                          ⎥\n",
       "⎢-1  0    0    0    0    0 ⎥\n",
       "⎢                          ⎥\n",
       "⎢0   0    0    0   -35   0 ⎥\n",
       "⎢                          ⎥\n",
       "⎢0   0    0   -35   0   -35⎥\n",
       "⎢                          ⎥\n",
       "⎣0   25  480   0   900   0 ⎦"
      ]
     },
     "execution_count": 16,
     "metadata": {},
     "output_type": "execute_result"
    }
   ],
   "source": [
    "# oppg 3\n",
    "Ai = sp.Matrix([[0,-1,0,0],[1,0,0,0],[0,0,0,0],[0,0,0,0]]) # This is a given matrix due to revolute joints\n",
    "\n",
    "S_sp = sp.zeros(6)\n",
    "for i in range(6):\n",
    "    dot_sum = sp.eye(4)\n",
    "    for n in range(i,-1,-1):\n",
    "        dot_sum = Mi[:,4*n:4*(n+1)] * dot_sum\n",
    "    S_skew = dot_sum * Ai * sp.Inverse(dot_sum)\n",
    "    S_sp[0,i] = S_skew[2,1] \n",
    "    S_sp[1,i] = S_skew[0,2] \n",
    "    S_sp[2,i] = S_skew[1,0] \n",
    "    S_sp[3,i] = S_skew[0,3] \n",
    "    S_sp[4,i] = S_skew[1,3]\n",
    "    S_sp[5,i] = S_skew[2,3] \n",
    "\n",
    "S_sp"
   ]
  },
  {
   "cell_type": "code",
   "execution_count": 17,
   "metadata": {},
   "outputs": [
    {
     "name": "stdout",
     "output_type": "stream",
     "text": [
      "Matrix([[-1, 0, 0, 0, 0, 0], [0, 1, 1, 0, 1, 0], [0, 0, 0, 1, 0, 1], [0, -875, -420, 0, 0, 0], [-900, 0, 0, 0, 0, 0], [0, -35, -35, 0, 0, 0]])\n"
     ]
    },
    {
     "data": {
      "text/latex": [
       "$\\displaystyle \\left[\\begin{matrix}-1 & 0 & 0 & 0 & 0 & 0\\\\0 & 1 & 1 & 0 & 1 & 0\\\\0 & 0 & 0 & 1 & 0 & 1\\\\0 & -875 & -420 & 0 & 0 & 0\\\\-900 & 0 & 0 & 0 & 0 & 0\\\\0 & -35 & -35 & 0 & 0 & 0\\end{matrix}\\right]$"
      ],
      "text/plain": [
       "⎡ -1    0     0    0  0  0⎤\n",
       "⎢                         ⎥\n",
       "⎢ 0     1     1    0  1  0⎥\n",
       "⎢                         ⎥\n",
       "⎢ 0     0     0    1  0  1⎥\n",
       "⎢                         ⎥\n",
       "⎢ 0    -875  -420  0  0  0⎥\n",
       "⎢                         ⎥\n",
       "⎢-900   0     0    0  0  0⎥\n",
       "⎢                         ⎥\n",
       "⎣ 0    -35   -35   0  0  0⎦"
      ]
     },
     "execution_count": 17,
     "metadata": {},
     "output_type": "execute_result"
    }
   ],
   "source": [
    "# oppg 4, find body frame screw axis, S_bp\n",
    "\n",
    "M_inv = mr.TransInv(M)          #Finding inverse of M\n",
    "Ad_M_inv = mr.Adjoint(M_inv)    #Computing [Ad_M^-1]\n",
    "\n",
    "#Using B_i = [Ad_M^-1]S_i\n",
    "S_bp = sp.zeros(6,6)\n",
    "for i in range(6):\n",
    "     S_bp[:, i] = Ad_M_inv * S_sp[:, i]\n",
    "\n",
    "print(S_bp)\n",
    "S_bp"
   ]
  },
  {
   "cell_type": "markdown",
   "metadata": {},
   "source": [
    "### 2.5 Visualization"
   ]
  },
  {
   "cell_type": "code",
   "execution_count": 12,
   "metadata": {},
   "outputs": [],
   "source": [
    "from Utilities.RobotClass import*\n",
    "import numpy as np"
   ]
  },
  {
   "cell_type": "code",
   "execution_count": 18,
   "metadata": {},
   "outputs": [
    {
     "data": {
      "application/vnd.jupyter.widget-view+json": {
       "model_id": "b0342a89cbd444e1ac79f7cc1d2e8b98",
       "version_major": 2,
       "version_minor": 0
      },
      "text/plain": [
       "WebVisualizer(window_uid='window_4')"
      ]
     },
     "metadata": {},
     "output_type": "display_data"
    }
   ],
   "source": [
    "#DH frames:\n",
    "\n",
    "Mlist_DH = np.zeros((6,4,4))      #Finding M01, M02..., from DH formulation Mi\n",
    "Mlist_DH\n",
    "M = sp.eye(4)\n",
    "for i in range(6):          \n",
    "    M = M * Mi[:,4*i:4*(i+1)]\n",
    "    Mlist_DH[i] = M\n",
    "Mlist_DH\n",
    "Kuka_DH = Robot(Mlist_DH,['x','x','x','x','x','z'])\n",
    "Kuka_DH.draw_robot()"
   ]
  },
  {
   "cell_type": "code",
   "execution_count": 14,
   "metadata": {},
   "outputs": [
    {
     "data": {
      "image/png": "[encoded data removed]",
      "text/latex": [
       "$\\displaystyle \\left[\\begin{matrix}0 & 0 & 0 & -1 & 0 & -1\\\\0 & 1 & 1 & 0 & 1 & 0\\\\-1 & 0 & 0 & 0 & 0 & 0\\\\0 & -400 & -855 & 0 & -890 & 0\\\\0 & 0 & 0 & -890 & 0 & -890\\\\0 & 25 & 25 & 0 & 445 & 0\\end{matrix}\\right]$"
      ],
      "text/plain": [
       "⎡0    0     0     -1    0     -1 ⎤\n",
       "⎢                                ⎥\n",
       "⎢0    1     1     0     1     0  ⎥\n",
       "⎢                                ⎥\n",
       "⎢-1   0     0     0     0     0  ⎥\n",
       "⎢                                ⎥\n",
       "⎢0   -400  -855   0    -890   0  ⎥\n",
       "⎢                                ⎥\n",
       "⎢0    0     0    -890   0    -890⎥\n",
       "⎢                                ⎥\n",
       "⎣0    25    25    0    445    0  ⎦"
      ]
     },
     "execution_count": 14,
     "metadata": {},
     "output_type": "execute_result"
    }
   ],
   "source": [
    "\n",
    "\n",
    "M1=sp.Matrix([[0, 1, 0, 0],\n",
    "             [1, 0, 0, 0],\n",
    "             [0, 0, -1, 200], \n",
    "             [0, 0, 0, 1]])\n",
    "\n",
    "M2=sp.Matrix([[0, 1, 0, 25],\n",
    "             [0, 0, 1, 0],\n",
    "             [1, 0, 0, 400],\n",
    "             [0, 0, 0, 1]])\n",
    "\n",
    "M3=sp.Matrix([[1, 0, 0, 25],\n",
    "             [0, 0, 1, 0],\n",
    "             [0, -1, 0, 855],\n",
    "             [0, 0, 0, 1]])\n",
    "             \n",
    "M4=sp.Matrix([[0, 0, -1, 25+420],\n",
    "             [0, 1, 0, 0],\n",
    "             [1, 0, 0, 400+455+35],\n",
    "             [0, 0, 0, 1]])\n",
    "M5=sp.Matrix([[1, 0, 0, 25+420],\n",
    "             [0, 0, 1, 0],\n",
    "             [0, -1, 0, 400+455+35],\n",
    "             [0, 0, 0, 1]])\n",
    "M6=sp.Matrix([[0, 0, -1, 525], \n",
    "             [0, 1, 0, 0],\n",
    "             [1, 0, 0, 400+455+35],\n",
    "             [0, 0, 0, 1]])\n",
    "Mlist = np.array([M1,M2,M3,M4,M5,M6], dtype=float)\n",
    "\n",
    "om = sp.zeros(3,6)\n",
    "om1 = om[:, 0] = M1[:3, 2]\n",
    "om2 = om[:, 1] = M2[:3, 2]\n",
    "om3 = om[:, 2] = M3[:3, 2]\n",
    "om4 = om[:, 3] = M4[:3, 2]\n",
    "om5 = om[:, 4] = M5[:3, 2]\n",
    "om6 = om[:, 5] = M6[:3, 2]\n",
    "q = sp.zeros(3,6)\n",
    "q1 = q[:,0] = M1[:3, 3]\n",
    "q2 = q[:,1] = M2[:3, 3]\n",
    "q3 = q[:,2] = M3[:3, 3]\n",
    "q4 = q[:,3] = M4[:3, 3]\n",
    "q5 = q[:,4] = M5[:3, 3]\n",
    "q6 = q[:,5] = M6[:3, 3]\n",
    "\n",
    "Slist = Slist_maker(om,q)\n",
    "Slist"
   ]
  },
  {
   "cell_type": "code",
   "execution_count": 15,
   "metadata": {},
   "outputs": [
    {
     "data": {
      "application/vnd.jupyter.widget-view+json": {
       "model_id": "95dae0b1eb6341e287b61be6e72dc501",
       "version_major": 2,
       "version_minor": 0
      },
      "text/plain": [
       "WebVisualizer(window_uid='window_1')"
      ]
     },
     "metadata": {},
     "output_type": "display_data"
    }
   ],
   "source": [
    "Kuka = Robot(Mlist, ['z', '-z', 'x', 'x', 'z','x'] )\n",
    "Kuka.draw_robot()\n"
   ]
  },
  {
   "cell_type": "code",
   "execution_count": 16,
   "metadata": {},
   "outputs": [
    {
     "data": {
      "application/vnd.jupyter.widget-view+json": {
       "model_id": "0ea2404c380849baaf24c01606ffe832",
       "version_major": 2,
       "version_minor": 0
      },
      "text/plain": [
       "WebVisualizer(window_uid='window_2')"
      ]
     },
     "metadata": {},
     "output_type": "display_data"
    }
   ],
   "source": [
    "Kuka.transform(Slist,[-1.1416,  1.038 , -4.2855, -1.5708,  1.5708, -0.2475])\n",
    "Kuka.draw_robot()"
   ]
  },
  {
   "cell_type": "code",
   "execution_count": 17,
   "metadata": {},
   "outputs": [
    {
     "data": {
      "application/vnd.jupyter.widget-view+json": {
       "model_id": "4748cd3c8a39492f8fe1088db400ccdc",
       "version_major": 2,
       "version_minor": 0
      },
      "text/plain": [
       "WebVisualizer(window_uid='window_3')"
      ]
     },
     "metadata": {},
     "output_type": "display_data"
    }
   ],
   "source": [
    "Kuka.transform(Slist,[-1.1416, -1.3258,  1.3102, -1.5708,  1.5708,  2.9844])\n",
    "Kuka.draw_robot()"
   ]
  },
  {
   "cell_type": "code",
   "execution_count": null,
   "metadata": {},
   "outputs": [],
   "source": []
  }
 ],
 "metadata": {
  "interpreter": {
   "hash": "815224060b00a050660c7b9310329981a1e8f5f6161b36a2fd002dddd54a25e1"
  },
  "kernelspec": {
   "display_name": "Python 3.8.11 64-bit ('py38': conda)",
   "name": "python3"
  },
  "language_info": {
   "codemirror_mode": {
    "name": "ipython",
    "version": 3
   },
   "file_extension": ".py",
   "mimetype": "text/x-python",
   "name": "python",
   "nbconvert_exporter": "python",
   "pygments_lexer": "ipython3",
   "version": "3.8.11"
  },
  "orig_nbformat": 4
 },
 "nbformat": 4,
 "nbformat_minor": 2
}
