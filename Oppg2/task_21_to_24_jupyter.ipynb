{
 "cells": [
  {
   "cell_type": "code",
   "execution_count": 2,
   "metadata": {},
   "outputs": [],
   "source": [
    "import modern_robotics as mr\n",
    "import sympy as sp\n",
    "from sympy import*\n",
    "from sympy.physics.mechanics import dynamicsymbols, mechanics_printing\n",
    "mechanics_printing()"
   ]
  },
  {
   "cell_type": "code",
   "execution_count": 5,
   "metadata": {},
   "outputs": [],
   "source": [
    "def exp3(omega, theta):\n",
    "    omega = skew(omega)\n",
    "    R = sp.eye(3) + sp.sin(theta) * omega + (1 - sp.cos(theta)) * omega * omega\n",
    "    return R\n",
    "\n",
    "def skew(v):\n",
    "    return Matrix([[0, -v[2], v[1]],\n",
    "                    [v[2], 0, -v[0]],\n",
    "                    [-v[1], v[0], 0]])\n",
    "                    \n",
    "def exp6(twist, theta):\n",
    "    omega = skew(twist[:3])\n",
    "    v = Matrix(twist[3:])\n",
    "    T = eye(4)\n",
    "    T[:3,:3] = exp3(twist[:3], theta)\n",
    "    T[:3,3] = (eye(3) * theta + (1 - cos(theta)) * omega +\n",
    "              (theta-sin(theta)) * omega * omega) * v\n",
    "    return T\n",
    "\n",
    "\n",
    "\n",
    "def Ad(T):\n",
    "    AdT = sp.zeros(6)\n",
    "    R = sp.Matrix(T[:3, :3])\n",
    "    AdT[:3, :3] = R\n",
    "    AdT[3:, 3:] = R\n",
    "    AdT[3:, :3] = skew(T[:3, 3]) * R\n",
    "    return AdT\n",
    "\n",
    "def rotX(alfa_im1):\n",
    "    Rx = sp.eye(4)\n",
    "    Rx[1,1] =    sp.cos(alfa_im1)\n",
    "    Rx[1,2] =   -sp.sin(alfa_im1)\n",
    "    Rx[2,1] =    sp.sin(alfa_im1)\n",
    "    Rx[2,2] =    sp.cos(alfa_im1)\n",
    "    return Rx\n",
    "\n",
    "def rotZ(alfa_im1):\n",
    "    Rz = sp.eye(4)\n",
    "    Rz[0,0] =    sp.cos(alfa_im1)\n",
    "    Rz[0,1] =   -sp.sin(alfa_im1)\n",
    "    Rz[1,0] =    sp.sin(alfa_im1)\n",
    "    Rz[1,1] =    sp.cos(alfa_im1)\n",
    "    return Rz\n",
    "\n",
    "def transX(a_im1):\n",
    "    trA = sp.eye(4)\n",
    "    trA[0,3] =  a_im1\n",
    "    return trA\n",
    "\n",
    "def transZ(d_i):\n",
    "    trA = sp.eye(4)\n",
    "    trA[2,3] =  d_i\n",
    "    return trA\n"
   ]
  },
  {
   "cell_type": "code",
   "execution_count": 6,
   "metadata": {},
   "outputs": [
    {
     "name": "stdout",
     "output_type": "stream",
     "text": [
      "Task 1:\n"
     ]
    },
    {
     "data": {
      "image/png": "[encoded data removed]",
      "text/latex": [
       "$\\displaystyle \\left[\\begin{matrix}0 & 0 & 0 & \\theta_{1}\\\\\\frac{\\pi}{2} & 0 & 0 & \\theta_{2} + \\frac{\\pi}{2}\\\\0 & 455 & 0 & \\theta_{3}\\\\\\frac{\\pi}{2} & 35 & -420 & \\theta_{4}\\\\- \\frac{\\pi}{2} & 0 & 0 & \\theta_{5}\\\\\\frac{\\pi}{2} & 0 & -80 & \\theta_{6}\\end{matrix}\\right]$"
      ],
      "text/plain": [
       "⎡ 0    0    0      θ₁  ⎤\n",
       "⎢                      ⎥\n",
       "⎢ π                   π⎥\n",
       "⎢ ─    0    0    θ₂ + ─⎥\n",
       "⎢ 2                   2⎥\n",
       "⎢                      ⎥\n",
       "⎢ 0   455   0      θ₃  ⎥\n",
       "⎢                      ⎥\n",
       "⎢ π                    ⎥\n",
       "⎢ ─   35   -420    θ₄  ⎥\n",
       "⎢ 2                    ⎥\n",
       "⎢                      ⎥\n",
       "⎢-π                    ⎥\n",
       "⎢───   0    0      θ₅  ⎥\n",
       "⎢ 2                    ⎥\n",
       "⎢                      ⎥\n",
       "⎢ π                    ⎥\n",
       "⎢ ─    0   -80     θ₆  ⎥\n",
       "⎣ 2                    ⎦"
      ]
     },
     "execution_count": 6,
     "metadata": {},
     "output_type": "execute_result"
    }
   ],
   "source": [
    "# Oppg 1\n",
    "print(\"Task 1:\")\n",
    "\n",
    "th1, th2, th3, th4, th5, th6 = dynamicsymbols('theta_1, theta_2, theta_3, theta_4, theta_5, theta_6')\n",
    "\n",
    "config = sp.Matrix([[0,0,0,th1],[sp.pi/2,0,0,th2 + sp.pi/2],[0,455,0,th3],[sp.pi/2, 35, -420, th4],[-sp.pi/2,0,0,th5],[sp.pi/2, 0, -80,th6]])\n",
    "config"
   ]
  },
  {
   "cell_type": "code",
   "execution_count": 7,
   "metadata": {},
   "outputs": [
    {
     "data": {
      "image/png": "[encoded data removed]",
      "text/latex": [
       "$\\displaystyle \\left[\\begin{matrix}0 & 0 & -1 & 500\\\\0 & -1 & 0 & 0\\\\-1 & 0 & 0 & -490\\\\0 & 0 & 0 & 1\\end{matrix}\\right]$"
      ],
      "text/plain": [
       "⎡0   0   -1  500 ⎤\n",
       "⎢                ⎥\n",
       "⎢0   -1  0    0  ⎥\n",
       "⎢                ⎥\n",
       "⎢-1  0   0   -490⎥\n",
       "⎢                ⎥\n",
       "⎣0   0   0    1  ⎦"
      ]
     },
     "execution_count": 7,
     "metadata": {},
     "output_type": "execute_result"
    }
   ],
   "source": [
    "# oppg 2\n",
    "Mi = sp.Matrix([[sp.eye(4)]*6])\n",
    "\n",
    "for i in range(6):\n",
    "    if i == 1:\n",
    "        Mi[:,4*i:4*(i+1)] = rotX(config[i,0]) * transX(config[i,1]) * transZ(config[i,2]) * rotZ(-sp.pi/2) # We compansate for the rotation of -pi/2 done when finding the D-H parameters \n",
    "    else:\n",
    "        Mi[:,4*i:4*(i+1)] = rotX(config[i,0]) * transX(config[i,1]) * transZ(config[i,2])\n",
    "\n",
    "M = sp.eye(4)\n",
    "for n in range(5,-1,-1):\n",
    "    M = Mi[:,4*n:4*(n+1)] * M\n",
    "\n",
    "\n",
    "M "
   ]
  },
  {
   "cell_type": "code",
   "execution_count": 8,
   "metadata": {},
   "outputs": [
    {
     "data": {
      "image/png": "[encoded data removed]",
      "text/latex": [
       "$\\displaystyle \\left[\\begin{matrix}0 & 0 & 0 & -1 & 0 & -1\\\\0 & -1 & -1 & 0 & -1 & 0\\\\1 & 0 & 0 & 0 & 0 & 0\\\\0 & 0 & -455 & 0 & -490 & 0\\\\0 & 0 & 0 & 490 & 0 & 490\\\\0 & 0 & 0 & 0 & -420 & 0\\end{matrix}\\right]$"
      ],
      "text/plain": [
       "⎡0  0    0    -1    0    -1 ⎤\n",
       "⎢                           ⎥\n",
       "⎢0  -1   -1    0    -1    0 ⎥\n",
       "⎢                           ⎥\n",
       "⎢1  0    0     0    0     0 ⎥\n",
       "⎢                           ⎥\n",
       "⎢0  0   -455   0   -490   0 ⎥\n",
       "⎢                           ⎥\n",
       "⎢0  0    0    490   0    490⎥\n",
       "⎢                           ⎥\n",
       "⎣0  0    0     0   -420   0 ⎦"
      ]
     },
     "execution_count": 8,
     "metadata": {},
     "output_type": "execute_result"
    }
   ],
   "source": [
    "# oppg 3\n",
    "Ai = sp.Matrix([[0,-1,0,0],[1,0,0,0],[0,0,0,0],[0,0,0,0]]) # This is a given matrix due to revolute joints\n",
    "\n",
    "S_sp = sp.zeros(6)\n",
    "for i in range(6):\n",
    "    dot_sum = sp.eye(4)\n",
    "    for n in range(i,-1,-1):\n",
    "        dot_sum = Mi[:,4*n:4*(n+1)] * dot_sum\n",
    "    S_skew = dot_sum * Ai * sp.Inverse(dot_sum)\n",
    "    S_sp[0,i] = S_skew[2,1] \n",
    "    S_sp[1,i] = S_skew[0,2] \n",
    "    S_sp[2,i] = S_skew[1,0] \n",
    "    S_sp[3,i] = S_skew[0,3] \n",
    "    S_sp[4,i] = S_skew[1,3] \n",
    "    S_sp[5,i] = S_skew[2,3] \n",
    "\n",
    "S_sp"
   ]
  },
  {
   "cell_type": "code",
   "execution_count": 15,
   "metadata": {},
   "outputs": [
    {
     "data": {
      "text/latex": [
       "$\\displaystyle \\left[\\begin{matrix}-1 & 0 & 0 & 0 & 0 & 0\\\\0 & 1 & 1 & 0 & 1 & 0\\\\0 & 0 & 0 & 1 & 0 & 1\\\\0 & -500 & -500 & 0 & -80 & 0\\\\-500 & 0 & 0 & 0 & 0 & 0\\\\0 & -490 & -35 & 0 & 0 & 0\\end{matrix}\\right]$"
      ],
      "text/plain": [
       "⎡ -1    0     0    0   0   0⎤\n",
       "⎢                           ⎥\n",
       "⎢ 0     1     1    0   1   0⎥\n",
       "⎢                           ⎥\n",
       "⎢ 0     0     0    1   0   1⎥\n",
       "⎢                           ⎥\n",
       "⎢ 0    -500  -500  0  -80  0⎥\n",
       "⎢                           ⎥\n",
       "⎢-500   0     0    0   0   0⎥\n",
       "⎢                           ⎥\n",
       "⎣ 0    -490  -35   0   0   0⎦"
      ]
     },
     "execution_count": 15,
     "metadata": {},
     "output_type": "execute_result"
    }
   ],
   "source": [
    "# oppg 4, find body frame screw axis, S_bp\n",
    "\n",
    "M_inv = mr.TransInv(M)          #Finding inverse of M\n",
    "Ad_M_inv = mr.Adjoint(M_inv)    #Computing [Ad_M^-1]\n",
    "\n",
    "#Using B_i = [Ad_M^-1]S_i\n",
    "S_bp = sp.zeros(6,6)\n",
    "for i in range(6):\n",
    "     S_bp[:, i] = Ad_M_inv * S_sp[:, i]\n",
    "\n",
    "S_bp"
   ]
  }
 ],
 "metadata": {
  "interpreter": {
   "hash": "815224060b00a050660c7b9310329981a1e8f5f6161b36a2fd002dddd54a25e1"
  },
  "kernelspec": {
   "display_name": "Python 3.8.11 64-bit ('py38': conda)",
   "name": "python3"
  },
  "language_info": {
   "codemirror_mode": {
    "name": "ipython",
    "version": 3
   },
   "file_extension": ".py",
   "mimetype": "text/x-python",
   "name": "python",
   "nbconvert_exporter": "python",
   "pygments_lexer": "ipython3",
   "version": "3.8.12"
  },
  "orig_nbformat": 4
 },
 "nbformat": 4,
 "nbformat_minor": 2
}
