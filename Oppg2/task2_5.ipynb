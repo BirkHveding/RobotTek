{
 "cells": [
  {
   "cell_type": "code",
   "execution_count": 2,
   "metadata": {},
   "outputs": [
    {
     "name": "stdout",
     "output_type": "stream",
     "text": [
      "Task 1:\n"
     ]
    }
   ],
   "source": [
    "import open3d as o3d\n",
    "import numpy as np\n",
    "from sympy import *\n",
    "from sympy.physics.mechanics import dynamicsymbols, mechanics_printing\n",
    "mechanics_printing()\n",
    "import modern_robotics as mr\n",
    "\n",
    "%run task_21_to_24_jupyter.ipynb\n",
    "# import import_ipynb \n",
    "# import task_21_to_24_jupyter"
   ]
  },
  {
   "cell_type": "markdown",
   "metadata": {},
   "source": [
    "### Symbolic functions"
   ]
  },
  {
   "cell_type": "markdown",
   "metadata": {},
   "source": [
    "#### Variables from 2.1-2.4"
   ]
  },
  {
   "cell_type": "code",
   "execution_count": 43,
   "metadata": {},
   "outputs": [],
   "source": [
    "th1, th2, th3, th4, th5, th6 = dynamicsymbols('theta_1, theta_2, theta_3, theta_4, theta_5, theta_6')\n",
    "\n",
    "config = Matrix([[0,0,0,th1],[pi/2,0,0,th2 + pi/2],[0,455,0,th3],[pi/2, 35, -420, th4],[-pi/2,0,0,th5],[pi/2, 0, -80,th6]])\n",
    "\n",
    "Mi = Matrix([[eye(4)]*6])\n",
    "\n",
    "for i in range(6):\n",
    "    if i == 1:\n",
    "        Mi[:,4*i:4*(i+1)] = rotX(config[i,0]) * transX(config[i,1]) * transZ(config[i,2]) * rotZ(-pi/2) # We compansate for the rotation of -pi/2 done when finding the D-H parameters \n",
    "    else:\n",
    "        Mi[:,4*i:4*(i+1)] = rotX(config[i,0]) * transX(config[i,1]) * transZ(config[i,2])\n",
    "\n",
    "M = eye(4)\n",
    "for n in range(5,-1,-1):\n",
    "    M = Mi[:,4*n:4*(n+1)] * M\n",
    "\n",
    "    Ai = Matrix([[0,-1,0,0],[1,0,0,0],[0,0,0,0],[0,0,0,0]]) # This is a given matrix due to revolute joints\n",
    "\n",
    "S_sp = zeros(6)\n",
    "for i in range(6):\n",
    "    dot_sum = eye(4)\n",
    "    for n in range(i,-1,-1):\n",
    "        dot_sum = Mi[:,4*n:4*(n+1)] * dot_sum\n",
    "    S_skew = dot_sum * Ai * Inverse(dot_sum)\n",
    "    S_sp[0,i] = S_skew[2,1] \n",
    "    S_sp[1,i] = S_skew[0,2] \n",
    "    S_sp[2,i] = S_skew[1,0] \n",
    "    S_sp[3,i] = S_skew[0,3] \n",
    "    S_sp[4,i] = S_skew[1,3] \n",
    "    S_sp[5,i] = S_skew[2,3] \n",
    "\n",
    "M_inv = mr.TransInv(M)          #Finding inverse of M\n",
    "Ad_M_inv = mr.Adjoint(M_inv)    #Computing [Ad_M^-1]\n",
    "\n",
    "#Using B_i = [Ad_M^-1]S_i\n",
    "S_bp = zeros(6,6)\n",
    "for i in range(6):\n",
    "     S_bp[:, i] = Ad_M_inv * S_sp[:, i]"
   ]
  },
  {
   "cell_type": "markdown",
   "metadata": {},
   "source": [
    "## Task 2.5"
   ]
  },
  {
   "cell_type": "code",
   "execution_count": 38,
   "metadata": {},
   "outputs": [],
   "source": [
    "class RobotObject:\n",
    "    robotObjects = [o3d.geometry.TriangleMesh.create_coordinate_frame(size=75)] #List of all o3d objects, initialized with {s}-frame\n",
    "\n",
    "    def __init__(self, num_joints, length_links, link_orient = 'x'):\n",
    "        self.num_joints = num_joints\n",
    "        self.length_links = length_links\n",
    "        self.link_orient = ['x']*(len(link_lengths)+1) if link_orient == 'x' else link_orient\n",
    "        self.joints = []\n",
    "        self.links = []\n",
    "        self.make_robot_objects()\n",
    "\n",
    "#creates all o3d-objects of the robot in {s}\n",
    "    def make_robot_objects(self): \n",
    "        for i in range(self.num_joints):\n",
    "            self.joints.append(Joint())\n",
    "        for i in range(len(self.length_links)):\n",
    "            self.links.append(Link(self.length_links[i], self.link_orient[i]))\n",
    "\n",
    "#Moves all objects from {s} to config given by T_list\n",
    "    def transform(self, T_list):\n",
    "        for i, J in enumerate(self.joints):\n",
    "            J.transform(T_list[i])\n",
    "        for i, L in enumerate(self.links):\n",
    "            L.transform(T_list[i])\n",
    "\n",
    "    def draw_robot(self):\n",
    "        o3d.visualization.draw_geometries(self.robotObjects)\n",
    "\n",
    "#_____________Joint Class______________#\n",
    "class Joint(RobotObject):\n",
    "\n",
    "    def __init__(self):\n",
    "        self.joint = o3d.geometry.TriangleMesh.create_cylinder(\n",
    "            radius=10, height=30)\n",
    "        self.coord = o3d.geometry.TriangleMesh.create_coordinate_frame(size=25)\n",
    "        self.update_mesh_list()\n",
    "        self.set_colour()\n",
    "\n",
    "    def update_mesh_list(self):\n",
    "        self.robotObjects.append(self.joint)\n",
    "        self.robotObjects.append(self.coord)\n",
    "\n",
    "    def set_colour(self, colour=[0, 1, 0]):\n",
    "        self.joint.paint_uniform_color(colour)\n",
    "\n",
    "    def transform(self, T):\n",
    "        self.joint = self.joint.transform(T)\n",
    "        self.coord = self.coord.transform(T)\n",
    "\n",
    "#____________Link Class_________________#\n",
    "class Link(RobotObject):\n",
    "\n",
    "    def __init__(self, lenght, orient):\n",
    "        self.lenght = lenght\n",
    "        self.link_orient = orient\n",
    "\n",
    "        if (orient == 'x'): ##Needed for defining link axis in DH\n",
    "            self.link = o3d.geometry.TriangleMesh.create_cylinder(radius=1, height=self.lenght).rotate(Ry_sym(np.pi/2)).translate(np.array([self.lenght/2, 0, 0]))\n",
    "        elif (orient == 'y'):\n",
    "            self.link = o3d.geometry.TriangleMesh.create_cylinder(radius=1, height=self.lenght).rotate(Rx_sym(-np.pi/2)).translate(np.array([0, self.lenght/2, 0]))\n",
    "        elif (orient == 'z'):\n",
    "            self.link = o3d.geometry.TriangleMesh.create_cylinder(radius=1, height=self.lenght).translate(np.array([0, 0, self.lenght/2]))\n",
    "        \n",
    "        self.update_mesh_list()\n",
    "        self.set_colour()\n",
    "\n",
    "    def update_mesh_list(self):\n",
    "        self.robotObjects.append(self.link)\n",
    "\n",
    "    def set_colour(self, colour=[0, 0, 1]):\n",
    "        self.link.paint_uniform_color(colour)\n",
    "\n",
    "    def transform(self, T):\n",
    "        self.link = self.link.transform(T)"
   ]
  },
  {
   "cell_type": "code",
   "execution_count": 39,
   "metadata": {},
   "outputs": [],
   "source": [
    "def make_T_list(Mi, S_list, thetas):\n",
    "    T_list = []  # List with T01,T02,T03...\n",
    "    T = np.eye(4)\n",
    "    for i in range(len(thetas)):\n",
    "        T = T @ exp6(S_list[:, i], thetas[i]) @ Mi[:, 4*i:4*(i+1)]\n",
    "        T_list.append(T)\n",
    "    return T_list\n",
    "\n"
   ]
  },
  {
   "cell_type": "code",
   "execution_count": 40,
   "metadata": {},
   "outputs": [
    {
     "ename": "NameError",
     "evalue": "name 'Ry_sym' is not defined",
     "output_type": "error",
     "traceback": [
      "\u001b[1;31m---------------------------------------------------------------------------\u001b[0m",
      "\u001b[1;31mNameError\u001b[0m                                 Traceback (most recent call last)",
      "\u001b[1;32m~\\AppData\\Local\\Temp/ipykernel_4900/4221496055.py\u001b[0m in \u001b[0;36m<module>\u001b[1;34m\u001b[0m\n\u001b[0;32m      2\u001b[0m \u001b[1;31m# link_lengths = np.array([150, 150, 150, 150, 150])\u001b[0m\u001b[1;33m\u001b[0m\u001b[1;33m\u001b[0m\u001b[1;33m\u001b[0m\u001b[0m\n\u001b[0;32m      3\u001b[0m \u001b[1;33m\u001b[0m\u001b[0m\n\u001b[1;32m----> 4\u001b[1;33m \u001b[0mrobo\u001b[0m \u001b[1;33m=\u001b[0m \u001b[0mRobotObject\u001b[0m\u001b[1;33m(\u001b[0m\u001b[1;36m6\u001b[0m\u001b[1;33m,\u001b[0m \u001b[0mlink_lengths\u001b[0m\u001b[1;33m,\u001b[0m\u001b[1;33m[\u001b[0m\u001b[1;34m'x'\u001b[0m\u001b[1;33m,\u001b[0m\u001b[1;34m'x'\u001b[0m\u001b[1;33m,\u001b[0m\u001b[1;34m'x'\u001b[0m\u001b[1;33m,\u001b[0m\u001b[1;34m'z'\u001b[0m\u001b[1;33m,\u001b[0m\u001b[1;34m'x'\u001b[0m\u001b[1;33m,\u001b[0m\u001b[1;34m'z'\u001b[0m\u001b[1;33m]\u001b[0m\u001b[1;33m)\u001b[0m\u001b[1;33m\u001b[0m\u001b[1;33m\u001b[0m\u001b[0m\n\u001b[0m\u001b[0;32m      5\u001b[0m \u001b[0mT_list\u001b[0m \u001b[1;33m=\u001b[0m \u001b[0mmake_T_list\u001b[0m\u001b[1;33m(\u001b[0m\u001b[0mMi\u001b[0m\u001b[1;33m,\u001b[0m \u001b[0mS_sp\u001b[0m\u001b[1;33m,\u001b[0m \u001b[1;33m[\u001b[0m\u001b[1;36m0\u001b[0m\u001b[1;33m,\u001b[0m \u001b[1;36m0\u001b[0m\u001b[1;33m,\u001b[0m \u001b[1;36m0\u001b[0m\u001b[1;33m,\u001b[0m \u001b[1;36m0\u001b[0m\u001b[1;33m,\u001b[0m \u001b[1;36m0\u001b[0m\u001b[1;33m,\u001b[0m \u001b[1;36m0\u001b[0m\u001b[1;33m]\u001b[0m\u001b[1;33m)\u001b[0m\u001b[1;33m\u001b[0m\u001b[1;33m\u001b[0m\u001b[0m\n\u001b[0;32m      6\u001b[0m \u001b[1;33m\u001b[0m\u001b[0m\n",
      "\u001b[1;32m~\\AppData\\Local\\Temp/ipykernel_4900/1770481706.py\u001b[0m in \u001b[0;36m__init__\u001b[1;34m(self, num_joints, length_links, link_orient)\u001b[0m\n\u001b[0;32m      8\u001b[0m         \u001b[0mself\u001b[0m\u001b[1;33m.\u001b[0m\u001b[0mjoints\u001b[0m \u001b[1;33m=\u001b[0m \u001b[1;33m[\u001b[0m\u001b[1;33m]\u001b[0m\u001b[1;33m\u001b[0m\u001b[1;33m\u001b[0m\u001b[0m\n\u001b[0;32m      9\u001b[0m         \u001b[0mself\u001b[0m\u001b[1;33m.\u001b[0m\u001b[0mlinks\u001b[0m \u001b[1;33m=\u001b[0m \u001b[1;33m[\u001b[0m\u001b[1;33m]\u001b[0m\u001b[1;33m\u001b[0m\u001b[1;33m\u001b[0m\u001b[0m\n\u001b[1;32m---> 10\u001b[1;33m         \u001b[0mself\u001b[0m\u001b[1;33m.\u001b[0m\u001b[0mmake_robot_objects\u001b[0m\u001b[1;33m(\u001b[0m\u001b[1;33m)\u001b[0m\u001b[1;33m\u001b[0m\u001b[1;33m\u001b[0m\u001b[0m\n\u001b[0m\u001b[0;32m     11\u001b[0m \u001b[1;33m\u001b[0m\u001b[0m\n\u001b[0;32m     12\u001b[0m \u001b[1;31m#creates all o3d-objects of the robot in {s}\u001b[0m\u001b[1;33m\u001b[0m\u001b[1;33m\u001b[0m\u001b[1;33m\u001b[0m\u001b[0m\n",
      "\u001b[1;32m~\\AppData\\Local\\Temp/ipykernel_4900/1770481706.py\u001b[0m in \u001b[0;36mmake_robot_objects\u001b[1;34m(self)\u001b[0m\n\u001b[0;32m     15\u001b[0m             \u001b[0mself\u001b[0m\u001b[1;33m.\u001b[0m\u001b[0mjoints\u001b[0m\u001b[1;33m.\u001b[0m\u001b[0mappend\u001b[0m\u001b[1;33m(\u001b[0m\u001b[0mJoint\u001b[0m\u001b[1;33m(\u001b[0m\u001b[1;33m)\u001b[0m\u001b[1;33m)\u001b[0m\u001b[1;33m\u001b[0m\u001b[1;33m\u001b[0m\u001b[0m\n\u001b[0;32m     16\u001b[0m         \u001b[1;32mfor\u001b[0m \u001b[0mi\u001b[0m \u001b[1;32min\u001b[0m \u001b[0mrange\u001b[0m\u001b[1;33m(\u001b[0m\u001b[0mlen\u001b[0m\u001b[1;33m(\u001b[0m\u001b[0mself\u001b[0m\u001b[1;33m.\u001b[0m\u001b[0mlength_links\u001b[0m\u001b[1;33m)\u001b[0m\u001b[1;33m)\u001b[0m\u001b[1;33m:\u001b[0m\u001b[1;33m\u001b[0m\u001b[1;33m\u001b[0m\u001b[0m\n\u001b[1;32m---> 17\u001b[1;33m             \u001b[0mself\u001b[0m\u001b[1;33m.\u001b[0m\u001b[0mlinks\u001b[0m\u001b[1;33m.\u001b[0m\u001b[0mappend\u001b[0m\u001b[1;33m(\u001b[0m\u001b[0mLink\u001b[0m\u001b[1;33m(\u001b[0m\u001b[0mself\u001b[0m\u001b[1;33m.\u001b[0m\u001b[0mlength_links\u001b[0m\u001b[1;33m[\u001b[0m\u001b[0mi\u001b[0m\u001b[1;33m]\u001b[0m\u001b[1;33m,\u001b[0m \u001b[0mself\u001b[0m\u001b[1;33m.\u001b[0m\u001b[0mlink_orient\u001b[0m\u001b[1;33m[\u001b[0m\u001b[0mi\u001b[0m\u001b[1;33m]\u001b[0m\u001b[1;33m)\u001b[0m\u001b[1;33m)\u001b[0m\u001b[1;33m\u001b[0m\u001b[1;33m\u001b[0m\u001b[0m\n\u001b[0m\u001b[0;32m     18\u001b[0m \u001b[1;33m\u001b[0m\u001b[0m\n\u001b[0;32m     19\u001b[0m \u001b[1;31m#Moves all objects from {s} to config given by T_list\u001b[0m\u001b[1;33m\u001b[0m\u001b[1;33m\u001b[0m\u001b[1;33m\u001b[0m\u001b[0m\n",
      "\u001b[1;32m~\\AppData\\Local\\Temp/ipykernel_4900/1770481706.py\u001b[0m in \u001b[0;36m__init__\u001b[1;34m(self, lenght, orient)\u001b[0m\n\u001b[0;32m     56\u001b[0m \u001b[1;33m\u001b[0m\u001b[0m\n\u001b[0;32m     57\u001b[0m         \u001b[1;32mif\u001b[0m \u001b[1;33m(\u001b[0m\u001b[0morient\u001b[0m \u001b[1;33m==\u001b[0m \u001b[1;34m'x'\u001b[0m\u001b[1;33m)\u001b[0m\u001b[1;33m:\u001b[0m \u001b[1;31m##Needed for defining link axis in DH\u001b[0m\u001b[1;33m\u001b[0m\u001b[1;33m\u001b[0m\u001b[0m\n\u001b[1;32m---> 58\u001b[1;33m             \u001b[0mself\u001b[0m\u001b[1;33m.\u001b[0m\u001b[0mlink\u001b[0m \u001b[1;33m=\u001b[0m \u001b[0mo3d\u001b[0m\u001b[1;33m.\u001b[0m\u001b[0mgeometry\u001b[0m\u001b[1;33m.\u001b[0m\u001b[0mTriangleMesh\u001b[0m\u001b[1;33m.\u001b[0m\u001b[0mcreate_cylinder\u001b[0m\u001b[1;33m(\u001b[0m\u001b[0mradius\u001b[0m\u001b[1;33m=\u001b[0m\u001b[1;36m1\u001b[0m\u001b[1;33m,\u001b[0m \u001b[0mheight\u001b[0m\u001b[1;33m=\u001b[0m\u001b[0mself\u001b[0m\u001b[1;33m.\u001b[0m\u001b[0mlenght\u001b[0m\u001b[1;33m)\u001b[0m\u001b[1;33m.\u001b[0m\u001b[0mrotate\u001b[0m\u001b[1;33m(\u001b[0m\u001b[0mRy_sym\u001b[0m\u001b[1;33m(\u001b[0m\u001b[0mnp\u001b[0m\u001b[1;33m.\u001b[0m\u001b[0mpi\u001b[0m\u001b[1;33m/\u001b[0m\u001b[1;36m2\u001b[0m\u001b[1;33m)\u001b[0m\u001b[1;33m)\u001b[0m\u001b[1;33m.\u001b[0m\u001b[0mtranslate\u001b[0m\u001b[1;33m(\u001b[0m\u001b[0mnp\u001b[0m\u001b[1;33m.\u001b[0m\u001b[0marray\u001b[0m\u001b[1;33m(\u001b[0m\u001b[1;33m[\u001b[0m\u001b[0mself\u001b[0m\u001b[1;33m.\u001b[0m\u001b[0mlenght\u001b[0m\u001b[1;33m/\u001b[0m\u001b[1;36m2\u001b[0m\u001b[1;33m,\u001b[0m \u001b[1;36m0\u001b[0m\u001b[1;33m,\u001b[0m \u001b[1;36m0\u001b[0m\u001b[1;33m]\u001b[0m\u001b[1;33m)\u001b[0m\u001b[1;33m)\u001b[0m\u001b[1;33m\u001b[0m\u001b[1;33m\u001b[0m\u001b[0m\n\u001b[0m\u001b[0;32m     59\u001b[0m         \u001b[1;32melif\u001b[0m \u001b[1;33m(\u001b[0m\u001b[0morient\u001b[0m \u001b[1;33m==\u001b[0m \u001b[1;34m'y'\u001b[0m\u001b[1;33m)\u001b[0m\u001b[1;33m:\u001b[0m\u001b[1;33m\u001b[0m\u001b[1;33m\u001b[0m\u001b[0m\n\u001b[0;32m     60\u001b[0m             \u001b[0mself\u001b[0m\u001b[1;33m.\u001b[0m\u001b[0mlink\u001b[0m \u001b[1;33m=\u001b[0m \u001b[0mo3d\u001b[0m\u001b[1;33m.\u001b[0m\u001b[0mgeometry\u001b[0m\u001b[1;33m.\u001b[0m\u001b[0mTriangleMesh\u001b[0m\u001b[1;33m.\u001b[0m\u001b[0mcreate_cylinder\u001b[0m\u001b[1;33m(\u001b[0m\u001b[0mradius\u001b[0m\u001b[1;33m=\u001b[0m\u001b[1;36m1\u001b[0m\u001b[1;33m,\u001b[0m \u001b[0mheight\u001b[0m\u001b[1;33m=\u001b[0m\u001b[0mself\u001b[0m\u001b[1;33m.\u001b[0m\u001b[0mlenght\u001b[0m\u001b[1;33m)\u001b[0m\u001b[1;33m.\u001b[0m\u001b[0mrotate\u001b[0m\u001b[1;33m(\u001b[0m\u001b[0mRx_sym\u001b[0m\u001b[1;33m(\u001b[0m\u001b[1;33m-\u001b[0m\u001b[0mnp\u001b[0m\u001b[1;33m.\u001b[0m\u001b[0mpi\u001b[0m\u001b[1;33m/\u001b[0m\u001b[1;36m2\u001b[0m\u001b[1;33m)\u001b[0m\u001b[1;33m)\u001b[0m\u001b[1;33m.\u001b[0m\u001b[0mtranslate\u001b[0m\u001b[1;33m(\u001b[0m\u001b[0mnp\u001b[0m\u001b[1;33m.\u001b[0m\u001b[0marray\u001b[0m\u001b[1;33m(\u001b[0m\u001b[1;33m[\u001b[0m\u001b[1;36m0\u001b[0m\u001b[1;33m,\u001b[0m \u001b[0mself\u001b[0m\u001b[1;33m.\u001b[0m\u001b[0mlenght\u001b[0m\u001b[1;33m/\u001b[0m\u001b[1;36m2\u001b[0m\u001b[1;33m,\u001b[0m \u001b[1;36m0\u001b[0m\u001b[1;33m]\u001b[0m\u001b[1;33m)\u001b[0m\u001b[1;33m)\u001b[0m\u001b[1;33m\u001b[0m\u001b[1;33m\u001b[0m\u001b[0m\n",
      "\u001b[1;31mNameError\u001b[0m: name 'Ry_sym' is not defined"
     ]
    }
   ],
   "source": [
    "link_lengths = np.array([0.1,455,35,420,0.1,80])\n",
    "# link_lengths = np.array([150, 150, 150, 150, 150])\n",
    "\n",
    "robo = RobotObject(6, link_lengths,['x','x','x','z','x','z'])\n",
    "T_list = make_T_list(Mi, S_sp, [0, 0, 0, 0, 0, 0])\n",
    "\n",
    "robo.transform(T_list)\n",
    "robo.joints[0].set_colour([1, 0, 0])\n",
    "robo.joints[5].set_colour([0, 0, 1])\n",
    "T_list\n",
    "robo.draw_robot()\n",
    "l = ['z']*(len(link_lengths)+1)\n",
    "link_lengths"
   ]
  },
  {
   "cell_type": "code",
   "execution_count": null,
   "metadata": {},
   "outputs": [],
   "source": []
  },
  {
   "cell_type": "code",
   "execution_count": null,
   "metadata": {},
   "outputs": [],
   "source": []
  },
  {
   "cell_type": "code",
   "execution_count": null,
   "metadata": {},
   "outputs": [],
   "source": []
  }
 ],
 "metadata": {
  "interpreter": {
   "hash": "dc061abb13cde367a29c0361be6be92d273c8b832346c43ea6b243bbba735fc2"
  },
  "kernelspec": {
   "display_name": "Python 3.9.7 64-bit ('RT': conda)",
   "language": "python",
   "name": "python3"
  },
  "language_info": {
   "codemirror_mode": {
    "name": "ipython",
    "version": 3
   },
   "file_extension": ".py",
   "mimetype": "text/x-python",
   "name": "python",
   "nbconvert_exporter": "python",
   "pygments_lexer": "ipython3",
   "version": "3.8.12"
  },
  "orig_nbformat": 4
 },
 "nbformat": 4,
 "nbformat_minor": 2
}
