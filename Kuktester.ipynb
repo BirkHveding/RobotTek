{
 "cells": [
  {
   "cell_type": "code",
   "execution_count": 1,
   "metadata": {},
   "outputs": [
    {
     "name": "stdout",
     "output_type": "stream",
     "text": [
      "Jupyter environment detected. Enabling Open3D WebVisualizer.\n",
      "[Open3D INFO] WebRTC GUI backend enabled.\n",
      "[Open3D INFO] WebRTCWindowSystem: HTTP handshake server disabled.\n",
      "[Open3D INFO] Resetting default logger to print to terminal.\n"
     ]
    }
   ],
   "source": [
    "from Utilities.RobotClass import *\n",
    "from Utilities.kukaKinematics import *"
   ]
  },
  {
   "cell_type": "code",
   "execution_count": 2,
   "metadata": {},
   "outputs": [],
   "source": [
    "Kuka = Robot(Mlist, ['z', '-z', 'x', 'x', '-z','x'], Tne)"
   ]
  },
  {
   "cell_type": "code",
   "execution_count": 3,
   "metadata": {},
   "outputs": [
    {
     "data": {
      "application/vnd.jupyter.widget-view+json": {
       "model_id": "fc39c682fdfb4857a496d4cc006548af",
       "version_major": 2,
       "version_minor": 0
      },
      "text/plain": [
       "WebVisualizer(window_uid='window_0')"
      ]
     },
     "metadata": {},
     "output_type": "display_data"
    }
   ],
   "source": [
    "Kuka.transform(Slist,[0,-np.pi/2,np.pi/2,0,0,0])\n",
    "Kuka.draw_robot()"
   ]
  },
  {
   "cell_type": "code",
   "execution_count": 8,
   "metadata": {},
   "outputs": [],
   "source": [
    "import sympy as sp\n",
    "from sympy.physics.mechanics import dynamicsymbols, mechanics_printing\n",
    "mechanics_printing()"
   ]
  },
  {
   "cell_type": "code",
   "execution_count": 10,
   "metadata": {},
   "outputs": [
    {
     "data": {
      "image/png": "[encoded data removed]",
      "text/latex": [
       "$\\displaystyle \\left[\\begin{matrix}0 & \\pi & -400 & \\theta_{1}\\\\25 & \\frac{\\pi}{2} & 0 & \\theta_{2}\\\\455 & 0 & 0 & \\theta_{3} + \\frac{\\pi}{2}\\\\35 & \\frac{\\pi}{2} & -420 & \\theta_{4}\\\\0 & - \\frac{\\pi}{2} & 0 & \\theta_{5}\\\\0 & \\frac{\\pi}{2} & 0 & \\theta_{6}\\end{matrix}\\right]$"
      ],
      "text/plain": [
       "⎡ 0    π   -400    θ₁  ⎤\n",
       "⎢                      ⎥\n",
       "⎢      π               ⎥\n",
       "⎢25    ─    0      θ₂  ⎥\n",
       "⎢      2               ⎥\n",
       "⎢                      ⎥\n",
       "⎢                     π⎥\n",
       "⎢455   0    0    θ₃ + ─⎥\n",
       "⎢                     2⎥\n",
       "⎢                      ⎥\n",
       "⎢      π               ⎥\n",
       "⎢35    ─   -420    θ₄  ⎥\n",
       "⎢      2               ⎥\n",
       "⎢                      ⎥\n",
       "⎢     -π               ⎥\n",
       "⎢ 0   ───   0      θ₅  ⎥\n",
       "⎢      2               ⎥\n",
       "⎢                      ⎥\n",
       "⎢      π               ⎥\n",
       "⎢ 0    ─    0      θ₆  ⎥\n",
       "⎣      2               ⎦"
      ]
     },
     "execution_count": 10,
     "metadata": {},
     "output_type": "execute_result"
    }
   ],
   "source": [
    "th1, th2, th3, th4, th5, th6 = dynamicsymbols('theta_1, theta_2, theta_3, theta_4, theta_5, theta_6')\n",
    "al1,al2,al3,al4,al5,al6,al7 = sp.symbols('alpha_1,alpha_2,alpha_3,alpha_4,alpha_5,alpha_6,alpha_7,')\n",
    "config = sp.Matrix([[sp.pi,0,-400,th1],[sp.pi/2,25,0,th2],[0,455,0,th3 + sp.pi/2],[sp.pi/2, 35, -420, th4],[-sp.pi/2,0,0,th5],[sp.pi/2, 0, 0,th6]])\n",
    "\n",
    "Sic_config = sp.Matrix(sp.zeros(6,4))\n",
    "Sic_config[:,0] = config[:,1]\n",
    "Sic_config[:,1] = config[:,0]\n",
    "Sic_config[:,2] = config[:,2]\n",
    "Sic_config[:,3] = config[:,3]\n",
    "\n",
    "Sic_config\n",
    "\n",
    "def A1_sym(th_i, d_i):\n",
    "    ct = sp.cos(th_i)\n",
    "    st = sp.sin(th_i)\n",
    "    A1 = sp.Matrix([[ct, -st, 0.0, 0.0], [st, ct, 0.0, 0.0], [0.0, 0.0, 1, d_i], [0.0, 0.0, 0.0, 1]])\n",
    "    return A1 \n",
    "def A2_sym(al_i, a_i):\n",
    "    ca = sp.cos(al_i)\n",
    "    sa = sp.sin(al_i)\n",
    "    A2 = sp.Matrix([[1, 0.0, 0.0, a_i], [0.0, ca, -sa, 0.0], [0.0, sa, ca, 0.0], [0.0, 0.0, 0.0, 1]])\n",
    "    return A2 \n",
    "\n",
    "alp, a , d, th"
   ]
  },
  {
   "cell_type": "code",
   "execution_count": null,
   "metadata": {},
   "outputs": [],
   "source": [
    "def T_from_sic(config):\n",
    "    n = len(config.col(0))\n",
    "    Alist = np.zeros((4,4,n))\n",
    "    Tlist = np.zeros((4,4,n))\n",
    "    for i in range(n):\n",
    "        al_i = config[i,0]\n",
    "        a_i = config[i,1]\n",
    "        d_i = config[i,2]\n",
    "        th_i = config[i,3]\n",
    "        Alist[i] = A1_sym(th_i, d_i) * A2_sym(al_i, a_i)\n",
    "\n",
    "        T = sp.eye(4)\n",
    "        for j in range(i+1):\n",
    "            T = T * Alist[j]\n",
    "        Tlist[i] = T\n"
   ]
  },
  {
   "cell_type": "code",
   "execution_count": 22,
   "metadata": {},
   "outputs": [
    {
     "data": {
      "image/png": "[encoded data removed]",
      "text/latex": [
       "$\\displaystyle 6$"
      ],
      "text/plain": [
       "6"
      ]
     },
     "execution_count": 22,
     "metadata": {},
     "output_type": "execute_result"
    }
   ],
   "source": [
    "n = len(config.col(0))\n",
    "n"
   ]
  },
  {
   "cell_type": "code",
   "execution_count": null,
   "metadata": {},
   "outputs": [],
   "source": []
  }
 ],
 "metadata": {
  "interpreter": {
   "hash": "f53ade0e91c5a7960987437a5ba96562eb04763816e0c2241e452b900f4537a3"
  },
  "kernelspec": {
   "display_name": "Python 3.8.12 64-bit ('RT3': conda)",
   "language": "python",
   "name": "python3"
  },
  "language_info": {
   "codemirror_mode": {
    "name": "ipython",
    "version": 3
   },
   "file_extension": ".py",
   "mimetype": "text/x-python",
   "name": "python",
   "nbconvert_exporter": "python",
   "pygments_lexer": "ipython3",
   "version": "3.8.12"
  },
  "orig_nbformat": 4
 },
 "nbformat": 4,
 "nbformat_minor": 2
}
