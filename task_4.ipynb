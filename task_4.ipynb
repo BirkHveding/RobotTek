{
 "cells": [
  {
   "cell_type": "code",
   "execution_count": 5,
   "metadata": {},
   "outputs": [],
   "source": [
    "from sympy import *\n",
    "import sympy as sp\n",
    "from sympy.physics.mechanics import dynamicsymbols, mechanics_printing\n",
    "mechanics_printing()\n",
    "import modern_robotics as mr\n",
    "import numpy as np\n",
    "from Utilities.symbolicFunctions import*"
   ]
  },
  {
   "cell_type": "markdown",
   "metadata": {},
   "source": [
    "### Functions & variables from former tasks"
   ]
  },
  {
   "cell_type": "markdown",
   "metadata": {},
   "source": [
    "#### Variables"
   ]
  },
  {
   "cell_type": "code",
   "execution_count": 6,
   "metadata": {},
   "outputs": [
    {
     "data": {
      "text/latex": [
       "$\\displaystyle \\left[\\begin{matrix}-1 & 0 & 0 & 0 & 0 & 0\\\\0 & -1 & -1 & 0 & -1 & 0\\\\0 & 0 & 0 & -1 & 0 & 1\\\\0 & -875 & -420 & 0 & 0 & 0\\\\900 & 0 & 0 & 0 & 0 & 0\\\\0 & 35 & 35 & 0 & 0 & 0\\end{matrix}\\right]$"
      ],
      "text/plain": [
       "⎡-1    0     0    0   0   0⎤\n",
       "⎢                          ⎥\n",
       "⎢ 0    -1    -1   0   -1  0⎥\n",
       "⎢                          ⎥\n",
       "⎢ 0    0     0    -1  0   1⎥\n",
       "⎢                          ⎥\n",
       "⎢ 0   -875  -420  0   0   0⎥\n",
       "⎢                          ⎥\n",
       "⎢900   0     0    0   0   0⎥\n",
       "⎢                          ⎥\n",
       "⎣ 0    35    35   0   0   0⎦"
      ]
     },
     "execution_count": 6,
     "metadata": {},
     "output_type": "execute_result"
    }
   ],
   "source": [
    "th1, th2, th3, th4, th5, th6 = dynamicsymbols('theta_1, theta_2, theta_3, theta_4, theta_5, theta_6')\n",
    "\n",
    "S_bp = Matrix([[-1, 0, 0, 0, 0, 0], [0, 1, 1, 0, 1, 0], [0, 0, 0, 1, 0, 1], [0, -875, -420, 0, 0, 0], [-900, 0, 0, 0, 0, 0], [0, -35, -35, 0, 0, 0]])\n",
    "S_bp = Matrix([[-1, 0, 0, 0, 0, 0], [0, -1, -1, 0, -1, 0], [0, 0, 0, -1, 0, 1], [0, -875, -420, 0, 0, 0], [900, 0, 0, 0, 0, 0], [0, 35, 35, 0, 0, 0]])\n",
    "S_bp"
   ]
  },
  {
   "cell_type": "code",
   "execution_count": 7,
   "metadata": {},
   "outputs": [
    {
     "data": {
      "text/latex": [
       "$\\displaystyle \\left[\\begin{matrix}0 & 0 & 0 & -1 & 0 & -1\\\\0 & 1 & 1 & 0 & 1 & 0\\\\-1 & 0 & 0 & 0 & 0 & 0\\\\0 & 35 & 35 & 0 & 0 & 0\\\\-900 & 0 & 0 & 0 & 0 & 0\\\\0 & -875 & -420 & 0 & 0 & 0\\end{matrix}\\right]$"
      ],
      "text/plain": [
       "⎡ 0     0     0    -1  0  -1⎤\n",
       "⎢                           ⎥\n",
       "⎢ 0     1     1    0   1  0 ⎥\n",
       "⎢                           ⎥\n",
       "⎢ -1    0     0    0   0  0 ⎥\n",
       "⎢                           ⎥\n",
       "⎢ 0     35    35   0   0  0 ⎥\n",
       "⎢                           ⎥\n",
       "⎢-900   0     0    0   0  0 ⎥\n",
       "⎢                           ⎥\n",
       "⎣ 0    -875  -420  0   0  0 ⎦"
      ]
     },
     "execution_count": 7,
     "metadata": {},
     "output_type": "execute_result"
    }
   ],
   "source": [
    "##___Markus____\n",
    "def Jb_maker6x6(Blist): #Foreløpig for 6x6\n",
    "    Jb = sp.zeros(6,6)\n",
    "    Jb[:,5] =  Blist[:,5]\n",
    "    Jb[:,4] =  Ad(exp6(-Blist[:,5], th5)) * Blist[:,4]\n",
    "    Jb[:,3] =  Ad(exp6(-Blist[:,5], th5) * exp6(-Blist[:,4], th4)) * Blist[:,3]\n",
    "    Jb[:,2] =  Ad(exp6(-Blist[:,5], th5) * exp6(-Blist[:,4], th4) * exp6(-Blist[:,3], th3)) * Blist[:,2]\n",
    "    Jb[:,1] =  Ad(exp6(-Blist[:,5], th5) * exp6(-Blist[:,4], th4) * exp6(-Blist[:,3], th3) * exp6(-Blist[:,2], th2)) * Blist[:,1]\n",
    "    Jb[:,0] =  Ad(exp6(-Blist[:,5], th5) * exp6(-Blist[:,4], th4) * exp6(-Blist[:,3], th3) * exp6(-Blist[:,2], th2) * exp6(-Blist[:,1], th1)) * Blist[:,0]\n",
    "    \n",
    "    return Jb\n",
    "\n",
    "om = sp.zeros(3, 6)\n",
    "om6 = om[:, 5] = Matrix([-1,0,0])\n",
    "om5 = om[:, 4] = Matrix([0,1,0])\n",
    "om4 = om[:, 3] = Matrix([-1,0,0])\n",
    "om3 = om[:, 2] = Matrix([0,1,0])\n",
    "om2 = om[:, 1] = Matrix([0,1,0])\n",
    "om1 = om[:, 0] = Matrix([0,0,-1])\n",
    "\n",
    "q = sp.zeros(3,6)\n",
    "q6 = q[:,5] = Matrix([0,0,0])\n",
    "q5 = q[:,4] = Matrix([0,0,0])\n",
    "q4 = q[:,3] = Matrix([0,0,0])\n",
    "q3 = q[:,2] = Matrix([-420,0,-35])\n",
    "q2 = q[:,1] = Matrix([-420-455,0,-35])\n",
    "q1 = q[:,0] = Matrix([-420-455-25,0,-435])\n",
    "\n",
    "\n",
    "Blist = Slist_maker(om,q)#Blist med B6 posisjon som {6}, orientert som {s}\n",
    "Blist"
   ]
  },
  {
   "cell_type": "code",
   "execution_count": 8,
   "metadata": {},
   "outputs": [],
   "source": [
    "Jb = Jb_maker6x6(Blist)"
   ]
  },
  {
   "cell_type": "code",
   "execution_count": 9,
   "metadata": {},
   "outputs": [
    {
     "data": {
      "text/latex": [
       "$\\displaystyle \\left[\\begin{matrix}- \\left(- \\operatorname{sin}\\left(\\theta_{2}\\right) \\operatorname{cos}\\left(\\theta_{4}\\right) - \\operatorname{sin}\\left(\\theta_{4}\\right) \\operatorname{cos}\\left(\\theta_{2}\\right) \\operatorname{cos}\\left(\\theta_{3}\\right)\\right) \\operatorname{cos}\\left(\\theta_{1}\\right) + \\left(- \\operatorname{sin}\\left(\\theta_{2}\\right) \\operatorname{sin}\\left(\\theta_{4}\\right) \\operatorname{cos}\\left(\\theta_{3}\\right) + \\operatorname{cos}\\left(\\theta_{2}\\right) \\operatorname{cos}\\left(\\theta_{4}\\right)\\right) \\operatorname{sin}\\left(\\theta_{1}\\right) & - \\operatorname{sin}\\left(\\theta_{3}\\right) \\operatorname{sin}\\left(\\theta_{4}\\right) & - \\operatorname{sin}\\left(\\theta_{3}\\right) \\operatorname{sin}\\left(\\theta_{4}\\right) & - \\operatorname{cos}\\left(\\theta_{4}\\right) & 0 & -1\\\\\\left(\\left(- \\operatorname{sin}\\left(\\theta_{3}\\right) \\operatorname{cos}\\left(\\theta_{5}\\right) - \\operatorname{sin}\\left(\\theta_{5}\\right) \\operatorname{cos}\\left(\\theta_{3}\\right) \\operatorname{cos}\\left(\\theta_{4}\\right)\\right) \\operatorname{sin}\\left(\\theta_{2}\\right) - \\operatorname{sin}\\left(\\theta_{4}\\right) \\operatorname{sin}\\left(\\theta_{5}\\right) \\operatorname{cos}\\left(\\theta_{2}\\right)\\right) \\operatorname{sin}\\left(\\theta_{1}\\right) - \\left(\\left(- \\operatorname{sin}\\left(\\theta_{3}\\right) \\operatorname{cos}\\left(\\theta_{5}\\right) - \\operatorname{sin}\\left(\\theta_{5}\\right) \\operatorname{cos}\\left(\\theta_{3}\\right) \\operatorname{cos}\\left(\\theta_{4}\\right)\\right) \\operatorname{cos}\\left(\\theta_{2}\\right) + \\operatorname{sin}\\left(\\theta_{2}\\right) \\operatorname{sin}\\left(\\theta_{4}\\right) \\operatorname{sin}\\left(\\theta_{5}\\right)\\right) \\operatorname{cos}\\left(\\theta_{1}\\right) & - \\operatorname{sin}\\left(\\theta_{3}\\right) \\operatorname{sin}\\left(\\theta_{5}\\right) \\operatorname{cos}\\left(\\theta_{4}\\right) + \\operatorname{cos}\\left(\\theta_{3}\\right) \\operatorname{cos}\\left(\\theta_{5}\\right) & - \\operatorname{sin}\\left(\\theta_{3}\\right) \\operatorname{sin}\\left(\\theta_{5}\\right) \\operatorname{cos}\\left(\\theta_{4}\\right) + \\operatorname{cos}\\left(\\theta_{3}\\right) \\operatorname{cos}\\left(\\theta_{5}\\right) & \\operatorname{sin}\\left(\\theta_{4}\\right) \\operatorname{sin}\\left(\\theta_{5}\\right) & \\operatorname{cos}\\left(\\theta_{5}\\right) & 0\\\\\\left(\\left(- \\operatorname{sin}\\left(\\theta_{3}\\right) \\operatorname{sin}\\left(\\theta_{5}\\right) + \\operatorname{cos}\\left(\\theta_{3}\\right) \\operatorname{cos}\\left(\\theta_{4}\\right) \\operatorname{cos}\\left(\\theta_{5}\\right)\\right) \\operatorname{sin}\\left(\\theta_{2}\\right) + \\operatorname{sin}\\left(\\theta_{4}\\right) \\operatorname{cos}\\left(\\theta_{2}\\right) \\operatorname{cos}\\left(\\theta_{5}\\right)\\right) \\operatorname{sin}\\left(\\theta_{1}\\right) - \\left(\\left(- \\operatorname{sin}\\left(\\theta_{3}\\right) \\operatorname{sin}\\left(\\theta_{5}\\right) + \\operatorname{cos}\\left(\\theta_{3}\\right) \\operatorname{cos}\\left(\\theta_{4}\\right) \\operatorname{cos}\\left(\\theta_{5}\\right)\\right) \\operatorname{cos}\\left(\\theta_{2}\\right) - \\operatorname{sin}\\left(\\theta_{2}\\right) \\operatorname{sin}\\left(\\theta_{4}\\right) \\operatorname{cos}\\left(\\theta_{5}\\right)\\right) \\operatorname{cos}\\left(\\theta_{1}\\right) & \\operatorname{sin}\\left(\\theta_{3}\\right) \\operatorname{cos}\\left(\\theta_{4}\\right) \\operatorname{cos}\\left(\\theta_{5}\\right) + \\operatorname{sin}\\left(\\theta_{5}\\right) \\operatorname{cos}\\left(\\theta_{3}\\right) & \\operatorname{sin}\\left(\\theta_{3}\\right) \\operatorname{cos}\\left(\\theta_{4}\\right) \\operatorname{cos}\\left(\\theta_{5}\\right) + \\operatorname{sin}\\left(\\theta_{5}\\right) \\operatorname{cos}\\left(\\theta_{3}\\right) & - \\operatorname{sin}\\left(\\theta_{4}\\right) \\operatorname{cos}\\left(\\theta_{5}\\right) & \\operatorname{sin}\\left(\\theta_{5}\\right) & 0\\\\- \\left(- \\left(\\left(- \\operatorname{sin}\\left(\\theta_{3}\\right) \\operatorname{sin}\\left(\\theta_{5}\\right) + \\operatorname{cos}\\left(\\theta_{3}\\right) \\operatorname{cos}\\left(\\theta_{4}\\right) \\operatorname{cos}\\left(\\theta_{5}\\right)\\right) \\operatorname{sin}\\left(\\theta_{2}\\right) + \\operatorname{sin}\\left(\\theta_{4}\\right) \\operatorname{cos}\\left(\\theta_{2}\\right) \\operatorname{cos}\\left(\\theta_{5}\\right)\\right) \\operatorname{sin}\\left(\\theta_{1}\\right) + \\left(\\left(- \\operatorname{sin}\\left(\\theta_{3}\\right) \\operatorname{sin}\\left(\\theta_{5}\\right) + \\operatorname{cos}\\left(\\theta_{3}\\right) \\operatorname{cos}\\left(\\theta_{4}\\right) \\operatorname{cos}\\left(\\theta_{5}\\right)\\right) \\operatorname{cos}\\left(\\theta_{2}\\right) - \\operatorname{sin}\\left(\\theta_{2}\\right) \\operatorname{sin}\\left(\\theta_{4}\\right) \\operatorname{cos}\\left(\\theta_{5}\\right)\\right) \\operatorname{cos}\\left(\\theta_{1}\\right)\\right) \\left(\\left(\\left(- \\operatorname{sin}\\left(\\theta_{3}\\right) \\operatorname{cos}\\left(\\theta_{5}\\right) - \\operatorname{sin}\\left(\\theta_{5}\\right) \\operatorname{cos}\\left(\\theta_{3}\\right) \\operatorname{cos}\\left(\\theta_{4}\\right)\\right) \\operatorname{sin}\\left(\\theta_{2}\\right) - \\operatorname{sin}\\left(\\theta_{4}\\right) \\operatorname{sin}\\left(\\theta_{5}\\right) \\operatorname{cos}\\left(\\theta_{2}\\right)\\right) \\left(- 35 \\operatorname{sin}\\left(\\theta_{1}\\right) + 875 \\operatorname{cos}\\left(\\theta_{1}\\right) - 875\\right) + \\left(\\left(- \\operatorname{sin}\\left(\\theta_{3}\\right) \\operatorname{cos}\\left(\\theta_{5}\\right) - \\operatorname{sin}\\left(\\theta_{5}\\right) \\operatorname{cos}\\left(\\theta_{3}\\right) \\operatorname{cos}\\left(\\theta_{4}\\right)\\right) \\operatorname{cos}\\left(\\theta_{2}\\right) + \\operatorname{sin}\\left(\\theta_{2}\\right) \\operatorname{sin}\\left(\\theta_{4}\\right) \\operatorname{sin}\\left(\\theta_{5}\\right)\\right) \\left(875 \\operatorname{sin}\\left(\\theta_{1}\\right) + 35 \\operatorname{cos}\\left(\\theta_{1}\\right) - 35\\right) + \\left(- \\operatorname{sin}\\left(\\theta_{3}\\right) \\operatorname{cos}\\left(\\theta_{5}\\right) - \\operatorname{sin}\\left(\\theta_{5}\\right) \\operatorname{cos}\\left(\\theta_{3}\\right) \\operatorname{cos}\\left(\\theta_{4}\\right)\\right) \\left(420 \\operatorname{sin}\\left(\\theta_{2}\\right) + 35 \\operatorname{cos}\\left(\\theta_{2}\\right) - 35\\right) - \\left(- 35 \\operatorname{sin}\\left(\\theta_{2}\\right) + 420 \\operatorname{cos}\\left(\\theta_{2}\\right) - 420\\right) \\operatorname{sin}\\left(\\theta_{4}\\right) \\operatorname{sin}\\left(\\theta_{5}\\right)\\right) - \\left(- \\left(\\left(- \\operatorname{sin}\\left(\\theta_{3}\\right) \\operatorname{cos}\\left(\\theta_{5}\\right) - \\operatorname{sin}\\left(\\theta_{5}\\right) \\operatorname{cos}\\left(\\theta_{3}\\right) \\operatorname{cos}\\left(\\theta_{4}\\right)\\right) \\operatorname{sin}\\left(\\theta_{2}\\right) - \\operatorname{sin}\\left(\\theta_{4}\\right) \\operatorname{sin}\\left(\\theta_{5}\\right) \\operatorname{cos}\\left(\\theta_{2}\\right)\\right) \\operatorname{sin}\\left(\\theta_{1}\\right) + \\left(\\left(- \\operatorname{sin}\\left(\\theta_{3}\\right) \\operatorname{cos}\\left(\\theta_{5}\\right) - \\operatorname{sin}\\left(\\theta_{5}\\right) \\operatorname{cos}\\left(\\theta_{3}\\right) \\operatorname{cos}\\left(\\theta_{4}\\right)\\right) \\operatorname{cos}\\left(\\theta_{2}\\right) + \\operatorname{sin}\\left(\\theta_{2}\\right) \\operatorname{sin}\\left(\\theta_{4}\\right) \\operatorname{sin}\\left(\\theta_{5}\\right)\\right) \\operatorname{cos}\\left(\\theta_{1}\\right)\\right) \\left(- \\left(\\left(- \\operatorname{sin}\\left(\\theta_{3}\\right) \\operatorname{sin}\\left(\\theta_{5}\\right) + \\operatorname{cos}\\left(\\theta_{3}\\right) \\operatorname{cos}\\left(\\theta_{4}\\right) \\operatorname{cos}\\left(\\theta_{5}\\right)\\right) \\operatorname{sin}\\left(\\theta_{2}\\right) + \\operatorname{sin}\\left(\\theta_{4}\\right) \\operatorname{cos}\\left(\\theta_{2}\\right) \\operatorname{cos}\\left(\\theta_{5}\\right)\\right) \\left(- 35 \\operatorname{sin}\\left(\\theta_{1}\\right) + 875 \\operatorname{cos}\\left(\\theta_{1}\\right) - 875\\right) - \\left(\\left(- \\operatorname{sin}\\left(\\theta_{3}\\right) \\operatorname{sin}\\left(\\theta_{5}\\right) + \\operatorname{cos}\\left(\\theta_{3}\\right) \\operatorname{cos}\\left(\\theta_{4}\\right) \\operatorname{cos}\\left(\\theta_{5}\\right)\\right) \\operatorname{cos}\\left(\\theta_{2}\\right) - \\operatorname{sin}\\left(\\theta_{2}\\right) \\operatorname{sin}\\left(\\theta_{4}\\right) \\operatorname{cos}\\left(\\theta_{5}\\right)\\right) \\left(875 \\operatorname{sin}\\left(\\theta_{1}\\right) + 35 \\operatorname{cos}\\left(\\theta_{1}\\right) - 35\\right) - \\left(- \\operatorname{sin}\\left(\\theta_{3}\\right) \\operatorname{sin}\\left(\\theta_{5}\\right) + \\operatorname{cos}\\left(\\theta_{3}\\right) \\operatorname{cos}\\left(\\theta_{4}\\right) \\operatorname{cos}\\left(\\theta_{5}\\right)\\right) \\left(420 \\operatorname{sin}\\left(\\theta_{2}\\right) + 35 \\operatorname{cos}\\left(\\theta_{2}\\right) - 35\\right) - \\left(- 35 \\operatorname{sin}\\left(\\theta_{2}\\right) + 420 \\operatorname{cos}\\left(\\theta_{2}\\right) - 420\\right) \\operatorname{sin}\\left(\\theta_{4}\\right) \\operatorname{cos}\\left(\\theta_{5}\\right)\\right) + 900 \\operatorname{sin}\\left(\\theta_{3}\\right) \\operatorname{sin}\\left(\\theta_{4}\\right) & \\left(- \\left(- \\operatorname{sin}\\left(\\theta_{3}\\right) \\operatorname{sin}\\left(\\theta_{5}\\right) + \\operatorname{cos}\\left(\\theta_{3}\\right) \\operatorname{cos}\\left(\\theta_{4}\\right) \\operatorname{cos}\\left(\\theta_{5}\\right)\\right) \\left(420 \\operatorname{sin}\\left(\\theta_{2}\\right) + 35 \\operatorname{cos}\\left(\\theta_{2}\\right) - 35\\right) - \\left(- 35 \\operatorname{sin}\\left(\\theta_{2}\\right) + 420 \\operatorname{cos}\\left(\\theta_{2}\\right) - 420\\right) \\operatorname{sin}\\left(\\theta_{4}\\right) \\operatorname{cos}\\left(\\theta_{5}\\right)\\right) \\left(- \\operatorname{sin}\\left(\\theta_{3}\\right) \\operatorname{sin}\\left(\\theta_{5}\\right) \\operatorname{cos}\\left(\\theta_{4}\\right) + \\operatorname{cos}\\left(\\theta_{3}\\right) \\operatorname{cos}\\left(\\theta_{5}\\right)\\right) + \\left(\\left(- \\operatorname{sin}\\left(\\theta_{3}\\right) \\operatorname{cos}\\left(\\theta_{5}\\right) - \\operatorname{sin}\\left(\\theta_{5}\\right) \\operatorname{cos}\\left(\\theta_{3}\\right) \\operatorname{cos}\\left(\\theta_{4}\\right)\\right) \\left(420 \\operatorname{sin}\\left(\\theta_{2}\\right) + 35 \\operatorname{cos}\\left(\\theta_{2}\\right) - 35\\right) - \\left(- 35 \\operatorname{sin}\\left(\\theta_{2}\\right) + 420 \\operatorname{cos}\\left(\\theta_{2}\\right) - 420\\right) \\operatorname{sin}\\left(\\theta_{4}\\right) \\operatorname{sin}\\left(\\theta_{5}\\right)\\right) \\left(\\operatorname{sin}\\left(\\theta_{3}\\right) \\operatorname{cos}\\left(\\theta_{4}\\right) \\operatorname{cos}\\left(\\theta_{5}\\right) + \\operatorname{sin}\\left(\\theta_{5}\\right) \\operatorname{cos}\\left(\\theta_{3}\\right)\\right) - 35 \\operatorname{sin}\\left(\\theta_{2}\\right) \\operatorname{sin}\\left(\\theta_{4}\\right) \\operatorname{cos}\\left(\\theta_{3}\\right) + 875 \\operatorname{sin}\\left(\\theta_{2}\\right) \\operatorname{cos}\\left(\\theta_{4}\\right) + 875 \\operatorname{sin}\\left(\\theta_{4}\\right) \\operatorname{cos}\\left(\\theta_{2}\\right) \\operatorname{cos}\\left(\\theta_{3}\\right) + 35 \\operatorname{cos}\\left(\\theta_{2}\\right) \\operatorname{cos}\\left(\\theta_{4}\\right) & 420 \\operatorname{sin}\\left(\\theta_{4}\\right) \\operatorname{cos}\\left(\\theta_{3}\\right) + 35 \\operatorname{cos}\\left(\\theta_{4}\\right) & 0 & 0 & 0\\\\- \\left(- \\left(\\left(- \\operatorname{sin}\\left(\\theta_{3}\\right) \\operatorname{sin}\\left(\\theta_{5}\\right) + \\operatorname{cos}\\left(\\theta_{3}\\right) \\operatorname{cos}\\left(\\theta_{4}\\right) \\operatorname{cos}\\left(\\theta_{5}\\right)\\right) \\operatorname{sin}\\left(\\theta_{2}\\right) + \\operatorname{sin}\\left(\\theta_{4}\\right) \\operatorname{cos}\\left(\\theta_{2}\\right) \\operatorname{cos}\\left(\\theta_{5}\\right)\\right) \\operatorname{sin}\\left(\\theta_{1}\\right) + \\left(\\left(- \\operatorname{sin}\\left(\\theta_{3}\\right) \\operatorname{sin}\\left(\\theta_{5}\\right) + \\operatorname{cos}\\left(\\theta_{3}\\right) \\operatorname{cos}\\left(\\theta_{4}\\right) \\operatorname{cos}\\left(\\theta_{5}\\right)\\right) \\operatorname{cos}\\left(\\theta_{2}\\right) - \\operatorname{sin}\\left(\\theta_{2}\\right) \\operatorname{sin}\\left(\\theta_{4}\\right) \\operatorname{cos}\\left(\\theta_{5}\\right)\\right) \\operatorname{cos}\\left(\\theta_{1}\\right)\\right) \\left(- \\left(- \\operatorname{sin}\\left(\\theta_{2}\\right) \\operatorname{cos}\\left(\\theta_{4}\\right) - \\operatorname{sin}\\left(\\theta_{4}\\right) \\operatorname{cos}\\left(\\theta_{2}\\right) \\operatorname{cos}\\left(\\theta_{3}\\right)\\right) \\left(875 \\operatorname{sin}\\left(\\theta_{1}\\right) + 35 \\operatorname{cos}\\left(\\theta_{1}\\right) - 35\\right) - \\left(- \\operatorname{sin}\\left(\\theta_{2}\\right) \\operatorname{sin}\\left(\\theta_{4}\\right) \\operatorname{cos}\\left(\\theta_{3}\\right) + \\operatorname{cos}\\left(\\theta_{2}\\right) \\operatorname{cos}\\left(\\theta_{4}\\right)\\right) \\left(- 35 \\operatorname{sin}\\left(\\theta_{1}\\right) + 875 \\operatorname{cos}\\left(\\theta_{1}\\right) - 875\\right) - \\left(- 35 \\operatorname{sin}\\left(\\theta_{2}\\right) + 420 \\operatorname{cos}\\left(\\theta_{2}\\right) - 420\\right) \\operatorname{cos}\\left(\\theta_{4}\\right) + \\left(420 \\operatorname{sin}\\left(\\theta_{2}\\right) + 35 \\operatorname{cos}\\left(\\theta_{2}\\right) - 35\\right) \\operatorname{sin}\\left(\\theta_{4}\\right) \\operatorname{cos}\\left(\\theta_{3}\\right)\\right) - \\left(\\left(- \\operatorname{sin}\\left(\\theta_{2}\\right) \\operatorname{cos}\\left(\\theta_{4}\\right) - \\operatorname{sin}\\left(\\theta_{4}\\right) \\operatorname{cos}\\left(\\theta_{2}\\right) \\operatorname{cos}\\left(\\theta_{3}\\right)\\right) \\operatorname{cos}\\left(\\theta_{1}\\right) - \\left(- \\operatorname{sin}\\left(\\theta_{2}\\right) \\operatorname{sin}\\left(\\theta_{4}\\right) \\operatorname{cos}\\left(\\theta_{3}\\right) + \\operatorname{cos}\\left(\\theta_{2}\\right) \\operatorname{cos}\\left(\\theta_{4}\\right)\\right) \\operatorname{sin}\\left(\\theta_{1}\\right)\\right) \\left(\\left(\\left(- \\operatorname{sin}\\left(\\theta_{3}\\right) \\operatorname{sin}\\left(\\theta_{5}\\right) + \\operatorname{cos}\\left(\\theta_{3}\\right) \\operatorname{cos}\\left(\\theta_{4}\\right) \\operatorname{cos}\\left(\\theta_{5}\\right)\\right) \\operatorname{sin}\\left(\\theta_{2}\\right) + \\operatorname{sin}\\left(\\theta_{4}\\right) \\operatorname{cos}\\left(\\theta_{2}\\right) \\operatorname{cos}\\left(\\theta_{5}\\right)\\right) \\left(- 35 \\operatorname{sin}\\left(\\theta_{1}\\right) + 875 \\operatorname{cos}\\left(\\theta_{1}\\right) - 875\\right) + \\left(\\left(- \\operatorname{sin}\\left(\\theta_{3}\\right) \\operatorname{sin}\\left(\\theta_{5}\\right) + \\operatorname{cos}\\left(\\theta_{3}\\right) \\operatorname{cos}\\left(\\theta_{4}\\right) \\operatorname{cos}\\left(\\theta_{5}\\right)\\right) \\operatorname{cos}\\left(\\theta_{2}\\right) - \\operatorname{sin}\\left(\\theta_{2}\\right) \\operatorname{sin}\\left(\\theta_{4}\\right) \\operatorname{cos}\\left(\\theta_{5}\\right)\\right) \\left(875 \\operatorname{sin}\\left(\\theta_{1}\\right) + 35 \\operatorname{cos}\\left(\\theta_{1}\\right) - 35\\right) + \\left(- \\operatorname{sin}\\left(\\theta_{3}\\right) \\operatorname{sin}\\left(\\theta_{5}\\right) + \\operatorname{cos}\\left(\\theta_{3}\\right) \\operatorname{cos}\\left(\\theta_{4}\\right) \\operatorname{cos}\\left(\\theta_{5}\\right)\\right) \\left(420 \\operatorname{sin}\\left(\\theta_{2}\\right) + 35 \\operatorname{cos}\\left(\\theta_{2}\\right) - 35\\right) + \\left(- 35 \\operatorname{sin}\\left(\\theta_{2}\\right) + 420 \\operatorname{cos}\\left(\\theta_{2}\\right) - 420\\right) \\operatorname{sin}\\left(\\theta_{4}\\right) \\operatorname{cos}\\left(\\theta_{5}\\right)\\right) + 900 \\operatorname{sin}\\left(\\theta_{3}\\right) \\operatorname{sin}\\left(\\theta_{5}\\right) \\operatorname{cos}\\left(\\theta_{4}\\right) - 900 \\operatorname{cos}\\left(\\theta_{3}\\right) \\operatorname{cos}\\left(\\theta_{5}\\right) & - \\left(\\left(- \\operatorname{sin}\\left(\\theta_{3}\\right) \\operatorname{sin}\\left(\\theta_{5}\\right) + \\operatorname{cos}\\left(\\theta_{3}\\right) \\operatorname{cos}\\left(\\theta_{4}\\right) \\operatorname{cos}\\left(\\theta_{5}\\right)\\right) \\left(420 \\operatorname{sin}\\left(\\theta_{2}\\right) + 35 \\operatorname{cos}\\left(\\theta_{2}\\right) - 35\\right) + \\left(- 35 \\operatorname{sin}\\left(\\theta_{2}\\right) + 420 \\operatorname{cos}\\left(\\theta_{2}\\right) - 420\\right) \\operatorname{sin}\\left(\\theta_{4}\\right) \\operatorname{cos}\\left(\\theta_{5}\\right)\\right) \\operatorname{sin}\\left(\\theta_{3}\\right) \\operatorname{sin}\\left(\\theta_{4}\\right) + \\left(- \\left(- 35 \\operatorname{sin}\\left(\\theta_{2}\\right) + 420 \\operatorname{cos}\\left(\\theta_{2}\\right) - 420\\right) \\operatorname{cos}\\left(\\theta_{4}\\right) + \\left(420 \\operatorname{sin}\\left(\\theta_{2}\\right) + 35 \\operatorname{cos}\\left(\\theta_{2}\\right) - 35\\right) \\operatorname{sin}\\left(\\theta_{4}\\right) \\operatorname{cos}\\left(\\theta_{3}\\right)\\right) \\left(\\operatorname{sin}\\left(\\theta_{3}\\right) \\operatorname{cos}\\left(\\theta_{4}\\right) \\operatorname{cos}\\left(\\theta_{5}\\right) + \\operatorname{sin}\\left(\\theta_{5}\\right) \\operatorname{cos}\\left(\\theta_{3}\\right)\\right) + 35 \\left(- \\operatorname{sin}\\left(\\theta_{3}\\right) \\operatorname{cos}\\left(\\theta_{5}\\right) - \\operatorname{sin}\\left(\\theta_{5}\\right) \\operatorname{cos}\\left(\\theta_{3}\\right) \\operatorname{cos}\\left(\\theta_{4}\\right)\\right) \\operatorname{sin}\\left(\\theta_{2}\\right) - 875 \\left(- \\operatorname{sin}\\left(\\theta_{3}\\right) \\operatorname{cos}\\left(\\theta_{5}\\right) - \\operatorname{sin}\\left(\\theta_{5}\\right) \\operatorname{cos}\\left(\\theta_{3}\\right) \\operatorname{cos}\\left(\\theta_{4}\\right)\\right) \\operatorname{cos}\\left(\\theta_{2}\\right) - 875 \\operatorname{sin}\\left(\\theta_{2}\\right) \\operatorname{sin}\\left(\\theta_{4}\\right) \\operatorname{sin}\\left(\\theta_{5}\\right) - 35 \\operatorname{sin}\\left(\\theta_{4}\\right) \\operatorname{sin}\\left(\\theta_{5}\\right) \\operatorname{cos}\\left(\\theta_{2}\\right) & 420 \\operatorname{sin}\\left(\\theta_{3}\\right) \\operatorname{cos}\\left(\\theta_{5}\\right) - 35 \\operatorname{sin}\\left(\\theta_{4}\\right) \\operatorname{sin}\\left(\\theta_{5}\\right) + 420 \\operatorname{sin}\\left(\\theta_{5}\\right) \\operatorname{cos}\\left(\\theta_{3}\\right) \\operatorname{cos}\\left(\\theta_{4}\\right) & 0 & 0 & 0\\\\- \\left(- \\left(\\left(- \\operatorname{sin}\\left(\\theta_{3}\\right) \\operatorname{cos}\\left(\\theta_{5}\\right) - \\operatorname{sin}\\left(\\theta_{5}\\right) \\operatorname{cos}\\left(\\theta_{3}\\right) \\operatorname{cos}\\left(\\theta_{4}\\right)\\right) \\operatorname{sin}\\left(\\theta_{2}\\right) - \\operatorname{sin}\\left(\\theta_{4}\\right) \\operatorname{sin}\\left(\\theta_{5}\\right) \\operatorname{cos}\\left(\\theta_{2}\\right)\\right) \\operatorname{sin}\\left(\\theta_{1}\\right) + \\left(\\left(- \\operatorname{sin}\\left(\\theta_{3}\\right) \\operatorname{cos}\\left(\\theta_{5}\\right) - \\operatorname{sin}\\left(\\theta_{5}\\right) \\operatorname{cos}\\left(\\theta_{3}\\right) \\operatorname{cos}\\left(\\theta_{4}\\right)\\right) \\operatorname{cos}\\left(\\theta_{2}\\right) + \\operatorname{sin}\\left(\\theta_{2}\\right) \\operatorname{sin}\\left(\\theta_{4}\\right) \\operatorname{sin}\\left(\\theta_{5}\\right)\\right) \\operatorname{cos}\\left(\\theta_{1}\\right)\\right) \\left(\\left(- \\operatorname{sin}\\left(\\theta_{2}\\right) \\operatorname{cos}\\left(\\theta_{4}\\right) - \\operatorname{sin}\\left(\\theta_{4}\\right) \\operatorname{cos}\\left(\\theta_{2}\\right) \\operatorname{cos}\\left(\\theta_{3}\\right)\\right) \\left(875 \\operatorname{sin}\\left(\\theta_{1}\\right) + 35 \\operatorname{cos}\\left(\\theta_{1}\\right) - 35\\right) + \\left(- \\operatorname{sin}\\left(\\theta_{2}\\right) \\operatorname{sin}\\left(\\theta_{4}\\right) \\operatorname{cos}\\left(\\theta_{3}\\right) + \\operatorname{cos}\\left(\\theta_{2}\\right) \\operatorname{cos}\\left(\\theta_{4}\\right)\\right) \\left(- 35 \\operatorname{sin}\\left(\\theta_{1}\\right) + 875 \\operatorname{cos}\\left(\\theta_{1}\\right) - 875\\right) + \\left(- 35 \\operatorname{sin}\\left(\\theta_{2}\\right) + 420 \\operatorname{cos}\\left(\\theta_{2}\\right) - 420\\right) \\operatorname{cos}\\left(\\theta_{4}\\right) - \\left(420 \\operatorname{sin}\\left(\\theta_{2}\\right) + 35 \\operatorname{cos}\\left(\\theta_{2}\\right) - 35\\right) \\operatorname{sin}\\left(\\theta_{4}\\right) \\operatorname{cos}\\left(\\theta_{3}\\right)\\right) - \\left(\\left(- \\operatorname{sin}\\left(\\theta_{2}\\right) \\operatorname{cos}\\left(\\theta_{4}\\right) - \\operatorname{sin}\\left(\\theta_{4}\\right) \\operatorname{cos}\\left(\\theta_{2}\\right) \\operatorname{cos}\\left(\\theta_{3}\\right)\\right) \\operatorname{cos}\\left(\\theta_{1}\\right) - \\left(- \\operatorname{sin}\\left(\\theta_{2}\\right) \\operatorname{sin}\\left(\\theta_{4}\\right) \\operatorname{cos}\\left(\\theta_{3}\\right) + \\operatorname{cos}\\left(\\theta_{2}\\right) \\operatorname{cos}\\left(\\theta_{4}\\right)\\right) \\operatorname{sin}\\left(\\theta_{1}\\right)\\right) \\left(- \\left(\\left(- \\operatorname{sin}\\left(\\theta_{3}\\right) \\operatorname{cos}\\left(\\theta_{5}\\right) - \\operatorname{sin}\\left(\\theta_{5}\\right) \\operatorname{cos}\\left(\\theta_{3}\\right) \\operatorname{cos}\\left(\\theta_{4}\\right)\\right) \\operatorname{sin}\\left(\\theta_{2}\\right) - \\operatorname{sin}\\left(\\theta_{4}\\right) \\operatorname{sin}\\left(\\theta_{5}\\right) \\operatorname{cos}\\left(\\theta_{2}\\right)\\right) \\left(- 35 \\operatorname{sin}\\left(\\theta_{1}\\right) + 875 \\operatorname{cos}\\left(\\theta_{1}\\right) - 875\\right) - \\left(\\left(- \\operatorname{sin}\\left(\\theta_{3}\\right) \\operatorname{cos}\\left(\\theta_{5}\\right) - \\operatorname{sin}\\left(\\theta_{5}\\right) \\operatorname{cos}\\left(\\theta_{3}\\right) \\operatorname{cos}\\left(\\theta_{4}\\right)\\right) \\operatorname{cos}\\left(\\theta_{2}\\right) + \\operatorname{sin}\\left(\\theta_{2}\\right) \\operatorname{sin}\\left(\\theta_{4}\\right) \\operatorname{sin}\\left(\\theta_{5}\\right)\\right) \\left(875 \\operatorname{sin}\\left(\\theta_{1}\\right) + 35 \\operatorname{cos}\\left(\\theta_{1}\\right) - 35\\right) - \\left(- \\operatorname{sin}\\left(\\theta_{3}\\right) \\operatorname{cos}\\left(\\theta_{5}\\right) - \\operatorname{sin}\\left(\\theta_{5}\\right) \\operatorname{cos}\\left(\\theta_{3}\\right) \\operatorname{cos}\\left(\\theta_{4}\\right)\\right) \\left(420 \\operatorname{sin}\\left(\\theta_{2}\\right) + 35 \\operatorname{cos}\\left(\\theta_{2}\\right) - 35\\right) + \\left(- 35 \\operatorname{sin}\\left(\\theta_{2}\\right) + 420 \\operatorname{cos}\\left(\\theta_{2}\\right) - 420\\right) \\operatorname{sin}\\left(\\theta_{4}\\right) \\operatorname{sin}\\left(\\theta_{5}\\right)\\right) - 900 \\operatorname{sin}\\left(\\theta_{3}\\right) \\operatorname{cos}\\left(\\theta_{4}\\right) \\operatorname{cos}\\left(\\theta_{5}\\right) - 900 \\operatorname{sin}\\left(\\theta_{5}\\right) \\operatorname{cos}\\left(\\theta_{3}\\right) & - \\left(- \\left(- \\operatorname{sin}\\left(\\theta_{3}\\right) \\operatorname{cos}\\left(\\theta_{5}\\right) - \\operatorname{sin}\\left(\\theta_{5}\\right) \\operatorname{cos}\\left(\\theta_{3}\\right) \\operatorname{cos}\\left(\\theta_{4}\\right)\\right) \\left(420 \\operatorname{sin}\\left(\\theta_{2}\\right) + 35 \\operatorname{cos}\\left(\\theta_{2}\\right) - 35\\right) + \\left(- 35 \\operatorname{sin}\\left(\\theta_{2}\\right) + 420 \\operatorname{cos}\\left(\\theta_{2}\\right) - 420\\right) \\operatorname{sin}\\left(\\theta_{4}\\right) \\operatorname{sin}\\left(\\theta_{5}\\right)\\right) \\operatorname{sin}\\left(\\theta_{3}\\right) \\operatorname{sin}\\left(\\theta_{4}\\right) + \\left(\\left(- 35 \\operatorname{sin}\\left(\\theta_{2}\\right) + 420 \\operatorname{cos}\\left(\\theta_{2}\\right) - 420\\right) \\operatorname{cos}\\left(\\theta_{4}\\right) - \\left(420 \\operatorname{sin}\\left(\\theta_{2}\\right) + 35 \\operatorname{cos}\\left(\\theta_{2}\\right) - 35\\right) \\operatorname{sin}\\left(\\theta_{4}\\right) \\operatorname{cos}\\left(\\theta_{3}\\right)\\right) \\left(- \\operatorname{sin}\\left(\\theta_{3}\\right) \\operatorname{sin}\\left(\\theta_{5}\\right) \\operatorname{cos}\\left(\\theta_{4}\\right) + \\operatorname{cos}\\left(\\theta_{3}\\right) \\operatorname{cos}\\left(\\theta_{5}\\right)\\right) + 35 \\left(- \\operatorname{sin}\\left(\\theta_{3}\\right) \\operatorname{sin}\\left(\\theta_{5}\\right) + \\operatorname{cos}\\left(\\theta_{3}\\right) \\operatorname{cos}\\left(\\theta_{4}\\right) \\operatorname{cos}\\left(\\theta_{5}\\right)\\right) \\operatorname{sin}\\left(\\theta_{2}\\right) - 875 \\left(- \\operatorname{sin}\\left(\\theta_{3}\\right) \\operatorname{sin}\\left(\\theta_{5}\\right) + \\operatorname{cos}\\left(\\theta_{3}\\right) \\operatorname{cos}\\left(\\theta_{4}\\right) \\operatorname{cos}\\left(\\theta_{5}\\right)\\right) \\operatorname{cos}\\left(\\theta_{2}\\right) + 875 \\operatorname{sin}\\left(\\theta_{2}\\right) \\operatorname{sin}\\left(\\theta_{4}\\right) \\operatorname{cos}\\left(\\theta_{5}\\right) + 35 \\operatorname{sin}\\left(\\theta_{4}\\right) \\operatorname{cos}\\left(\\theta_{2}\\right) \\operatorname{cos}\\left(\\theta_{5}\\right) & 420 \\operatorname{sin}\\left(\\theta_{3}\\right) \\operatorname{sin}\\left(\\theta_{5}\\right) + 35 \\operatorname{sin}\\left(\\theta_{4}\\right) \\operatorname{cos}\\left(\\theta_{5}\\right) - 420 \\operatorname{cos}\\left(\\theta_{3}\\right) \\operatorname{cos}\\left(\\theta_{4}\\right) \\operatorname{cos}\\left(\\theta_{5}\\right) & 0 & 0 & 0\\end{matrix}\\right]$"
      ],
      "text/plain": [
       "⎡                                                                             \n",
       "⎢                                                                             \n",
       "⎢                                                                             \n",
       "⎢                                                                             \n",
       "⎢                                                                             \n",
       "⎢                                                                             \n",
       "⎢-(-((-sin(θ₃)⋅sin(θ₅) + cos(θ₃)⋅cos(θ₄)⋅cos(θ₅))⋅sin(θ₂) + sin(θ₄)⋅cos(θ₂)⋅co\n",
       "⎢                                                                             \n",
       "⎢                                                                            -\n",
       "⎢                                                                             \n",
       "⎣                                                                            -\n",
       "\n",
       "                                                                              \n",
       "                                                                              \n",
       "                                                                              \n",
       "                                                                              \n",
       "                                                                              \n",
       "                                                                              \n",
       "s(θ₅))⋅sin(θ₁) + ((-sin(θ₃)⋅sin(θ₅) + cos(θ₃)⋅cos(θ₄)⋅cos(θ₅))⋅cos(θ₂) - sin(θ\n",
       "                                                                              \n",
       "(-((-sin(θ₃)⋅sin(θ₅) + cos(θ₃)⋅cos(θ₄)⋅cos(θ₅))⋅sin(θ₂) + sin(θ₄)⋅cos(θ₂)⋅cos(\n",
       "                                                                              \n",
       "(-((-sin(θ₃)⋅cos(θ₅) - sin(θ₅)⋅cos(θ₃)⋅cos(θ₄))⋅sin(θ₂) - sin(θ₄)⋅sin(θ₅)⋅cos(\n",
       "\n",
       "                                                                              \n",
       "                                                                              \n",
       "                                                                              \n",
       "                                                                              \n",
       "                                                                              \n",
       "                                                                              \n",
       "₂)⋅sin(θ₄)⋅cos(θ₅))⋅cos(θ₁))⋅(((-sin(θ₃)⋅cos(θ₅) - sin(θ₅)⋅cos(θ₃)⋅cos(θ₄))⋅si\n",
       "                                                                              \n",
       "θ₅))⋅sin(θ₁) + ((-sin(θ₃)⋅sin(θ₅) + cos(θ₃)⋅cos(θ₄)⋅cos(θ₅))⋅cos(θ₂) - sin(θ₂)\n",
       "                                                                              \n",
       "θ₂))⋅sin(θ₁) + ((-sin(θ₃)⋅cos(θ₅) - sin(θ₅)⋅cos(θ₃)⋅cos(θ₄))⋅cos(θ₂) + sin(θ₂)\n",
       "\n",
       "                                                                              \n",
       "                                                                              \n",
       "                                                                              \n",
       "                                                                              \n",
       "                                                                              \n",
       "                                                                              \n",
       "n(θ₂) - sin(θ₄)⋅sin(θ₅)⋅cos(θ₂))⋅(-35⋅sin(θ₁) + 875⋅cos(θ₁) - 875) + ((-sin(θ₃\n",
       "                                                                              \n",
       "⋅sin(θ₄)⋅cos(θ₅))⋅cos(θ₁))⋅(-(-sin(θ₂)⋅cos(θ₄) - sin(θ₄)⋅cos(θ₂)⋅cos(θ₃))⋅(875\n",
       "                                                                              \n",
       "⋅sin(θ₄)⋅sin(θ₅))⋅cos(θ₁))⋅((-sin(θ₂)⋅cos(θ₄) - sin(θ₄)⋅cos(θ₂)⋅cos(θ₃))⋅(875⋅\n",
       "\n",
       "                                                                              \n",
       "                                                                              \n",
       "                                                                              \n",
       "                                                                              \n",
       "                                                                              \n",
       "                                                                              \n",
       ")⋅cos(θ₅) - sin(θ₅)⋅cos(θ₃)⋅cos(θ₄))⋅cos(θ₂) + sin(θ₂)⋅sin(θ₄)⋅sin(θ₅))⋅(875⋅s\n",
       "                                                                              \n",
       "⋅sin(θ₁) + 35⋅cos(θ₁) - 35) - (-sin(θ₂)⋅sin(θ₄)⋅cos(θ₃) + cos(θ₂)⋅cos(θ₄))⋅(-3\n",
       "                                                                              \n",
       "sin(θ₁) + 35⋅cos(θ₁) - 35) + (-sin(θ₂)⋅sin(θ₄)⋅cos(θ₃) + cos(θ₂)⋅cos(θ₄))⋅(-35\n",
       "\n",
       "                                                                              \n",
       "                                                                              \n",
       "                                                                              \n",
       "                                                                              \n",
       "                                                                              \n",
       "                                                                              \n",
       "in(θ₁) + 35⋅cos(θ₁) - 35) + (-sin(θ₃)⋅cos(θ₅) - sin(θ₅)⋅cos(θ₃)⋅cos(θ₄))⋅(420⋅\n",
       "                                                                              \n",
       "5⋅sin(θ₁) + 875⋅cos(θ₁) - 875) - (-35⋅sin(θ₂) + 420⋅cos(θ₂) - 420)⋅cos(θ₄) + (\n",
       "                                                                              \n",
       "⋅sin(θ₁) + 875⋅cos(θ₁) - 875) + (-35⋅sin(θ₂) + 420⋅cos(θ₂) - 420)⋅cos(θ₄) - (4\n",
       "\n",
       "                                     -(-sin(θ₂)⋅cos(θ₄) - sin(θ₄)⋅cos(θ₂)⋅cos(\n",
       "                                                                              \n",
       "  ((-sin(θ₃)⋅cos(θ₅) - sin(θ₅)⋅cos(θ₃)⋅cos(θ₄))⋅sin(θ₂) - sin(θ₄)⋅sin(θ₅)⋅cos(\n",
       "                                                                              \n",
       "  ((-sin(θ₃)⋅sin(θ₅) + cos(θ₃)⋅cos(θ₄)⋅cos(θ₅))⋅sin(θ₂) + sin(θ₄)⋅cos(θ₂)⋅cos(\n",
       "                                                                              \n",
       "sin(θ₂) + 35⋅cos(θ₂) - 35) - (-35⋅sin(θ₂) + 420⋅cos(θ₂) - 420)⋅sin(θ₄)⋅sin(θ₅)\n",
       "                                                                              \n",
       "420⋅sin(θ₂) + 35⋅cos(θ₂) - 35)⋅sin(θ₄)⋅cos(θ₃)) - ((-sin(θ₂)⋅cos(θ₄) - sin(θ₄)\n",
       "                                                                              \n",
       "20⋅sin(θ₂) + 35⋅cos(θ₂) - 35)⋅sin(θ₄)⋅cos(θ₃)) - ((-sin(θ₂)⋅cos(θ₄) - sin(θ₄)⋅\n",
       "\n",
       "θ₃))⋅cos(θ₁) + (-sin(θ₂)⋅sin(θ₄)⋅cos(θ₃) + cos(θ₂)⋅cos(θ₄))⋅sin(θ₁)           \n",
       "                                                                              \n",
       "θ₂))⋅sin(θ₁) - ((-sin(θ₃)⋅cos(θ₅) - sin(θ₅)⋅cos(θ₃)⋅cos(θ₄))⋅cos(θ₂) + sin(θ₂)\n",
       "                                                                              \n",
       "θ₅))⋅sin(θ₁) - ((-sin(θ₃)⋅sin(θ₅) + cos(θ₃)⋅cos(θ₄)⋅cos(θ₅))⋅cos(θ₂) - sin(θ₂)\n",
       "                                                                              \n",
       ") - (-((-sin(θ₃)⋅cos(θ₅) - sin(θ₅)⋅cos(θ₃)⋅cos(θ₄))⋅sin(θ₂) - sin(θ₄)⋅sin(θ₅)⋅\n",
       "                                                                              \n",
       "⋅cos(θ₂)⋅cos(θ₃))⋅cos(θ₁) - (-sin(θ₂)⋅sin(θ₄)⋅cos(θ₃) + cos(θ₂)⋅cos(θ₄))⋅sin(θ\n",
       "                                                                              \n",
       "cos(θ₂)⋅cos(θ₃))⋅cos(θ₁) - (-sin(θ₂)⋅sin(θ₄)⋅cos(θ₃) + cos(θ₂)⋅cos(θ₄))⋅sin(θ₁\n",
       "\n",
       "                                                                              \n",
       "                                                                              \n",
       "⋅sin(θ₄)⋅sin(θ₅))⋅cos(θ₁)                                                     \n",
       "                                                                              \n",
       "⋅sin(θ₄)⋅cos(θ₅))⋅cos(θ₁)                                                     \n",
       "                                                                              \n",
       "cos(θ₂))⋅sin(θ₁) + ((-sin(θ₃)⋅cos(θ₅) - sin(θ₅)⋅cos(θ₃)⋅cos(θ₄))⋅cos(θ₂) + sin\n",
       "                                                                              \n",
       "₁))⋅(((-sin(θ₃)⋅sin(θ₅) + cos(θ₃)⋅cos(θ₄)⋅cos(θ₅))⋅sin(θ₂) + sin(θ₄)⋅cos(θ₂)⋅c\n",
       "                                                                              \n",
       "))⋅(-((-sin(θ₃)⋅cos(θ₅) - sin(θ₅)⋅cos(θ₃)⋅cos(θ₄))⋅sin(θ₂) - sin(θ₄)⋅sin(θ₅)⋅c\n",
       "\n",
       "                                                                              \n",
       "                                                                              \n",
       "                                                                              \n",
       "                                                                              \n",
       "                                                                              \n",
       "                                                                              \n",
       "(θ₂)⋅sin(θ₄)⋅sin(θ₅))⋅cos(θ₁))⋅(-((-sin(θ₃)⋅sin(θ₅) + cos(θ₃)⋅cos(θ₄)⋅cos(θ₅))\n",
       "                                                                              \n",
       "os(θ₅))⋅(-35⋅sin(θ₁) + 875⋅cos(θ₁) - 875) + ((-sin(θ₃)⋅sin(θ₅) + cos(θ₃)⋅cos(θ\n",
       "                                                                              \n",
       "os(θ₂))⋅(-35⋅sin(θ₁) + 875⋅cos(θ₁) - 875) - ((-sin(θ₃)⋅cos(θ₅) - sin(θ₅)⋅cos(θ\n",
       "\n",
       "                                                                              \n",
       "                                                                              \n",
       "                                                                              \n",
       "                                                                              \n",
       "                                                                              \n",
       "                                                                              \n",
       "⋅sin(θ₂) + sin(θ₄)⋅cos(θ₂)⋅cos(θ₅))⋅(-35⋅sin(θ₁) + 875⋅cos(θ₁) - 875) - ((-sin\n",
       "                                                                              \n",
       "₄)⋅cos(θ₅))⋅cos(θ₂) - sin(θ₂)⋅sin(θ₄)⋅cos(θ₅))⋅(875⋅sin(θ₁) + 35⋅cos(θ₁) - 35)\n",
       "                                                                              \n",
       "₃)⋅cos(θ₄))⋅cos(θ₂) + sin(θ₂)⋅sin(θ₄)⋅sin(θ₅))⋅(875⋅sin(θ₁) + 35⋅cos(θ₁) - 35)\n",
       "\n",
       "                                                                              \n",
       "                                                                              \n",
       "                                                                              \n",
       "                                                                              \n",
       "                                                                              \n",
       "                                                                              \n",
       "(θ₃)⋅sin(θ₅) + cos(θ₃)⋅cos(θ₄)⋅cos(θ₅))⋅cos(θ₂) - sin(θ₂)⋅sin(θ₄)⋅cos(θ₅))⋅(87\n",
       "                                                                              \n",
       " + (-sin(θ₃)⋅sin(θ₅) + cos(θ₃)⋅cos(θ₄)⋅cos(θ₅))⋅(420⋅sin(θ₂) + 35⋅cos(θ₂) - 35\n",
       "                                                                              \n",
       " - (-sin(θ₃)⋅cos(θ₅) - sin(θ₅)⋅cos(θ₃)⋅cos(θ₄))⋅(420⋅sin(θ₂) + 35⋅cos(θ₂) - 35\n",
       "\n",
       "                                                                              \n",
       "                                                                              \n",
       "                                                                              \n",
       "                                                                              \n",
       "                                                                              \n",
       "                                                                              \n",
       "5⋅sin(θ₁) + 35⋅cos(θ₁) - 35) - (-sin(θ₃)⋅sin(θ₅) + cos(θ₃)⋅cos(θ₄)⋅cos(θ₅))⋅(4\n",
       "                                                                              \n",
       ") + (-35⋅sin(θ₂) + 420⋅cos(θ₂) - 420)⋅sin(θ₄)⋅cos(θ₅)) + 900⋅sin(θ₃)⋅sin(θ₅)⋅c\n",
       "                                                                              \n",
       ") + (-35⋅sin(θ₂) + 420⋅cos(θ₂) - 420)⋅sin(θ₄)⋅sin(θ₅)) - 900⋅sin(θ₃)⋅cos(θ₄)⋅c\n",
       "\n",
       "                                                                              \n",
       "                                                                              \n",
       "                                                                              \n",
       "                                                                              \n",
       "                                                                              \n",
       "                                                                              \n",
       "20⋅sin(θ₂) + 35⋅cos(θ₂) - 35) - (-35⋅sin(θ₂) + 420⋅cos(θ₂) - 420)⋅sin(θ₄)⋅cos(\n",
       "                                                                              \n",
       "os(θ₄) - 900⋅cos(θ₃)⋅cos(θ₅)                                                  \n",
       "                                                                              \n",
       "os(θ₅) - 900⋅sin(θ₅)⋅cos(θ₃)                                                  \n",
       "\n",
       "                                                                              \n",
       "                                                                              \n",
       "                                                                              \n",
       "                                                                              \n",
       "                                                                              \n",
       "                                                                              \n",
       "θ₅)) + 900⋅sin(θ₃)⋅sin(θ₄)       (-(-sin(θ₃)⋅sin(θ₅) + cos(θ₃)⋅cos(θ₄)⋅cos(θ₅)\n",
       "                                                                              \n",
       "                            -((-sin(θ₃)⋅sin(θ₅) + cos(θ₃)⋅cos(θ₄)⋅cos(θ₅))⋅(42\n",
       "                                                                              \n",
       "                            -(-(-sin(θ₃)⋅cos(θ₅) - sin(θ₅)⋅cos(θ₃)⋅cos(θ₄))⋅(4\n",
       "\n",
       "                                                                              \n",
       "                                                                              \n",
       "                                                                              \n",
       "                                                                              \n",
       "                                                                              \n",
       "                                                                              \n",
       ")⋅(420⋅sin(θ₂) + 35⋅cos(θ₂) - 35) - (-35⋅sin(θ₂) + 420⋅cos(θ₂) - 420)⋅sin(θ₄)⋅\n",
       "                                                                              \n",
       "0⋅sin(θ₂) + 35⋅cos(θ₂) - 35) + (-35⋅sin(θ₂) + 420⋅cos(θ₂) - 420)⋅sin(θ₄)⋅cos(θ\n",
       "                                                                              \n",
       "20⋅sin(θ₂) + 35⋅cos(θ₂) - 35) + (-35⋅sin(θ₂) + 420⋅cos(θ₂) - 420)⋅sin(θ₄)⋅sin(\n",
       "\n",
       "                                                                              \n",
       "                                                                              \n",
       "                                                                              \n",
       "                                                                              \n",
       "                                                                              \n",
       "                                                                              \n",
       "cos(θ₅))⋅(-sin(θ₃)⋅sin(θ₅)⋅cos(θ₄) + cos(θ₃)⋅cos(θ₅)) + ((-sin(θ₃)⋅cos(θ₅) - s\n",
       "                                                                              \n",
       "₅))⋅sin(θ₃)⋅sin(θ₄) + (-(-35⋅sin(θ₂) + 420⋅cos(θ₂) - 420)⋅cos(θ₄) + (420⋅sin(θ\n",
       "                                                                              \n",
       "θ₅))⋅sin(θ₃)⋅sin(θ₄) + ((-35⋅sin(θ₂) + 420⋅cos(θ₂) - 420)⋅cos(θ₄) - (420⋅sin(θ\n",
       "\n",
       "                  -sin(θ₃)⋅sin(θ₄)                                            \n",
       "                                                                              \n",
       "     -sin(θ₃)⋅sin(θ₅)⋅cos(θ₄) + cos(θ₃)⋅cos(θ₅)                               \n",
       "                                                                              \n",
       "      sin(θ₃)⋅cos(θ₄)⋅cos(θ₅) + sin(θ₅)⋅cos(θ₃)                               \n",
       "                                                                              \n",
       "in(θ₅)⋅cos(θ₃)⋅cos(θ₄))⋅(420⋅sin(θ₂) + 35⋅cos(θ₂) - 35) - (-35⋅sin(θ₂) + 420⋅c\n",
       "                                                                              \n",
       "₂) + 35⋅cos(θ₂) - 35)⋅sin(θ₄)⋅cos(θ₃))⋅(sin(θ₃)⋅cos(θ₄)⋅cos(θ₅) + sin(θ₅)⋅cos(\n",
       "                                                                              \n",
       "₂) + 35⋅cos(θ₂) - 35)⋅sin(θ₄)⋅cos(θ₃))⋅(-sin(θ₃)⋅sin(θ₅)⋅cos(θ₄) + cos(θ₃)⋅cos\n",
       "\n",
       "                                                                              \n",
       "                                                                              \n",
       "                                                                              \n",
       "                                                                              \n",
       "                                                                              \n",
       "                                                                              \n",
       "os(θ₂) - 420)⋅sin(θ₄)⋅sin(θ₅))⋅(sin(θ₃)⋅cos(θ₄)⋅cos(θ₅) + sin(θ₅)⋅cos(θ₃)) - 3\n",
       "                                                                              \n",
       "θ₃)) + 35⋅(-sin(θ₃)⋅cos(θ₅) - sin(θ₅)⋅cos(θ₃)⋅cos(θ₄))⋅sin(θ₂) - 875⋅(-sin(θ₃)\n",
       "                                                                              \n",
       "(θ₅)) + 35⋅(-sin(θ₃)⋅sin(θ₅) + cos(θ₃)⋅cos(θ₄)⋅cos(θ₅))⋅sin(θ₂) - 875⋅(-sin(θ₃\n",
       "\n",
       "                                                                              \n",
       "                                                                              \n",
       "                                                                              \n",
       "                                                                              \n",
       "                                                                              \n",
       "                                                                              \n",
       "5⋅sin(θ₂)⋅sin(θ₄)⋅cos(θ₃) + 875⋅sin(θ₂)⋅cos(θ₄) + 875⋅sin(θ₄)⋅cos(θ₂)⋅cos(θ₃) \n",
       "                                                                              \n",
       "⋅cos(θ₅) - sin(θ₅)⋅cos(θ₃)⋅cos(θ₄))⋅cos(θ₂) - 875⋅sin(θ₂)⋅sin(θ₄)⋅sin(θ₅) - 35\n",
       "                                                                              \n",
       ")⋅sin(θ₅) + cos(θ₃)⋅cos(θ₄)⋅cos(θ₅))⋅cos(θ₂) + 875⋅sin(θ₂)⋅sin(θ₄)⋅cos(θ₅) + 3\n",
       "\n",
       "                                                      -sin(θ₃)⋅sin(θ₄)        \n",
       "                                                                              \n",
       "                                         -sin(θ₃)⋅sin(θ₅)⋅cos(θ₄) + cos(θ₃)⋅co\n",
       "                                                                              \n",
       "                                         sin(θ₃)⋅cos(θ₄)⋅cos(θ₅) + sin(θ₅)⋅cos\n",
       "                                                                              \n",
       "+ 35⋅cos(θ₂)⋅cos(θ₄)                          420⋅sin(θ₄)⋅cos(θ₃) + 35⋅cos(θ₄)\n",
       "                                                                              \n",
       "⋅sin(θ₄)⋅sin(θ₅)⋅cos(θ₂)   420⋅sin(θ₃)⋅cos(θ₅) - 35⋅sin(θ₄)⋅sin(θ₅) + 420⋅sin(\n",
       "                                                                              \n",
       "5⋅sin(θ₄)⋅cos(θ₂)⋅cos(θ₅)  420⋅sin(θ₃)⋅sin(θ₅) + 35⋅sin(θ₄)⋅cos(θ₅) - 420⋅cos(\n",
       "\n",
       "                         -cos(θ₄)         0     -1⎤\n",
       "                                                  ⎥\n",
       "s(θ₅)                sin(θ₄)⋅sin(θ₅)   cos(θ₅)  0 ⎥\n",
       "                                                  ⎥\n",
       "(θ₃)                 -sin(θ₄)⋅cos(θ₅)  sin(θ₅)  0 ⎥\n",
       "                                                  ⎥\n",
       "                            0             0     0 ⎥\n",
       "                                                  ⎥\n",
       "θ₅)⋅cos(θ₃)⋅cos(θ₄)         0             0     0 ⎥\n",
       "                                                  ⎥\n",
       "θ₃)⋅cos(θ₄)⋅cos(θ₅)         0             0     0 ⎦"
      ]
     },
     "execution_count": 9,
     "metadata": {},
     "output_type": "execute_result"
    }
   ],
   "source": [
    "Jb"
   ]
  },
  {
   "cell_type": "code",
   "execution_count": 10,
   "metadata": {},
   "outputs": [],
   "source": [
    "JbArm = zeros(3,3) # Arm (position)\n",
    "JbWrist = zeros(3,3) # Wrist (rotation)\n",
    "\n",
    "JbWrist = Jb[0:3,3:6]\n",
    "JbArm = Jb[3:6,0:3]\n",
    "\n"
   ]
  },
  {
   "cell_type": "markdown",
   "metadata": {},
   "source": [
    "### Wrist:"
   ]
  },
  {
   "cell_type": "code",
   "execution_count": 11,
   "metadata": {},
   "outputs": [
    {
     "data": {
      "text/latex": [
       "$\\displaystyle \\left[\\begin{matrix}- \\operatorname{cos}\\left(\\theta_{4}\\right) & 0 & -1\\\\\\operatorname{sin}\\left(\\theta_{4}\\right) \\operatorname{sin}\\left(\\theta_{5}\\right) & \\operatorname{cos}\\left(\\theta_{5}\\right) & 0\\\\- \\operatorname{sin}\\left(\\theta_{4}\\right) \\operatorname{cos}\\left(\\theta_{5}\\right) & \\operatorname{sin}\\left(\\theta_{5}\\right) & 0\\end{matrix}\\right]$"
      ],
      "text/plain": [
       "⎡    -cos(θ₄)         0     -1⎤\n",
       "⎢                             ⎥\n",
       "⎢sin(θ₄)⋅sin(θ₅)   cos(θ₅)  0 ⎥\n",
       "⎢                             ⎥\n",
       "⎣-sin(θ₄)⋅cos(θ₅)  sin(θ₅)  0 ⎦"
      ]
     },
     "execution_count": 11,
     "metadata": {},
     "output_type": "execute_result"
    }
   ],
   "source": [
    "JbWrist"
   ]
  },
  {
   "cell_type": "code",
   "execution_count": 12,
   "metadata": {},
   "outputs": [
    {
     "data": {
      "text/latex": [
       "$\\displaystyle - \\operatorname{sin}\\left(\\theta_{4}\\right) \\operatorname{sin}^{2}\\left(\\theta_{5}\\right) - \\operatorname{sin}\\left(\\theta_{4}\\right) \\operatorname{cos}^{2}\\left(\\theta_{5}\\right)$"
      ],
      "text/plain": [
       "             2                  2    \n",
       "- sin(θ₄)⋅sin (θ₅) - sin(θ₄)⋅cos (θ₅)"
      ]
     },
     "execution_count": 12,
     "metadata": {},
     "output_type": "execute_result"
    }
   ],
   "source": [
    "DetJbWrist = JbWrist.det()\n",
    "DetJbWrist\n"
   ]
  },
  {
   "cell_type": "code",
   "execution_count": 13,
   "metadata": {},
   "outputs": [
    {
     "data": {
      "text/latex": [
       "$\\displaystyle \\left[ \\left\\{ \\theta_{4} : 0\\right\\}, \\  \\left\\{ \\theta_{4} : \\pi\\right\\}\\right]$"
      ],
      "text/plain": [
       "[{θ₄: 0}, {θ₄: π}]"
      ]
     },
     "execution_count": 13,
     "metadata": {},
     "output_type": "execute_result"
    }
   ],
   "source": [
    "solve(DetJbWrist, th4, th5)"
   ]
  },
  {
   "cell_type": "markdown",
   "metadata": {},
   "source": [
    "### Arm:"
   ]
  },
  {
   "cell_type": "code",
   "execution_count": 14,
   "metadata": {},
   "outputs": [
    {
     "data": {
      "text/latex": [
       "$\\displaystyle \\left[\\begin{matrix}0 & - \\left(420 \\operatorname{sin}\\left(\\theta_{2}\\right) + 35 \\operatorname{cos}\\left(\\theta_{2}\\right) - 35\\right) \\operatorname{sin}^{2}\\left(\\theta_{3}\\right) - \\left(420 \\operatorname{sin}\\left(\\theta_{2}\\right) + 35 \\operatorname{cos}\\left(\\theta_{2}\\right) - 35\\right) \\operatorname{cos}^{2}\\left(\\theta_{3}\\right) + 875 \\operatorname{sin}\\left(\\theta_{2}\\right) + 35 \\operatorname{cos}\\left(\\theta_{2}\\right) & 35\\\\- \\left(35 \\operatorname{sin}\\left(\\theta_{2}\\right) - 420 \\operatorname{cos}\\left(\\theta_{2}\\right) + 420\\right) \\operatorname{cos}\\left(\\theta_{2}\\right) \\operatorname{cos}\\left(\\theta_{3}\\right) + \\left(420 \\operatorname{sin}\\left(\\theta_{2}\\right) + 35 \\operatorname{cos}\\left(\\theta_{2}\\right) - 35\\right) \\operatorname{sin}\\left(\\theta_{2}\\right) \\operatorname{cos}\\left(\\theta_{3}\\right) - 900 \\operatorname{cos}\\left(\\theta_{3}\\right) & \\left(35 \\operatorname{sin}\\left(\\theta_{2}\\right) - 420 \\operatorname{cos}\\left(\\theta_{2}\\right) + 420\\right) \\operatorname{sin}\\left(\\theta_{3}\\right) - 35 \\operatorname{sin}\\left(\\theta_{2}\\right) \\operatorname{sin}\\left(\\theta_{3}\\right) + 875 \\operatorname{sin}\\left(\\theta_{3}\\right) \\operatorname{cos}\\left(\\theta_{2}\\right) & 420 \\operatorname{sin}\\left(\\theta_{3}\\right)\\\\\\left(- 35 \\operatorname{sin}\\left(\\theta_{2}\\right) + 420 \\operatorname{cos}\\left(\\theta_{2}\\right) - 420\\right) \\operatorname{sin}\\left(\\theta_{3}\\right) \\operatorname{cos}\\left(\\theta_{2}\\right) + \\left(420 \\operatorname{sin}\\left(\\theta_{2}\\right) + 35 \\operatorname{cos}\\left(\\theta_{2}\\right) - 35\\right) \\operatorname{sin}\\left(\\theta_{2}\\right) \\operatorname{sin}\\left(\\theta_{3}\\right) - 900 \\operatorname{sin}\\left(\\theta_{3}\\right) & \\left(- 35 \\operatorname{sin}\\left(\\theta_{2}\\right) + 420 \\operatorname{cos}\\left(\\theta_{2}\\right) - 420\\right) \\operatorname{cos}\\left(\\theta_{3}\\right) + 35 \\operatorname{sin}\\left(\\theta_{2}\\right) \\operatorname{cos}\\left(\\theta_{3}\\right) - 875 \\operatorname{cos}\\left(\\theta_{2}\\right) \\operatorname{cos}\\left(\\theta_{3}\\right) & - 420 \\operatorname{cos}\\left(\\theta_{3}\\right)\\end{matrix}\\right]$"
      ],
      "text/plain": [
       "⎡                                                                             \n",
       "⎢                                                        0                    \n",
       "⎢                                                                             \n",
       "⎢-(35⋅sin(θ₂) - 420⋅cos(θ₂) + 420)⋅cos(θ₂)⋅cos(θ₃) + (420⋅sin(θ₂) + 35⋅cos(θ₂)\n",
       "⎢                                                                             \n",
       "⎣(-35⋅sin(θ₂) + 420⋅cos(θ₂) - 420)⋅sin(θ₃)⋅cos(θ₂) + (420⋅sin(θ₂) + 35⋅cos(θ₂)\n",
       "\n",
       "                                                                           2  \n",
       "                                      - (420⋅sin(θ₂) + 35⋅cos(θ₂) - 35)⋅sin (θ\n",
       "                                                                              \n",
       " - 35)⋅sin(θ₂)⋅cos(θ₃) - 900⋅cos(θ₃)                (35⋅sin(θ₂) - 420⋅cos(θ₂) \n",
       "                                                                              \n",
       " - 35)⋅sin(θ₂)⋅sin(θ₃) - 900⋅sin(θ₃)                (-35⋅sin(θ₂) + 420⋅cos(θ₂)\n",
       "\n",
       "                                        2                                     \n",
       "₃) - (420⋅sin(θ₂) + 35⋅cos(θ₂) - 35)⋅cos (θ₃) + 875⋅sin(θ₂) + 35⋅cos(θ₂)      \n",
       "                                                                              \n",
       "+ 420)⋅sin(θ₃) - 35⋅sin(θ₂)⋅sin(θ₃) + 875⋅sin(θ₃)⋅cos(θ₂)                 420⋅\n",
       "                                                                              \n",
       " - 420)⋅cos(θ₃) + 35⋅sin(θ₂)⋅cos(θ₃) - 875⋅cos(θ₂)⋅cos(θ₃)                -420\n",
       "\n",
       "        ⎤\n",
       " 35     ⎥\n",
       "        ⎥\n",
       "sin(θ₃) ⎥\n",
       "        ⎥\n",
       "⋅cos(θ₃)⎦"
      ]
     },
     "execution_count": 14,
     "metadata": {},
     "output_type": "execute_result"
    }
   ],
   "source": [
    "detArm = JbArm.det()\n",
    "simplJbArm = JbArm.subs({th1:0, th4:0, th5:0, th6:0}) # Simplifying the expression to shorten calculation time\n",
    "simplJbArm"
   ]
  },
  {
   "cell_type": "code",
   "execution_count": 15,
   "metadata": {},
   "outputs": [
    {
     "data": {
      "text/latex": [
       "$\\displaystyle - 91728000 \\operatorname{sin}\\left(\\theta_{2}\\right) - \\frac{79704625 \\operatorname{sin}\\left(2 \\theta_{2}\\right)}{2} + 7644000 \\operatorname{cos}\\left(\\theta_{2}\\right) + 6688500 \\operatorname{cos}\\left(2 \\theta_{2}\\right)$"
      ],
      "text/plain": [
       "                    79704625⋅sin(2⋅θ₂)                                      \n",
       "-91728000⋅sin(θ₂) - ────────────────── + 7644000⋅cos(θ₂) + 6688500⋅cos(2⋅θ₂)\n",
       "                            2                                               "
      ]
     },
     "execution_count": 15,
     "metadata": {},
     "output_type": "execute_result"
    }
   ],
   "source": [
    "detSimplJbArm = simplJbArm.det()\n",
    "detSimplJbArm.simplify()\n"
   ]
  },
  {
   "cell_type": "code",
   "execution_count": 16,
   "metadata": {},
   "outputs": [
    {
     "data": {
      "text/latex": [
       "$\\displaystyle \\left[ \\left\\{ \\theta_{2} : - 2 \\operatorname{atan}\\left(\\frac{7}{12} - \\frac{\\sqrt{2111} i}{12}\\right)\\right\\}, \\  \\left\\{ \\theta_{2} : - 2 \\operatorname{atan}\\left(\\frac{7}{12} + \\frac{\\sqrt{2111} i}{12}\\right)\\right\\}, \\  \\left\\{ \\theta_{2} : - 2 \\operatorname{atan}\\left(12 - \\sqrt{145}\\right)\\right\\}, \\  \\left\\{ \\theta_{2} : - 2 \\operatorname{atan}\\left(12 + \\sqrt{145}\\right)\\right\\}\\right]$"
      ],
      "text/plain": [
       "⎡⎧           ⎛7    √2111⋅ⅈ⎞⎫  ⎧           ⎛7    √2111⋅ⅈ⎞⎫                     \n",
       "⎢⎨θ₂: -2⋅atan⎜── - ───────⎟⎬, ⎨θ₂: -2⋅atan⎜── + ───────⎟⎬, {θ₂: -2⋅atan(12 - √\n",
       "⎣⎩           ⎝12      12  ⎠⎭  ⎩           ⎝12      12  ⎠⎭                     \n",
       "\n",
       "                               ⎤\n",
       "145)}, {θ₂: -2⋅atan(12 + √145)}⎥\n",
       "                               ⎦"
      ]
     },
     "execution_count": 16,
     "metadata": {},
     "output_type": "execute_result"
    }
   ],
   "source": [
    "solve(detSimplJbArm, th2, th3)\n"
   ]
  }
 ],
 "metadata": {
  "interpreter": {
   "hash": "e73099957b8073c920cb49904d94730bc4a7768b480900b2c8ee073fae6b56a1"
  },
  "kernelspec": {
   "display_name": "Python 3.8.8 64-bit ('base': conda)",
   "language": "python",
   "name": "python3"
  },
  "language_info": {
   "codemirror_mode": {
    "name": "ipython",
    "version": 3
   },
   "file_extension": ".py",
   "mimetype": "text/x-python",
   "name": "python",
   "nbconvert_exporter": "python",
   "pygments_lexer": "ipython3",
   "version": "3.8.11"
  },
  "orig_nbformat": 4
 },
 "nbformat": 4,
 "nbformat_minor": 2
}
